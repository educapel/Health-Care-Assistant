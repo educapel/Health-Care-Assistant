{
 "cells": [
  {
   "cell_type": "code",
   "id": "initial_id",
   "metadata": {
    "collapsed": true,
    "ExecuteTime": {
     "end_time": "2025-10-06T17:09:20.358572Z",
     "start_time": "2025-10-06T17:09:20.355819Z"
    }
   },
   "source": [
    "import pandas as pd\n",
    "import os\n",
    "from dotenv import load_dotenv\n",
    "from openai import OpenAI\n",
    "import hashlib\n",
    "from tqdm.auto import tqdm\n"
   ],
   "outputs": [],
   "execution_count": 19
  },
  {
   "metadata": {},
   "cell_type": "markdown",
   "source": "## Dataset generation",
   "id": "94fee167f246dd82"
  },
  {
   "metadata": {},
   "cell_type": "markdown",
   "source": [
    "Using cosine similarity we aim to evaluate the original answer againts the answer our RAG system is retrieving.\n",
    "\n",
    "Cosine(A_real, A_generated)\n",
    "\n",
    "We have a way to evaluate if a prompt is good, or overall the system.\n"
   ],
   "id": "ddb066c359cd4051"
  },
  {
   "metadata": {
    "ExecuteTime": {
     "end_time": "2025-10-06T17:37:05.323370Z",
     "start_time": "2025-10-06T17:37:05.310980Z"
    }
   },
   "cell_type": "code",
   "source": [
    "ground_truth = pd.read_csv('ground-truth-data.csv')\n",
    "ground_truth_unique = ground_truth.drop_duplicates(subset='doc_id', keep='first')\n",
    "\n",
    "ground_truth = ground_truth_unique.to_dict(orient='records')"
   ],
   "id": "2320c7511e87d754",
   "outputs": [],
   "execution_count": 38
  },
  {
   "metadata": {},
   "cell_type": "markdown",
   "source": "## getting the true answer for the question using documents (orignal dataset)",
   "id": "99a8343be7f5cb3f"
  },
  {
   "metadata": {
    "ExecuteTime": {
     "end_time": "2025-10-06T16:58:02.179576Z",
     "start_time": "2025-10-06T16:58:02.049339Z"
    }
   },
   "cell_type": "code",
   "source": [
    "path = '../Data_csvs/data_v1.csv'\n",
    "df = pd.read_csv(path)\n",
    "df = df.rename(columns={'id': 'doc_id'})\n",
    "documents = df.to_dict(orient='records')\n",
    "\n",
    "\n",
    "def generate_document_id(doc):\n",
    "    combined = f\"{doc['topic']}-{doc['Question']}-{doc['Answer'][:15]}\"\n",
    "\n",
    "    # Create MD5 hash object\n",
    "    hash_object = hashlib.md5(combined.encode())\n",
    "\n",
    "    # Get hexadecimal representation\n",
    "    hash_hex = hash_object.hexdigest()\n",
    "\n",
    "    # Return first 8 characters as document ID\n",
    "    document_id = hash_hex[:10]\n",
    "\n",
    "    return document_id\n",
    "\n",
    "for doc in documents:\n",
    "    doc['doc_id'] = generate_document_id(doc)\n"
   ],
   "id": "ac7f3f309dc7bd1b",
   "outputs": [],
   "execution_count": 10
  },
  {
   "metadata": {
    "ExecuteTime": {
     "end_time": "2025-10-06T16:58:30.430467Z",
     "start_time": "2025-10-06T16:58:30.426640Z"
    }
   },
   "cell_type": "code",
   "source": "documents[0]",
   "id": "bd8a083f05649cca",
   "outputs": [
    {
     "data": {
      "text/plain": [
       "{'doc_id': '5e34bcbaa8',\n",
       " 'topic': 'cancer',\n",
       " 'Question': 'What is (are) Non-Small Cell Lung Cancer ?',\n",
       " 'Answer': \"Key Points Non-small cell lung cancer is a disease in which malignant (cancer) cells form in the tissues of the lung. There are several types of non-small cell lung cancer. Smoking is the major risk factor for non-small cell lung cancer. Signs of non-small cell lung cancer include a cough that doesn't go away and shortness of breath. Tests that examine the lungs are used to detect (find), diagnose, and stage non-small cell lung cancer. Certain factors affect prognosis (chance of recovery) and treatment options. For most patients with non-small cell lung cancer, current treatments do not cure the cancer. Non-small cell lung cancer is a disease in which malignant (cancer) cells form in the tissues of the lung. The lungs are a pair of cone-shaped breathing organs in the chest. The lungs bring oxygen into the body as you breathe in. They release carbon dioxide, a waste product of the bodys cells, as you breathe out. Each lung has sections called lobes. The left lung has two lobes. The right lung is slightly larger and has three lobes. Two tubes called bronchi lead from the trachea (windpipe) to the right and left lungs. The bronchi are sometimes also involved in lung cancer. Tiny air sacs called alveoli and small tubes called bronchioles make up the inside of the lungs. A thin membrane called the pleura covers the outside of each lung and lines the inside wall of the chest cavity. This creates a sac called the pleural cavity. The pleural cavity normally contains a small amount of fluid that helps the lungs move smoothly in the chest when you breathe. There are two main types of lung cancer: non-small cell lung cancer and small cell lung cancer. See the following PDQ summaries for more information about lung cancer: Small Cell Lung Cancer Treatment Unusual Cancers of Childhood Treatment Lung Cancer Prevention Lung Cancer Screening There are several types of non-small cell lung cancer. Each type of non-small cell lung cancer has different kinds of cancer cells. The cancer cells of each type grow and spread in different ways. The types of non-small cell lung cancer are named for the kinds of cells found in the cancer and how the cells look under a microscope: Squamous cell carcinoma: Cancer that begins in squamous cells, which are thin, flat cells that look like fish scales. This is also called epidermoid carcinoma. Large cell carcinoma: Cancer that may begin in several types of large cells. Adenocarcinoma: Cancer that begins in the cells that line the alveoli and make substances such as mucus. Other less common types of non-small cell lung cancer are: pleomorphic, carcinoid tumor, salivary gland carcinoma, and unclassified carcinoma. For most patients with non-small cell lung cancer, current treatments do not cure the cancer. If lung cancer is found, taking part in one of the many clinical trials being done to improve treatment should be considered. Clinical trials are taking place in most parts of the country for patients with all stages of non-small cell lung cancer. Information about ongoing clinical trials is available from the NCI website.\"}"
      ]
     },
     "execution_count": 12,
     "metadata": {},
     "output_type": "execute_result"
    }
   ],
   "execution_count": 12
  },
  {
   "metadata": {
    "ExecuteTime": {
     "end_time": "2025-10-06T17:02:43.942850Z",
     "start_time": "2025-10-06T17:02:43.937435Z"
    }
   },
   "cell_type": "code",
   "source": [
    "doc_idx = {d['doc_id']:d for d in documents}\n",
    "doc_idx['1e40d39b3b']['Answer']"
   ],
   "id": "391a801e7911e3ed",
   "outputs": [
    {
     "data": {
      "text/plain": [
       "'Key Points Primary central nervous system (CNS) lymphoma is a disease in which malignant (cancer) cells form in the lymph tissue of the brain and/or spinal cord. Having a weakened immune system may increase the risk of developing primary CNS lymphoma. Tests that examine the eyes, brain, and spinal cord are used to detect (find) and diagnose primary CNS lymphoma. Certain factors affect prognosis (chance of recovery) and treatment options. Primary central nervous system (CNS) lymphoma is a disease in which malignant (cancer) cells form in the lymph tissue of the brain and/or spinal cord. Lymphoma is a disease in which malignant (cancer) cells form in the lymph system. The lymph system is part of the immune system and is made up of the lymph, lymph vessels, lymph nodes, spleen, thymus, tonsils, and bone marrow. Lymphocytes (carried in the lymph) travel in and out of the central nervous system (CNS). It is thought that some of these lymphocytes become malignant and cause lymphoma to form in the CNS. Primary CNS lymphoma can start in the brain, spinal cord, or meninges (the layers that form the outer covering of the brain). Because the eye is so close to the brain, primary CNS lymphoma can also start in the eye (called ocular lymphoma).'"
      ]
     },
     "execution_count": 15,
     "metadata": {},
     "output_type": "execute_result"
    }
   ],
   "execution_count": 15
  },
  {
   "metadata": {
    "ExecuteTime": {
     "end_time": "2025-10-06T17:37:11.080287Z",
     "start_time": "2025-10-06T17:37:11.073535Z"
    }
   },
   "cell_type": "code",
   "source": "ground_truth",
   "id": "692f3475ff31c85d",
   "outputs": [
    {
     "data": {
      "text/plain": [
       "[{'question': 'What are the main types of non‑small cell lung cancer and how are they identified under a microscope?',\n",
       "  'doc_id': '5e34bcbaa8'},\n",
       " {'question': 'What lifestyle habits increase my chances of developing non‑small cell lung cancer?',\n",
       "  'doc_id': 'c2845efbbc'},\n",
       " {'question': \"I've been experiencing a persistent cough and getting short of breath—could these be indicators of non‑small cell lung cancer?\",\n",
       "  'doc_id': 'd1bc99107d'},\n",
       " {'question': 'What kinds of exams and scans are used to confirm that someone has non‑small cell lung cancer?',\n",
       "  'doc_id': 'abdbe99dd2'},\n",
       " {'question': 'What are the main elements that doctors consider when estimating a patient’s chance of recovery from non‑small cell lung cancer?',\n",
       "  'doc_id': '597a81526a'},\n",
       " {'question': 'I’m newly diagnosed with non‑small cell lung cancer—what kinds of clinical studies are currently testing new therapies for this disease?',\n",
       "  'doc_id': '4979172719'},\n",
       " {'question': 'What kind of cancer originates in the muscle layer or supporting tissues of the uterus?',\n",
       "  'doc_id': 'd563c7d596'},\n",
       " {'question': 'What factors could make me more likely to develop uterine sarcoma?',\n",
       "  'doc_id': '02577e3169'},\n",
       " {'question': 'What signs should make me think I might have uterine sarcoma?',\n",
       "  'doc_id': 'd11834721f'},\n",
       " {'question': 'What examinations and tests does a doctor use to confirm a diagnosis of uterine sarcoma?',\n",
       "  'doc_id': 'e109719c38'},\n",
       " {'question': 'What factors determine the prognosis for someone diagnosed with uterine sarcoma?',\n",
       "  'doc_id': '6becabff6a'},\n",
       " {'question': 'What kinds of clinical studies are currently available for patients with uterine sarcoma?',\n",
       "  'doc_id': '252662340d'},\n",
       " {'question': 'Could my tumor be an extragonadal germ cell tumor, and what symptoms would it likely produce?',\n",
       "  'doc_id': '4faee827b1'},\n",
       " {'question': 'Am I at greater risk for an extragonadal germ cell tumor because I’m male?',\n",
       "  'doc_id': 'ee6941d3af'},\n",
       " {'question': 'I’ve been having chest pain and shortness of breath—could these be signs of an extragonadal germ cell tumor?',\n",
       "  'doc_id': '0867df07b6'},\n",
       " {'question': 'What tests are performed to confirm a suspected extragonadal germ cell tumor?',\n",
       "  'doc_id': 'd84a78215e'},\n",
       " {'question': 'What factors influence the prognosis for someone diagnosed with an extragonadal germ cell tumor?',\n",
       "  'doc_id': '7cdefbf7d7'},\n",
       " {'question': 'What are the three prognostic categories used to classify extragonadal germ‑cell tumors and how do they differ from traditional cancer staging?',\n",
       "  'doc_id': 'ef17a8af15'},\n",
       " {'question': 'As a patient diagnosed with an extragonadal germ cell tumor, how can I learn about current clinical trials, especially those using high‑dose chemotherapy with stem‑cell transplant?',\n",
       "  'doc_id': '72dbfb80d6'},\n",
       " {'question': 'Can you explain what endometrial cancer is and where it originates in the body?',\n",
       "  'doc_id': 'ffa3a8b71c'},\n",
       " {'question': 'Are there any current clinical trials aimed at preventing endometrial cancer, and where can I learn more about them?',\n",
       "  'doc_id': '5571edf550'},\n",
       " {'question': \"What health or lifestyle factors can raise a woman's chance of developing endometrial cancer?\",\n",
       "  'doc_id': '088527fd30'},\n",
       " {'question': 'What warning signs should make me think I might have endometrial cancer?',\n",
       "  'doc_id': 'de8d113e10'},\n",
       " {'question': 'What tests will my doctor use to find out if I have endometrial cancer?',\n",
       "  'doc_id': '6382ed5025'},\n",
       " {'question': 'How likely is recovery from endometrial cancer and which factors influence that likelihood?',\n",
       "  'doc_id': '58a1402850'},\n",
       " {'question': 'Are there any ongoing clinical trials that I could enroll in for my endometrial cancer?',\n",
       "  'doc_id': '621ffb7c2b'},\n",
       " {'question': 'What is small cell lung cancer and how does it differ from non‑small cell lung cancer?',\n",
       "  'doc_id': '8f023665d0'},\n",
       " {'question': \"If I've been smoking for many years, how likely am I to develop small cell lung cancer?\",\n",
       "  'doc_id': '9cdbb2c4d0'},\n",
       " {'question': \"I've been having a persistent cough and shortness of breath—could these be signs of small cell lung cancer?\",\n",
       "  'doc_id': 'a1202c549f'},\n",
       " {'question': 'What tests will my doctor use to determine if I have small cell lung cancer?',\n",
       "  'doc_id': '848ba6d56e'},\n",
       " {'question': 'What are the different stages used to classify small‑cell lung cancer?',\n",
       "  'doc_id': '679cfc087d'},\n",
       " {'question': 'Are there any current clinical studies that I could enroll in for my small‑cell lung cancer?',\n",
       "  'doc_id': 'ef336b61e4'},\n",
       " {'question': 'What age group is most commonly affected by plasma cell cancers like multiple myeloma?',\n",
       "  'doc_id': '101bdffe00'},\n",
       " {'question': 'What laboratory tests are typically ordered to detect multiple myeloma or other plasma‑cell cancers?',\n",
       "  'doc_id': '351788cb7a'},\n",
       " {'question': 'What elements are considered when estimating the chance of recovery for someone diagnosed with a plasma cell cancer like multiple myeloma?',\n",
       "  'doc_id': '517275c519'},\n",
       " {'question': 'How is multiple myeloma staged and which blood markers define each stage?',\n",
       "  'doc_id': '021ee8a0ee'},\n",
       " {'question': 'What kinds of clinical studies are currently exploring new treatments for multiple myeloma and other plasma cell cancers?',\n",
       "  'doc_id': '7d750489ed'},\n",
       " {'question': 'What exactly is lung cancer and how does it affect the lungs?',\n",
       "  'doc_id': '78cb73d0e8'},\n",
       " {'question': 'Can you explain what prostate cancer actually is?',\n",
       "  'doc_id': 'bac6b4c5cc'},\n",
       " {'question': \"Am I more likely to develop prostate cancer because I'm over 60?\",\n",
       "  'doc_id': '402da42b54'},\n",
       " {'question': 'What lifestyle or health factors might make me more likely to develop prostate cancer?',\n",
       "  'doc_id': '68984b7525'},\n",
       " {'question': \"How would you define penile cancer in layman's terms?\",\n",
       "  'doc_id': 'ba64453a09'},\n",
       " {'question': 'Could my history of multiple sexual partners increase my risk of developing penile cancer?',\n",
       "  'doc_id': '06e098f459'},\n",
       " {'question': 'What warning signs should make me think I might have penile cancer?',\n",
       "  'doc_id': 'de1d276609'},\n",
       " {'question': 'What examinations and tests are performed to confirm a diagnosis of penile cancer?',\n",
       "  'doc_id': '792a2e7a73'},\n",
       " {'question': 'What factors influence the chances of recovery for someone diagnosed with penile cancer?',\n",
       "  'doc_id': 'b30481aa08'},\n",
       " {'question': 'What types of clinical trials are being conducted to test new treatments for penile cancer?',\n",
       "  'doc_id': '7aebe89d79'},\n",
       " {'question': \"I'm currently taking tamoxifen for breast cancer; does this medication raise my chance of developing cancer of the uterine lining?\",\n",
       "  'doc_id': '4f689fb989'},\n",
       " {'question': 'Can you explain what Ewing sarcoma is and which parts of the body it can affect?',\n",
       "  'doc_id': 'e7040f9158'},\n",
       " {'question': 'What typical warning signs should I watch for if my child might have Ewing sarcoma?',\n",
       "  'doc_id': 'ee839abe91'},\n",
       " {'question': 'What factors are considered when estimating the prognosis for a newly diagnosed Ewing sarcoma?',\n",
       "  'doc_id': '63b47d2f2f'},\n",
       " {'question': 'How is Ewing sarcoma categorized based on whether it has spread?',\n",
       "  'doc_id': '05a786995a'},\n",
       " {'question': 'Are there any ongoing clinical studies for people with recurrent Ewing sarcoma, and what do they involve?',\n",
       "  'doc_id': '4fdc89ef9c'},\n",
       " {'question': 'What exactly is a gastrointestinal carcinoid tumor and where does it develop in the body?',\n",
       "  'doc_id': '666ff1c907'},\n",
       " {'question': 'What genetic conditions increase my chance of developing a gastrointestinal carcinoid tumor?',\n",
       "  'doc_id': '84753cffcf'},\n",
       " {'question': 'What kinds of symptoms might appear in someone with a carcinoid tumor of the duodenum?',\n",
       "  'doc_id': '5b989f685e'},\n",
       " {'question': 'What laboratory and imaging examinations are used to confirm a gastrointestinal carcinoid tumor?',\n",
       "  'doc_id': '2395b08c9d'},\n",
       " {'question': 'What factors determine the prognosis for a person with a gastrointestinal carcinoid tumor?',\n",
       "  'doc_id': '5b4df37f97'},\n",
       " {'question': 'What are the different stages used to classify a gastrointestinal carcinoid tumor?',\n",
       "  'doc_id': '1a153b2861'},\n",
       " {'question': 'What new clinical studies are currently investigating treatments for gastrointestinal carcinoid tumors?',\n",
       "  'doc_id': '98f235d858'},\n",
       " {'question': 'What types of clinical studies are currently looking at ways to stop prostate cancer before it starts?',\n",
       "  'doc_id': '7ed2cc926d'},\n",
       " {'question': 'What lifestyle or environmental factors raise my risk of getting lung cancer?',\n",
       "  'doc_id': 'bca43ab353'},\n",
       " {'question': 'What are the typical signs and locations of osteosarcoma in teenagers and young adults?',\n",
       "  'doc_id': '18c27cebfd'},\n",
       " {'question': 'What previous medical treatments could increase my child’s chance of developing osteosarcoma?',\n",
       "  'doc_id': 'd03922592e'},\n",
       " {'question': 'What signs should I look for that might indicate osteosarcoma or malignant fibrous histiocytoma of bone in my child?',\n",
       "  'doc_id': '0909b9679e'},\n",
       " {'question': 'What imaging studies are typically ordered before a biopsy when doctors suspect a bone tumor such as osteosarcoma or malignant fibrous histiocytoma?',\n",
       "  'doc_id': '04ef882194'},\n",
       " {'question': 'What variables influence the prognosis of untreated osteosarcoma or malignant fibrous histiocytoma of bone?',\n",
       "  'doc_id': '185e402afb'},\n",
       " {'question': \"How is osteosarcoma classified in terms of disease stage—what does it mean when it's described as localized versus metastatic?\",\n",
       "  'doc_id': 'd1c16699bb'},\n",
       " {'question': 'What new drug studies are available for children with osteosarcoma, and how can a family learn about enrolling in those trials?',\n",
       "  'doc_id': '05a69cf724'},\n",
       " {'question': 'What warning signs should I watch for that might indicate prostate cancer?',\n",
       "  'doc_id': '31171c9a5a'},\n",
       " {'question': 'What steps does a doctor take to confirm if I have prostate cancer?',\n",
       "  'doc_id': '3fb2b63e72'},\n",
       " {'question': 'What factors determine the prognosis for a man with prostate cancer?',\n",
       "  'doc_id': '4284b4128a'},\n",
       " {'question': 'What new therapies are currently being evaluated in clinical trials for men with prostate cancer?',\n",
       "  'doc_id': '73705218df'},\n",
       " {'question': 'Do we know what triggers the development of extracranial germ cell tumors in children?',\n",
       "  'doc_id': '0be4d681cb'},\n",
       " {'question': \"What inherited genetic syndromes can raise a child's chance of developing an extracranial germ cell tumor?\",\n",
       "  'doc_id': 'e499695e6f'},\n",
       " {'question': 'What signs should I watch for if I think my child might have an extracranial germ cell tumor?',\n",
       "  'doc_id': '3461446a2e'},\n",
       " {'question': 'What steps are taken to diagnose a child suspected of having an extracranial germ cell tumor?',\n",
       "  'doc_id': '9aa44f7e30'},\n",
       " {'question': 'What factors determine the prognosis and treatment choices for extracranial germ cell tumors in children?',\n",
       "  'doc_id': '44ee49797b'},\n",
       " {'question': 'Are there any ongoing studies that use high‑dose chemotherapy with stem‑cell rescue for children with extracranial germ cell tumors?',\n",
       "  'doc_id': '8e0b7ef6d4'},\n",
       " {'question': \"How would you describe skin cancer and how it develops in the skin's layers?\",\n",
       "  'doc_id': '4d9599c0a6'},\n",
       " {'question': \"What personal traits, like skin tone or hair color, increase a person's likelihood of developing non‑melanoma skin cancers?\",\n",
       "  'doc_id': '70ed6c190a'},\n",
       " {'question': 'What steps does a clinician take to find and confirm skin cancer?',\n",
       "  'doc_id': '01619ecb06'},\n",
       " {'question': 'How does the stage of my skin cancer influence my chances of recovery?',\n",
       "  'doc_id': '6dcf1c58ff'},\n",
       " {'question': 'Where can I locate up‑to‑date listings of clinical trials that are testing new treatments for skin cancer?',\n",
       "  'doc_id': 'cb81a4c2c1'},\n",
       " {'question': 'What exactly is neuroblastoma and where does it usually arise in the body?',\n",
       "  'doc_id': 'eb953c3a0a'},\n",
       " {'question': 'Can a parent’s genetic mutation increase my child’s chance of developing neuroblastoma?',\n",
       "  'doc_id': '5d9905addc'},\n",
       " {'question': 'What warning signs should I watch for in my child that might indicate neuroblastoma, such as unusual lumps or bone pain?',\n",
       "  'doc_id': 'e0a00c0b3a'},\n",
       " {'question': 'What exams and tests are typically performed to confirm a diagnosis of neuroblastoma?',\n",
       "  'doc_id': 'cdc6ec9303'},\n",
       " {'question': \"What elements are considered when estimating a child's chances of recovery from neuroblastoma?\",\n",
       "  'doc_id': 'e46e6bf9e3'},\n",
       " {'question': 'What types of clinical trials are currently open for neuroblastoma that has recurred after initial treatment?',\n",
       "  'doc_id': '5a57724b63'},\n",
       " {'question': 'Can you explain what parathyroid cancer is and how it differs from other neck tumors?',\n",
       "  'doc_id': 'b51cb4d090'},\n",
       " {'question': 'Am I at higher risk for parathyroid cancer because I have a family history of endocrine disorders?',\n",
       "  'doc_id': '1a7469b03b'},\n",
       " {'question': 'What early signs might suggest I have parathyroid cancer?',\n",
       "  'doc_id': '6671df7f4f'},\n",
       " {'question': \"I've been told my calcium levels are high; what tests will my doctor order to determine if I have parathyroid cancer?\",\n",
       "  'doc_id': '346716619e'},\n",
       " {'question': 'How does controlling blood calcium influence the outlook for someone with parathyroid cancer?',\n",
       "  'doc_id': '33457b1994'},\n",
       " {'question': 'How is parathyroid cancer categorized regarding its stage or spread?',\n",
       "  'doc_id': 'dec6ee88f1'},\n",
       " {'question': 'Are there any ongoing clinical studies specifically targeting parathyroid cancer?',\n",
       "  'doc_id': 'c4271575e4'},\n",
       " {'question': 'My child has been experiencing vision problems and slower growth than peers—could these symptoms indicate a childhood craniopharyngioma?',\n",
       "  'doc_id': '630d39e766'},\n",
       " {'question': 'What factors make a child more likely to develop a craniopharyngioma?',\n",
       "  'doc_id': 'ca6d9a5abf'},\n",
       " {'question': 'What early warning signs should I watch for if I think my child might have a craniopharyngioma?',\n",
       "  'doc_id': '68ab40588c'},\n",
       " {'question': 'What examinations are typically done to confirm a craniopharyngioma in a child?',\n",
       "  'doc_id': '58a109f672'},\n",
       " {'question': 'What factors influence the prognosis and treatment choices for a child diagnosed with craniopharyngioma?',\n",
       "  'doc_id': '288d0735cc'},\n",
       " {'question': 'How do doctors determine the stage of a child’s craniopharyngioma?',\n",
       "  'doc_id': '0a9f947226'},\n",
       " {'question': 'Where can I look for clinical trials that are currently enrolling children with craniopharyngioma?',\n",
       "  'doc_id': '16abbc5ab4'},\n",
       " {'question': 'I’ve noticed a mole that’s changing its appearance—could that be a sign of melanoma and what changes should raise concern?',\n",
       "  'doc_id': 'a8d389213a'},\n",
       " {'question': 'What characteristics make someone more likely to develop melanoma?',\n",
       "  'doc_id': 'b98c0cbaa7'},\n",
       " {'question': 'What should I look for on a mole that might indicate melanoma?',\n",
       "  'doc_id': '8ca11636ac'},\n",
       " {'question': 'What examinations and procedures are used to determine if a changing mole is actually melanoma?',\n",
       "  'doc_id': 'bfcb630316'},\n",
       " {'question': 'What factors will doctors look at to estimate my chances of recovery after a melanoma diagnosis?',\n",
       "  'doc_id': '3cb51ae4ea'},\n",
       " {'question': 'What kinds of new melanoma treatments are currently being studied in research trials?',\n",
       "  'doc_id': '2a67a5ea2c'},\n",
       " {'question': 'What exactly is colorectal cancer and which parts of the digestive system does it involve?',\n",
       "  'doc_id': '071cee1adf'},\n",
       " {'question': 'What kinds of things make a person more likely to develop colorectal cancer?',\n",
       "  'doc_id': 'f1f34255ae'},\n",
       " {'question': 'What exactly is Merkel cell carcinoma and where does it originate in the skin?',\n",
       "  'doc_id': 'f305f5fa19'},\n",
       " {'question': 'What lifestyle or medical factors increase my chances of developing Merkel cell carcinoma?',\n",
       "  'doc_id': 'c04aacae3b'},\n",
       " {'question': \"I've noticed a rapidly growing, painless bump on my forearm that looks reddish—could this be a sign of Merkel cell carcinoma?\",\n",
       "  'doc_id': 'eb9bab83ff'},\n",
       " {'question': 'What examinations are performed to identify Merkel cell carcinoma in a patient?',\n",
       "  'doc_id': '88fb227c5b'},\n",
       " {'question': 'What factors influence the survival chances for someone diagnosed with Merkel cell carcinoma?',\n",
       "  'doc_id': '37df076309'},\n",
       " {'question': 'Are there any ongoing clinical studies testing new therapies for Merkel cell carcinoma?',\n",
       "  'doc_id': '61736d9e40'},\n",
       " {'question': 'What exactly is childhood ependymoma and which parts of the brain or spinal cord can it arise in?',\n",
       "  'doc_id': '6d05c9fcac'},\n",
       " {'question': 'What are the known causes of ependymoma in children?',\n",
       "  'doc_id': 'd558c8a36e'},\n",
       " {'question': 'What warning signs should I look for in my child that might indicate a childhood ependymoma?',\n",
       "  'doc_id': '05a48e05ff'},\n",
       " {'question': 'What examinations and imaging studies are used to detect a brain tumor like ependymoma in children?',\n",
       "  'doc_id': 'c00ee621ba'},\n",
       " {'question': 'What factors influence the chances of recovery for a child diagnosed with ependymoma?',\n",
       "  'doc_id': '46f25325c4'},\n",
       " {'question': 'I’m the parent of a child with ependymoma—where can I look up current clinical studies that focus on this childhood brain tumor?',\n",
       "  'doc_id': '6fe53e68cb'},\n",
       " {'question': 'I just learned my child has ependymoma—how do doctors determine its stage?',\n",
       "  'doc_id': '16d4db3ed8'},\n",
       " {'question': 'What are the typical warning signs that might indicate an intraocular (uveal) melanoma?',\n",
       "  'doc_id': '2c627474a5'}]"
      ]
     },
     "execution_count": 39,
     "metadata": {},
     "output_type": "execute_result"
    }
   ],
   "execution_count": 39
  },
  {
   "metadata": {
    "ExecuteTime": {
     "end_time": "2025-10-06T17:37:19.739340Z",
     "start_time": "2025-10-06T17:37:19.733360Z"
    }
   },
   "cell_type": "code",
   "source": [
    "load_dotenv()\n",
    "\n",
    "# Get the API key\n",
    "api_key = os.getenv('OPENAI_API_KEY')\n",
    "print(f\"API Key found: {api_key is not None}\")"
   ],
   "id": "810a13e9d7007fef",
   "outputs": [
    {
     "name": "stdout",
     "output_type": "stream",
     "text": [
      "API Key found: True\n"
     ]
    }
   ],
   "execution_count": 40
  },
  {
   "metadata": {
    "ExecuteTime": {
     "end_time": "2025-10-06T17:02:59.693020Z",
     "start_time": "2025-10-06T17:02:59.668089Z"
    }
   },
   "cell_type": "code",
   "source": [
    "client = OpenAI(\n",
    "  base_url=\"https://openrouter.ai/api/v1\",\n",
    "  api_key=api_key,\n",
    ")\n",
    "def llm(prompt):\n",
    "    response = client.chat.completions.create(\n",
    "      extra_body={},\n",
    "      model=\"openai/gpt-oss-120b\",\n",
    "      messages=[\n",
    "        {\n",
    "          \"role\": \"user\",\n",
    "          \"content\": prompt\n",
    "        }\n",
    "      ]\n",
    "    )\n",
    "    return response.choices[0].message.content"
   ],
   "id": "7315e2c661932ff0",
   "outputs": [],
   "execution_count": 16
  },
  {
   "metadata": {
    "ExecuteTime": {
     "end_time": "2025-10-06T18:26:50.563950Z",
     "start_time": "2025-10-06T17:37:25.586541Z"
    }
   },
   "cell_type": "code",
   "source": [
    "answers = {}\n",
    "\n",
    "for i, rec in tqdm(enumerate(ground_truth)):\n",
    "    if i in answers:\n",
    "        continue\n",
    "    print(rec)\n",
    "    question = rec['question']\n",
    "    answer_llm = llm(question)\n",
    "    doc_id = rec['doc_id']\n",
    "    print(doc_id)\n",
    "    original_doc = doc_idx[doc_id]\n",
    "    print(original_doc)\n",
    "    answer_orig = original_doc['Answer']\n",
    "\n",
    "    answers[i] = {\n",
    "        'answer_llm': answer_llm,\n",
    "        'answer_orig': answer_orig,\n",
    "        'document': doc_id\n",
    "    }\n"
   ],
   "id": "caa28028796da9b2",
   "outputs": [
    {
     "name": "stderr",
     "output_type": "stream",
     "text": [
      "0it [00:00, ?it/s]"
     ]
    },
    {
     "name": "stdout",
     "output_type": "stream",
     "text": [
      "{'question': 'What are the main types of non‑small cell lung cancer and how are they identified under a microscope?', 'doc_id': '5e34bcbaa8'}\n"
     ]
    },
    {
     "name": "stderr",
     "output_type": "stream",
     "text": [
      "1it [00:16, 16.32s/it]"
     ]
    },
    {
     "name": "stdout",
     "output_type": "stream",
     "text": [
      "5e34bcbaa8\n",
      "{'doc_id': '5e34bcbaa8', 'topic': 'cancer', 'Question': 'What is (are) Non-Small Cell Lung Cancer ?', 'Answer': \"Key Points Non-small cell lung cancer is a disease in which malignant (cancer) cells form in the tissues of the lung. There are several types of non-small cell lung cancer. Smoking is the major risk factor for non-small cell lung cancer. Signs of non-small cell lung cancer include a cough that doesn't go away and shortness of breath. Tests that examine the lungs are used to detect (find), diagnose, and stage non-small cell lung cancer. Certain factors affect prognosis (chance of recovery) and treatment options. For most patients with non-small cell lung cancer, current treatments do not cure the cancer. Non-small cell lung cancer is a disease in which malignant (cancer) cells form in the tissues of the lung. The lungs are a pair of cone-shaped breathing organs in the chest. The lungs bring oxygen into the body as you breathe in. They release carbon dioxide, a waste product of the bodys cells, as you breathe out. Each lung has sections called lobes. The left lung has two lobes. The right lung is slightly larger and has three lobes. Two tubes called bronchi lead from the trachea (windpipe) to the right and left lungs. The bronchi are sometimes also involved in lung cancer. Tiny air sacs called alveoli and small tubes called bronchioles make up the inside of the lungs. A thin membrane called the pleura covers the outside of each lung and lines the inside wall of the chest cavity. This creates a sac called the pleural cavity. The pleural cavity normally contains a small amount of fluid that helps the lungs move smoothly in the chest when you breathe. There are two main types of lung cancer: non-small cell lung cancer and small cell lung cancer. See the following PDQ summaries for more information about lung cancer: Small Cell Lung Cancer Treatment Unusual Cancers of Childhood Treatment Lung Cancer Prevention Lung Cancer Screening There are several types of non-small cell lung cancer. Each type of non-small cell lung cancer has different kinds of cancer cells. The cancer cells of each type grow and spread in different ways. The types of non-small cell lung cancer are named for the kinds of cells found in the cancer and how the cells look under a microscope: Squamous cell carcinoma: Cancer that begins in squamous cells, which are thin, flat cells that look like fish scales. This is also called epidermoid carcinoma. Large cell carcinoma: Cancer that may begin in several types of large cells. Adenocarcinoma: Cancer that begins in the cells that line the alveoli and make substances such as mucus. Other less common types of non-small cell lung cancer are: pleomorphic, carcinoid tumor, salivary gland carcinoma, and unclassified carcinoma. For most patients with non-small cell lung cancer, current treatments do not cure the cancer. If lung cancer is found, taking part in one of the many clinical trials being done to improve treatment should be considered. Clinical trials are taking place in most parts of the country for patients with all stages of non-small cell lung cancer. Information about ongoing clinical trials is available from the NCI website.\"}\n",
      "{'question': 'What lifestyle habits increase my chances of developing non‑small cell lung cancer?', 'doc_id': 'c2845efbbc'}\n"
     ]
    },
    {
     "name": "stderr",
     "output_type": "stream",
     "text": [
      "2it [00:18,  8.13s/it]"
     ]
    },
    {
     "name": "stdout",
     "output_type": "stream",
     "text": [
      "c2845efbbc\n",
      "{'doc_id': 'c2845efbbc', 'topic': 'cancer', 'Question': 'Who is at risk for Non-Small Cell Lung Cancer? ?', 'Answer': \"Smoking is the major risk factor for non-small cell lung cancer. Anything that increases your chance of getting a disease is called a risk factor. Having a risk factor does not mean that you will get cancer; not having risk factors doesn't mean that you will not get cancer. Talk to your doctor if you think you may be at risk for lung cancer. Risk factors for lung cancer include the following: Smoking cigarettes, pipes, or cigars, now or in the past. This is the most important risk factor for lung cancer. The earlier in life a person starts smoking, the more often a person smokes, and the more years a person smokes, the greater the risk of lung cancer. Being exposed to secondhand smoke. Being exposed to radiation from any of the following: Radiation therapy to the breast or chest. Radon in the home or workplace. Imaging tests such as CT scans. Atomic bomb radiation. Being exposed to asbestos, chromium, nickel, beryllium, arsenic, soot, or tar in the workplace. Living where there is air pollution. Having a family history of lung cancer. Being infected with the human immunodeficiency virus (HIV). Taking beta carotene supplements and being a heavy smoker. Older age is the main risk factor for most cancers. The chance of getting cancer increases as you get older. When smoking is combined with other risk factors, the risk of lung cancer is increased.\"}\n",
      "{'question': \"I've been experiencing a persistent cough and getting short of breath—could these be indicators of non‑small cell lung cancer?\", 'doc_id': 'd1bc99107d'}\n"
     ]
    },
    {
     "name": "stderr",
     "output_type": "stream",
     "text": [
      "3it [00:34, 11.59s/it]"
     ]
    },
    {
     "name": "stdout",
     "output_type": "stream",
     "text": [
      "d1bc99107d\n",
      "{'doc_id': 'd1bc99107d', 'topic': 'cancer', 'Question': 'What are the symptoms of Non-Small Cell Lung Cancer ?', 'Answer': \"Signs of non-small cell lung cancer include a cough that doesn't go away and shortness of breath. Sometimes lung cancer does not cause any signs or symptoms. It may be found during a chest x-ray done for another condition. Signs and symptoms may be caused by lung cancer or by other conditions. Check with your doctor if you have any of the following: Chest discomfort or pain. A cough that doesnt go away or gets worse over time. Trouble breathing. Wheezing. Blood in sputum (mucus coughed up from the lungs). Hoarseness. Loss of appetite. Weight loss for no known reason. Feeling very tired. Trouble swallowing. Swelling in the face and/or veins in the neck.\"}\n",
      "{'question': 'What kinds of exams and scans are used to confirm that someone has non‑small cell lung cancer?', 'doc_id': 'abdbe99dd2'}\n"
     ]
    },
    {
     "name": "stderr",
     "output_type": "stream",
     "text": [
      "4it [01:05, 19.12s/it]"
     ]
    },
    {
     "name": "stdout",
     "output_type": "stream",
     "text": [
      "abdbe99dd2\n",
      "{'doc_id': 'abdbe99dd2', 'topic': 'cancer', 'Question': 'How to diagnose Non-Small Cell Lung Cancer ?', 'Answer': 'Tests that examine the lungs are used to detect (find), diagnose, and stage non-small cell lung cancer. Tests and procedures to detect, diagnose, and stage non-small cell lung cancer are often done at the same time. Some of the following tests and procedures may be used: Physical exam and history : An exam of the body to check general signs of health, including checking for signs of disease, such as lumps or anything else that seems unusual. A history of the patients health habits, including smoking, and past jobs, illnesses, and treatments will also be taken. Laboratory tests : Medical procedures that test samples of tissue, blood, urine, or other substances in the body. These tests help to diagnose disease, plan and check treatment, or monitor the disease over time. Chest x-ray: An x-ray of the organs and bones inside the chest. An x-ray is a type of energy beam that can go through the body and onto film, making a picture of areas inside the body. CT scan (CAT scan): A procedure that makes a series of detailed pictures of areas inside the body, such as the chest, taken from different angles. The pictures are made by a computer linked to an x-ray machine. A dye may be injected into a vein or swallowed to help the organs or tissues show up more clearly. This procedure is also called computed tomography, computerized tomography, or computerized axial tomography. Sputum cytology : A procedure in which a pathologist views a sample of sputum (mucus coughed up from the lungs) under a microscope, to check for cancer cells. Fine-needle aspiration (FNA) biopsy of the lung: The removal of tissue or fluid from the lung using a thin needle. A CT scan, ultrasound, or other imaging procedure is used to locate the abnormal tissue or fluid in the lung. A small incision may be made in the skin where the biopsy needle is inserted into the abnormal tissue or fluid. A sample is removed with the needle and sent to the laboratory. A pathologist then views the sample under a microscope to look for cancer cells. A chest x-ray is done after the procedure to make sure no air is leaking from the lung into the chest. Bronchoscopy : A procedure to look inside the trachea and large airways in the lung for abnormal areas. A bronchoscope is inserted through the nose or mouth into the trachea and lungs. A bronchoscope is a thin, tube-like instrument with a light and a lens for viewing. It may also have a tool to remove tissue samples, which are checked under a microscope for signs of cancer. Thoracoscopy : A surgical procedure to look at the organs inside the chest to check for abnormal areas. An incision (cut) is made between two ribs, and a thoracoscope is inserted into the chest. A thoracoscope is a thin, tube-like instrument with a light and a lens for viewing. It may also have a tool to remove tissue or lymph node samples, which are checked under a microscope for signs of cancer. In some cases, this procedure is used to remove part of the esophagus or lung. If certain tissues, organs, or lymph nodes cant be reached, a thoracotomy may be done. In this procedure, a larger incision is made between the ribs and the chest is opened. Thoracentesis : The removal of fluid from the space between the lining of the chest and the lung, using a needle. A pathologist views the fluid under a microscope to look for cancer cells. Light and electron microscopy : A laboratory test in which cells in a sample of tissue are viewed under regular and high-powered microscopes to look for certain changes in the cells. Immunohistochemistry : A test that uses antibodies to check for certain antigens in a sample of tissue. The antibody is usually linked to a radioactive substance or a dye that causes the tissue to light up under a microscope. This type of test may be used to tell the difference between different types of cancer.'}\n",
      "{'question': 'What are the main elements that doctors consider when estimating a patient’s chance of recovery from non‑small cell lung cancer?', 'doc_id': '597a81526a'}\n"
     ]
    },
    {
     "name": "stderr",
     "output_type": "stream",
     "text": [
      "5it [01:21, 18.26s/it]"
     ]
    },
    {
     "name": "stdout",
     "output_type": "stream",
     "text": [
      "597a81526a\n",
      "{'doc_id': '597a81526a', 'topic': 'cancer', 'Question': 'What is the outlook for Non-Small Cell Lung Cancer ?', 'Answer': 'Certain factors affect prognosis (chance of recovery) and treatment options. The prognosis (chance of recovery) and treatment options depend on the following: The stage of the cancer (the size of the tumor and whether it is in the lung only or has spread to other places in the body). The type of lung cancer. Whether the cancer has mutations (changes) in certain genes, such as the epidermal growth factor receptor (EGFR) gene or the anaplastic lymphoma kinase (ALK) gene. Whether there are signs and symptoms such as coughing or trouble breathing. The patients general health.'}\n",
      "{'question': 'I’m newly diagnosed with non‑small cell lung cancer—what kinds of clinical studies are currently testing new therapies for this disease?', 'doc_id': '4979172719'}\n"
     ]
    },
    {
     "name": "stderr",
     "output_type": "stream",
     "text": [
      "6it [01:42, 18.96s/it]"
     ]
    },
    {
     "name": "stdout",
     "output_type": "stream",
     "text": [
      "4979172719\n",
      "{'doc_id': '4979172719', 'topic': 'cancer', 'Question': 'what research (or clinical trials) is being done for Non-Small Cell Lung Cancer ?', 'Answer': \"New types of treatment are being tested in clinical trials. This summary section describes treatments that are being studied in clinical trials. It may not mention every new treatment being studied. Information about clinical trials is available from the NCI website. Chemoprevention Chemoprevention is the use of drugs, vitamins, or other substances to reduce the risk of cancer or to reduce the risk cancer will recur (come back). For lung cancer, chemoprevention is used to lessen the chance that a new tumor will form in the lung. Radiosensitizers Radiosensitizers are substances that make tumor cells easier to kill with radiation therapy. The combination of chemotherapy and radiation therapy given with a radiosensitizer is being studied in the treatment of non-small cell lung cancer. New combinations New combinations of treatments are being studied in clinical trials. Patients may want to think about taking part in a clinical trial. For some patients, taking part in a clinical trial may be the best treatment choice. Clinical trials are part of the cancer research process. Clinical trials are done to find out if new cancer treatments are safe and effective or better than the standard treatment. Many of today's standard treatments for cancer are based on earlier clinical trials. Patients who take part in a clinical trial may receive the standard treatment or be among the first to receive a new treatment. Patients who take part in clinical trials also help improve the way cancer will be treated in the future. Even when clinical trials do not lead to effective new treatments, they often answer important questions and help move research forward. Patients can enter clinical trials before, during, or after starting their cancer treatment. Some clinical trials only include patients who have not yet received treatment. Other trials test treatments for patients whose cancer has not gotten better. There are also clinical trials that test new ways to stop cancer from recurring (coming back) or reduce the side effects of cancer treatment. Clinical trials are taking place in many parts of the country. See the Treatment Options section that follows for links to current treatment clinical trials. These have been retrieved from NCI's listing of clinical trials.\"}\n",
      "{'question': 'What kind of cancer originates in the muscle layer or supporting tissues of the uterus?', 'doc_id': 'd563c7d596'}\n"
     ]
    },
    {
     "name": "stderr",
     "output_type": "stream",
     "text": [
      "7it [01:52, 16.00s/it]"
     ]
    },
    {
     "name": "stdout",
     "output_type": "stream",
     "text": [
      "d563c7d596\n",
      "{'doc_id': 'd563c7d596', 'topic': 'cancer', 'Question': 'What is (are) Uterine Sarcoma ?', 'Answer': 'Key Points Uterine sarcoma is a disease in which malignant (cancer) cells form in the muscles of the uterus or other tissues that support the uterus. Being exposed to x-rays can increase the risk of uterine sarcoma. Signs of uterine sarcoma include abnormal bleeding. Tests that examine the uterus are used to detect (find) and diagnose uterine sarcoma. Certain factors affect prognosis (chance of recovery) and treatment options. Uterine sarcoma is a disease in which malignant (cancer) cells form in the muscles of the uterus or other tissues that support the uterus. The uterus is part of the female reproductive system. The uterus is the hollow, pear-shaped organ in the pelvis, where a fetus grows. The cervix is at the lower, narrow end of the uterus, and leads to the vagina. Uterine sarcoma is a very rare kind of cancer that forms in the uterine muscles or in tissues that support the uterus. (Information about other types of sarcomas can be found in the PDQ summary on Adult Soft Tissue Sarcoma Treatment.) Uterine sarcoma is different from cancer of the endometrium, a disease in which cancer cells start growing inside the lining of the uterus. (See the PDQ summary on Endometrial Cancer Treatment for information).'}\n",
      "{'question': 'What factors could make me more likely to develop uterine sarcoma?', 'doc_id': '02577e3169'}\n"
     ]
    },
    {
     "name": "stderr",
     "output_type": "stream",
     "text": [
      "8it [01:55, 12.01s/it]"
     ]
    },
    {
     "name": "stdout",
     "output_type": "stream",
     "text": [
      "02577e3169\n",
      "{'doc_id': '02577e3169', 'topic': 'cancer', 'Question': 'Who is at risk for Uterine Sarcoma? ?', 'Answer': 'Being exposed to x-rays can increase the risk of uterine sarcoma. Anything that increases your risk of getting a disease is called a risk factor. Having a risk factor does not mean that you will get cancer; not having risk factors doesnt mean that you will not get cancer. Talk with your doctor if you think you may be at risk. Risk factors for uterine sarcoma include the following: Past treatment with radiation therapy to the pelvis. Treatment with tamoxifen for breast cancer. If you are taking this drug, have a pelvic exam every year and report any vaginal bleeding (other than menstrual bleeding) as soon as possible.'}\n",
      "{'question': 'What signs should make me think I might have uterine sarcoma?', 'doc_id': 'd11834721f'}\n"
     ]
    },
    {
     "name": "stderr",
     "output_type": "stream",
     "text": [
      "9it [02:04, 11.04s/it]"
     ]
    },
    {
     "name": "stdout",
     "output_type": "stream",
     "text": [
      "d11834721f\n",
      "{'doc_id': 'd11834721f', 'topic': 'cancer', 'Question': 'What are the symptoms of Uterine Sarcoma ?', 'Answer': 'Signs of uterine sarcoma include abnormal bleeding. Abnormal bleeding from the vagina and other signs and symptoms may be caused by uterine sarcoma or by other conditions. Check with your doctor if you have any of the following: Bleeding that is not part of menstrual periods. Bleeding after menopause. A mass in the vagina. Pain or a feeling of fullness in the abdomen. Frequent urination.'}\n",
      "{'question': 'What examinations and tests does a doctor use to confirm a diagnosis of uterine sarcoma?', 'doc_id': 'e109719c38'}\n"
     ]
    },
    {
     "name": "stderr",
     "output_type": "stream",
     "text": [
      "10it [02:21, 12.88s/it]"
     ]
    },
    {
     "name": "stdout",
     "output_type": "stream",
     "text": [
      "e109719c38\n",
      "{'doc_id': 'e109719c38', 'topic': 'cancer', 'Question': 'How to diagnose Uterine Sarcoma ?', 'Answer': 'Tests that examine the uterus are used to detect (find) and diagnose uterine sarcoma. The following tests and procedures may be used: Physical exam and history : An exam of the body to check general signs of health, including checking for signs of disease, such as lumps or anything else that seems unusual. A history of the patients health habits and past illnesses and treatments will also be taken. Pelvic exam: An exam of the vagina, cervix, uterus, fallopian tubes, ovaries, and rectum. A speculum is inserted into the vagina and the doctor or nurse looks at the vagina and cervix for signs of disease. A Pap test of the cervix is usually done. The doctor or nurse also inserts one or two lubricated, gloved fingers of one hand into the vagina and places the other hand over the lower abdomen to feel the size, shape, and position of the uterus and ovaries. The doctor or nurse also inserts a lubricated, gloved finger into the rectum to feel for lumps or abnormal areas. Pap test: A procedure to collect cells from the surface of the cervix and vagina. A piece of cotton, a brush, or a small wooden stick is used to gently scrape cells from the cervix and vagina. The cells are viewed under a microscope to find out if they are abnormal. This procedure is also called a Pap smear. Because uterine sarcoma begins inside the uterus, this cancer may not show up on the Pap test. Transvaginal ultrasound exam: A procedure used to examine the vagina, uterus, fallopian tubes, and bladder. An ultrasound transducer (probe) is inserted into the vagina and used to bounce high-energy sound waves (ultrasound) off internal tissues or organs and make echoes. The echoes form a picture of body tissues called a sonogram. The doctor can identify tumors by looking at the sonogram. Dilatation and curettage : A procedure to remove samples of tissue from the inner lining of the uterus. The cervix is dilated and a curette (spoon-shaped instrument) is inserted into the uterus to remove tissue. The tissue samples are checked under a microscope for signs of disease. This procedure is also called a D&C. Endometrial biopsy : The removal of tissue from the endometrium (inner lining of the uterus) by inserting a thin, flexible tube through the cervix and into the uterus. The tube is used to gently scrape a small amount of tissue from the endometrium and then remove the tissue samples. A pathologist views the tissue under a microscope to look for cancer cells.'}\n",
      "{'question': 'What factors determine the prognosis for someone diagnosed with uterine sarcoma?', 'doc_id': '6becabff6a'}\n"
     ]
    },
    {
     "name": "stderr",
     "output_type": "stream",
     "text": [
      "11it [04:55, 56.24s/it]"
     ]
    },
    {
     "name": "stdout",
     "output_type": "stream",
     "text": [
      "6becabff6a\n",
      "{'doc_id': '6becabff6a', 'topic': 'cancer', 'Question': 'What is the outlook for Uterine Sarcoma ?', 'Answer': \"Certain factors affect prognosis (chance of recovery) and treatment options. The prognosis (chance of recovery) and treatment options depend on the following: The stage of the cancer. The type and size of the tumor. The patient's general health. Whether the cancer has just been diagnosed or has recurred (come back).\"}\n",
      "{'question': 'What kinds of clinical studies are currently available for patients with uterine sarcoma?', 'doc_id': '252662340d'}\n"
     ]
    },
    {
     "name": "stderr",
     "output_type": "stream",
     "text": [
      "12it [05:26, 48.49s/it]"
     ]
    },
    {
     "name": "stdout",
     "output_type": "stream",
     "text": [
      "252662340d\n",
      "{'doc_id': '252662340d', 'topic': 'cancer', 'Question': 'what research (or clinical trials) is being done for Uterine Sarcoma ?', 'Answer': \"New types of treatment are being tested in clinical trials. Information about clinical trials is available from the NCI website. Patients may want to think about taking part in a clinical trial. For some patients, taking part in a clinical trial may be the best treatment choice. Clinical trials are part of the cancer research process. Clinical trials are done to find out if new cancer treatments are safe and effective or better than the standard treatment. Many of today's standard treatments for cancer are based on earlier clinical trials. Patients who take part in a clinical trial may receive the standard treatment or be among the first to receive a new treatment. Patients who take part in clinical trials also help improve the way cancer will be treated in the future. Even when clinical trials do not lead to effective new treatments, they often answer important questions and help move research forward. Patients can enter clinical trials before, during, or after starting their cancer treatment. Some clinical trials only include patients who have not yet received treatment. Other trials test treatments for patients whose cancer has not gotten better. There are also clinical trials that test new ways to stop cancer from recurring (coming back) or reduce the side effects of cancer treatment. Clinical trials are taking place in many parts of the country. See the Treatment Options section that follows for links to current treatment clinical trials. These have been retrieved from NCI's listing of clinical trials.\"}\n",
      "{'question': 'Could my tumor be an extragonadal germ cell tumor, and what symptoms would it likely produce?', 'doc_id': '4faee827b1'}\n"
     ]
    },
    {
     "name": "stderr",
     "output_type": "stream",
     "text": [
      "13it [05:48, 40.29s/it]"
     ]
    },
    {
     "name": "stdout",
     "output_type": "stream",
     "text": [
      "4faee827b1\n",
      "{'doc_id': '4faee827b1', 'topic': 'cancer', 'Question': 'What is (are) Extragonadal Germ Cell Tumors ?', 'Answer': 'Key Points Extragonadal germ cell tumors form from developing sperm or egg cells that travel from the gonads to other parts of the body. Age and gender can affect the risk of extragonadal germ cell tumors. Signs and symptoms of extragonadal germ cell tumors include breathing problems and chest pain. Imaging and blood tests are used to detect (find) and diagnose extragonadal germ cell tumors. Certain factors affect prognosis (chance of recovery) and treatment options. Extragonadal germ cell tumors form from developing sperm or egg cells that travel from the gonads to other parts of the body. \" Extragonadal\" means outside of the gonads (sex organs). When cells that are meant to form sperm in the testicles or eggs in the ovaries travel to other parts of the body, they may grow into extragonadal germ cell tumors. These tumors may begin to grow anywhere in the body but usually begin in organs such as the pineal gland in the brain, in the mediastinum (area between the lungs), or in the retroperitoneum (the back wall of the abdomen). Extragonadal germ cell tumors can be benign (noncancer) or malignant (cancer). Benign extragonadal germ cell tumors are called benign teratomas. These are more common than malignant extragonadal germ cell tumors and often are very large. Malignant extragonadal germ cell tumors are divided into two types, nonseminoma and seminoma. Nonseminomas tend to grow and spread more quickly than seminomas. They usually are large and cause signs and symptoms. If untreated, malignant extragonadal germ cell tumors may spread to the lungs, lymph nodes, bones, liver, or other parts of the body. For information about germ cell tumors in the ovaries and testicles, see the following PDQ summaries: Ovarian Germ Cell Tumors Treatment Testicular Cancer Treatment'}\n",
      "{'question': 'Am I at greater risk for an extragonadal germ cell tumor because I’m male?', 'doc_id': 'ee6941d3af'}\n"
     ]
    },
    {
     "name": "stderr",
     "output_type": "stream",
     "text": [
      "14it [05:59, 31.60s/it]"
     ]
    },
    {
     "name": "stdout",
     "output_type": "stream",
     "text": [
      "ee6941d3af\n",
      "{'doc_id': 'ee6941d3af', 'topic': 'cancer', 'Question': 'Who is at risk for Extragonadal Germ Cell Tumors? ?', 'Answer': 'Age and gender can affect the risk of extragonadal germ cell tumors. Anything that increases your chance of getting a disease is called a risk factor. Having a risk factor does not mean that you will get cancer; not having risk factors doesnt mean that you will not get cancer. Talk with your doctor if you think you may be at risk. Risk factors for malignant extragonadal germ cell tumors include the following: Being male. Being age or older. Having Klinefelter syndrome.'}\n",
      "{'question': 'I’ve been having chest pain and shortness of breath—could these be signs of an extragonadal germ cell tumor?', 'doc_id': '0867df07b6'}\n"
     ]
    },
    {
     "name": "stderr",
     "output_type": "stream",
     "text": [
      "15it [06:20, 28.45s/it]"
     ]
    },
    {
     "name": "stdout",
     "output_type": "stream",
     "text": [
      "0867df07b6\n",
      "{'doc_id': '0867df07b6', 'topic': 'cancer', 'Question': 'What are the symptoms of Extragonadal Germ Cell Tumors ?', 'Answer': 'Signs and symptoms of extragonadal germ cell tumors include breathing problems and chest pain. Malignant extragonadal germ cell tumors may cause signs and symptoms as they grow into nearby areas. Other conditions may cause the same signs and symptoms. Check with your doctor if you have any of the following: Chest pain. Breathing problems. Cough. Fever. Headache. Change in bowel habits. Feeling very tired. Trouble walking. Trouble in seeing or moving the eyes.'}\n",
      "{'question': 'What tests are performed to confirm a suspected extragonadal germ cell tumor?', 'doc_id': 'd84a78215e'}\n"
     ]
    },
    {
     "name": "stderr",
     "output_type": "stream",
     "text": [
      "16it [07:39, 43.47s/it]"
     ]
    },
    {
     "name": "stdout",
     "output_type": "stream",
     "text": [
      "d84a78215e\n",
      "{'doc_id': 'd84a78215e', 'topic': 'cancer', 'Question': 'How to diagnose Extragonadal Germ Cell Tumors ?', 'Answer': \"Imaging and blood tests are used to detect (find) and diagnose extragonadal germ cell tumors. The following tests and procedures may be used: Physical exam and history : An exam of the body to check general signs of health, including checking for signs of disease, such as lumps or anything else that seems unusual. The testicles may be checked for lumps, swelling, or pain. A history of the patient's health habits and past illnesses and treatments will also be taken. Chest x-ray : An x-ray of the organs and bones inside the chest. An x-ray is a type of energy beam that can go through the body and onto film, making a picture of areas inside the body. Serum tumor marker test : A procedure in which a sample of blood is examined to measure the amounts of certain substances released into the blood by organs, tissues, or tumor cells in the body. Certain substances are linked to specific types of cancer when found in increased levels in the blood. These are called tumor markers. The following three tumor markers are used to detect extragonadal germ cell tumor: Alpha-fetoprotein (AFP). Beta-human chorionic gonadotropin (-hCG). Lactate dehydrogenase (LDH). Blood levels of the tumor markers help determine if the tumor is a seminoma or nonseminoma. CT scan (CAT scan): A procedure that makes a series of detailed pictures of areas inside the body, taken from different angles. The pictures are made by a computer linked to an x-ray machine. A dye may be injected into a vein or swallowed to help the organs or tissues show up more clearly. This procedure is also called computed tomography, computerized tomography, or computerized axial tomography. Sometimes a CT scan and a PET scan are done at the same time. A PET scan is a procedure to find malignant tumor cells in the body. A small amount of radioactive glucose (sugar) is injected into a vein. The PET scanner rotates around the body and makes a picture of where glucose is being used in the body. Malignant tumor cells show up brighter in the picture because they are more active and take up more glucose than normal cells do. When a PET scan and CT scan are done at the same time, it is called a PET-CT. Biopsy : The removal of cells or tissues so they can be viewed under a microscope by a pathologist to check for signs of cancer. The type of biopsy used depends on where the extragonadal germ cell tumor is found. Excisional biopsy : The removal of an entire lump of tissue. Incisional biopsy : The removal of part of a lump or sample of tissue. Core biopsy : The removal of tissue using a wide needle. Fine-needle aspiration (FNA) biopsy : The removal of tissue or fluid using a thin needle.\"}\n",
      "{'question': 'What factors influence the prognosis for someone diagnosed with an extragonadal germ cell tumor?', 'doc_id': '7cdefbf7d7'}\n"
     ]
    },
    {
     "name": "stderr",
     "output_type": "stream",
     "text": [
      "17it [07:54, 35.15s/it]"
     ]
    },
    {
     "name": "stdout",
     "output_type": "stream",
     "text": [
      "7cdefbf7d7\n",
      "{'doc_id': '7cdefbf7d7', 'topic': 'cancer', 'Question': 'What is the outlook for Extragonadal Germ Cell Tumors ?', 'Answer': 'Certain factors affect prognosis (chance of recovery) and treatment options. The prognosis (chance of recovery) and treatment options depend on the following: Whether the tumor is nonseminoma or seminoma. The size of the tumor and where it is in the body. The blood levels of AFP, -hCG, and LDH. Whether the tumor has spread to other parts of the body. The way the tumor responds to initial treatment. Whether the tumor has just been diagnosed or has recurred (come back).'}\n",
      "{'question': 'What are the three prognostic categories used to classify extragonadal germ‑cell tumors and how do they differ from traditional cancer staging?', 'doc_id': 'ef17a8af15'}\n"
     ]
    },
    {
     "name": "stderr",
     "output_type": "stream",
     "text": [
      "18it [08:18, 31.65s/it]"
     ]
    },
    {
     "name": "stdout",
     "output_type": "stream",
     "text": [
      "ef17a8af15\n",
      "{'doc_id': 'ef17a8af15', 'topic': 'cancer', 'Question': 'What are the stages of Extragonadal Germ Cell Tumors ?', 'Answer': 'Key Points After an extragonadal germ cell tumor has been diagnosed, tests are done to find out if cancer cells have spread to other parts of the body. There are three ways that cancer spreads in the body. Cancer may spread from where it began to other parts of the body. The following prognostic groups are used for extragonadal germ cell tumors: Good prognosis Intermediate prognosis Poor prognosis After an extragonadal germ cell tumor has been diagnosed, tests are done to find out if cancer cells have spread to other parts of the body. The extent or spread of cancer is usually described as stages. For extragonadal germ cell tumors, prognostic groups are used instead of stages. The tumors are grouped according to how well the cancer is expected to respond to treatment. It is important to know the prognostic group in order to plan treatment. There are three ways that cancer spreads in the body. Cancer can spread through tissue, the lymph system, and the blood: Tissue. The cancer spreads from where it began by growing into nearby areas. Lymph system. The cancer spreads from where it began by getting into the lymph system. The cancer travels through the lymph vessels to other parts of the body. Blood. The cancer spreads from where it began by getting into the blood. The cancer travels through the blood vessels to other parts of the body. Cancer may spread from where it began to other parts of the body. When cancer spreads to another part of the body, it is called metastasis. Cancer cells break away from where they began (the primary tumor) and travel through the lymph system or blood. Lymph system. The cancer gets into the lymph system, travels through the lymph vessels, and forms a tumor (metastatic tumor) in another part of the body. Blood. The cancer gets into the blood, travels through the blood vessels, and forms a tumor (metastatic tumor) in another part of the body. The metastatic tumor is the same type of tumor as the primary tumor. For example, if an extragonadal germ cell tumor spreads to the lung, the tumor cells in the lung are actually cancerous germ cells. The disease is metastatic extragonadal germ cell tumor, not lung cancer. The following prognostic groups are used for extragonadal germ cell tumors: Good prognosis A nonseminoma extragonadal germ cell tumor is in the good prognosis group if: the tumor is in the back of the abdomen; and the tumor has not spread to organs other than the lungs; and the levels of tumor markers AFP and -hCG are normal and LDH is slightly above normal. A seminoma extragonadal germ cell tumor is in the good prognosis group if: the tumor has not spread to organs other than the lungs; and the level of AFP is normal; -hCG and LDH may be at any level. Intermediate prognosis A nonseminoma extragonadal germ cell tumor is in the intermediate prognosis group if: the tumor is in the back of the abdomen; and the tumor has not spread to organs other than the lungs; and the level of any one of the tumor markers (AFP, -hCG, or LDH) is more than slightly above normal. A seminoma extragonadal germ cell tumor is in the intermediate prognosis group if: the tumor has spread to organs other than the lungs; and the level of AFP is normal; -hCG and LDH may be at any level. Poor prognosis A nonseminoma extragonadal germ cell tumor is in the poor prognosis group if: the tumor is in the chest; or the tumor has spread to organs other than the lungs; or the level of any one of the tumor markers (AFP, -hCG, or LDH) is high. Seminoma extragonadal germ cell tumor does not have a poor prognosis group.'}\n",
      "{'question': 'As a patient diagnosed with an extragonadal germ cell tumor, how can I learn about current clinical trials, especially those using high‑dose chemotherapy with stem‑cell transplant?', 'doc_id': '72dbfb80d6'}\n"
     ]
    },
    {
     "name": "stderr",
     "output_type": "stream",
     "text": [
      "19it [09:00, 34.88s/it]"
     ]
    },
    {
     "name": "stdout",
     "output_type": "stream",
     "text": [
      "72dbfb80d6\n",
      "{'doc_id': '72dbfb80d6', 'topic': 'cancer', 'Question': 'what research (or clinical trials) is being done for Extragonadal Germ Cell Tumors ?', 'Answer': \"New types of treatment are being tested in clinical trials. This summary section describes treatments that are being studied in clinical trials. It may not mention every new treatment being studied. Information about clinical trials is available from the NCI website. High-dose chemotherapy with stem cell transplant High-dose chemotherapy with stem cell transplant is a method of giving high doses of chemotherapy and replacing blood -forming cells destroyed by the cancer treatment. Stem cells (immature blood cells) are removed from the blood or bone marrow of the patient or a donor and are frozen and stored. After the chemotherapy is completed, the stored stem cells are thawed and given back to the patient through an infusion. These reinfused stem cells grow into (and restore) the body's blood cells. Patients may want to think about taking part in a clinical trial. For some patients, taking part in a clinical trial may be the best treatment choice. Clinical trials are part of the cancer research process. Clinical trials are done to find out if new cancer treatments are safe and effective or better than the standard treatment. Many of today's standard treatments for cancer are based on earlier clinical trials. Patients who take part in a clinical trial may receive the standard treatment or be among the first to receive a new treatment. Patients who take part in clinical trials also help improve the way cancer will be treated in the future. Even when clinical trials do not lead to effective new treatments, they often answer important questions and help move research forward. Patients can enter clinical trials before, during, or after starting their cancer treatment. Some clinical trials only include patients who have not yet received treatment. Other trials test treatments for patients whose cancer has not gotten better. There are also clinical trials that test new ways to stop cancer from recurring (coming back) or reduce the side effects of cancer treatment. Clinical trials are taking place in many parts of the country. See the Treatment Options section that follows for links to current treatment clinical trials. These have been retrieved from NCI's listing of clinical trials.\"}\n",
      "{'question': 'Can you explain what endometrial cancer is and where it originates in the body?', 'doc_id': 'ffa3a8b71c'}\n"
     ]
    },
    {
     "name": "stderr",
     "output_type": "stream",
     "text": [
      "20it [09:14, 28.40s/it]"
     ]
    },
    {
     "name": "stdout",
     "output_type": "stream",
     "text": [
      "ffa3a8b71c\n",
      "{'doc_id': 'ffa3a8b71c', 'topic': 'cancer', 'Question': 'What is (are) Endometrial Cancer ?', 'Answer': \"Key Points Endometrial cancer is a disease in which malignant (cancer) cells form in the tissues of the endometrium. In the United States, endometrial cancer is the most common invasive cancer of the female reproductive system. Health history and certain medicines can affect the risk of developing endometrial cancer. Endometrial cancer is a disease in which malignant (cancer) cells form in the tissues of the endometrium. The endometrium is the innermost lining of the uterus. The uterus is a hollow, muscular organ in a woman's pelvis. The uterus is where a fetus grows. In most nonpregnant women, the uterus is about inches long. Cancer of the endometrium is different from cancer of the muscle of the uterus, which is called uterine sarcoma. See the PDQ summary on Uterine Sarcoma Treatment for more information. See the following PDQ summaries for more information about endometrial cancer: Endometrial Cancer Treatment Endometrial Cancer Prevention In the United States, endometrial cancer is the most common invasive cancer of the female reproductive system. Endometrial cancer is diagnosed most often in postmenopausal women at an average age of years. From to , the number of new cases of endometrial cancer increased slightly in white and black women. From to , the number of deaths from endometrial cancer increased slightly in white and black women. When endometrial cancer is diagnosed in black women, it is usually more advanced and less likely to be cured.\"}\n",
      "{'question': 'Are there any current clinical trials aimed at preventing endometrial cancer, and where can I learn more about them?', 'doc_id': '5571edf550'}\n"
     ]
    },
    {
     "name": "stderr",
     "output_type": "stream",
     "text": [
      "21it [09:50, 30.84s/it]"
     ]
    },
    {
     "name": "stdout",
     "output_type": "stream",
     "text": [
      "5571edf550\n",
      "{'doc_id': '5571edf550', 'topic': 'cancer', 'Question': 'what research (or clinical trials) is being done for Endometrial Cancer ?', 'Answer': \"Cancer prevention clinical trials are used to study ways to prevent cancer. Cancer prevention clinical trials are used to study ways to lower the risk of developing certain types of cancer. Some cancer prevention trials are conducted with healthy people who have not had cancer but who have an increased risk for cancer. Other prevention trials are conducted with people who have had cancer and are trying to prevent another cancer of the same type or to lower their chance of developing a new type of cancer. Other trials are done with healthy volunteers who are not known to have any risk factors for cancer. The purpose of some cancer prevention clinical trials is to find out whether actions people take can prevent cancer. These may include eating fruits and vegetables, exercising, quitting smoking, or taking certain medicines, vitamins, minerals, or food supplements. New ways to prevent endometrial cancer are being studied in clinical trials. Clinical trials are taking place in many parts of the country. Information about clinical trials can be found in the Clinical Trials section of the NCI website. Check NCI's list of cancer clinical trials for endometrial cancer prevention trials that are now accepting patients.\"}\n",
      "{'question': \"What health or lifestyle factors can raise a woman's chance of developing endometrial cancer?\", 'doc_id': '088527fd30'}\n"
     ]
    },
    {
     "name": "stderr",
     "output_type": "stream",
     "text": [
      "22it [10:09, 27.10s/it]"
     ]
    },
    {
     "name": "stdout",
     "output_type": "stream",
     "text": [
      "088527fd30\n",
      "{'doc_id': '088527fd30', 'topic': 'cancer', 'Question': 'Who is at risk for Endometrial Cancer? ?', 'Answer': \"Obesity and having metabolic syndrome may increase the risk of endometrial cancer. Anything that increases your risk of getting a disease is called a risk factor. Having a risk factor does not mean that you will get cancer; not having risk factors doesn't mean that you will not get cancer. Talk with your doctor if you think you may be at risk. Risk factors for endometrial cancer include the following: Having endometrial hyperplasia. Being obese. Having metabolic syndrome, a set of conditions that occur together, including extra fat around the abdomen, high blood sugar, high blood pressure, high levels of triglycerides and low levels of high-density lipoproteins in the blood. Never giving birth. Beginning menstruation at an early age. Reaching menopause at an older age. Having polycystic ovarian syndrome (PCOS). Having a mother, sister, or daughter with uterine cancer. Having a certain gene change that is linked to Lynch syndrome (hereditary non-polyposis colon cancer). Having hyperinsulinemia (high levels of insulin in the blood). Taking tamoxifen for breast cancer or taking estrogen alone (without progesterone) can increase the risk of endometrial cancer. Endometrial cancer may develop in breast cancer patients who have been treated with tamoxifen. A patient who takes this drug and has abnormal vaginal bleeding should have a follow-up exam and a biopsy of the endometrial lining if needed. Women taking estrogen (a hormone that can affect the growth of some cancers) alone also have an increased risk of endometrial cancer. Taking estrogen combined with progesterone (another hormone) does not increase a womans risk of endometrial cancer.\"}\n",
      "{'question': 'What warning signs should make me think I might have endometrial cancer?', 'doc_id': 'de8d113e10'}\n"
     ]
    },
    {
     "name": "stderr",
     "output_type": "stream",
     "text": [
      "23it [10:23, 23.21s/it]"
     ]
    },
    {
     "name": "stdout",
     "output_type": "stream",
     "text": [
      "de8d113e10\n",
      "{'doc_id': 'de8d113e10', 'topic': 'cancer', 'Question': 'What are the symptoms of Endometrial Cancer ?', 'Answer': 'Signs and symptoms of endometrial cancer include unusual vaginal bleeding or pain in the pelvis. These and other signs and symptoms may be caused by endometrial cancer or by other conditions. Check with your doctor if you have any of the following: Vaginal bleeding or discharge not related to menstruation (periods). Vaginal bleeding after menopause. Difficult or painful urination. Pain during sexual intercourse. Pain in the pelvic area.'}\n",
      "{'question': 'What tests will my doctor use to find out if I have endometrial cancer?', 'doc_id': '6382ed5025'}\n"
     ]
    },
    {
     "name": "stderr",
     "output_type": "stream",
     "text": [
      "24it [10:49, 24.01s/it]"
     ]
    },
    {
     "name": "stdout",
     "output_type": "stream",
     "text": [
      "6382ed5025\n",
      "{'doc_id': '6382ed5025', 'topic': 'cancer', 'Question': 'How to diagnose Endometrial Cancer ?', 'Answer': 'Tests that examine the endometrium are used to detect (find) and diagnose endometrial cancer. Because endometrial cancer begins inside the uterus, it does not usually show up in the results of a Pap test. For this reason, a sample of endometrial tissue must be removed and checked under a microscope to look for cancer cells. One of the following procedures may be used: Endometrial biopsy : The removal of tissue from the endometrium (inner lining of the uterus) by inserting a thin, flexible tube through the cervix and into the uterus. The tube is used to gently scrape a small amount of tissue from the endometrium and then remove the tissue samples. A pathologist views the tissue under a microscope to look for cancer cells. Dilatation and curettage : A procedure to remove samples of tissue from the inner lining of the uterus. The cervix is dilated and a curette (spoon-shaped instrument) is inserted into the uterus to remove tissue. The tissue samples are checked under a microscope for signs of disease. This procedure is also called a D&C. Hysteroscopy: A procedure to look inside the uterus for abnormal areas. A hysteroscope is inserted through the vagina and cervix into the uterus. A hysteroscope is a thin, tube-like instrument with a light and a lens for viewing. It may also have a tool to remove tissue samples, which are checked under a microscope for signs of cancer. Other tests and procedures used to diagnose endometrial cancer include the following: Physical exam and history : An exam of the body to check general signs of health, including checking for signs of disease, such as lumps or anything else that seems unusual. A history of the patients health habits and past illnesses and treatments will also be taken. Transvaginal ultrasound exam: A procedure used to examine the vagina, uterus, fallopian tubes, and bladder. An ultrasound transducer (probe) is inserted into the vagina and used to bounce high-energy sound waves (ultrasound) off internal tissues or organs and make echoes. The echoes form a picture of body tissues called a sonogram. The doctor can identify tumors by looking at the sonogram.'}\n",
      "{'question': 'How likely is recovery from endometrial cancer and which factors influence that likelihood?', 'doc_id': '58a1402850'}\n"
     ]
    },
    {
     "name": "stderr",
     "output_type": "stream",
     "text": [
      "25it [11:01, 20.50s/it]"
     ]
    },
    {
     "name": "stdout",
     "output_type": "stream",
     "text": [
      "58a1402850\n",
      "{'doc_id': '58a1402850', 'topic': 'cancer', 'Question': 'What is the outlook for Endometrial Cancer ?', 'Answer': 'Certain factors affect prognosis (chance of recovery) and treatment options.The prognosis (chance of recovery) and treatment options depend on the following: The stage of the cancer (whether it is in the endometrium only, involves the uterus wall, or has spread to other places in the body). How the cancer cells look under a microscope. Whether the cancer cells are affected by progesterone. Endometrial cancer can usually be cured because it is usually diagnosed early.'}\n",
      "{'question': 'Are there any ongoing clinical trials that I could enroll in for my endometrial cancer?', 'doc_id': '621ffb7c2b'}\n"
     ]
    },
    {
     "name": "stderr",
     "output_type": "stream",
     "text": [
      "26it [11:37, 25.29s/it]"
     ]
    },
    {
     "name": "stdout",
     "output_type": "stream",
     "text": [
      "621ffb7c2b\n",
      "{'doc_id': '621ffb7c2b', 'topic': 'cancer', 'Question': 'what research (or clinical trials) is being done for Endometrial Cancer ?', 'Answer': \"New types of treatment are being tested in clinical trials. Information about clinical trials is available from the NCI website. Patients may want to think about taking part in a clinical trial. For some patients, taking part in a clinical trial may be the best treatment choice. Clinical trials are part of the cancer research process. Clinical trials are done to find out if new cancer treatments are safe and effective or better than the standard treatment. Many of today's standard treatments for cancer are based on earlier clinical trials. Patients who take part in a clinical trial may receive the standard treatment or be among the first to receive a new treatment. Patients who take part in clinical trials also help improve the way cancer will be treated in the future. Even when clinical trials do not lead to effective new treatments, they often answer important questions and help move research forward. Patients can enter clinical trials before, during, or after starting their cancer treatment. Some clinical trials only include patients who have not yet received treatment. Other trials test treatments for patients whose cancer has not gotten better. There are also clinical trials that test new ways to stop cancer from recurring (coming back) or reduce the side effects of cancer treatment. Clinical trials are taking place in many parts of the country. See the Treatment Options section that follows for links to current treatment clinical trials. These have been retrieved from NCI's listing of clinical trials.\"}\n",
      "{'question': 'What is small cell lung cancer and how does it differ from non‑small cell lung cancer?', 'doc_id': '8f023665d0'}\n"
     ]
    },
    {
     "name": "stderr",
     "output_type": "stream",
     "text": [
      "27it [11:48, 20.86s/it]"
     ]
    },
    {
     "name": "stdout",
     "output_type": "stream",
     "text": [
      "8f023665d0\n",
      "{'doc_id': '8f023665d0', 'topic': 'cancer', 'Question': 'What is (are) Small Cell Lung Cancer ?', 'Answer': 'Key Points Small cell lung cancer is a disease in which malignant (cancer) cells form in the tissues of the lung. There are two main types of small cell lung cancer. Smoking is the major risk factor for small cell lung cancer. Signs and symptoms of small cell lung cancer include coughing, shortness of breath, and chest pain. Tests and procedures that examine the lungs are used to detect (find), diagnose, and stage small cell lung cancer. Certain factors affect prognosis (chance of recovery) and treatment options. For most patients with small cell lung cancer, current treatments do not cure the cancer. Small cell lung cancer is a disease in which malignant (cancer) cells form in the tissues of the lung. The lungs are a pair of cone-shaped breathing organs that are found in the chest. The lungs bring oxygen into the body when you breathe in and take out carbon dioxide when you breathe out. Each lung has sections called lobes. The left lung has two lobes. The right lung, which is slightly larger, has three. A thin membrane called the pleura surrounds the lungs. Two tubes called bronchi lead from the trachea (windpipe) to the right and left lungs. The bronchi are sometimes also affected by lung cancer. Small tubes called bronchioles and tiny air sacs called alveoli make up the inside of the lungs. There are two types of lung cancer: small cell lung cancer and non-small cell lung cancer. This summary is about small cell lung cancer and its treatment. See the following PDQ summaries for more information about lung cancer: Non-Small Cell Lung Cancer Treatment Unusual Cancers of Childhood Treatment Lung Cancer Prevention Lung Cancer Screening There are two main types of small cell lung cancer. These two types include many different types of cells. The cancer cells of each type grow and spread in different ways. The types of small cell lung cancer are named for the kinds of cells found in the cancer and how the cells look when viewed under a microscope: Small cell carcinoma (oat cell cancer). Combined small cell carcinoma. For most patients with small cell lung cancer, current treatments do not cure the cancer. If lung cancer is found, patients should think about taking part in one of the many clinical trials being done to improve treatment. Clinical trials are taking place in most parts of the country for patients with all stages of small cell lung cancer. Information about ongoing clinical trials is available from the NCI website.'}\n",
      "{'question': \"If I've been smoking for many years, how likely am I to develop small cell lung cancer?\", 'doc_id': '9cdbb2c4d0'}\n"
     ]
    },
    {
     "name": "stderr",
     "output_type": "stream",
     "text": [
      "28it [11:57, 17.40s/it]"
     ]
    },
    {
     "name": "stdout",
     "output_type": "stream",
     "text": [
      "9cdbb2c4d0\n",
      "{'doc_id': '9cdbb2c4d0', 'topic': 'cancer', 'Question': 'Who is at risk for Small Cell Lung Cancer? ?', 'Answer': \"Smoking is the major risk factor for small cell lung cancer. Anything that increases your chance of getting a disease is called a risk factor. Having a risk factor does not mean that you will get cancer; not having risk factors doesn't mean that you will not get cancer. Talk to your doctor if you think you may be at risk for lung cancer. Risk factors for lung cancer include the following: Smoking cigarettes, pipes, or cigars, now or in the past. This is the most important risk factor for lung cancer. The earlier in life a person starts smoking, the more often a person smokes, and the more years a person smokes, the greater the risk of lung cancer. Being exposed to secondhand smoke. Being exposed to radiation from any of the following: Radiation therapy to the breast or chest. Radon in the home or workplace. Imaging tests such as CT scans. Atomic bomb radiation. Being exposed to asbestos, chromium, nickel, beryllium, arsenic, soot, or tar in the workplace. Living where there is air pollution. Having a family history of lung cancer. Being infected with the human immunodeficiency virus (HIV). Taking beta carotene supplements and being a heavy smoker. Older age is the main risk factor for most cancers. The chance of getting cancer increases as you get older. When smoking is combined with other risk factors, the risk of lung cancer is increased.\"}\n",
      "{'question': \"I've been having a persistent cough and shortness of breath—could these be signs of small cell lung cancer?\", 'doc_id': 'a1202c549f'}\n"
     ]
    },
    {
     "name": "stderr",
     "output_type": "stream",
     "text": [
      "29it [12:12, 16.60s/it]"
     ]
    },
    {
     "name": "stdout",
     "output_type": "stream",
     "text": [
      "a1202c549f\n",
      "{'doc_id': 'a1202c549f', 'topic': 'cancer', 'Question': 'What are the symptoms of Small Cell Lung Cancer ?', 'Answer': 'Signs and symptoms of small cell lung cancer include coughing, shortness of breath, and chest pain. These and other signs and symptoms may be caused by small cell lung cancer or by other conditions. Check with your doctor if you have any of the following: Chest discomfort or pain. A cough that doesnt go away or gets worse over time. Trouble breathing. Wheezing. Blood in sputum (mucus coughed up from the lungs). Hoarseness. Trouble swallowing. Loss of appetite. Weight loss for no known reason. Feeling very tired. Swelling in the face and/or veins in the neck.'}\n",
      "{'question': 'What tests will my doctor use to determine if I have small cell lung cancer?', 'doc_id': '848ba6d56e'}\n"
     ]
    },
    {
     "name": "stderr",
     "output_type": "stream",
     "text": [
      "30it [12:46, 21.82s/it]"
     ]
    },
    {
     "name": "stdout",
     "output_type": "stream",
     "text": [
      "848ba6d56e\n",
      "{'doc_id': '848ba6d56e', 'topic': 'cancer', 'Question': 'How to diagnose Small Cell Lung Cancer ?', 'Answer': 'Tests and procedures that examine the lungs are used to detect (find), diagnose, and stage small cell lung cancer. The following tests and procedures may be used: Physical exam and history : An exam of the body to check general signs of health, including checking for signs of disease, such as lumps or anything else that seems unusual. A history of the patients health habits, including smoking, and past jobs, illnesses, and treatments will also be taken. Laboratory tests : Medical procedures that test samples of tissue, blood, urine, or other substances in the body. These tests help to diagnose disease, plan and check treatment, or monitor the disease over time. Chest x-ray : An x-ray of the organs and bones inside the chest. An x-ray is a type of energy beam that can go through the body and onto film, making a picture of areas inside the body. CT scan (CAT scan) of the brain, chest, and abdomen : A procedure that makes a series of detailed pictures of areas inside the body, taken from different angles. The pictures are made by a computer linked to an x-ray machine. A dye may be injected into a vein or swallowed to help the organs or tissues show up more clearly. This procedure is also called computed tomography, computerized tomography, or computerized axial tomography. Sputum cytology : A microscope is used to check for cancer cells in the sputum (mucus coughed up from the lungs). Biopsy : The removal of cells or tissues so they can be viewed under a microscope by a pathologist to check for signs of cancer. The different ways a biopsy can be done include the following: Fine-needle aspiration (FNA) biopsy of the lung: The removal of tissue or fluid from the lung, using a thin needle. A CT scan, ultrasound, or other imaging procedure is used to find the abnormal tissue or fluid in the lung. A small incision may be made in the skin where the biopsy needle is inserted into the abnormal tissue or fluid. A sample is removed with the needle and sent to the laboratory. A pathologist then views the sample under a microscope to look for cancer cells. A chest x-ray is done after the procedure to make sure no air is leaking from the lung into the chest. Bronchoscopy : A procedure to look inside the trachea and large airways in the lung for abnormal areas. A bronchoscope is inserted through the nose or mouth into the trachea and lungs. A bronchoscope is a thin, tube-like instrument with a light and a lens for viewing. It may also have a tool to remove tissue samples, which are checked under a microscope for signs of cancer. Thoracoscopy : A surgical procedure to look at the organs inside the chest to check for abnormal areas. An incision (cut) is made between two ribs, and a thoracoscope is inserted into the chest. A thoracoscope is a thin, tube-like instrument with a light and a lens for viewing. It may also have a tool to remove tissue or lymph node samples, which are checked under a microscope for signs of cancer. In some cases, this procedure is used to remove part of the esophagus or lung. If certain tissues, organs, or lymph nodes cant be reached, a thoracotomy may be done. In this procedure, a larger incision is made between the ribs and the chest is opened. Thoracentesis : The removal of fluid from the space between the lining of the chest and the lung, using a needle. A pathologist views the fluid under a microscope to look for cancer cells. Mediastinoscopy : A surgical procedure to look at the organs, tissues, and lymph nodes between the lungs for abnormal areas. An incision (cut) is made at the top of the breastbone and a mediastinoscope is inserted into the chest. A mediastinoscope is a thin, tube-like instrument with a light and a lens for viewing. It may also have a tool to remove tissue or lymph node samples, which are checked under a microscope for signs of cancer. Light and electron microscopy : A laboratory test in which cells in a sample of tissue are viewed under regular and high-powered microscopes to look for certain changes in the cells. Immunohistochemistry : A test that uses antibodies to check for certain antigens in a sample of tissue. The antibody is usually linked to a radioactive substance or a dye that causes the tissue to light up under a microscope. This type of test may be used to tell the difference between different types of cancer.'}\n",
      "{'question': 'What are the different stages used to classify small‑cell lung cancer?', 'doc_id': '679cfc087d'}\n"
     ]
    },
    {
     "name": "stderr",
     "output_type": "stream",
     "text": [
      "31it [12:59, 19.21s/it]"
     ]
    },
    {
     "name": "stdout",
     "output_type": "stream",
     "text": [
      "679cfc087d\n",
      "{'doc_id': '679cfc087d', 'topic': 'cancer', 'Question': 'What are the stages of Small Cell Lung Cancer ?', 'Answer': 'Key Points After small cell lung cancer has been diagnosed, tests are done to find out if cancer cells have spread within the chest or to other parts of the body. There are three ways that cancer spreads in the body. Cancer may spread from where it began to other parts of the body. The following stages are used for small cell lung cancer: Limited-Stage Small Cell Lung Cancer Extensive-Stage Small Cell Lung Cancer After small cell lung cancer has been diagnosed, tests are done to find out if cancer cells have spread within the chest or to other parts of the body. The process used to find out if cancer has spread within the chest or to other parts of the body is called staging. The information gathered from the staging process determines the stage of the disease. It is important to know the stage in order to plan treatment. Some of the tests used to diagnose small cell lung cancer are also used to stage the disease. (See the General Information section.) Other tests and procedures that may be used in the staging process include the following: MRI (magnetic resonance imaging) of the brain: A procedure that uses a magnet, radio waves, and a computer to make a series of detailed pictures of areas inside the body. This procedure is also called nuclear magnetic resonance imaging (NMRI). CT scan (CAT scan): A procedure that makes a series of detailed pictures of areas inside the body, such as the brain, chest or upper abdomen, taken from different angles. The pictures are made by a computer linked to an x-ray machine. A dye may be injected into a vein or swallowed to help the organs or tissues show up more clearly. This procedure is also called computed tomography, computerized tomography, or computerized axial tomography. PET scan (positron emission tomography scan): A procedure to find malignant tumor cells in the body. A small amount of radioactive glucose (sugar) is injected into a vein. The PET scanner rotates around the body and makes a picture of where glucose is being used in the body. Malignant tumor cells show up brighter in the picture because they are more active and take up more glucose than normal cells do. A PET scan and CT scan may be done at the same time. This is called a PET-CT. Bone scan : A procedure to check if there are rapidly dividing cells, such as cancer cells, in the bone. A very small amount of radioactive material is injected into a vein and travels through the bloodstream. The radioactive material collects in the bones and is detected by a scanner. There are three ways that cancer spreads in the body. Cancer can spread through tissue, the lymph system, and the blood: Tissue. The cancer spreads from where it began by growing into nearby areas. Lymph system. The cancer spreads from where it began by getting into the lymph system. The cancer travels through the lymph vessels to other parts of the body. Blood. The cancer spreads from where it began by getting into the blood. The cancer travels through the blood vessels to other parts of the body. Cancer may spread from where it began to other parts of the body. When cancer spreads to another part of the body, it is called metastasis. Cancer cells break away from where they began (the primary tumor) and travel through the lymph system or blood. Lymph system. The cancer gets into the lymph system, travels through the lymph vessels, and forms a tumor (metastatic tumor) in another part of the body. Blood. The cancer gets into the blood, travels through the blood vessels, and forms a tumor (metastatic tumor) in another part of the body. The metastatic tumor is the same type of cancer as the primary tumor. For example, if small cell lung cancer spreads to the brain, the cancer cells in the brain are actually lung cancer cells. The disease is metastatic small cell lung cancer, not brain cancer. The following stages are used for small cell lung cancer: Limited-Stage Small Cell Lung Cancer In limited-stage, cancer is in the lung where it started and may have spread to the area between the lungs or to the lymph nodes above the collarbone. Extensive-Stage Small Cell Lung Cancer In extensive-stage, cancer has spread beyond the lung or the area between the lungs or the lymph nodes above the collarbone to other places in the body.'}\n",
      "{'question': 'Are there any current clinical studies that I could enroll in for my small‑cell lung cancer?', 'doc_id': 'ef336b61e4'}\n"
     ]
    },
    {
     "name": "stderr",
     "output_type": "stream",
     "text": [
      "32it [13:03, 14.67s/it]"
     ]
    },
    {
     "name": "stdout",
     "output_type": "stream",
     "text": [
      "ef336b61e4\n",
      "{'doc_id': 'ef336b61e4', 'topic': 'cancer', 'Question': 'what research (or clinical trials) is being done for Small Cell Lung Cancer ?', 'Answer': \"New types of treatment are being tested in clinical trials. Information about clinical trials is available from the NCI website. Patients may want to think about taking part in a clinical trial. For some patients, taking part in a clinical trial may be the best treatment choice. Clinical trials are part of the cancer research process. Clinical trials are done to find out if new cancer treatments are safe and effective or better than the standard treatment. Many of today's standard treatments for cancer are based on earlier clinical trials. Patients who take part in a clinical trial may receive the standard treatment or be among the first to receive a new treatment. Patients who take part in clinical trials also help improve the way cancer will be treated in the future. Even when clinical trials do not lead to effective new treatments, they often answer important questions and help move research forward. Patients can enter clinical trials before, during, or after starting their cancer treatment. Some clinical trials only include patients who have not yet received treatment. Other trials test treatments for patients whose cancer has not gotten better. There are also clinical trials that test new ways to stop cancer from recurring (coming back) or reduce the side effects of cancer treatment. Clinical trials are taking place in many parts of the country. See the Treatment Options section that follows for links to current treatment clinical trials. These have been retrieved from NCI's listing of clinical trials.\"}\n",
      "{'question': 'What age group is most commonly affected by plasma cell cancers like multiple myeloma?', 'doc_id': '101bdffe00'}\n"
     ]
    },
    {
     "name": "stderr",
     "output_type": "stream",
     "text": [
      "33it [13:36, 20.17s/it]"
     ]
    },
    {
     "name": "stdout",
     "output_type": "stream",
     "text": [
      "101bdffe00\n",
      "{'doc_id': '101bdffe00', 'topic': 'cancer', 'Question': 'Who is at risk for Plasma Cell Neoplasms (Including Multiple Myeloma)? ?', 'Answer': \"Age can affect the risk of plasma cell neoplasms. Anything that increases your risk of getting a disease is called a risk factor. Having a risk factor does not mean that you will get cancer; not having risk factors doesn't mean that you will not get cancer. Talk with your doctor if you think you may be at risk. Plasma cell neoplasms are most common in people who are middle aged or older. For multiple myeloma and plasmacytoma, other risk factors include the following: Being black. Being male. Having a personal history of MGUS or plasmacytoma. Being exposed to radiation or certain chemicals.\"}\n",
      "{'question': 'What laboratory tests are typically ordered to detect multiple myeloma or other plasma‑cell cancers?', 'doc_id': '351788cb7a'}\n"
     ]
    },
    {
     "name": "stderr",
     "output_type": "stream",
     "text": [
      "34it [13:53, 19.24s/it]"
     ]
    },
    {
     "name": "stdout",
     "output_type": "stream",
     "text": [
      "351788cb7a\n",
      "{'doc_id': '351788cb7a', 'topic': 'cancer', 'Question': 'How to diagnose Plasma Cell Neoplasms (Including Multiple Myeloma) ?', 'Answer': 'Tests that examine the blood, bone marrow, and urine are used to detect (find) and diagnose multiple myeloma and other plasma cell neoplasms. The following tests and procedures may be used: Physical exam and history : An exam of the body to check general signs of health, including checking for signs of disease, such as lumps or anything else that seems unusual. A history of the patients health habits and past illnesses and treatments will also be taken. Blood and urine immunoglobulin studies: A procedure in which a blood or urine sample is checked to measure the amounts of certain antibodies (immunoglobulins). For multiple myeloma, beta-2-microglobulin, M protein, free light chains, and other proteins made by the myeloma cells are measured. A higher-than-normal amount of these substances can be a sign of disease. Bone marrow aspiration and biopsy : The removal of bone marrow, blood, and a small piece of bone by inserting a hollow needle into the hipbone or breastbone. A pathologist views the bone marrow, blood, and bone under a microscope to look for abnormal cells. The following test may be done on the sample of tissue removed during the bone marrow aspiration and biopsy: Cytogenetic analysis : A test in which cells in a sample of bone marrow are viewed under a microscope to look for certain changes in the chromosomes. Other tests, such as fluorescence in situ hybridization (FISH) and flow cytometry, may also be done to look for certain changes in the chromosomes. Skeletal bone survey: In a skeletal bone survey, x-rays of all the bones in the body are taken. The x-rays are used to find areas where the bone is damaged. An x-ray is a type of energy beam that can go through the body and onto film, making a picture of areas inside the body. Complete blood count (CBC) with differential : A procedure in which a sample of blood is drawn and checked for the following: The number of red blood cells and platelets. The number and type of white blood cells. The amount of hemoglobin (the protein that carries oxygen) in the red blood cells. The portion of the blood sample made up of red blood cells. Blood chemistry studies : A procedure in which a blood sample is checked to measure the amounts of certain substances, such as calcium or albumin, released into the blood by organs and tissues in the body. An unusual (higher or lower than normal) amount of a substance can be a sign of disease. Twenty-four-hour urine test: A test in which urine is collected for hours to measure the amounts of certain substances. An unusual (higher or lower than normal) amount of a substance can be a sign of disease in the organ or tissue that makes it. A higher than normal amount of protein may be a sign of multiple myeloma. MRI (magnetic resonance imaging): A procedure that uses a magnet, radio waves, and a computer to make a series of detailed pictures of areas inside the body. This procedure is also called nuclear magnetic resonance imaging (NMRI). An MRI of the spine and pelvis may be used to find areas where the bone is damaged. CT scan (CAT scan): A procedure that makes a series of detailed pictures of areas inside the body, such as the spine, taken from different angles. The pictures are made by a computer linked to an x-ray machine. A dye may be injected into a vein or swallowed to help the organs or tissues show up more clearly. This procedure is also called computed tomography, computerized tomography, or computerized axial tomography. PET-CT scan : A procedure that combines the pictures from a positron emission tomography (PET) scan and a computed tomography (CT) scan. The PET and CT scans are done at the same time with the same machine. The combined scans give more detailed pictures of areas inside the body, such as the spine, than either scan gives by itself.'}\n",
      "{'question': 'What elements are considered when estimating the chance of recovery for someone diagnosed with a plasma cell cancer like multiple myeloma?', 'doc_id': '517275c519'}\n"
     ]
    },
    {
     "name": "stderr",
     "output_type": "stream",
     "text": [
      "35it [14:36, 26.19s/it]"
     ]
    },
    {
     "name": "stdout",
     "output_type": "stream",
     "text": [
      "517275c519\n",
      "{'doc_id': '517275c519', 'topic': 'cancer', 'Question': 'What is the outlook for Plasma Cell Neoplasms (Including Multiple Myeloma) ?', 'Answer': 'Certain factors affect prognosis (chance of recovery) and treatment options. The prognosis (chance of recovery) depends on the following: The type of plasma cell neoplasm. The stage of the disease. Whether a certain immunoglobulin (antibody) is present. Whether there are certain genetic changes. Whether the kidney is damaged. Whether the cancer responds to initial treatment or recurs (comes back). Treatment options depend on the following: The type of plasma cell neoplasm. The age and general health of the patient. Whether there are signs, symptoms, or health problems, such as kidney failure or infection, related to the disease. Whether the cancer responds to initial treatment or recurs (comes back).'}\n",
      "{'question': 'How is multiple myeloma staged and which blood markers define each stage?', 'doc_id': '021ee8a0ee'}\n"
     ]
    },
    {
     "name": "stderr",
     "output_type": "stream",
     "text": [
      "36it [14:44, 20.80s/it]"
     ]
    },
    {
     "name": "stdout",
     "output_type": "stream",
     "text": [
      "021ee8a0ee\n",
      "{'doc_id': '021ee8a0ee', 'topic': 'cancer', 'Question': 'What are the stages of Plasma Cell Neoplasms (Including Multiple Myeloma) ?', 'Answer': 'Key Points There are no standard staging systems for monoclonal gammopathy of undetermined significance (MGUS), macroglobulinemia, and plasmacytoma. After multiple myeloma has been diagnosed, tests are done to find out the amount of cancer in the body. The stage of multiple myeloma is based on the levels of beta-2-microglobulin and albumin in the blood. The following stages are used for multiple myeloma: Stage I multiple myeloma Stage II multiple myeloma Stage III multiple myeloma There are no standard staging systems for monoclonal gammopathy of undetermined significance (MGUS), macroglobulinemia, and plasmacytoma. After multiple myeloma has been diagnosed, tests are done to find out the amount of cancer in the body. The process used to find out the amount of cancer in the body is called staging. It is important to know the stage in order to plan treatment. The following tests and procedures may be used in the staging process: Skeletal bone survey: In a skeletal bone survey, x-rays of all the bones in the body are taken. The x-rays are used to find areas where the bone is damaged. An x-ray is a type of energy beam that can go through the body and onto film, making a picture of areas inside the body. MRI (magnetic resonance imaging): A procedure that uses a magnet, radio waves, and a computer to make a series of detailed pictures of areas inside the body, such as the bone marrow. This procedure is also called nuclear magnetic resonance imaging (NMRI). Bone densitometry: A procedure that uses a special type of x-ray to measure bone density. The stage of multiple myeloma is based on the levels of beta-2-microglobulin and albumin in the blood. Beta-2-microglobulin and albumin are found in the blood. Beta-2-microglobulin is a protein found on plasma cells. Albumin makes up the biggest part of the blood plasma. It keeps fluid from leaking out of blood vessels. It also brings nutrients to tissues, and carries hormones, vitamins, drugs, and other substances, such as calcium, all through the body. In the blood of patients with multiple myeloma, the amount of beta-2-microglobulin is increased and the amount of albumin is decreased. The following stages are used for multiple myeloma: Stage I multiple myeloma In stage I multiple myeloma, the blood levels are as follows: beta-2-microglobulin level is lower than . mg/L; and albumin level is . g/dL or higher. Stage II multiple myeloma In stage II multiple myeloma, the blood levels are in between the levels for stage I and stage III. Stage III multiple myeloma In stage III multiple myeloma, the blood level of beta-2-microglobulin is . mg/L or higher and the patient also has one of the following: high levels of lactate dehydrogenase (LDH); or certain changes in the chromosomes.'}\n",
      "{'question': 'What kinds of clinical studies are currently exploring new treatments for multiple myeloma and other plasma cell cancers?', 'doc_id': '7d750489ed'}\n"
     ]
    },
    {
     "name": "stderr",
     "output_type": "stream",
     "text": [
      "37it [15:12, 23.09s/it]"
     ]
    },
    {
     "name": "stdout",
     "output_type": "stream",
     "text": [
      "7d750489ed\n",
      "{'doc_id': '7d750489ed', 'topic': 'cancer', 'Question': 'what research (or clinical trials) is being done for Plasma Cell Neoplasms (Including Multiple Myeloma) ?', 'Answer': \"New types of treatment are being tested in clinical trials. This summary section describes treatments that are being studied in clinical trials. It may not mention every new treatment being studied. Information about clinical trials is available from the NCI website. New combinations of therapies Clinical trials are studying different combinations of biologic therapy, chemotherapy, steroid therapy, and drugs. New treatment regimens using thalidomide or lenalidomide are also being studied. Supportive care is given to lessen the problems caused by the disease or its treatment. This therapy controls problems or side effects caused by the disease or its treatment, and improves quality of life. Supportive care is given to treat problems caused by multiple myeloma and other plasma cell neoplasms. Supportive care may include the following: Plasmapheresis: If the blood becomes thick with extra antibody proteins and interferes with circulation, plasmapheresis is done to remove extra plasma and antibody proteins from the blood. In this procedure blood is removed from the patient and sent through a machine that separates the plasma (the liquid part of the blood) from the blood cells. The patient's plasma contains the unneeded antibodies and is not returned to the patient. The normal blood cells are returned to the bloodstream along with donated plasma or a plasma replacement. Plasmapheresis does not keep new antibodies from forming. High-dose chemotherapy with stem cell transplant: If amyloidosis occurs, treatment may include high-dose chemotherapy followed by stem cell transplant using the patient's own stem cells. Biologic therapy: Biologic therapy with thalidomide, lenalidomide, or pomalidomide is given to treat amyloidosis. Targeted therapy: Targeted therapy with proteasome inhibitors is given to treat amyloidosis. Radiation therapy: Radiation therapy is given for bone lesions of the spine. Chemotherapy: Chemotherapy is given to reduce back pain from osteoporosis or compression fractures of the spine. Bisphosphonate therapy: Bisphosphonate therapy is given to slow bone loss and reduce bone pain. See the following PDQ summaries for more information on bisphosphonates and problems related to their use: Cancer Pain Oral Complications of Chemotherapy and Head/Neck Radiation Patients may want to think about taking part in a clinical trial. For some patients, taking part in a clinical trial may be the best treatment choice. Clinical trials are part of the cancer research process. Clinical trials are done to find out if new cancer treatments are safe and effective or better than the standard treatment. Many of today's standard treatments for cancer are based on earlier clinical trials. Patients who take part in a clinical trial may receive the standard treatment or be among the first to receive a new treatment. Patients who take part in clinical trials also help improve the way cancer will be treated in the future. Even when clinical trials do not lead to effective new treatments, they often answer important questions and help move research forward. Patients can enter clinical trials before, during, or after starting their cancer treatment. Some clinical trials only include patients who have not yet received treatment. Other trials test treatments for patients whose cancer has not gotten better. There are also clinical trials that test new ways to stop cancer from recurring (coming back) or reduce the side effects of cancer treatment. Clinical trials are taking place in many parts of the country. See the Treatment Options section that follows for links to current treatment clinical trials. These have been retrieved from NCI's listing of clinical trials.\"}\n",
      "{'question': 'What exactly is lung cancer and how does it affect the lungs?', 'doc_id': '78cb73d0e8'}\n"
     ]
    },
    {
     "name": "stderr",
     "output_type": "stream",
     "text": [
      "38it [15:34, 22.62s/it]"
     ]
    },
    {
     "name": "stdout",
     "output_type": "stream",
     "text": [
      "78cb73d0e8\n",
      "{'doc_id': '78cb73d0e8', 'topic': 'cancer', 'Question': 'What is (are) Lung Cancer ?', 'Answer': 'Key Points Lung cancer is a disease in which malignant (cancer) cells form in the tissues of the lung. Lung cancer is the leading cause of cancer death in the United States. Different factors increase or decrease the risk of lung cancer. Lung cancer is a disease in which malignant (cancer) cells form in the tissues of the lung. The lungs are a pair of cone-shaped breathing organs inside the chest. The lungs bring oxygen into the body when breathing in and send carbon dioxide out of the body when breathing out. Each lung has sections called lobes. The left lung has two lobes. The right lung, which is slightly larger, has three. A thin membrane called the pleura surrounds the lungs. Two tubes called bronchi lead from the trachea (windpipe) to the right and left lungs. The bronchi are sometimes involved in lung cancer. Small tubes called bronchioles and tiny air sacs called alveoli make up the inside of the lungs. There are two types of lung cancer: small cell lung cancer and non-small cell lung cancer. See the following PDQ summaries for more information about lung cancer: Lung Cancer Prevention Non-Small Cell Lung Cancer Treatment Small Cell Lung Cancer Treatment Lung cancer is the leading cause of cancer death in the United States. Lung cancer is the third most common type of non-skin cancer in the United States. Lung cancer is the leading cause of cancer death in men and in women.'}\n",
      "{'question': 'Can you explain what prostate cancer actually is?', 'doc_id': 'bac6b4c5cc'}\n"
     ]
    },
    {
     "name": "stderr",
     "output_type": "stream",
     "text": [
      "39it [15:43, 18.47s/it]"
     ]
    },
    {
     "name": "stdout",
     "output_type": "stream",
     "text": [
      "bac6b4c5cc\n",
      "{'doc_id': 'bac6b4c5cc', 'topic': 'cancer', 'Question': 'What is (are) Prostate Cancer ?', 'Answer': 'Key Points Prostate cancer is a disease in which malignant (cancer) cells form in the tissues of the prostate. Signs of prostate cancer include a weak flow of urine or frequent urination. Tests that examine the prostate and blood are used to detect (find) and diagnose prostate cancer. Certain factors affect prognosis (chance of recovery) and treatment options. Prostate cancer is a disease in which malignant (cancer) cells form in the tissues of the prostate. The prostate is a gland in the male reproductive system. It lies just below the bladder (the organ that collects and empties urine) and in front of the rectum (the lower part of the intestine). It is about the size of a walnut and surrounds part of the urethra (the tube that empties urine from the bladder). The prostate gland makes fluid that is part of the semen. Prostate cancer is most common in older men. In the U.S., about out of men will be diagnosed with prostate cancer.'}\n",
      "{'question': \"Am I more likely to develop prostate cancer because I'm over 60?\", 'doc_id': '402da42b54'}\n"
     ]
    },
    {
     "name": "stderr",
     "output_type": "stream",
     "text": [
      "40it [18:02, 54.68s/it]"
     ]
    },
    {
     "name": "stdout",
     "output_type": "stream",
     "text": [
      "402da42b54\n",
      "{'doc_id': '402da42b54', 'topic': 'cancer', 'Question': 'Who is at risk for Prostate Cancer? ?', 'Answer': 'Prostate cancer is most common in older men. In the U.S., about one out of five men will be diagnosed with prostate cancer. Most men diagnosed with prostate cancer do not die of it. See the following PDQ summaries for more information about prostate cancer: Prostate Cancer Screening Prostate Cancer Treatment'}\n",
      "{'question': 'What lifestyle or health factors might make me more likely to develop prostate cancer?', 'doc_id': '68984b7525'}\n"
     ]
    },
    {
     "name": "stderr",
     "output_type": "stream",
     "text": [
      "41it [18:14, 42.08s/it]"
     ]
    },
    {
     "name": "stdout",
     "output_type": "stream",
     "text": [
      "68984b7525\n",
      "{'doc_id': '68984b7525', 'topic': 'cancer', 'Question': 'Who is at risk for Prostate Cancer? ?', 'Answer': \"Different factors increase or decrease the risk of developing prostate cancer. Anything that increases a person's chance of developing a disease is called a risk factor. Anything that decreases your chance of getting a disease is called a protective factor. For information about risk factors and protective factors for prostate cancer, see the PDQ summary on Prostate Cancer Prevention.\"}\n",
      "{'question': \"How would you define penile cancer in layman's terms?\", 'doc_id': 'ba64453a09'}\n"
     ]
    },
    {
     "name": "stderr",
     "output_type": "stream",
     "text": [
      "42it [18:24, 32.21s/it]"
     ]
    },
    {
     "name": "stdout",
     "output_type": "stream",
     "text": [
      "ba64453a09\n",
      "{'doc_id': 'ba64453a09', 'topic': 'cancer', 'Question': 'What is (are) Penile Cancer ?', 'Answer': 'Key Points Penile cancer is a disease in which malignant (cancer) cells form in the tissues of the penis. Human papillomavirus infection may increase the risk of developing penile cancer. Signs of penile cancer include sores, discharge, and bleeding. Tests that examine the penis are used to detect (find) and diagnose penile cancer. Certain factors affect prognosis (chance of recovery) and treatment options. Penile cancer is a disease in which malignant (cancer) cells form in the tissues of the penis. The penis is a rod-shaped male reproductive organ that passes sperm and urine from the body. It contains two types of erectile tissue (spongy tissue with blood vessels that fill with blood to make an erection): Corpora cavernosa: The two columns of erectile tissue that form most of the penis. Corpus spongiosum: The single column of erectile tissue that forms a small portion of the penis. The corpus spongiosum surrounds the urethra (the tube through which urine and sperm pass from the body). The erectile tissue is wrapped in connective tissue and covered with skin. The glans (head of the penis) is covered with loose skin called the foreskin.'}\n",
      "{'question': 'Could my history of multiple sexual partners increase my risk of developing penile cancer?', 'doc_id': '06e098f459'}\n"
     ]
    },
    {
     "name": "stderr",
     "output_type": "stream",
     "text": [
      "43it [18:45, 29.02s/it]"
     ]
    },
    {
     "name": "stdout",
     "output_type": "stream",
     "text": [
      "06e098f459\n",
      "{'doc_id': '06e098f459', 'topic': 'cancer', 'Question': 'Who is at risk for Penile Cancer? ?', 'Answer': \"Human papillomavirus infection may increase the risk of developing penile cancer. Anything that increases your chance of getting a disease is called a risk factor. Having a risk factor does not mean that you will get cancer; not having risk factors doesn't mean that you will not get cancer. Talk with your doctor if you think you may be at risk. Risk factors for penile cancer include the following: Circumcision may help prevent infection with the human papillomavirus (HPV). A circumcision is an operation in which the doctor removes part or all of the foreskin from the penis. Many boys are circumcised shortly after birth. Men who were not circumcised at birth may have a higher risk of developing penile cancer. Other risk factors for penile cancer include the following: Being age or older. Having phimosis (a condition in which the foreskin of the penis cannot be pulled back over the glans). Having poor personal hygiene. Having many sexual partners. Using tobacco products.\"}\n",
      "{'question': 'What warning signs should make me think I might have penile cancer?', 'doc_id': 'de1d276609'}\n"
     ]
    },
    {
     "name": "stderr",
     "output_type": "stream",
     "text": [
      "44it [19:10, 27.62s/it]"
     ]
    },
    {
     "name": "stdout",
     "output_type": "stream",
     "text": [
      "de1d276609\n",
      "{'doc_id': 'de1d276609', 'topic': 'cancer', 'Question': 'What are the symptoms of Penile Cancer ?', 'Answer': 'Signs of penile cancer include sores, discharge, and bleeding. These and other signs may be caused by penile cancer or by other conditions. Check with your doctor if you have any of the following: Redness, irritation, or a sore on the penis. A lump on the penis.'}\n",
      "{'question': 'What examinations and tests are performed to confirm a diagnosis of penile cancer?', 'doc_id': '792a2e7a73'}\n"
     ]
    },
    {
     "name": "stderr",
     "output_type": "stream",
     "text": [
      "45it [19:44, 29.62s/it]"
     ]
    },
    {
     "name": "stdout",
     "output_type": "stream",
     "text": [
      "792a2e7a73\n",
      "{'doc_id': '792a2e7a73', 'topic': 'cancer', 'Question': 'How to diagnose Penile Cancer ?', 'Answer': \"Tests that examine the penis are used to detect (find) and diagnose penile cancer. The following tests and procedures may be used: Physical exam and history : An exam of the body to check general signs of health, including checking the penis for signs of disease, such as lumps or anything else that seems unusual. A history of the patients health habits and past illnesses and treatments will also be taken. Biopsy : The removal of cells or tissues so they can be viewed under a microscope by a pathologist to check for signs of cancer. The tissue sample is removed during one of the following procedures: Fine-needle aspiration (FNA) biopsy : The removal of tissue or fluid using a thin needle. Incisional biopsy : The removal of part of a lump or a sample of tissue that doesn't look normal. Excisional biopsy : The removal of an entire lump or area of tissue that doesnt look normal.\"}\n",
      "{'question': 'What factors influence the chances of recovery for someone diagnosed with penile cancer?', 'doc_id': 'b30481aa08'}\n"
     ]
    },
    {
     "name": "stderr",
     "output_type": "stream",
     "text": [
      "46it [19:54, 23.88s/it]"
     ]
    },
    {
     "name": "stdout",
     "output_type": "stream",
     "text": [
      "b30481aa08\n",
      "{'doc_id': 'b30481aa08', 'topic': 'cancer', 'Question': 'What is the outlook for Penile Cancer ?', 'Answer': 'Certain factors affect prognosis (chance of recovery) and treatment options. The prognosis (chance of recovery) and treatment options depend on the following: The stage of the cancer. The location and size of the tumor. Whether the cancer has just been diagnosed or has recurred (come back).'}\n",
      "{'question': 'What types of clinical trials are being conducted to test new treatments for penile cancer?', 'doc_id': '7aebe89d79'}\n"
     ]
    },
    {
     "name": "stderr",
     "output_type": "stream",
     "text": [
      "47it [20:25, 26.01s/it]"
     ]
    },
    {
     "name": "stdout",
     "output_type": "stream",
     "text": [
      "7aebe89d79\n",
      "{'doc_id': '7aebe89d79', 'topic': 'cancer', 'Question': 'what research (or clinical trials) is being done for Penile Cancer ?', 'Answer': \"New types of treatment are being tested in clinical trials. This summary section describes treatments that are being studied in clinical trials. It may not mention every new treatment being studied. Information about clinical trials is available from the NCI website. Radiosensitizers Radiosensitizers are drugs that make tumor cells more sensitive to radiation therapy. Combining radiation therapy with radiosensitizers helps kill more tumor cells. Sentinel lymph node biopsy followed by surgery Sentinel lymph node biopsy is the removal of the sentinel lymph node during surgery. The sentinel lymph node is the first lymph node to receive lymphatic drainage from a tumor. It is the first lymph node the cancer is likely to spread to from the tumor. A radioactive substance and/or blue dye is injected near the tumor. The substance or dye flows through the lymph ducts to the lymph nodes. The first lymph node to receive the substance or dye is removed. A pathologist views the tissue under a microscope to look for cancer cells. If cancer cells are not found, it may not be necessary to remove more lymph nodes. After the sentinel lymph node biopsy, the surgeon removes the cancer. Patients may want to think about taking part in a clinical trial. For some patients, taking part in a clinical trial may be the best treatment choice. Clinical trials are part of the cancer research process. Clinical trials are done to find out if new cancer treatments are safe and effective or better than the standard treatment. Many of today's standard treatments for cancer are based on earlier clinical trials. Patients who take part in a clinical trial may receive the standard treatment or be among the first to receive a new treatment. Patients who take part in clinical trials also help improve the way cancer will be treated in the future. Even when clinical trials do not lead to effective new treatments, they often answer important questions and help move research forward. Patients can enter clinical trials before, during, or after starting their cancer treatment. Some clinical trials only include patients who have not yet received treatment. Other trials test treatments for patients whose cancer has not gotten better. There are also clinical trials that test new ways to stop cancer from recurring (coming back) or reduce the side effects of cancer treatment. Clinical trials are taking place in many parts of the country. See the Treatment Options section that follows for links to current treatment clinical trials. These have been retrieved from NCI's listing of clinical trials.\"}\n",
      "{'question': \"I'm currently taking tamoxifen for breast cancer; does this medication raise my chance of developing cancer of the uterine lining?\", 'doc_id': '4f689fb989'}\n"
     ]
    },
    {
     "name": "stderr",
     "output_type": "stream",
     "text": [
      "48it [20:40, 22.70s/it]"
     ]
    },
    {
     "name": "stdout",
     "output_type": "stream",
     "text": [
      "4f689fb989\n",
      "{'doc_id': '4f689fb989', 'topic': 'cancer', 'Question': 'Who is at risk for Endometrial Cancer? ?', 'Answer': 'Health history and certain medicines can affect the risk of developing endometrial cancer. Anything that increases your chance of getting a disease is called a risk factor. Having a risk factor does not mean that you will get cancer; not having risk factors doesnt mean that you will not get cancer. People who think they may be at risk should discuss this with their doctor. Risk factors for endometrial cancer include the following: Taking tamoxifen for treatment or prevention of breast cancer. Taking estrogen alone. (Taking estrogen in combination with progestin does not appear to increase the risk of endometrial cancer.) Being overweight. Eating a high-fat diet. Never giving birth. Beginning menstruation at an early age. Reaching menopause at an older age. Having the gene for hereditary non-polyposis colon cancer (HNPCC). Being white.'}\n",
      "{'question': 'Can you explain what Ewing sarcoma is and which parts of the body it can affect?', 'doc_id': 'e7040f9158'}\n"
     ]
    },
    {
     "name": "stderr",
     "output_type": "stream",
     "text": [
      "49it [21:02, 22.52s/it]"
     ]
    },
    {
     "name": "stdout",
     "output_type": "stream",
     "text": [
      "e7040f9158\n",
      "{'doc_id': 'e7040f9158', 'topic': 'cancer', 'Question': 'What is (are) Ewing Sarcoma ?', 'Answer': 'Key Points Ewing sarcoma is a type of tumor that forms in bone or soft tissue. Signs and symptoms of Ewing sarcoma include swelling and pain near the tumor. Tests that examine the bone and soft tissue are used to diagnose and stage Ewing sarcoma. A biopsy is done to diagnose Ewing sarcoma. Certain factors affect prognosis (chance of recovery). Ewing sarcoma is a type of tumor that forms in bone or soft tissue. Ewing sarcoma is a type of tumor that forms from a certain kind of cell in bone or soft tissue. Ewing sarcoma may be found in the bones of the legs, arms, feet, hands, chest, pelvis, spine, or skull. Ewing sarcoma also may be found in the soft tissue of the trunk, arms, legs, head and neck, abdominal cavity, or other areas. Ewing sarcoma is most common in adolescents and young adults. Ewing sarcoma has also been called peripheral primitive neuroectodermal tumor, Askin tumor (Ewing sarcoma of the chest wall), extraosseous Ewing sarcoma (Ewing sarcoma in tissue other than bone), and Ewing sarcoma family of tumors.'}\n",
      "{'question': 'What typical warning signs should I watch for if my child might have Ewing sarcoma?', 'doc_id': 'ee839abe91'}\n"
     ]
    },
    {
     "name": "stderr",
     "output_type": "stream",
     "text": [
      "50it [21:10, 18.10s/it]"
     ]
    },
    {
     "name": "stdout",
     "output_type": "stream",
     "text": [
      "ee839abe91\n",
      "{'doc_id': 'ee839abe91', 'topic': 'cancer', 'Question': 'What are the symptoms of Ewing Sarcoma ?', 'Answer': 'Signs and symptoms of Ewing sarcoma include swelling and pain near the tumor. These and other signs and symptoms may be caused by Ewing sarcoma or by other conditions. Check with your childs doctor if your child has any of the following: Pain and/or swelling, usually in the arms, legs, chest, back, or pelvis. A lump (which may feel soft and warm) in the arms, legs, chest, or pelvis. Fever for no known reason. A bone that breaks for no known reason.'}\n",
      "{'question': 'What factors are considered when estimating the prognosis for a newly diagnosed Ewing sarcoma?', 'doc_id': '63b47d2f2f'}\n"
     ]
    },
    {
     "name": "stderr",
     "output_type": "stream",
     "text": [
      "51it [21:31, 18.90s/it]"
     ]
    },
    {
     "name": "stdout",
     "output_type": "stream",
     "text": [
      "63b47d2f2f\n",
      "{'doc_id': '63b47d2f2f', 'topic': 'cancer', 'Question': 'What is the outlook for Ewing Sarcoma ?', 'Answer': \"Certain factors affect prognosis (chance of recovery). The factors that affect prognosis (chance of recovery) are different before and after treatment. Before treatment, prognosis depends on: Whether the tumor has spread to lymph nodes or distant parts of the body. Where in the body the tumor started. Whether the tumor formed in the bone or in soft tissue. How large the tumor is at when the tumor is diagnosed. Whether the LDH level in the blood is higher than normal. Whether the tumor has certain gene changes. Whether the child is younger than years. The patient's gender. Whether the child has had treatment for a different cancer before Ewing sarcoma. Whether the tumor has just been diagnosed or has recurred (come back). After treatment, prognosis is affected by: Whether the tumor was completely removed by surgery. Whether the tumor responds to chemotherapy or radiation therapy. If the cancer recurs after initial treatment, prognosis depends on: Whether the cancer came back more than two years after the initial treatment. Where in the body the tumor came back. The type of initial treatment given.\"}\n",
      "{'question': 'How is Ewing sarcoma categorized based on whether it has spread?', 'doc_id': '05a786995a'}\n"
     ]
    },
    {
     "name": "stderr",
     "output_type": "stream",
     "text": [
      "52it [25:39, 87.51s/it]"
     ]
    },
    {
     "name": "stdout",
     "output_type": "stream",
     "text": [
      "05a786995a\n",
      "{'doc_id': '05a786995a', 'topic': 'cancer', 'Question': 'What are the stages of Ewing Sarcoma ?', 'Answer': 'Key Points The results of diagnostic and staging tests are used to find out if cancer cells have spread. Ewing sarcoma is described based on whether the cancer has spread from the bone or soft tissue in which the cancer began. Localized Ewing sarcoma Metastatic Ewing sarcoma There are three ways that cancer spreads in the body. Cancer may spread from where it began to other parts of the body. The results of diagnostic and staging tests are used to find out if cancer cells have spread. The process used to find out if cancer has spread from where it began to other parts of the body is called staging. There is no standard staging system for Ewing sarcoma. The results of the tests and procedures done to diagnose and stage Ewing sarcoma are used to group the tumors into localized or metastatic. Ewing sarcoma is described based on whether the cancer has spread from the bone or soft tissue in which the cancer began. Ewing sarcoma is described as either localized or metastatic. Localized Ewing sarcoma The cancer is found in the bone or soft tissue in which it began and may have spread to nearby tissue, including nearby lymph nodes. Metastatic Ewing sarcoma The cancer has spread from the bone or soft tissue in which it began to other parts of the body. In Ewing tumor of bone, the cancer most often spreads to the lung, other bones, and bone marrow. There are three ways that cancer spreads in the body. Cancer can spread through tissue, the lymph system, and the blood: Tissue. The cancer spreads from where it began by growing into nearby areas. Lymph system. The cancer spreads from where it began by getting into the lymph system. The cancer travels through the lymph vessels to other parts of the body. Blood. The cancer spreads from where it began by getting into the blood. The cancer travels through the blood vessels to other parts of the body. Cancer may spread from where it began to other parts of the body. When cancer spreads to another part of the body, it is called metastasis. Cancer cells break away from where they began (the primary tumor) and travel through the lymph system or blood. Lymph system. The cancer gets into the lymph system, travels through the lymph vessels, and forms a tumor (metastatic tumor) in another part of the body. Blood. The cancer gets into the blood, travels through the blood vessels, and forms a tumor (metastatic tumor) in another part of the body. The metastatic tumor is the same type of cancer as the primary tumor. For example, if Ewing sarcoma spreads to the lung, the cancer cells in the lung are actually Ewing sarcoma cells. The disease is metastatic Ewing sarcoma, not lung cancer.'}\n",
      "{'question': 'Are there any ongoing clinical studies for people with recurrent Ewing sarcoma, and what do they involve?', 'doc_id': '4fdc89ef9c'}\n"
     ]
    },
    {
     "name": "stderr",
     "output_type": "stream",
     "text": [
      "53it [26:50, 82.63s/it]"
     ]
    },
    {
     "name": "stdout",
     "output_type": "stream",
     "text": [
      "4fdc89ef9c\n",
      "{'doc_id': '4fdc89ef9c', 'topic': 'cancer', 'Question': 'what research (or clinical trials) is being done for Ewing Sarcoma ?', 'Answer': \"New types of treatment are being tested in clinical trials. This summary section describes treatments that are being studied in clinical trials. It may not mention every new treatment being studied. Information about clinical trials is available from the NCI website. Chimeric antigen receptor (CAR) T-cell therapy CAR T-cell therapy is a type of immunotherapy that changes the patient's T cells (a type of immune system cell) so they will attack certain proteins on the surface of cancer cells. T cells are taken from the patient and special receptors are added to their surface in the laboratory. The changed cells are called chimeric antigen receptor (CAR) T cells. The CAR T cells are grown in the laboratory and given to the patient by infusion. The CAR T cells multiply in the patient's blood and attack cancer cells. CAR T-cell therapy is being studied in the treatment of Ewing sarcoma that has recurred. Patients may want to think about taking part in a clinical trial. For some patients, taking part in a clinical trial may be the best treatment choice. Clinical trials are part of the cancer research process. Clinical trials are done to find out if new cancer treatments are safe and effective or better than the standard treatment. Many of today's standard treatments for cancer are based on earlier clinical trials. Patients who take part in a clinical trial may receive the standard treatment or be among the first to receive a new treatment. Patients who take part in clinical trials also help improve the way cancer will be treated in the future. Even when clinical trials do not lead to effective new treatments, they often answer important questions and help move research forward. Patients can enter clinical trials before, during, or after starting their cancer treatment. Some clinical trials only include patients who have not yet received treatment. Other trials test treatments for patients whose cancer has not gotten better. There are also clinical trials that test new ways to stop cancer from recurring (coming back) or reduce the side effects of cancer treatment. Clinical trials are taking place in many parts of the country. See the Treatment Options section that follows for links to current treatment clinical trials. These have been retrieved from NCI's listing of clinical trials.\"}\n",
      "{'question': 'What exactly is a gastrointestinal carcinoid tumor and where does it develop in the body?', 'doc_id': '666ff1c907'}\n"
     ]
    },
    {
     "name": "stderr",
     "output_type": "stream",
     "text": [
      "54it [27:10, 63.86s/it]"
     ]
    },
    {
     "name": "stdout",
     "output_type": "stream",
     "text": [
      "666ff1c907\n",
      "{'doc_id': '666ff1c907', 'topic': 'cancer', 'Question': 'What is (are) Gastrointestinal Carcinoid Tumors ?', 'Answer': \"Key Points A gastrointestinal carcinoid tumor is cancer that forms in the lining of the gastrointestinal tract. Health history can affect the risk of gastrointestinal carcinoid tumors. Some gastrointestinal carcinoid tumors have no signs or symptoms in the early stages. Carcinoid syndrome may occur if the tumor spreads to the liver or other parts of the body. Imaging studies and tests that examine the blood and urine are used to detect (find) and diagnose gastrointestinal carcinoid tumors. Certain factors affect prognosis (chance of recovery) and treatment options. A gastrointestinal carcinoid tumor is cancer that forms in the lining of the gastrointestinal tract. The gastrointestinal (GI) tract is part of the body's digestive system. It helps to digest food, takes nutrients (vitamins, minerals, carbohydrates, fats, proteins, and water) from food to be used by the body and helps pass waste material out of the body. The GI tract is made up of these and other organs: Stomach. Small intestine (duodenum, jejunum, and ileum). Colon. Rectum. Gastrointestinal carcinoid tumors form from a certain type of neuroendocrine cell (a type of cell that is like a nerve cell and a hormone -making cell). These cells are scattered throughout the chest and abdomen but most are found in the GI tract. Neuroendocrine cells make hormones that help control digestive juices and the muscles used in moving food through the stomach and intestines. A GI carcinoid tumor may also make hormones and release them into the body. GI carcinoid tumors are rare and most grow very slowly. Most of them occur in the small intestine, rectum, and appendix. Sometimes more than one tumor will form. See the following PDQ summaries for more information related to GI and other types of carcinoid tumors: Non-Small Cell Lung Cancer Treatment. Pancreatic Neuroendocrine Tumors (Islet Cell Tumors) Treatment. Rectal Cancer Treatment. Small Intestine Cancer Treatment. Unusual Cancers of Childhood Treatment Carcinoid syndrome may occur if the tumor spreads to the liver or other parts of the body. The hormones made by gastrointestinal carcinoid tumors are usually destroyed by liver enzymes in the blood. If the tumor has spread to the liver and the liver enzymes cannot destroy the extra hormones made by the tumor, high amounts of these hormones may remain in the body and cause carcinoid syndrome. This can also happen if tumor cells enter the blood. Signs and symptoms of carcinoid syndrome include the following: Redness or a feeling of warmth in the face and neck. Abdominal pain. Feeling bloated. Diarrhea. Wheezing or other trouble breathing. Fast heartbeat. These signs and symptoms may be caused by gastrointestinal carcinoid tumors or by other conditions. Talk to your doctor if you have any of these signs or symptoms.\"}\n",
      "{'question': 'What genetic conditions increase my chance of developing a gastrointestinal carcinoid tumor?', 'doc_id': '84753cffcf'}\n"
     ]
    },
    {
     "name": "stderr",
     "output_type": "stream",
     "text": [
      "55it [27:27, 49.80s/it]"
     ]
    },
    {
     "name": "stdout",
     "output_type": "stream",
     "text": [
      "84753cffcf\n",
      "{'doc_id': '84753cffcf', 'topic': 'cancer', 'Question': 'Who is at risk for Gastrointestinal Carcinoid Tumors? ?', 'Answer': \"Health history can affect the risk of gastrointestinal carcinoid tumors. Anything that increases a person's chance of developing a disease is called a risk factor. Having a risk factor does not mean that you will get cancer; not having risk factors doesnt mean that you will not get cancer. Talk to your doctor if you think you may be at risk. Risk factors for GI carcinoid tumors include the following: Having a family history of multiple endocrine neoplasia type (MEN1) syndrome or neurofibromatosis type (NF1) syndrome. Having certain conditions that affect the stomach's ability to make stomach acid, such as atrophic gastritis, pernicious anemia, or Zollinger-Ellison syndrome.\"}\n",
      "{'question': 'What kinds of symptoms might appear in someone with a carcinoid tumor of the duodenum?', 'doc_id': '5b989f685e'}\n"
     ]
    },
    {
     "name": "stderr",
     "output_type": "stream",
     "text": [
      "56it [27:28, 35.26s/it]"
     ]
    },
    {
     "name": "stdout",
     "output_type": "stream",
     "text": [
      "5b989f685e\n",
      "{'doc_id': '5b989f685e', 'topic': 'cancer', 'Question': 'What are the symptoms of Gastrointestinal Carcinoid Tumors ?', 'Answer': 'Some gastrointestinal carcinoid tumors have no signs or symptoms in the early stages.Signs and symptoms may be caused by the growth of the tumor and/or the hormones the tumor makes. Some tumors, especially tumors of the stomach or appendix, may not cause signs or symptoms. Carcinoid tumors are often found during tests or treatments for other conditions. Carcinoid tumors in the small intestine (duodenum, jejunum, and ileum), colon, and rectum sometimes cause signs or symptoms as they grow or because of the hormones they make. Other conditions may cause the same signs or symptoms. Check with your doctor if you have any of the following: Duodenum Signs and symptoms of GI carcinoid tumors in the duodenum (first part of the small intestine, that connects to the stomach) may include the following: Abdominal pain. Constipation. Diarrhea. Change in stool color. Nausea. Vomiting. Jaundice (yellowing of the skin and whites of the eyes). Heartburn. Jejunum and ileum Signs and symptoms of GI carcinoid tumors in the jejunum (middle part of the small intestine) and ileum (last part of the small intestine, that connects to the colon) may include the following: Abdominal pain. Weight loss for no known reason. Feeling very tired. Feeling bloated Diarrhea. Nausea. Vomiting. Colon Signs and symptoms of GI carcinoid tumors in the colon may include the following: Abdominal pain. Weight loss for no known reason. Rectum Signs and symptoms of GI carcinoid tumors in the rectum may include the following: Blood in the stool. Pain in the rectum. Constipation.'}\n",
      "{'question': 'What laboratory and imaging examinations are used to confirm a gastrointestinal carcinoid tumor?', 'doc_id': '2395b08c9d'}\n"
     ]
    },
    {
     "name": "stderr",
     "output_type": "stream",
     "text": [
      "57it [27:58, 33.65s/it]"
     ]
    },
    {
     "name": "stdout",
     "output_type": "stream",
     "text": [
      "2395b08c9d\n",
      "{'doc_id': '2395b08c9d', 'topic': 'cancer', 'Question': 'How to diagnose Gastrointestinal Carcinoid Tumors ?', 'Answer': 'Imaging studies and tests that examine the blood and urine are used to detect (find) and diagnose gastrointestinal carcinoid tumors. The following tests and procedures may be used: Physical exam and history : An exam of the body to check general signs of health, including checking for signs of disease, such as lumps or anything else that seems unusual. A history of the patients health habits and past illnesses and treatments will also be taken. Blood chemistry studies : A procedure in which a blood sample is checked to measure the amounts of certain substances, such as hormones, released into the blood by organs and tissues in the body. An unusual (higher or lower than normal) amount of a substance can be a sign of disease. The blood sample is checked to see if it contains a hormone produced by carcinoid tumors. This test is used to help diagnose carcinoid syndrome. Tumor marker test : A procedure in which a sample of blood, urine, or tissue is checked to measure the amounts of certain substances, such as chromogranin A, made by organs, tissues, or tumor cells in the body. Chromogranin A is a tumor marker. It has been linked to neuroendocrine tumors when found in increased levels in the body. Twenty-four-hour urine test: A test in which urine is collected for hours to measure the amounts of certain substances, such as 5-HIAA or serotonin (hormone). An unusual (higher or lower than normal) amount of a substance can be a sign of disease in the organ or tissue that makes it. This test is used to help diagnose carcinoid syndrome. MIBG scan : A procedure used to find neuroendocrine tumors, such as carcinoid tumors. A very small amount of radioactive material called MIBG (metaiodobenzylguanidine) is injected into a vein and travels through the bloodstream. Carcinoid tumors take up the radioactive material and are detected by a device that measures radiation. CT scan (CAT scan): A procedure that makes a series of detailed pictures of areas inside the body, taken from different angles. The pictures are made by a computer linked to an x-ray machine. A dye may be injected into a vein or swallowed to help the organs or tissues show up more clearly. This procedure is also called computed tomography, computerized tomography, or computerized axial tomography. MRI (magnetic resonance imaging): A procedure that uses a magnet, radio waves, and a computer to make a series of detailed pictures of areas inside the body. This procedure is also called nuclear magnetic resonance imaging PET scan (positron emission tomography scan): A procedure to find malignant tumor cells in the body. A small amount of radioactive glucose (sugar) is injected into a vein. The PET scanner rotates around the body and makes a picture of where glucose is being used in the body. Malignant tumor cells show up brighter in the picture because they are more active and take up more glucose than normal cells. Endoscopic ultrasound (EUS): A procedure in which an endoscope is inserted into the body, usually through the mouth or rectum. An endoscope is a thin, tube-like instrument with a light and a lens for viewing. A probe at the end of the endoscope is used to bounce high-energy sound waves (ultrasound) off internal tissues or organs, such as the stomach, small intestine, colon, or rectum, and make echoes. The echoes form a picture of body tissues called a sonogram. This procedure is also called endosonography. Upper endoscopy : A procedure to look at organs and tissues inside the body to check for abnormal areas. An endoscope is inserted through the mouth and passed through the esophagus into the stomach. Sometimes the endoscope also is passed from the stomach into the small intestine. An endoscope is a thin, tube-like instrument with a light and a lens for viewing. It may also have a tool to remove tissue or lymph node samples, which are checked under a microscope for signs of disease. Colonoscopy : A procedure to look inside the rectum and colon for polyps, abnormal areas, or cancer. A colonoscope is inserted through the rectum into the colon. A colonoscope is a thin, tube-like instrument with a light and a lens for viewing. It may also have a tool to remove polyps or tissue samples, which are checked under a microscope for signs of cancer. Capsule endoscopy : A procedure used to see all of the small intestine. The patient swallows a capsule that contains a tiny camera. As the capsule moves through the gastrointestinal tract, the camera takes pictures and sends them to a receiver worn on the outside of the body. Biopsy : The removal of cells or tissues so they can be viewed under a microscope to check for signs of cancer. Tissue samples may be taken during endoscopy and colonoscopy.'}\n",
      "{'question': 'What factors determine the prognosis for a person with a gastrointestinal carcinoid tumor?', 'doc_id': '5b4df37f97'}\n"
     ]
    },
    {
     "name": "stderr",
     "output_type": "stream",
     "text": [
      "58it [28:30, 33.25s/it]"
     ]
    },
    {
     "name": "stdout",
     "output_type": "stream",
     "text": [
      "5b4df37f97\n",
      "{'doc_id': '5b4df37f97', 'topic': 'cancer', 'Question': 'What is the outlook for Gastrointestinal Carcinoid Tumors ?', 'Answer': 'Certain factors affect prognosis (chance of recovery) and treatment options. The prognosis (chance of recovery) and treatment options depend on the following: Where the tumor is in the gastrointestinal tract. The size of the tumor. Whether the cancer has spread from the stomach and intestines to other parts of the body, such as the liver or lymph nodes. Whether the patient has carcinoid syndrome or has carcinoid heart syndrome. Whether the cancer can be completely removed by surgery. Whether the cancer is newly diagnosed or has recurred.'}\n",
      "{'question': 'What are the different stages used to classify a gastrointestinal carcinoid tumor?', 'doc_id': '1a153b2861'}\n"
     ]
    },
    {
     "name": "stderr",
     "output_type": "stream",
     "text": [
      "59it [28:51, 29.34s/it]"
     ]
    },
    {
     "name": "stdout",
     "output_type": "stream",
     "text": [
      "1a153b2861\n",
      "{'doc_id': '1a153b2861', 'topic': 'cancer', 'Question': 'What are the stages of Gastrointestinal Carcinoid Tumors ?', 'Answer': 'Key Points After a gastrointestinal carcinoid tumor has been diagnosed, tests are done to find out if cancer cells have spread within the stomach and intestines or to other parts of the body. There are three ways that cancer spreads in the body. Cancer may spread from where it began to other parts of the body. The plan for cancer treatment depends on where the carcinoid tumor is found and whether it can be removed by surgery. After a gastrointestinal carcinoid tumor has been diagnosed, tests are done to find out if cancer cells have spread within the stomach and intestines or to other parts of the body. Staging is the process used to find out how far the cancer has spread. The information gathered from the staging process determines the stage of the disease. The results of tests and procedures used to diagnose gastrointestinal (GI) carcinoid tumors may also be used for staging. See the General Information section for a description of these tests and procedures. A bone scan may be done to check if there are rapidly dividing cells, such as cancer cells, in the bone. A very small amount of radioactive material is injected into a vein and travels through the bloodstream. The radioactive material collects in the bones and is detected by a scanner. There are three ways that cancer spreads in the body. Cancer can spread through tissue, the lymph system, and the blood: Tissue. The cancer spreads from where it began by growing into nearby areas. Lymph system. The cancer spreads from where it began by getting into the lymph system. The cancer travels through the lymph vessels to other parts of the body. Blood. The cancer spreads from where it began by getting into the blood. The cancer travels through the blood vessels to other parts of the body. Cancer may spread from where it began to other parts of the body. When cancer spreads to another part of the body, it is called metastasis. Cancer cells break away from where they began (the primary tumor) and travel through the lymph system or blood. Lymph system. The cancer gets into the lymph system, travels through the lymph vessels, and forms a tumor (metastatic tumor) in another part of the body. Blood. The cancer gets into the blood, travels through the blood vessels, and forms a tumor (metastatic tumor) in another part of the body. The metastatic tumor is the same type of tumor as the primary tumor. For example, if a gastrointestinal (GI) carcinoid tumor spreads to the liver, the tumor cells in the liver are actually GI carcinoid tumor cells. The disease is metastatic GI carcinoid tumor, not liver cancer. The plan for cancer treatment depends on where the carcinoid tumor is found and whether it can be removed by surgery. For many cancers it is important to know the stage of the cancer in order to plan treatment. However, the treatment of gastrointestinal carcinoid tumors is not based on the stage of the cancer. Treatment depends mainly on whether the tumor can be removed by surgery and if the tumor has spread. Treatment is based on whether the tumor: Can be completely removed by surgery. Has spread to other parts of the body. Has come back after treatment. The tumor may come back in the stomach or intestines or in other parts of the body. Has not gotten better with treatment.'}\n",
      "{'question': 'What new clinical studies are currently investigating treatments for gastrointestinal carcinoid tumors?', 'doc_id': '98f235d858'}\n"
     ]
    },
    {
     "name": "stderr",
     "output_type": "stream",
     "text": [
      "60it [29:04, 24.65s/it]"
     ]
    },
    {
     "name": "stdout",
     "output_type": "stream",
     "text": [
      "98f235d858\n",
      "{'doc_id': '98f235d858', 'topic': 'cancer', 'Question': 'what research (or clinical trials) is being done for Gastrointestinal Carcinoid Tumors ?', 'Answer': \"New types of treatment are being tested in clinical trials. This summary section describes treatments that are being studied in clinical trials. It may not mention every new treatment being studied. Information about clinical trials is available from the NCI website. Targeted therapy Targeted therapy is a type of treatment that uses drugs or other substances to identify and attack specific cancer cells without harming normal cells. Several types of targeted therapy are being studied in the treatment of GI carcinoid tumors. Patients may want to think about taking part in a clinical trial. For some patients, taking part in a clinical trial may be the best treatment choice. Clinical trials are part of the cancer research process. Clinical trials are done to find out if new cancer treatments are safe and effective or better than the standard treatment. Many of today's standard treatments for cancer are based on earlier clinical trials. Patients who take part in a clinical trial may receive the standard treatment or be among the first to receive a new treatment. Patients who take part in clinical trials also help improve the way cancer will be treated in the future. Even when clinical trials do not lead to effective new treatments, they often answer important questions and help move research forward. Patients can enter clinical trials before, during, or after starting their cancer treatment. Some clinical trials only include patients who have not yet received treatment. Other trials test treatments for patients whose cancer has not gotten better. There are also clinical trials that test new ways to stop cancer from recurring (coming back) or reduce the side effects of cancer treatment. Clinical trials are taking place in many parts of the country. See the Treatment Options section that follows for links to current treatment clinical trials. These have been retrieved from NCI's listing of clinical trials.\"}\n",
      "{'question': 'What types of clinical studies are currently looking at ways to stop prostate cancer before it starts?', 'doc_id': '7ed2cc926d'}\n"
     ]
    },
    {
     "name": "stderr",
     "output_type": "stream",
     "text": [
      "61it [29:49, 30.65s/it]"
     ]
    },
    {
     "name": "stdout",
     "output_type": "stream",
     "text": [
      "7ed2cc926d\n",
      "{'doc_id': '7ed2cc926d', 'topic': 'cancer', 'Question': 'what research (or clinical trials) is being done for Prostate Cancer ?', 'Answer': \"Cancer prevention clinical trials are used to study ways to prevent cancer. Cancer prevention clinical trials are used to study ways to lower the risk of developing certain types of cancer. Some cancer prevention trials are conducted with healthy people who have not had cancer but who have an increased risk for cancer. Other prevention trials are conducted with people who have had cancer and are trying to prevent another cancer of the same type or to lower their chance of developing a new type of cancer. Other trials are done with healthy volunteers who are not known to have any risk factors for cancer. The purpose of some cancer prevention clinical trials is to find out whether actions people take can prevent cancer. These may include eating fruits and vegetables, exercising, quitting smoking, or taking certain medicines, vitamins, minerals, or food supplements. New ways to prevent prostate cancer are being studied in clinical trials. Clinical trials are taking place in many parts of the country. Information about clinical trials can be found in the Clinical Trials section of the NCI website. Check NCI's list of cancer clinical trials for prostate cancer prevention trials that are accepting patients.\"}\n",
      "{'question': 'What lifestyle or environmental factors raise my risk of getting lung cancer?', 'doc_id': 'bca43ab353'}\n"
     ]
    },
    {
     "name": "stderr",
     "output_type": "stream",
     "text": [
      "62it [30:28, 33.06s/it]"
     ]
    },
    {
     "name": "stdout",
     "output_type": "stream",
     "text": [
      "bca43ab353\n",
      "{'doc_id': 'bca43ab353', 'topic': 'cancer', 'Question': 'Who is at risk for Lung Cancer? ?', 'Answer': \"Different factors increase or decrease the risk of lung cancer. Anything that increases your chance of getting a disease is called a risk factor. Anything that decreases your chance of getting a disease is called a protective factor. For information about risk factors and protective factors for lung cancer, see the PDQ summary on Lung Cancer Prevention. Key Points Screening tests have risks. The risks of lung cancer screening tests include the following: Finding lung cancer may not improve health or help you live longer. False-negative test results can occur. False-positive test results can occur. Chest x-rays and low-dose spiral CT scans expose the chest to radiation. Talk to your doctor about your risk for lung cancer and your need for screening tests. Screening tests have risks. Decisions about screening tests can be difficult. Not all screening tests are helpful and most have risks. Before having any screening test, you may want to discuss the test with your doctor. It is important to know the risks of the test and whether it has been proven to reduce the risk of dying from cancer. The risks of lung cancer screening tests include the following: Finding lung cancer may not improve health or help you live longer. Screening may not improve your health or help you live longer if you have lung cancer that has already spread to other places in your body. When a screening test result leads to the diagnosis and treatment of a disease that may never have caused symptoms or become life-threatening, it is called overdiagnosis. It is not known if treatment of these cancers would help you live longer than if no treatment were given, and treatments for cancer may have serious side effects. Harms of treatment may happen more often in people who have medical problems caused by heavy or long-term smoking. False-negative test results can occur. Screening test results may appear to be normal even though lung cancer is present. A person who receives a false-negative test result (one that shows there is no cancer when there really is) may delay seeking medical care even if there are symptoms. False-positive test results can occur. Screening test results may appear to be abnormal even though no cancer is present. A false-positive test result (one that shows there is cancer when there really isn't) can cause anxiety and is usually followed by more tests (such as biopsy), which also have risks. A biopsy to diagnose lung cancer can cause part of the lung to collapse. Sometimes surgery is needed to reinflate the lung. Harms of diagnostic tests may happen more often in patients who have medical problems caused by heavy or long-term smoking. Chest x-rays and low-dose spiral CT scans expose the chest to radiation. Radiation exposure from chest x-rays and low-dose spiral CT scans may increase the risk of cancer. Younger people and people at low risk for lung cancer are more likely to develop lung cancer caused by radiation exposure. . Talk to your doctor about your risk for lung cancer and your need for screening tests. Talk to your doctor or other health care provider about your risk for lung cancer, whether a screening test is right for you, and about the benefits and harms of the screening test. You should take part in the decision about whether a screening test is right for you. (See the PDQ summary on Cancer Screening Overview for more information.)\"}\n",
      "{'question': 'What are the typical signs and locations of osteosarcoma in teenagers and young adults?', 'doc_id': '18c27cebfd'}\n"
     ]
    },
    {
     "name": "stderr",
     "output_type": "stream",
     "text": [
      "63it [30:33, 24.78s/it]"
     ]
    },
    {
     "name": "stdout",
     "output_type": "stream",
     "text": [
      "18c27cebfd\n",
      "{'doc_id': '18c27cebfd', 'topic': 'cancer', 'Question': 'What is (are) Osteosarcoma and Malignant Fibrous Histiocytoma of Bone ?', 'Answer': 'Key Points Osteosarcoma and malignant fibrous histiocytoma (MFH) of the bone are diseases in which malignant (cancer) cells form in bone. Having past treatment with radiation can increase the risk of osteosarcoma. Signs and symptoms of osteosarcoma and MFH include swelling over a bone or a bony part of the body and joint pain. Imaging tests are used to detect (find) osteosarcoma and MFH. A biopsy is done to diagnose osteosarcoma. Certain factors affect prognosis (chance of recovery) and treatment options. Osteosarcoma and malignant fibrous histiocytoma (MFH) of the bone are diseases in which malignant (cancer) cells form in bone. Osteosarcoma usually starts in osteoblasts, which are a type of bone cell that becomes new bone tissue. Osteosarcoma is most common in adolescents. It commonly forms in the ends of the long bones of the body, which include bones of the arms and legs. In children and adolescents, it often forms in the bones near the knee. Rarely, osteosarcoma may be found in soft tissue or organs in the chest or abdomen. Osteosarcoma is the most common type of bone cancer. Malignant fibrous histiocytoma (MFH) of bone is a rare tumor of the bone. It is treated like osteosarcoma. Ewing sarcoma is another kind of bone cancer, but it is not covered in this summary. See the PDQ summary about Ewing Sarcoma Treatment for more information.'}\n",
      "{'question': 'What previous medical treatments could increase my child’s chance of developing osteosarcoma?', 'doc_id': 'd03922592e'}\n"
     ]
    },
    {
     "name": "stderr",
     "output_type": "stream",
     "text": [
      "64it [30:45, 20.90s/it]"
     ]
    },
    {
     "name": "stdout",
     "output_type": "stream",
     "text": [
      "d03922592e\n",
      "{'doc_id': 'd03922592e', 'topic': 'cancer', 'Question': 'Who is at risk for Osteosarcoma and Malignant Fibrous Histiocytoma of Bone? ?', 'Answer': \"Having past treatment with radiation can increase the risk of osteosarcoma. Anything that increases your risk of getting a disease is called a risk factor. Having a risk factor does not mean that you will get cancer; not having risk factors doesnt mean that you will not get cancer. Talk with your child's doctor if you think your child may be at risk. Risk factors for osteosarcoma include the following: Past treatment with radiation therapy. Past treatment with anticancer drugs called alkylating agents. Having a certain change in the retinoblastoma gene. Having certain conditions, such as the following: Bloom syndrome. Diamond-Blackfan anemia. Li-Fraumeni syndrome. Paget disease. Hereditary retinoblastoma. Rothmund-Thomson syndrome. Werner syndrome.\"}\n",
      "{'question': 'What signs should I look for that might indicate osteosarcoma or malignant fibrous histiocytoma of bone in my child?', 'doc_id': '0909b9679e'}\n"
     ]
    },
    {
     "name": "stderr",
     "output_type": "stream",
     "text": [
      "65it [30:55, 17.62s/it]"
     ]
    },
    {
     "name": "stdout",
     "output_type": "stream",
     "text": [
      "0909b9679e\n",
      "{'doc_id': '0909b9679e', 'topic': 'cancer', 'Question': 'What are the symptoms of Osteosarcoma and Malignant Fibrous Histiocytoma of Bone ?', 'Answer': 'Signs and symptoms of osteosarcoma and MFH include swelling over a bone or a bony part of the body and joint pain. These and other signs and symptoms may be caused by osteosarcoma or MFH or by other conditions. Check with a doctor if your child has any of the following: Swelling over a bone or bony part of the body. Pain in a bone or joint. A bone that breaks for no known reason.'}\n",
      "{'question': 'What imaging studies are typically ordered before a biopsy when doctors suspect a bone tumor such as osteosarcoma or malignant fibrous histiocytoma?', 'doc_id': '04ef882194'}\n"
     ]
    },
    {
     "name": "stderr",
     "output_type": "stream",
     "text": [
      "66it [31:08, 16.20s/it]"
     ]
    },
    {
     "name": "stdout",
     "output_type": "stream",
     "text": [
      "04ef882194\n",
      "{'doc_id': '04ef882194', 'topic': 'cancer', 'Question': 'How to diagnose Osteosarcoma and Malignant Fibrous Histiocytoma of Bone ?', 'Answer': \"Imaging tests are used to detect (find) osteosarcoma and MFH. Imaging tests are done before the biopsy. The following tests and procedures may be used: Physical exam and history : An exam of the body to check general signs of health, including checking for signs of disease, such as lumps or anything else that seems unusual. A history of the patients health habits and past illnesses and treatments will also be taken. X-ray : An x-ray of the organs and bones inside the body. An x-ray is a type of energy beam that can go through the body and onto film, making a picture of areas inside the body. CT scan (CAT scan): A procedure that makes a series of detailed pictures of areas inside the body, taken from different angles. The pictures are made by a computer linked to an x-ray machine. A dye may be injected into a vein or swallowed to help the organs or tissues show up more clearly. This procedure is also called computed tomography, computerized tomography, or computerized axial tomography. MRI (magnetic resonance imaging): A procedure that uses a magnet, radio waves, and a computer to make a series of detailed pictures of areas inside the body. This procedure is also called nuclear magnetic resonance imaging (NMRI). A biopsy is done to diagnose osteosarcoma. Cells and tissues are removed during a biopsy so they can be viewed under a microscope by a pathologist to check for signs of cancer. It is important that the biopsy be done by a surgeon who is an expert in treating cancer of the bone. It is best if that surgeon is also the one who removes the tumor. The biopsy and the surgery to remove the tumor are planned together. The way the biopsy is done affects which type of surgery can be done later. The type of biopsy that is done will be based on the size of the tumor and where it is in the body. There are two types of biopsy that may be used: Core biopsy : The removal of tissue using a wide needle. Incisional biopsy : The removal of part of a lump or a sample of tissue that doesn't look normal. The following test may be done on the tissue that is removed: Light and electron microscopy : A laboratory test in which cells in a sample of tissue are viewed under regular and high-powered microscopes to look for certain changes in the cells.\"}\n",
      "{'question': 'What variables influence the prognosis of untreated osteosarcoma or malignant fibrous histiocytoma of bone?', 'doc_id': '185e402afb'}\n"
     ]
    },
    {
     "name": "stderr",
     "output_type": "stream",
     "text": [
      "67it [31:22, 15.65s/it]"
     ]
    },
    {
     "name": "stdout",
     "output_type": "stream",
     "text": [
      "185e402afb\n",
      "{'doc_id': '185e402afb', 'topic': 'cancer', 'Question': 'What is the outlook for Osteosarcoma and Malignant Fibrous Histiocytoma of Bone ?', 'Answer': \"Certain factors affect prognosis (chance of recovery) and treatment options. The prognosis (chance of recovery) is affected by certain factors before and after treatment. The prognosis of untreated osteosarcoma and MFH depends on the following: Where the tumor is in the body and whether tumors formed in more than one bone. The size of the tumor. Whether the cancer has spread to other parts of the body and where it has spread. The type of tumor (based on how the cancer cells look under a microscope). The patient's age and weight at diagnosis. Whether the tumor has caused a break in the bone. Whether the patient has certain genetic diseases. After osteosarcoma or MFH is treated, prognosis also depends on the following: How much of the cancer was killed by chemotherapy. How much of the tumor was taken out by surgery. Whether chemotherapy is delayed for more than weeks after surgery takes place. Whether the cancer has recurred (come back) within years of diagnosis. Treatment options for osteosarcoma and MFH depend on the following: Where the tumor is in the body. The size of the tumor. The stage of the cancer. Whether the bones are still growing. The patient's age and general health. The desire of the patient and family for the patient to be able to participate in activities such as sports or have a certain appearance. Whether the cancer is newly diagnosed or has recurred after treatment.\"}\n",
      "{'question': \"How is osteosarcoma classified in terms of disease stage—what does it mean when it's described as localized versus metastatic?\", 'doc_id': 'd1c16699bb'}\n"
     ]
    },
    {
     "name": "stderr",
     "output_type": "stream",
     "text": [
      "68it [32:07, 24.41s/it]"
     ]
    },
    {
     "name": "stdout",
     "output_type": "stream",
     "text": [
      "d1c16699bb\n",
      "{'doc_id': 'd1c16699bb', 'topic': 'cancer', 'Question': 'What are the stages of Osteosarcoma and Malignant Fibrous Histiocytoma of Bone ?', 'Answer': 'Key Points After osteosarcoma or malignant fibrous histiocytoma (MFH) has been diagnosed, tests are done to find out if cancer cells have spread to other parts of the body. There are three ways that cancer spreads in the body. Cancer may spread from where it began to other parts of the body. Osteosarcoma and MFH are described as either localized or metastatic. After osteosarcoma or malignant fibrous histiocytoma (MFH) has been diagnosed, tests are done to find out if cancer cells have spread to other parts of the body. The process used to find out if cancer has spread to other parts of the body is called staging. For osteosarcoma and malignant fibrous histiocytoma (MFH), most patients are grouped according to whether cancer is found in only one part of the body or has spread. The following tests and procedures may be used: X-ray : An x-ray of the organs, such as the chest, and bones inside the body. An x-ray is a type of energy beam that can go through the body and onto film, making a picture of areas inside the body. X-rays will be taken of the chest and the area where the tumor formed. CT scan (CAT scan): A procedure that makes a series of detailed pictures of areas inside the body, such as the chest, taken from different angles. The pictures are made by a computer linked to an x-ray machine. A dye may be injected into a vein or swallowed to help the organs or tissues show up more clearly. This procedure is also called computed tomography, computerized tomography, or computerized axial tomography. Pictures will be taken of the chest and the area where the tumor formed. PET-CT scan : A procedure that combines the pictures from a positron emission tomography (PET) scan and a computed tomography (CT) scan. The PET and CT scans are done at the same time on the same machine. The pictures from both scans are combined to make a more detailed picture than either test would make by itself. A PET scan is a procedure to find malignant tumor cells in the body. A small amount of radioactive glucose (sugar) is injected into a vein. The PET scanner rotates around the body and makes a picture of where glucose is being used in the body. Malignant tumor cells show up brighter in the picture because they are more active and take up more glucose than normal cells do. MRI (magnetic resonance imaging): A procedure that uses a magnet, radio waves, and a computer to make a series of detailed pictures of areas inside the body. This procedure is also called nuclear magnetic resonance imaging (NMRI). Bone scan : A procedure to check if there are rapidly dividing cells, such as cancer cells, in the bone. A very small amount of radioactive material is injected into a vein and travels through the bloodstream. The radioactive material collects in the bones and is detected by a scanner. There are three ways that cancer spreads in the body. Cancer can spread through tissue, the lymph system, and the blood: Tissue. The cancer spreads from where it began by growing into nearby areas. Lymph system. The cancer spreads from where it began by getting into the lymph system. The cancer travels through the lymph vessels to other parts of the body. Blood. The cancer spreads from where it began by getting into the blood. The cancer travels through the blood vessels to other parts of the body. Cancer may spread from where it began to other parts of the body. When cancer spreads to another part of the body, it is called metastasis. Cancer cells break away from where they began (the primary tumor) and travel through the lymph system or blood. Lymph system. The cancer gets into the lymph system, travels through the lymph vessels, and forms a tumor (metastatic tumor) in another part of the body. Blood. The cancer gets into the blood, travels through the blood vessels, and forms a tumor (metastatic tumor) in another part of the body. The metastatic tumor is the same type of cancer as the primary tumor. For example, if osteosarcoma spreads to the lung, the cancer cells in the lung are actually osteosarcoma cells. The disease is metastatic osteosarcoma, not lung cancer. Osteosarcoma and MFH are described as either localized or metastatic. Localized osteosarcoma or MFH has not spread out of the bone where the cancer started. There may be one or more areas of cancer in the bone that can be removed during surgery. Metastatic osteosarcoma or MFH has spread from the bone in which the cancer began to other parts of the body. The cancer most often spreads to the lungs. It may also spread to other bones.'}\n",
      "{'question': 'What new drug studies are available for children with osteosarcoma, and how can a family learn about enrolling in those trials?', 'doc_id': '05a69cf724'}\n"
     ]
    },
    {
     "name": "stderr",
     "output_type": "stream",
     "text": [
      "69it [32:32, 24.61s/it]"
     ]
    },
    {
     "name": "stdout",
     "output_type": "stream",
     "text": [
      "05a69cf724\n",
      "{'doc_id': '05a69cf724', 'topic': 'cancer', 'Question': 'what research (or clinical trials) is being done for Osteosarcoma and Malignant Fibrous Histiocytoma of Bone ?', 'Answer': \"New types of treatment are being tested in clinical trials. This summary section describes treatments that are being studied in clinical trials. It may not mention every new treatment being studied. Information about ongoing clinical trials is available from the NCI website. Targeted therapy Targeted therapy is a treatment that uses drugs or other substances to find and attack specific cancer cells without harming normal cells. Kinase inhibitor therapy and monoclonal antibody therapy are types of targeted therapy being studied in clinical trials for osteosarcoma. Kinase inhibitor therapy blocks a protein needed for cancer cells to divide. Sorafenib is a type of kinase inhibitor therapy being studied for the treatment of recurrent osteosarcoma. Monoclonal antibody therapy is a cancer treatment that uses antibodies made in the laboratory, from a single type of immune system cell. These antibodies can identify substances on cancer cells or normal substances that may help cancer cells grow. The antibodies attach to the substances and kill the cancer cells, block their growth, or keep them from spreading. Monoclonal antibodies are given by infusion. They may be used alone or to carry drugs, toxins, or radioactive material directly to cancer cells. Denosumab, dinutuximab, and glembatumumab are monoclonal antibodies being studied for the treatment of recurrent osteosarcoma. Patients may want to think about taking part in a clinical trial. For some patients, taking part in a clinical trial may be the best treatment choice. Clinical trials are part of the cancer research process. Clinical trials are done to find out if new cancer treatments are safe and effective or better than the standard treatment. Many of today's standard treatments for cancer are based on earlier clinical trials. Patients who take part in a clinical trial may receive the standard treatment or be among the first to receive a new treatment. Patients who take part in clinical trials also help improve the way cancer will be treated in the future. Even when clinical trials do not lead to effective new treatments, they often answer important questions and help move research forward. Patients can enter clinical trials before, during, or after starting their cancer treatment. Some clinical trials only include patients who have not yet received treatment. Other trials test treatments for patients whose cancer has not gotten better. There are also clinical trials that test new ways to stop cancer from recurring (coming back) or reduce the side effects of cancer treatment. Clinical trials are taking place in many parts of the country. See the Treatment Options section that follows for links to current treatment clinical trials. These have been retrieved from NCI's listing of clinical trials. Follow-up tests may be needed. Some of the tests that were done to diagnose the cancer or to find out the stage of the cancer may be repeated. Some tests will be repeated in order to see how well the treatment is working. Decisions about whether to continue, change, or stop treatment may be based on the results of these tests. Some of the tests will continue to be done from time to time after treatment has ended. The results of these tests can show if your child's condition has changed or if the cancer has recurred (come back). These tests are sometimes called follow-up tests or check-ups.\"}\n",
      "{'question': 'What warning signs should I watch for that might indicate prostate cancer?', 'doc_id': '31171c9a5a'}\n"
     ]
    },
    {
     "name": "stderr",
     "output_type": "stream",
     "text": [
      "69it [49:24, 42.97s/it]\n"
     ]
    },
    {
     "ename": "KeyboardInterrupt",
     "evalue": "",
     "output_type": "error",
     "traceback": [
      "\u001B[31m---------------------------------------------------------------------------\u001B[39m",
      "\u001B[31mKeyboardInterrupt\u001B[39m                         Traceback (most recent call last)",
      "\u001B[36mCell\u001B[39m\u001B[36m \u001B[39m\u001B[32mIn[41]\u001B[39m\u001B[32m, line 8\u001B[39m\n\u001B[32m      6\u001B[39m \u001B[38;5;28mprint\u001B[39m(rec)\n\u001B[32m      7\u001B[39m question = rec[\u001B[33m'\u001B[39m\u001B[33mquestion\u001B[39m\u001B[33m'\u001B[39m]\n\u001B[32m----> \u001B[39m\u001B[32m8\u001B[39m answer_llm = \u001B[43mllm\u001B[49m\u001B[43m(\u001B[49m\u001B[43mquestion\u001B[49m\u001B[43m)\u001B[49m\n\u001B[32m      9\u001B[39m doc_id = rec[\u001B[33m'\u001B[39m\u001B[33mdoc_id\u001B[39m\u001B[33m'\u001B[39m]\n\u001B[32m     10\u001B[39m \u001B[38;5;28mprint\u001B[39m(doc_id)\n",
      "\u001B[36mCell\u001B[39m\u001B[36m \u001B[39m\u001B[32mIn[16]\u001B[39m\u001B[32m, line 6\u001B[39m, in \u001B[36mllm\u001B[39m\u001B[34m(prompt)\u001B[39m\n\u001B[32m      5\u001B[39m \u001B[38;5;28;01mdef\u001B[39;00m\u001B[38;5;250m \u001B[39m\u001B[34mllm\u001B[39m(prompt):\n\u001B[32m----> \u001B[39m\u001B[32m6\u001B[39m     response = \u001B[43mclient\u001B[49m\u001B[43m.\u001B[49m\u001B[43mchat\u001B[49m\u001B[43m.\u001B[49m\u001B[43mcompletions\u001B[49m\u001B[43m.\u001B[49m\u001B[43mcreate\u001B[49m\u001B[43m(\u001B[49m\n\u001B[32m      7\u001B[39m \u001B[43m      \u001B[49m\u001B[43mextra_body\u001B[49m\u001B[43m=\u001B[49m\u001B[43m{\u001B[49m\u001B[43m}\u001B[49m\u001B[43m,\u001B[49m\n\u001B[32m      8\u001B[39m \u001B[43m      \u001B[49m\u001B[43mmodel\u001B[49m\u001B[43m=\u001B[49m\u001B[33;43m\"\u001B[39;49m\u001B[33;43mopenai/gpt-oss-120b\u001B[39;49m\u001B[33;43m\"\u001B[39;49m\u001B[43m,\u001B[49m\n\u001B[32m      9\u001B[39m \u001B[43m      \u001B[49m\u001B[43mmessages\u001B[49m\u001B[43m=\u001B[49m\u001B[43m[\u001B[49m\n\u001B[32m     10\u001B[39m \u001B[43m        \u001B[49m\u001B[43m{\u001B[49m\n\u001B[32m     11\u001B[39m \u001B[43m          \u001B[49m\u001B[33;43m\"\u001B[39;49m\u001B[33;43mrole\u001B[39;49m\u001B[33;43m\"\u001B[39;49m\u001B[43m:\u001B[49m\u001B[43m \u001B[49m\u001B[33;43m\"\u001B[39;49m\u001B[33;43muser\u001B[39;49m\u001B[33;43m\"\u001B[39;49m\u001B[43m,\u001B[49m\n\u001B[32m     12\u001B[39m \u001B[43m          \u001B[49m\u001B[33;43m\"\u001B[39;49m\u001B[33;43mcontent\u001B[39;49m\u001B[33;43m\"\u001B[39;49m\u001B[43m:\u001B[49m\u001B[43m \u001B[49m\u001B[43mprompt\u001B[49m\n\u001B[32m     13\u001B[39m \u001B[43m        \u001B[49m\u001B[43m}\u001B[49m\n\u001B[32m     14\u001B[39m \u001B[43m      \u001B[49m\u001B[43m]\u001B[49m\n\u001B[32m     15\u001B[39m \u001B[43m    \u001B[49m\u001B[43m)\u001B[49m\n\u001B[32m     16\u001B[39m     \u001B[38;5;28;01mreturn\u001B[39;00m response.choices[\u001B[32m0\u001B[39m].message.content\n",
      "\u001B[36mFile \u001B[39m\u001B[32m~/PycharmProjects/Health-Care-Assistant/.venv/lib/python3.12/site-packages/openai/_utils/_utils.py:286\u001B[39m, in \u001B[36mrequired_args.<locals>.inner.<locals>.wrapper\u001B[39m\u001B[34m(*args, **kwargs)\u001B[39m\n\u001B[32m    284\u001B[39m             msg = \u001B[33mf\u001B[39m\u001B[33m\"\u001B[39m\u001B[33mMissing required argument: \u001B[39m\u001B[38;5;132;01m{\u001B[39;00mquote(missing[\u001B[32m0\u001B[39m])\u001B[38;5;132;01m}\u001B[39;00m\u001B[33m\"\u001B[39m\n\u001B[32m    285\u001B[39m     \u001B[38;5;28;01mraise\u001B[39;00m \u001B[38;5;167;01mTypeError\u001B[39;00m(msg)\n\u001B[32m--> \u001B[39m\u001B[32m286\u001B[39m \u001B[38;5;28;01mreturn\u001B[39;00m \u001B[43mfunc\u001B[49m\u001B[43m(\u001B[49m\u001B[43m*\u001B[49m\u001B[43margs\u001B[49m\u001B[43m,\u001B[49m\u001B[43m \u001B[49m\u001B[43m*\u001B[49m\u001B[43m*\u001B[49m\u001B[43mkwargs\u001B[49m\u001B[43m)\u001B[49m\n",
      "\u001B[36mFile \u001B[39m\u001B[32m~/PycharmProjects/Health-Care-Assistant/.venv/lib/python3.12/site-packages/openai/resources/chat/completions/completions.py:1147\u001B[39m, in \u001B[36mCompletions.create\u001B[39m\u001B[34m(self, messages, model, audio, frequency_penalty, function_call, functions, logit_bias, logprobs, max_completion_tokens, max_tokens, metadata, modalities, n, parallel_tool_calls, prediction, presence_penalty, prompt_cache_key, reasoning_effort, response_format, safety_identifier, seed, service_tier, stop, store, stream, stream_options, temperature, tool_choice, tools, top_logprobs, top_p, user, verbosity, web_search_options, extra_headers, extra_query, extra_body, timeout)\u001B[39m\n\u001B[32m   1101\u001B[39m \u001B[38;5;129m@required_args\u001B[39m([\u001B[33m\"\u001B[39m\u001B[33mmessages\u001B[39m\u001B[33m\"\u001B[39m, \u001B[33m\"\u001B[39m\u001B[33mmodel\u001B[39m\u001B[33m\"\u001B[39m], [\u001B[33m\"\u001B[39m\u001B[33mmessages\u001B[39m\u001B[33m\"\u001B[39m, \u001B[33m\"\u001B[39m\u001B[33mmodel\u001B[39m\u001B[33m\"\u001B[39m, \u001B[33m\"\u001B[39m\u001B[33mstream\u001B[39m\u001B[33m\"\u001B[39m])\n\u001B[32m   1102\u001B[39m \u001B[38;5;28;01mdef\u001B[39;00m\u001B[38;5;250m \u001B[39m\u001B[34mcreate\u001B[39m(\n\u001B[32m   1103\u001B[39m     \u001B[38;5;28mself\u001B[39m,\n\u001B[32m   (...)\u001B[39m\u001B[32m   1144\u001B[39m     timeout: \u001B[38;5;28mfloat\u001B[39m | httpx.Timeout | \u001B[38;5;28;01mNone\u001B[39;00m | NotGiven = not_given,\n\u001B[32m   1145\u001B[39m ) -> ChatCompletion | Stream[ChatCompletionChunk]:\n\u001B[32m   1146\u001B[39m     validate_response_format(response_format)\n\u001B[32m-> \u001B[39m\u001B[32m1147\u001B[39m     \u001B[38;5;28;01mreturn\u001B[39;00m \u001B[38;5;28;43mself\u001B[39;49m\u001B[43m.\u001B[49m\u001B[43m_post\u001B[49m\u001B[43m(\u001B[49m\n\u001B[32m   1148\u001B[39m \u001B[43m        \u001B[49m\u001B[33;43m\"\u001B[39;49m\u001B[33;43m/chat/completions\u001B[39;49m\u001B[33;43m\"\u001B[39;49m\u001B[43m,\u001B[49m\n\u001B[32m   1149\u001B[39m \u001B[43m        \u001B[49m\u001B[43mbody\u001B[49m\u001B[43m=\u001B[49m\u001B[43mmaybe_transform\u001B[49m\u001B[43m(\u001B[49m\n\u001B[32m   1150\u001B[39m \u001B[43m            \u001B[49m\u001B[43m{\u001B[49m\n\u001B[32m   1151\u001B[39m \u001B[43m                \u001B[49m\u001B[33;43m\"\u001B[39;49m\u001B[33;43mmessages\u001B[39;49m\u001B[33;43m\"\u001B[39;49m\u001B[43m:\u001B[49m\u001B[43m \u001B[49m\u001B[43mmessages\u001B[49m\u001B[43m,\u001B[49m\n\u001B[32m   1152\u001B[39m \u001B[43m                \u001B[49m\u001B[33;43m\"\u001B[39;49m\u001B[33;43mmodel\u001B[39;49m\u001B[33;43m\"\u001B[39;49m\u001B[43m:\u001B[49m\u001B[43m \u001B[49m\u001B[43mmodel\u001B[49m\u001B[43m,\u001B[49m\n\u001B[32m   1153\u001B[39m \u001B[43m                \u001B[49m\u001B[33;43m\"\u001B[39;49m\u001B[33;43maudio\u001B[39;49m\u001B[33;43m\"\u001B[39;49m\u001B[43m:\u001B[49m\u001B[43m \u001B[49m\u001B[43maudio\u001B[49m\u001B[43m,\u001B[49m\n\u001B[32m   1154\u001B[39m \u001B[43m                \u001B[49m\u001B[33;43m\"\u001B[39;49m\u001B[33;43mfrequency_penalty\u001B[39;49m\u001B[33;43m\"\u001B[39;49m\u001B[43m:\u001B[49m\u001B[43m \u001B[49m\u001B[43mfrequency_penalty\u001B[49m\u001B[43m,\u001B[49m\n\u001B[32m   1155\u001B[39m \u001B[43m                \u001B[49m\u001B[33;43m\"\u001B[39;49m\u001B[33;43mfunction_call\u001B[39;49m\u001B[33;43m\"\u001B[39;49m\u001B[43m:\u001B[49m\u001B[43m \u001B[49m\u001B[43mfunction_call\u001B[49m\u001B[43m,\u001B[49m\n\u001B[32m   1156\u001B[39m \u001B[43m                \u001B[49m\u001B[33;43m\"\u001B[39;49m\u001B[33;43mfunctions\u001B[39;49m\u001B[33;43m\"\u001B[39;49m\u001B[43m:\u001B[49m\u001B[43m \u001B[49m\u001B[43mfunctions\u001B[49m\u001B[43m,\u001B[49m\n\u001B[32m   1157\u001B[39m \u001B[43m                \u001B[49m\u001B[33;43m\"\u001B[39;49m\u001B[33;43mlogit_bias\u001B[39;49m\u001B[33;43m\"\u001B[39;49m\u001B[43m:\u001B[49m\u001B[43m \u001B[49m\u001B[43mlogit_bias\u001B[49m\u001B[43m,\u001B[49m\n\u001B[32m   1158\u001B[39m \u001B[43m                \u001B[49m\u001B[33;43m\"\u001B[39;49m\u001B[33;43mlogprobs\u001B[39;49m\u001B[33;43m\"\u001B[39;49m\u001B[43m:\u001B[49m\u001B[43m \u001B[49m\u001B[43mlogprobs\u001B[49m\u001B[43m,\u001B[49m\n\u001B[32m   1159\u001B[39m \u001B[43m                \u001B[49m\u001B[33;43m\"\u001B[39;49m\u001B[33;43mmax_completion_tokens\u001B[39;49m\u001B[33;43m\"\u001B[39;49m\u001B[43m:\u001B[49m\u001B[43m \u001B[49m\u001B[43mmax_completion_tokens\u001B[49m\u001B[43m,\u001B[49m\n\u001B[32m   1160\u001B[39m \u001B[43m                \u001B[49m\u001B[33;43m\"\u001B[39;49m\u001B[33;43mmax_tokens\u001B[39;49m\u001B[33;43m\"\u001B[39;49m\u001B[43m:\u001B[49m\u001B[43m \u001B[49m\u001B[43mmax_tokens\u001B[49m\u001B[43m,\u001B[49m\n\u001B[32m   1161\u001B[39m \u001B[43m                \u001B[49m\u001B[33;43m\"\u001B[39;49m\u001B[33;43mmetadata\u001B[39;49m\u001B[33;43m\"\u001B[39;49m\u001B[43m:\u001B[49m\u001B[43m \u001B[49m\u001B[43mmetadata\u001B[49m\u001B[43m,\u001B[49m\n\u001B[32m   1162\u001B[39m \u001B[43m                \u001B[49m\u001B[33;43m\"\u001B[39;49m\u001B[33;43mmodalities\u001B[39;49m\u001B[33;43m\"\u001B[39;49m\u001B[43m:\u001B[49m\u001B[43m \u001B[49m\u001B[43mmodalities\u001B[49m\u001B[43m,\u001B[49m\n\u001B[32m   1163\u001B[39m \u001B[43m                \u001B[49m\u001B[33;43m\"\u001B[39;49m\u001B[33;43mn\u001B[39;49m\u001B[33;43m\"\u001B[39;49m\u001B[43m:\u001B[49m\u001B[43m \u001B[49m\u001B[43mn\u001B[49m\u001B[43m,\u001B[49m\n\u001B[32m   1164\u001B[39m \u001B[43m                \u001B[49m\u001B[33;43m\"\u001B[39;49m\u001B[33;43mparallel_tool_calls\u001B[39;49m\u001B[33;43m\"\u001B[39;49m\u001B[43m:\u001B[49m\u001B[43m \u001B[49m\u001B[43mparallel_tool_calls\u001B[49m\u001B[43m,\u001B[49m\n\u001B[32m   1165\u001B[39m \u001B[43m                \u001B[49m\u001B[33;43m\"\u001B[39;49m\u001B[33;43mprediction\u001B[39;49m\u001B[33;43m\"\u001B[39;49m\u001B[43m:\u001B[49m\u001B[43m \u001B[49m\u001B[43mprediction\u001B[49m\u001B[43m,\u001B[49m\n\u001B[32m   1166\u001B[39m \u001B[43m                \u001B[49m\u001B[33;43m\"\u001B[39;49m\u001B[33;43mpresence_penalty\u001B[39;49m\u001B[33;43m\"\u001B[39;49m\u001B[43m:\u001B[49m\u001B[43m \u001B[49m\u001B[43mpresence_penalty\u001B[49m\u001B[43m,\u001B[49m\n\u001B[32m   1167\u001B[39m \u001B[43m                \u001B[49m\u001B[33;43m\"\u001B[39;49m\u001B[33;43mprompt_cache_key\u001B[39;49m\u001B[33;43m\"\u001B[39;49m\u001B[43m:\u001B[49m\u001B[43m \u001B[49m\u001B[43mprompt_cache_key\u001B[49m\u001B[43m,\u001B[49m\n\u001B[32m   1168\u001B[39m \u001B[43m                \u001B[49m\u001B[33;43m\"\u001B[39;49m\u001B[33;43mreasoning_effort\u001B[39;49m\u001B[33;43m\"\u001B[39;49m\u001B[43m:\u001B[49m\u001B[43m \u001B[49m\u001B[43mreasoning_effort\u001B[49m\u001B[43m,\u001B[49m\n\u001B[32m   1169\u001B[39m \u001B[43m                \u001B[49m\u001B[33;43m\"\u001B[39;49m\u001B[33;43mresponse_format\u001B[39;49m\u001B[33;43m\"\u001B[39;49m\u001B[43m:\u001B[49m\u001B[43m \u001B[49m\u001B[43mresponse_format\u001B[49m\u001B[43m,\u001B[49m\n\u001B[32m   1170\u001B[39m \u001B[43m                \u001B[49m\u001B[33;43m\"\u001B[39;49m\u001B[33;43msafety_identifier\u001B[39;49m\u001B[33;43m\"\u001B[39;49m\u001B[43m:\u001B[49m\u001B[43m \u001B[49m\u001B[43msafety_identifier\u001B[49m\u001B[43m,\u001B[49m\n\u001B[32m   1171\u001B[39m \u001B[43m                \u001B[49m\u001B[33;43m\"\u001B[39;49m\u001B[33;43mseed\u001B[39;49m\u001B[33;43m\"\u001B[39;49m\u001B[43m:\u001B[49m\u001B[43m \u001B[49m\u001B[43mseed\u001B[49m\u001B[43m,\u001B[49m\n\u001B[32m   1172\u001B[39m \u001B[43m                \u001B[49m\u001B[33;43m\"\u001B[39;49m\u001B[33;43mservice_tier\u001B[39;49m\u001B[33;43m\"\u001B[39;49m\u001B[43m:\u001B[49m\u001B[43m \u001B[49m\u001B[43mservice_tier\u001B[49m\u001B[43m,\u001B[49m\n\u001B[32m   1173\u001B[39m \u001B[43m                \u001B[49m\u001B[33;43m\"\u001B[39;49m\u001B[33;43mstop\u001B[39;49m\u001B[33;43m\"\u001B[39;49m\u001B[43m:\u001B[49m\u001B[43m \u001B[49m\u001B[43mstop\u001B[49m\u001B[43m,\u001B[49m\n\u001B[32m   1174\u001B[39m \u001B[43m                \u001B[49m\u001B[33;43m\"\u001B[39;49m\u001B[33;43mstore\u001B[39;49m\u001B[33;43m\"\u001B[39;49m\u001B[43m:\u001B[49m\u001B[43m \u001B[49m\u001B[43mstore\u001B[49m\u001B[43m,\u001B[49m\n\u001B[32m   1175\u001B[39m \u001B[43m                \u001B[49m\u001B[33;43m\"\u001B[39;49m\u001B[33;43mstream\u001B[39;49m\u001B[33;43m\"\u001B[39;49m\u001B[43m:\u001B[49m\u001B[43m \u001B[49m\u001B[43mstream\u001B[49m\u001B[43m,\u001B[49m\n\u001B[32m   1176\u001B[39m \u001B[43m                \u001B[49m\u001B[33;43m\"\u001B[39;49m\u001B[33;43mstream_options\u001B[39;49m\u001B[33;43m\"\u001B[39;49m\u001B[43m:\u001B[49m\u001B[43m \u001B[49m\u001B[43mstream_options\u001B[49m\u001B[43m,\u001B[49m\n\u001B[32m   1177\u001B[39m \u001B[43m                \u001B[49m\u001B[33;43m\"\u001B[39;49m\u001B[33;43mtemperature\u001B[39;49m\u001B[33;43m\"\u001B[39;49m\u001B[43m:\u001B[49m\u001B[43m \u001B[49m\u001B[43mtemperature\u001B[49m\u001B[43m,\u001B[49m\n\u001B[32m   1178\u001B[39m \u001B[43m                \u001B[49m\u001B[33;43m\"\u001B[39;49m\u001B[33;43mtool_choice\u001B[39;49m\u001B[33;43m\"\u001B[39;49m\u001B[43m:\u001B[49m\u001B[43m \u001B[49m\u001B[43mtool_choice\u001B[49m\u001B[43m,\u001B[49m\n\u001B[32m   1179\u001B[39m \u001B[43m                \u001B[49m\u001B[33;43m\"\u001B[39;49m\u001B[33;43mtools\u001B[39;49m\u001B[33;43m\"\u001B[39;49m\u001B[43m:\u001B[49m\u001B[43m \u001B[49m\u001B[43mtools\u001B[49m\u001B[43m,\u001B[49m\n\u001B[32m   1180\u001B[39m \u001B[43m                \u001B[49m\u001B[33;43m\"\u001B[39;49m\u001B[33;43mtop_logprobs\u001B[39;49m\u001B[33;43m\"\u001B[39;49m\u001B[43m:\u001B[49m\u001B[43m \u001B[49m\u001B[43mtop_logprobs\u001B[49m\u001B[43m,\u001B[49m\n\u001B[32m   1181\u001B[39m \u001B[43m                \u001B[49m\u001B[33;43m\"\u001B[39;49m\u001B[33;43mtop_p\u001B[39;49m\u001B[33;43m\"\u001B[39;49m\u001B[43m:\u001B[49m\u001B[43m \u001B[49m\u001B[43mtop_p\u001B[49m\u001B[43m,\u001B[49m\n\u001B[32m   1182\u001B[39m \u001B[43m                \u001B[49m\u001B[33;43m\"\u001B[39;49m\u001B[33;43muser\u001B[39;49m\u001B[33;43m\"\u001B[39;49m\u001B[43m:\u001B[49m\u001B[43m \u001B[49m\u001B[43muser\u001B[49m\u001B[43m,\u001B[49m\n\u001B[32m   1183\u001B[39m \u001B[43m                \u001B[49m\u001B[33;43m\"\u001B[39;49m\u001B[33;43mverbosity\u001B[39;49m\u001B[33;43m\"\u001B[39;49m\u001B[43m:\u001B[49m\u001B[43m \u001B[49m\u001B[43mverbosity\u001B[49m\u001B[43m,\u001B[49m\n\u001B[32m   1184\u001B[39m \u001B[43m                \u001B[49m\u001B[33;43m\"\u001B[39;49m\u001B[33;43mweb_search_options\u001B[39;49m\u001B[33;43m\"\u001B[39;49m\u001B[43m:\u001B[49m\u001B[43m \u001B[49m\u001B[43mweb_search_options\u001B[49m\u001B[43m,\u001B[49m\n\u001B[32m   1185\u001B[39m \u001B[43m            \u001B[49m\u001B[43m}\u001B[49m\u001B[43m,\u001B[49m\n\u001B[32m   1186\u001B[39m \u001B[43m            \u001B[49m\u001B[43mcompletion_create_params\u001B[49m\u001B[43m.\u001B[49m\u001B[43mCompletionCreateParamsStreaming\u001B[49m\n\u001B[32m   1187\u001B[39m \u001B[43m            \u001B[49m\u001B[38;5;28;43;01mif\u001B[39;49;00m\u001B[43m \u001B[49m\u001B[43mstream\u001B[49m\n\u001B[32m   1188\u001B[39m \u001B[43m            \u001B[49m\u001B[38;5;28;43;01melse\u001B[39;49;00m\u001B[43m \u001B[49m\u001B[43mcompletion_create_params\u001B[49m\u001B[43m.\u001B[49m\u001B[43mCompletionCreateParamsNonStreaming\u001B[49m\u001B[43m,\u001B[49m\n\u001B[32m   1189\u001B[39m \u001B[43m        \u001B[49m\u001B[43m)\u001B[49m\u001B[43m,\u001B[49m\n\u001B[32m   1190\u001B[39m \u001B[43m        \u001B[49m\u001B[43moptions\u001B[49m\u001B[43m=\u001B[49m\u001B[43mmake_request_options\u001B[49m\u001B[43m(\u001B[49m\n\u001B[32m   1191\u001B[39m \u001B[43m            \u001B[49m\u001B[43mextra_headers\u001B[49m\u001B[43m=\u001B[49m\u001B[43mextra_headers\u001B[49m\u001B[43m,\u001B[49m\u001B[43m \u001B[49m\u001B[43mextra_query\u001B[49m\u001B[43m=\u001B[49m\u001B[43mextra_query\u001B[49m\u001B[43m,\u001B[49m\u001B[43m \u001B[49m\u001B[43mextra_body\u001B[49m\u001B[43m=\u001B[49m\u001B[43mextra_body\u001B[49m\u001B[43m,\u001B[49m\u001B[43m \u001B[49m\u001B[43mtimeout\u001B[49m\u001B[43m=\u001B[49m\u001B[43mtimeout\u001B[49m\n\u001B[32m   1192\u001B[39m \u001B[43m        \u001B[49m\u001B[43m)\u001B[49m\u001B[43m,\u001B[49m\n\u001B[32m   1193\u001B[39m \u001B[43m        \u001B[49m\u001B[43mcast_to\u001B[49m\u001B[43m=\u001B[49m\u001B[43mChatCompletion\u001B[49m\u001B[43m,\u001B[49m\n\u001B[32m   1194\u001B[39m \u001B[43m        \u001B[49m\u001B[43mstream\u001B[49m\u001B[43m=\u001B[49m\u001B[43mstream\u001B[49m\u001B[43m \u001B[49m\u001B[38;5;129;43;01mor\u001B[39;49;00m\u001B[43m \u001B[49m\u001B[38;5;28;43;01mFalse\u001B[39;49;00m\u001B[43m,\u001B[49m\n\u001B[32m   1195\u001B[39m \u001B[43m        \u001B[49m\u001B[43mstream_cls\u001B[49m\u001B[43m=\u001B[49m\u001B[43mStream\u001B[49m\u001B[43m[\u001B[49m\u001B[43mChatCompletionChunk\u001B[49m\u001B[43m]\u001B[49m\u001B[43m,\u001B[49m\n\u001B[32m   1196\u001B[39m \u001B[43m    \u001B[49m\u001B[43m)\u001B[49m\n",
      "\u001B[36mFile \u001B[39m\u001B[32m~/PycharmProjects/Health-Care-Assistant/.venv/lib/python3.12/site-packages/openai/_base_client.py:1259\u001B[39m, in \u001B[36mSyncAPIClient.post\u001B[39m\u001B[34m(self, path, cast_to, body, options, files, stream, stream_cls)\u001B[39m\n\u001B[32m   1245\u001B[39m \u001B[38;5;28;01mdef\u001B[39;00m\u001B[38;5;250m \u001B[39m\u001B[34mpost\u001B[39m(\n\u001B[32m   1246\u001B[39m     \u001B[38;5;28mself\u001B[39m,\n\u001B[32m   1247\u001B[39m     path: \u001B[38;5;28mstr\u001B[39m,\n\u001B[32m   (...)\u001B[39m\u001B[32m   1254\u001B[39m     stream_cls: \u001B[38;5;28mtype\u001B[39m[_StreamT] | \u001B[38;5;28;01mNone\u001B[39;00m = \u001B[38;5;28;01mNone\u001B[39;00m,\n\u001B[32m   1255\u001B[39m ) -> ResponseT | _StreamT:\n\u001B[32m   1256\u001B[39m     opts = FinalRequestOptions.construct(\n\u001B[32m   1257\u001B[39m         method=\u001B[33m\"\u001B[39m\u001B[33mpost\u001B[39m\u001B[33m\"\u001B[39m, url=path, json_data=body, files=to_httpx_files(files), **options\n\u001B[32m   1258\u001B[39m     )\n\u001B[32m-> \u001B[39m\u001B[32m1259\u001B[39m     \u001B[38;5;28;01mreturn\u001B[39;00m cast(ResponseT, \u001B[38;5;28;43mself\u001B[39;49m\u001B[43m.\u001B[49m\u001B[43mrequest\u001B[49m\u001B[43m(\u001B[49m\u001B[43mcast_to\u001B[49m\u001B[43m,\u001B[49m\u001B[43m \u001B[49m\u001B[43mopts\u001B[49m\u001B[43m,\u001B[49m\u001B[43m \u001B[49m\u001B[43mstream\u001B[49m\u001B[43m=\u001B[49m\u001B[43mstream\u001B[49m\u001B[43m,\u001B[49m\u001B[43m \u001B[49m\u001B[43mstream_cls\u001B[49m\u001B[43m=\u001B[49m\u001B[43mstream_cls\u001B[49m\u001B[43m)\u001B[49m)\n",
      "\u001B[36mFile \u001B[39m\u001B[32m~/PycharmProjects/Health-Care-Assistant/.venv/lib/python3.12/site-packages/openai/_base_client.py:982\u001B[39m, in \u001B[36mSyncAPIClient.request\u001B[39m\u001B[34m(self, cast_to, options, stream, stream_cls)\u001B[39m\n\u001B[32m    980\u001B[39m response = \u001B[38;5;28;01mNone\u001B[39;00m\n\u001B[32m    981\u001B[39m \u001B[38;5;28;01mtry\u001B[39;00m:\n\u001B[32m--> \u001B[39m\u001B[32m982\u001B[39m     response = \u001B[38;5;28;43mself\u001B[39;49m\u001B[43m.\u001B[49m\u001B[43m_client\u001B[49m\u001B[43m.\u001B[49m\u001B[43msend\u001B[49m\u001B[43m(\u001B[49m\n\u001B[32m    983\u001B[39m \u001B[43m        \u001B[49m\u001B[43mrequest\u001B[49m\u001B[43m,\u001B[49m\n\u001B[32m    984\u001B[39m \u001B[43m        \u001B[49m\u001B[43mstream\u001B[49m\u001B[43m=\u001B[49m\u001B[43mstream\u001B[49m\u001B[43m \u001B[49m\u001B[38;5;129;43;01mor\u001B[39;49;00m\u001B[43m \u001B[49m\u001B[38;5;28;43mself\u001B[39;49m\u001B[43m.\u001B[49m\u001B[43m_should_stream_response_body\u001B[49m\u001B[43m(\u001B[49m\u001B[43mrequest\u001B[49m\u001B[43m=\u001B[49m\u001B[43mrequest\u001B[49m\u001B[43m)\u001B[49m\u001B[43m,\u001B[49m\n\u001B[32m    985\u001B[39m \u001B[43m        \u001B[49m\u001B[43m*\u001B[49m\u001B[43m*\u001B[49m\u001B[43mkwargs\u001B[49m\u001B[43m,\u001B[49m\n\u001B[32m    986\u001B[39m \u001B[43m    \u001B[49m\u001B[43m)\u001B[49m\n\u001B[32m    987\u001B[39m \u001B[38;5;28;01mexcept\u001B[39;00m httpx.TimeoutException \u001B[38;5;28;01mas\u001B[39;00m err:\n\u001B[32m    988\u001B[39m     log.debug(\u001B[33m\"\u001B[39m\u001B[33mEncountered httpx.TimeoutException\u001B[39m\u001B[33m\"\u001B[39m, exc_info=\u001B[38;5;28;01mTrue\u001B[39;00m)\n",
      "\u001B[36mFile \u001B[39m\u001B[32m~/PycharmProjects/Health-Care-Assistant/.venv/lib/python3.12/site-packages/httpx/_client.py:928\u001B[39m, in \u001B[36mClient.send\u001B[39m\u001B[34m(self, request, stream, auth, follow_redirects)\u001B[39m\n\u001B[32m    926\u001B[39m \u001B[38;5;28;01mexcept\u001B[39;00m \u001B[38;5;167;01mBaseException\u001B[39;00m \u001B[38;5;28;01mas\u001B[39;00m exc:\n\u001B[32m    927\u001B[39m     response.close()\n\u001B[32m--> \u001B[39m\u001B[32m928\u001B[39m     \u001B[38;5;28;01mraise\u001B[39;00m exc\n",
      "\u001B[36mFile \u001B[39m\u001B[32m~/PycharmProjects/Health-Care-Assistant/.venv/lib/python3.12/site-packages/httpx/_client.py:922\u001B[39m, in \u001B[36mClient.send\u001B[39m\u001B[34m(self, request, stream, auth, follow_redirects)\u001B[39m\n\u001B[32m    920\u001B[39m \u001B[38;5;28;01mtry\u001B[39;00m:\n\u001B[32m    921\u001B[39m     \u001B[38;5;28;01mif\u001B[39;00m \u001B[38;5;129;01mnot\u001B[39;00m stream:\n\u001B[32m--> \u001B[39m\u001B[32m922\u001B[39m         \u001B[43mresponse\u001B[49m\u001B[43m.\u001B[49m\u001B[43mread\u001B[49m\u001B[43m(\u001B[49m\u001B[43m)\u001B[49m\n\u001B[32m    924\u001B[39m     \u001B[38;5;28;01mreturn\u001B[39;00m response\n\u001B[32m    926\u001B[39m \u001B[38;5;28;01mexcept\u001B[39;00m \u001B[38;5;167;01mBaseException\u001B[39;00m \u001B[38;5;28;01mas\u001B[39;00m exc:\n",
      "\u001B[36mFile \u001B[39m\u001B[32m~/PycharmProjects/Health-Care-Assistant/.venv/lib/python3.12/site-packages/httpx/_models.py:881\u001B[39m, in \u001B[36mResponse.read\u001B[39m\u001B[34m(self)\u001B[39m\n\u001B[32m    877\u001B[39m \u001B[38;5;250m\u001B[39m\u001B[33;03m\"\"\"\u001B[39;00m\n\u001B[32m    878\u001B[39m \u001B[33;03mRead and return the response content.\u001B[39;00m\n\u001B[32m    879\u001B[39m \u001B[33;03m\"\"\"\u001B[39;00m\n\u001B[32m    880\u001B[39m \u001B[38;5;28;01mif\u001B[39;00m \u001B[38;5;129;01mnot\u001B[39;00m \u001B[38;5;28mhasattr\u001B[39m(\u001B[38;5;28mself\u001B[39m, \u001B[33m\"\u001B[39m\u001B[33m_content\u001B[39m\u001B[33m\"\u001B[39m):\n\u001B[32m--> \u001B[39m\u001B[32m881\u001B[39m     \u001B[38;5;28mself\u001B[39m._content = \u001B[33;43mb\u001B[39;49m\u001B[33;43m\"\u001B[39;49m\u001B[33;43m\"\u001B[39;49m\u001B[43m.\u001B[49m\u001B[43mjoin\u001B[49m\u001B[43m(\u001B[49m\u001B[38;5;28;43mself\u001B[39;49m\u001B[43m.\u001B[49m\u001B[43miter_bytes\u001B[49m\u001B[43m(\u001B[49m\u001B[43m)\u001B[49m\u001B[43m)\u001B[49m\n\u001B[32m    882\u001B[39m \u001B[38;5;28;01mreturn\u001B[39;00m \u001B[38;5;28mself\u001B[39m._content\n",
      "\u001B[36mFile \u001B[39m\u001B[32m~/PycharmProjects/Health-Care-Assistant/.venv/lib/python3.12/site-packages/httpx/_models.py:897\u001B[39m, in \u001B[36mResponse.iter_bytes\u001B[39m\u001B[34m(self, chunk_size)\u001B[39m\n\u001B[32m    895\u001B[39m chunker = ByteChunker(chunk_size=chunk_size)\n\u001B[32m    896\u001B[39m \u001B[38;5;28;01mwith\u001B[39;00m request_context(request=\u001B[38;5;28mself\u001B[39m._request):\n\u001B[32m--> \u001B[39m\u001B[32m897\u001B[39m \u001B[43m    \u001B[49m\u001B[38;5;28;43;01mfor\u001B[39;49;00m\u001B[43m \u001B[49m\u001B[43mraw_bytes\u001B[49m\u001B[43m \u001B[49m\u001B[38;5;129;43;01min\u001B[39;49;00m\u001B[43m \u001B[49m\u001B[38;5;28;43mself\u001B[39;49m\u001B[43m.\u001B[49m\u001B[43miter_raw\u001B[49m\u001B[43m(\u001B[49m\u001B[43m)\u001B[49m\u001B[43m:\u001B[49m\n\u001B[32m    898\u001B[39m \u001B[43m        \u001B[49m\u001B[43mdecoded\u001B[49m\u001B[43m \u001B[49m\u001B[43m=\u001B[49m\u001B[43m \u001B[49m\u001B[43mdecoder\u001B[49m\u001B[43m.\u001B[49m\u001B[43mdecode\u001B[49m\u001B[43m(\u001B[49m\u001B[43mraw_bytes\u001B[49m\u001B[43m)\u001B[49m\n\u001B[32m    899\u001B[39m \u001B[43m        \u001B[49m\u001B[38;5;28;43;01mfor\u001B[39;49;00m\u001B[43m \u001B[49m\u001B[43mchunk\u001B[49m\u001B[43m \u001B[49m\u001B[38;5;129;43;01min\u001B[39;49;00m\u001B[43m \u001B[49m\u001B[43mchunker\u001B[49m\u001B[43m.\u001B[49m\u001B[43mdecode\u001B[49m\u001B[43m(\u001B[49m\u001B[43mdecoded\u001B[49m\u001B[43m)\u001B[49m\u001B[43m:\u001B[49m\n",
      "\u001B[36mFile \u001B[39m\u001B[32m~/PycharmProjects/Health-Care-Assistant/.venv/lib/python3.12/site-packages/httpx/_models.py:951\u001B[39m, in \u001B[36mResponse.iter_raw\u001B[39m\u001B[34m(self, chunk_size)\u001B[39m\n\u001B[32m    948\u001B[39m chunker = ByteChunker(chunk_size=chunk_size)\n\u001B[32m    950\u001B[39m \u001B[38;5;28;01mwith\u001B[39;00m request_context(request=\u001B[38;5;28mself\u001B[39m._request):\n\u001B[32m--> \u001B[39m\u001B[32m951\u001B[39m \u001B[43m    \u001B[49m\u001B[38;5;28;43;01mfor\u001B[39;49;00m\u001B[43m \u001B[49m\u001B[43mraw_stream_bytes\u001B[49m\u001B[43m \u001B[49m\u001B[38;5;129;43;01min\u001B[39;49;00m\u001B[43m \u001B[49m\u001B[38;5;28;43mself\u001B[39;49m\u001B[43m.\u001B[49m\u001B[43mstream\u001B[49m\u001B[43m:\u001B[49m\n\u001B[32m    952\u001B[39m \u001B[43m        \u001B[49m\u001B[38;5;28;43mself\u001B[39;49m\u001B[43m.\u001B[49m\u001B[43m_num_bytes_downloaded\u001B[49m\u001B[43m \u001B[49m\u001B[43m+\u001B[49m\u001B[43m=\u001B[49m\u001B[43m \u001B[49m\u001B[38;5;28;43mlen\u001B[39;49m\u001B[43m(\u001B[49m\u001B[43mraw_stream_bytes\u001B[49m\u001B[43m)\u001B[49m\n\u001B[32m    953\u001B[39m \u001B[43m        \u001B[49m\u001B[38;5;28;43;01mfor\u001B[39;49;00m\u001B[43m \u001B[49m\u001B[43mchunk\u001B[49m\u001B[43m \u001B[49m\u001B[38;5;129;43;01min\u001B[39;49;00m\u001B[43m \u001B[49m\u001B[43mchunker\u001B[49m\u001B[43m.\u001B[49m\u001B[43mdecode\u001B[49m\u001B[43m(\u001B[49m\u001B[43mraw_stream_bytes\u001B[49m\u001B[43m)\u001B[49m\u001B[43m:\u001B[49m\n",
      "\u001B[36mFile \u001B[39m\u001B[32m~/PycharmProjects/Health-Care-Assistant/.venv/lib/python3.12/site-packages/httpx/_client.py:153\u001B[39m, in \u001B[36mBoundSyncStream.__iter__\u001B[39m\u001B[34m(self)\u001B[39m\n\u001B[32m    152\u001B[39m \u001B[38;5;28;01mdef\u001B[39;00m\u001B[38;5;250m \u001B[39m\u001B[34m__iter__\u001B[39m(\u001B[38;5;28mself\u001B[39m) -> typing.Iterator[\u001B[38;5;28mbytes\u001B[39m]:\n\u001B[32m--> \u001B[39m\u001B[32m153\u001B[39m \u001B[43m    \u001B[49m\u001B[38;5;28;43;01mfor\u001B[39;49;00m\u001B[43m \u001B[49m\u001B[43mchunk\u001B[49m\u001B[43m \u001B[49m\u001B[38;5;129;43;01min\u001B[39;49;00m\u001B[43m \u001B[49m\u001B[38;5;28;43mself\u001B[39;49m\u001B[43m.\u001B[49m\u001B[43m_stream\u001B[49m\u001B[43m:\u001B[49m\n\u001B[32m    154\u001B[39m \u001B[43m        \u001B[49m\u001B[38;5;28;43;01myield\u001B[39;49;00m\u001B[43m \u001B[49m\u001B[43mchunk\u001B[49m\n",
      "\u001B[36mFile \u001B[39m\u001B[32m~/PycharmProjects/Health-Care-Assistant/.venv/lib/python3.12/site-packages/httpx/_transports/default.py:127\u001B[39m, in \u001B[36mResponseStream.__iter__\u001B[39m\u001B[34m(self)\u001B[39m\n\u001B[32m    125\u001B[39m \u001B[38;5;28;01mdef\u001B[39;00m\u001B[38;5;250m \u001B[39m\u001B[34m__iter__\u001B[39m(\u001B[38;5;28mself\u001B[39m) -> typing.Iterator[\u001B[38;5;28mbytes\u001B[39m]:\n\u001B[32m    126\u001B[39m     \u001B[38;5;28;01mwith\u001B[39;00m map_httpcore_exceptions():\n\u001B[32m--> \u001B[39m\u001B[32m127\u001B[39m \u001B[43m        \u001B[49m\u001B[38;5;28;43;01mfor\u001B[39;49;00m\u001B[43m \u001B[49m\u001B[43mpart\u001B[49m\u001B[43m \u001B[49m\u001B[38;5;129;43;01min\u001B[39;49;00m\u001B[43m \u001B[49m\u001B[38;5;28;43mself\u001B[39;49m\u001B[43m.\u001B[49m\u001B[43m_httpcore_stream\u001B[49m\u001B[43m:\u001B[49m\n\u001B[32m    128\u001B[39m \u001B[43m            \u001B[49m\u001B[38;5;28;43;01myield\u001B[39;49;00m\u001B[43m \u001B[49m\u001B[43mpart\u001B[49m\n",
      "\u001B[36mFile \u001B[39m\u001B[32m~/PycharmProjects/Health-Care-Assistant/.venv/lib/python3.12/site-packages/httpcore/_sync/connection_pool.py:407\u001B[39m, in \u001B[36mPoolByteStream.__iter__\u001B[39m\u001B[34m(self)\u001B[39m\n\u001B[32m    405\u001B[39m \u001B[38;5;28;01mexcept\u001B[39;00m \u001B[38;5;167;01mBaseException\u001B[39;00m \u001B[38;5;28;01mas\u001B[39;00m exc:\n\u001B[32m    406\u001B[39m     \u001B[38;5;28mself\u001B[39m.close()\n\u001B[32m--> \u001B[39m\u001B[32m407\u001B[39m     \u001B[38;5;28;01mraise\u001B[39;00m exc \u001B[38;5;28;01mfrom\u001B[39;00m\u001B[38;5;250m \u001B[39m\u001B[38;5;28;01mNone\u001B[39;00m\n",
      "\u001B[36mFile \u001B[39m\u001B[32m~/PycharmProjects/Health-Care-Assistant/.venv/lib/python3.12/site-packages/httpcore/_sync/connection_pool.py:403\u001B[39m, in \u001B[36mPoolByteStream.__iter__\u001B[39m\u001B[34m(self)\u001B[39m\n\u001B[32m    401\u001B[39m \u001B[38;5;28;01mdef\u001B[39;00m\u001B[38;5;250m \u001B[39m\u001B[34m__iter__\u001B[39m(\u001B[38;5;28mself\u001B[39m) -> typing.Iterator[\u001B[38;5;28mbytes\u001B[39m]:\n\u001B[32m    402\u001B[39m     \u001B[38;5;28;01mtry\u001B[39;00m:\n\u001B[32m--> \u001B[39m\u001B[32m403\u001B[39m \u001B[43m        \u001B[49m\u001B[38;5;28;43;01mfor\u001B[39;49;00m\u001B[43m \u001B[49m\u001B[43mpart\u001B[49m\u001B[43m \u001B[49m\u001B[38;5;129;43;01min\u001B[39;49;00m\u001B[43m \u001B[49m\u001B[38;5;28;43mself\u001B[39;49m\u001B[43m.\u001B[49m\u001B[43m_stream\u001B[49m\u001B[43m:\u001B[49m\n\u001B[32m    404\u001B[39m \u001B[43m            \u001B[49m\u001B[38;5;28;43;01myield\u001B[39;49;00m\u001B[43m \u001B[49m\u001B[43mpart\u001B[49m\n\u001B[32m    405\u001B[39m     \u001B[38;5;28;01mexcept\u001B[39;00m \u001B[38;5;167;01mBaseException\u001B[39;00m \u001B[38;5;28;01mas\u001B[39;00m exc:\n",
      "\u001B[36mFile \u001B[39m\u001B[32m~/PycharmProjects/Health-Care-Assistant/.venv/lib/python3.12/site-packages/httpcore/_sync/http11.py:342\u001B[39m, in \u001B[36mHTTP11ConnectionByteStream.__iter__\u001B[39m\u001B[34m(self)\u001B[39m\n\u001B[32m    340\u001B[39m \u001B[38;5;28;01mwith\u001B[39;00m ShieldCancellation():\n\u001B[32m    341\u001B[39m     \u001B[38;5;28mself\u001B[39m.close()\n\u001B[32m--> \u001B[39m\u001B[32m342\u001B[39m \u001B[38;5;28;01mraise\u001B[39;00m exc\n",
      "\u001B[36mFile \u001B[39m\u001B[32m~/PycharmProjects/Health-Care-Assistant/.venv/lib/python3.12/site-packages/httpcore/_sync/http11.py:334\u001B[39m, in \u001B[36mHTTP11ConnectionByteStream.__iter__\u001B[39m\u001B[34m(self)\u001B[39m\n\u001B[32m    332\u001B[39m \u001B[38;5;28;01mtry\u001B[39;00m:\n\u001B[32m    333\u001B[39m     \u001B[38;5;28;01mwith\u001B[39;00m Trace(\u001B[33m\"\u001B[39m\u001B[33mreceive_response_body\u001B[39m\u001B[33m\"\u001B[39m, logger, \u001B[38;5;28mself\u001B[39m._request, kwargs):\n\u001B[32m--> \u001B[39m\u001B[32m334\u001B[39m \u001B[43m        \u001B[49m\u001B[38;5;28;43;01mfor\u001B[39;49;00m\u001B[43m \u001B[49m\u001B[43mchunk\u001B[49m\u001B[43m \u001B[49m\u001B[38;5;129;43;01min\u001B[39;49;00m\u001B[43m \u001B[49m\u001B[38;5;28;43mself\u001B[39;49m\u001B[43m.\u001B[49m\u001B[43m_connection\u001B[49m\u001B[43m.\u001B[49m\u001B[43m_receive_response_body\u001B[49m\u001B[43m(\u001B[49m\u001B[43m*\u001B[49m\u001B[43m*\u001B[49m\u001B[43mkwargs\u001B[49m\u001B[43m)\u001B[49m\u001B[43m:\u001B[49m\n\u001B[32m    335\u001B[39m \u001B[43m            \u001B[49m\u001B[38;5;28;43;01myield\u001B[39;49;00m\u001B[43m \u001B[49m\u001B[43mchunk\u001B[49m\n\u001B[32m    336\u001B[39m \u001B[38;5;28;01mexcept\u001B[39;00m \u001B[38;5;167;01mBaseException\u001B[39;00m \u001B[38;5;28;01mas\u001B[39;00m exc:\n\u001B[32m    337\u001B[39m     \u001B[38;5;66;03m# If we get an exception while streaming the response,\u001B[39;00m\n\u001B[32m    338\u001B[39m     \u001B[38;5;66;03m# we want to close the response (and possibly the connection)\u001B[39;00m\n\u001B[32m    339\u001B[39m     \u001B[38;5;66;03m# before raising that exception.\u001B[39;00m\n",
      "\u001B[36mFile \u001B[39m\u001B[32m~/PycharmProjects/Health-Care-Assistant/.venv/lib/python3.12/site-packages/httpcore/_sync/http11.py:203\u001B[39m, in \u001B[36mHTTP11Connection._receive_response_body\u001B[39m\u001B[34m(self, request)\u001B[39m\n\u001B[32m    200\u001B[39m timeout = timeouts.get(\u001B[33m\"\u001B[39m\u001B[33mread\u001B[39m\u001B[33m\"\u001B[39m, \u001B[38;5;28;01mNone\u001B[39;00m)\n\u001B[32m    202\u001B[39m \u001B[38;5;28;01mwhile\u001B[39;00m \u001B[38;5;28;01mTrue\u001B[39;00m:\n\u001B[32m--> \u001B[39m\u001B[32m203\u001B[39m     event = \u001B[38;5;28;43mself\u001B[39;49m\u001B[43m.\u001B[49m\u001B[43m_receive_event\u001B[49m\u001B[43m(\u001B[49m\u001B[43mtimeout\u001B[49m\u001B[43m=\u001B[49m\u001B[43mtimeout\u001B[49m\u001B[43m)\u001B[49m\n\u001B[32m    204\u001B[39m     \u001B[38;5;28;01mif\u001B[39;00m \u001B[38;5;28misinstance\u001B[39m(event, h11.Data):\n\u001B[32m    205\u001B[39m         \u001B[38;5;28;01myield\u001B[39;00m \u001B[38;5;28mbytes\u001B[39m(event.data)\n",
      "\u001B[36mFile \u001B[39m\u001B[32m~/PycharmProjects/Health-Care-Assistant/.venv/lib/python3.12/site-packages/httpcore/_sync/http11.py:217\u001B[39m, in \u001B[36mHTTP11Connection._receive_event\u001B[39m\u001B[34m(self, timeout)\u001B[39m\n\u001B[32m    214\u001B[39m     event = \u001B[38;5;28mself\u001B[39m._h11_state.next_event()\n\u001B[32m    216\u001B[39m \u001B[38;5;28;01mif\u001B[39;00m event \u001B[38;5;129;01mis\u001B[39;00m h11.NEED_DATA:\n\u001B[32m--> \u001B[39m\u001B[32m217\u001B[39m     data = \u001B[38;5;28;43mself\u001B[39;49m\u001B[43m.\u001B[49m\u001B[43m_network_stream\u001B[49m\u001B[43m.\u001B[49m\u001B[43mread\u001B[49m\u001B[43m(\u001B[49m\n\u001B[32m    218\u001B[39m \u001B[43m        \u001B[49m\u001B[38;5;28;43mself\u001B[39;49m\u001B[43m.\u001B[49m\u001B[43mREAD_NUM_BYTES\u001B[49m\u001B[43m,\u001B[49m\u001B[43m \u001B[49m\u001B[43mtimeout\u001B[49m\u001B[43m=\u001B[49m\u001B[43mtimeout\u001B[49m\n\u001B[32m    219\u001B[39m \u001B[43m    \u001B[49m\u001B[43m)\u001B[49m\n\u001B[32m    221\u001B[39m     \u001B[38;5;66;03m# If we feed this case through h11 we'll raise an exception like:\u001B[39;00m\n\u001B[32m    222\u001B[39m     \u001B[38;5;66;03m#\u001B[39;00m\n\u001B[32m    223\u001B[39m     \u001B[38;5;66;03m#     httpcore.RemoteProtocolError: can't handle event type\u001B[39;00m\n\u001B[32m   (...)\u001B[39m\u001B[32m    227\u001B[39m     \u001B[38;5;66;03m# perspective. Instead we handle this case distinctly and treat\u001B[39;00m\n\u001B[32m    228\u001B[39m     \u001B[38;5;66;03m# it as a ConnectError.\u001B[39;00m\n\u001B[32m    229\u001B[39m     \u001B[38;5;28;01mif\u001B[39;00m data == \u001B[33mb\u001B[39m\u001B[33m\"\u001B[39m\u001B[33m\"\u001B[39m \u001B[38;5;129;01mand\u001B[39;00m \u001B[38;5;28mself\u001B[39m._h11_state.their_state == h11.SEND_RESPONSE:\n",
      "\u001B[36mFile \u001B[39m\u001B[32m~/PycharmProjects/Health-Care-Assistant/.venv/lib/python3.12/site-packages/httpcore/_backends/sync.py:128\u001B[39m, in \u001B[36mSyncStream.read\u001B[39m\u001B[34m(self, max_bytes, timeout)\u001B[39m\n\u001B[32m    126\u001B[39m \u001B[38;5;28;01mwith\u001B[39;00m map_exceptions(exc_map):\n\u001B[32m    127\u001B[39m     \u001B[38;5;28mself\u001B[39m._sock.settimeout(timeout)\n\u001B[32m--> \u001B[39m\u001B[32m128\u001B[39m     \u001B[38;5;28;01mreturn\u001B[39;00m \u001B[38;5;28;43mself\u001B[39;49m\u001B[43m.\u001B[49m\u001B[43m_sock\u001B[49m\u001B[43m.\u001B[49m\u001B[43mrecv\u001B[49m\u001B[43m(\u001B[49m\u001B[43mmax_bytes\u001B[49m\u001B[43m)\u001B[49m\n",
      "\u001B[36mFile \u001B[39m\u001B[32m/Library/Frameworks/Python.framework/Versions/3.12/lib/python3.12/ssl.py:1232\u001B[39m, in \u001B[36mSSLSocket.recv\u001B[39m\u001B[34m(self, buflen, flags)\u001B[39m\n\u001B[32m   1228\u001B[39m     \u001B[38;5;28;01mif\u001B[39;00m flags != \u001B[32m0\u001B[39m:\n\u001B[32m   1229\u001B[39m         \u001B[38;5;28;01mraise\u001B[39;00m \u001B[38;5;167;01mValueError\u001B[39;00m(\n\u001B[32m   1230\u001B[39m             \u001B[33m\"\u001B[39m\u001B[33mnon-zero flags not allowed in calls to recv() on \u001B[39m\u001B[38;5;132;01m%s\u001B[39;00m\u001B[33m\"\u001B[39m %\n\u001B[32m   1231\u001B[39m             \u001B[38;5;28mself\u001B[39m.\u001B[34m__class__\u001B[39m)\n\u001B[32m-> \u001B[39m\u001B[32m1232\u001B[39m     \u001B[38;5;28;01mreturn\u001B[39;00m \u001B[38;5;28;43mself\u001B[39;49m\u001B[43m.\u001B[49m\u001B[43mread\u001B[49m\u001B[43m(\u001B[49m\u001B[43mbuflen\u001B[49m\u001B[43m)\u001B[49m\n\u001B[32m   1233\u001B[39m \u001B[38;5;28;01melse\u001B[39;00m:\n\u001B[32m   1234\u001B[39m     \u001B[38;5;28;01mreturn\u001B[39;00m \u001B[38;5;28msuper\u001B[39m().recv(buflen, flags)\n",
      "\u001B[36mFile \u001B[39m\u001B[32m/Library/Frameworks/Python.framework/Versions/3.12/lib/python3.12/ssl.py:1105\u001B[39m, in \u001B[36mSSLSocket.read\u001B[39m\u001B[34m(self, len, buffer)\u001B[39m\n\u001B[32m   1103\u001B[39m         \u001B[38;5;28;01mreturn\u001B[39;00m \u001B[38;5;28mself\u001B[39m._sslobj.read(\u001B[38;5;28mlen\u001B[39m, buffer)\n\u001B[32m   1104\u001B[39m     \u001B[38;5;28;01melse\u001B[39;00m:\n\u001B[32m-> \u001B[39m\u001B[32m1105\u001B[39m         \u001B[38;5;28;01mreturn\u001B[39;00m \u001B[38;5;28;43mself\u001B[39;49m\u001B[43m.\u001B[49m\u001B[43m_sslobj\u001B[49m\u001B[43m.\u001B[49m\u001B[43mread\u001B[49m\u001B[43m(\u001B[49m\u001B[38;5;28;43mlen\u001B[39;49m\u001B[43m)\u001B[49m\n\u001B[32m   1106\u001B[39m \u001B[38;5;28;01mexcept\u001B[39;00m SSLError \u001B[38;5;28;01mas\u001B[39;00m x:\n\u001B[32m   1107\u001B[39m     \u001B[38;5;28;01mif\u001B[39;00m x.args[\u001B[32m0\u001B[39m] == SSL_ERROR_EOF \u001B[38;5;129;01mand\u001B[39;00m \u001B[38;5;28mself\u001B[39m.suppress_ragged_eofs:\n",
      "\u001B[31mKeyboardInterrupt\u001B[39m: "
     ]
    }
   ],
   "execution_count": 41
  },
  {
   "metadata": {
    "ExecuteTime": {
     "end_time": "2025-10-06T18:54:13.384204Z",
     "start_time": "2025-10-06T18:31:16.747166Z"
    }
   },
   "cell_type": "code",
   "source": [
    "answers1 = {}\n",
    "\n",
    "for i, rec in tqdm(enumerate(ground_truth)):\n",
    "    # Skip all indices before 70\n",
    "    if i < 70:\n",
    "        continue\n",
    "\n",
    "    if i in answers1:\n",
    "        continue\n",
    "        question = rec['question']\n",
    "    answer_llm = llm(question)\n",
    "    doc_id = rec['doc_id']\n",
    "    original_doc = doc_idx[doc_id]\n",
    "    answer_orig = original_doc['Answer']\n",
    "\n",
    "    answers1[i] = {\n",
    "        'answer_llm': answer_llm,\n",
    "        'answer_orig': answer_orig,\n",
    "        'document': doc_id\n",
    "    }"
   ],
   "id": "451d33917d9f2a47",
   "outputs": [
    {
     "name": "stderr",
     "output_type": "stream",
     "text": [
      "126it [22:56, 10.93s/it]\n"
     ]
    }
   ],
   "execution_count": 45
  },
  {
   "metadata": {
    "ExecuteTime": {
     "end_time": "2025-10-06T19:00:46.944295Z",
     "start_time": "2025-10-06T19:00:46.940790Z"
    }
   },
   "cell_type": "code",
   "source": "len(ground_truth)",
   "id": "7fd51338e6d66017",
   "outputs": [
    {
     "data": {
      "text/plain": [
       "126"
      ]
     },
     "execution_count": 47,
     "metadata": {},
     "output_type": "execute_result"
    }
   ],
   "execution_count": 47
  },
  {
   "metadata": {
    "ExecuteTime": {
     "end_time": "2025-10-06T20:37:24.316851Z",
     "start_time": "2025-10-06T20:37:24.294550Z"
    }
   },
   "cell_type": "code",
   "source": [
    "df = pd.DataFrame(answers.values())\n",
    "df1 = pd.DataFrame(answers1.values())\n",
    "df_merged = pd.concat([df, df1])\n",
    "df_merged.to_csv('Rag_eval.csv')\n"
   ],
   "id": "1bc4c6e9a60b4d6e",
   "outputs": [],
   "execution_count": 54
  },
  {
   "metadata": {
    "ExecuteTime": {
     "end_time": "2025-10-06T20:42:57.018058Z",
     "start_time": "2025-10-06T20:42:57.010622Z"
    }
   },
   "cell_type": "code",
   "source": "df_merged",
   "id": "dbf66f8215bbf349",
   "outputs": [
    {
     "data": {
      "text/plain": [
       "                                           answer_llm  \\\n",
       "0   **Non‑small cell lung cancer (NSCLC)** is a br...   \n",
       "1   ### Key Lifestyle and Environmental Factors th...   \n",
       "2   I’m sorry you’re dealing with those symptoms—i...   \n",
       "3   **Non‑small cell lung cancer (NSCLC)** is usua...   \n",
       "4   ### Key Factors Doctors Use to Gauge Prognosis...   \n",
       "..                                                ...   \n",
       "51  **How doctors confirm a diagnosis of prostate ...   \n",
       "52  Below is a step‑by‑step outline of what a urol...   \n",
       "53  Below is a step‑by‑step overview of what most ...   \n",
       "54  **How doctors work up a possible prostate canc...   \n",
       "55  **How doctors work up a possible prostate canc...   \n",
       "\n",
       "                                          answer_orig    document  \n",
       "0   Key Points Non-small cell lung cancer is a dis...  5e34bcbaa8  \n",
       "1   Smoking is the major risk factor for non-small...  c2845efbbc  \n",
       "2   Signs of non-small cell lung cancer include a ...  d1bc99107d  \n",
       "3   Tests that examine the lungs are used to detec...  abdbe99dd2  \n",
       "4   Certain factors affect prognosis (chance of re...  597a81526a  \n",
       "..                                                ...         ...  \n",
       "51  Tests that examine the brain and spinal cord a...  c00ee621ba  \n",
       "52  Certain factors affect prognosis (chance of re...  46f25325c4  \n",
       "53  New types of treatment are being tested in cli...  6fe53e68cb  \n",
       "54  Key Points The area where the tumor is found a...  16d4db3ed8  \n",
       "55  Key Points Intraocular melanoma is a disease i...  2c627474a5  \n",
       "\n",
       "[125 rows x 3 columns]"
      ],
      "text/html": [
       "<div>\n",
       "<style scoped>\n",
       "    .dataframe tbody tr th:only-of-type {\n",
       "        vertical-align: middle;\n",
       "    }\n",
       "\n",
       "    .dataframe tbody tr th {\n",
       "        vertical-align: top;\n",
       "    }\n",
       "\n",
       "    .dataframe thead th {\n",
       "        text-align: right;\n",
       "    }\n",
       "</style>\n",
       "<table border=\"1\" class=\"dataframe\">\n",
       "  <thead>\n",
       "    <tr style=\"text-align: right;\">\n",
       "      <th></th>\n",
       "      <th>answer_llm</th>\n",
       "      <th>answer_orig</th>\n",
       "      <th>document</th>\n",
       "    </tr>\n",
       "  </thead>\n",
       "  <tbody>\n",
       "    <tr>\n",
       "      <th>0</th>\n",
       "      <td>**Non‑small cell lung cancer (NSCLC)** is a br...</td>\n",
       "      <td>Key Points Non-small cell lung cancer is a dis...</td>\n",
       "      <td>5e34bcbaa8</td>\n",
       "    </tr>\n",
       "    <tr>\n",
       "      <th>1</th>\n",
       "      <td>### Key Lifestyle and Environmental Factors th...</td>\n",
       "      <td>Smoking is the major risk factor for non-small...</td>\n",
       "      <td>c2845efbbc</td>\n",
       "    </tr>\n",
       "    <tr>\n",
       "      <th>2</th>\n",
       "      <td>I’m sorry you’re dealing with those symptoms—i...</td>\n",
       "      <td>Signs of non-small cell lung cancer include a ...</td>\n",
       "      <td>d1bc99107d</td>\n",
       "    </tr>\n",
       "    <tr>\n",
       "      <th>3</th>\n",
       "      <td>**Non‑small cell lung cancer (NSCLC)** is usua...</td>\n",
       "      <td>Tests that examine the lungs are used to detec...</td>\n",
       "      <td>abdbe99dd2</td>\n",
       "    </tr>\n",
       "    <tr>\n",
       "      <th>4</th>\n",
       "      <td>### Key Factors Doctors Use to Gauge Prognosis...</td>\n",
       "      <td>Certain factors affect prognosis (chance of re...</td>\n",
       "      <td>597a81526a</td>\n",
       "    </tr>\n",
       "    <tr>\n",
       "      <th>...</th>\n",
       "      <td>...</td>\n",
       "      <td>...</td>\n",
       "      <td>...</td>\n",
       "    </tr>\n",
       "    <tr>\n",
       "      <th>51</th>\n",
       "      <td>**How doctors confirm a diagnosis of prostate ...</td>\n",
       "      <td>Tests that examine the brain and spinal cord a...</td>\n",
       "      <td>c00ee621ba</td>\n",
       "    </tr>\n",
       "    <tr>\n",
       "      <th>52</th>\n",
       "      <td>Below is a step‑by‑step outline of what a urol...</td>\n",
       "      <td>Certain factors affect prognosis (chance of re...</td>\n",
       "      <td>46f25325c4</td>\n",
       "    </tr>\n",
       "    <tr>\n",
       "      <th>53</th>\n",
       "      <td>Below is a step‑by‑step overview of what most ...</td>\n",
       "      <td>New types of treatment are being tested in cli...</td>\n",
       "      <td>6fe53e68cb</td>\n",
       "    </tr>\n",
       "    <tr>\n",
       "      <th>54</th>\n",
       "      <td>**How doctors work up a possible prostate canc...</td>\n",
       "      <td>Key Points The area where the tumor is found a...</td>\n",
       "      <td>16d4db3ed8</td>\n",
       "    </tr>\n",
       "    <tr>\n",
       "      <th>55</th>\n",
       "      <td>**How doctors work up a possible prostate canc...</td>\n",
       "      <td>Key Points Intraocular melanoma is a disease i...</td>\n",
       "      <td>2c627474a5</td>\n",
       "    </tr>\n",
       "  </tbody>\n",
       "</table>\n",
       "<p>125 rows × 3 columns</p>\n",
       "</div>"
      ]
     },
     "execution_count": 63,
     "metadata": {},
     "output_type": "execute_result"
    }
   ],
   "execution_count": 63
  },
  {
   "metadata": {
    "ExecuteTime": {
     "end_time": "2025-10-06T20:43:24.816514Z",
     "start_time": "2025-10-06T20:43:24.812841Z"
    }
   },
   "cell_type": "code",
   "source": "df_merged = df_merged.to_dict(orient=\"records\")",
   "id": "1477e74697a0f83d",
   "outputs": [],
   "execution_count": 67
  },
  {
   "metadata": {
    "ExecuteTime": {
     "end_time": "2025-10-06T20:43:17.268124Z",
     "start_time": "2025-10-06T20:43:17.264150Z"
    }
   },
   "cell_type": "code",
   "source": "df_merged",
   "id": "1b7dbde8f081c823",
   "outputs": [
    {
     "data": {
      "text/plain": [
       "                                           answer_llm  \\\n",
       "0   **Non‑small cell lung cancer (NSCLC)** is a br...   \n",
       "1   ### Key Lifestyle and Environmental Factors th...   \n",
       "2   I’m sorry you’re dealing with those symptoms—i...   \n",
       "3   **Non‑small cell lung cancer (NSCLC)** is usua...   \n",
       "4   ### Key Factors Doctors Use to Gauge Prognosis...   \n",
       "..                                                ...   \n",
       "51  **How doctors confirm a diagnosis of prostate ...   \n",
       "52  Below is a step‑by‑step outline of what a urol...   \n",
       "53  Below is a step‑by‑step overview of what most ...   \n",
       "54  **How doctors work up a possible prostate canc...   \n",
       "55  **How doctors work up a possible prostate canc...   \n",
       "\n",
       "                                          answer_orig    document  \n",
       "0   Key Points Non-small cell lung cancer is a dis...  5e34bcbaa8  \n",
       "1   Smoking is the major risk factor for non-small...  c2845efbbc  \n",
       "2   Signs of non-small cell lung cancer include a ...  d1bc99107d  \n",
       "3   Tests that examine the lungs are used to detec...  abdbe99dd2  \n",
       "4   Certain factors affect prognosis (chance of re...  597a81526a  \n",
       "..                                                ...         ...  \n",
       "51  Tests that examine the brain and spinal cord a...  c00ee621ba  \n",
       "52  Certain factors affect prognosis (chance of re...  46f25325c4  \n",
       "53  New types of treatment are being tested in cli...  6fe53e68cb  \n",
       "54  Key Points The area where the tumor is found a...  16d4db3ed8  \n",
       "55  Key Points Intraocular melanoma is a disease i...  2c627474a5  \n",
       "\n",
       "[125 rows x 3 columns]"
      ],
      "text/html": [
       "<div>\n",
       "<style scoped>\n",
       "    .dataframe tbody tr th:only-of-type {\n",
       "        vertical-align: middle;\n",
       "    }\n",
       "\n",
       "    .dataframe tbody tr th {\n",
       "        vertical-align: top;\n",
       "    }\n",
       "\n",
       "    .dataframe thead th {\n",
       "        text-align: right;\n",
       "    }\n",
       "</style>\n",
       "<table border=\"1\" class=\"dataframe\">\n",
       "  <thead>\n",
       "    <tr style=\"text-align: right;\">\n",
       "      <th></th>\n",
       "      <th>answer_llm</th>\n",
       "      <th>answer_orig</th>\n",
       "      <th>document</th>\n",
       "    </tr>\n",
       "  </thead>\n",
       "  <tbody>\n",
       "    <tr>\n",
       "      <th>0</th>\n",
       "      <td>**Non‑small cell lung cancer (NSCLC)** is a br...</td>\n",
       "      <td>Key Points Non-small cell lung cancer is a dis...</td>\n",
       "      <td>5e34bcbaa8</td>\n",
       "    </tr>\n",
       "    <tr>\n",
       "      <th>1</th>\n",
       "      <td>### Key Lifestyle and Environmental Factors th...</td>\n",
       "      <td>Smoking is the major risk factor for non-small...</td>\n",
       "      <td>c2845efbbc</td>\n",
       "    </tr>\n",
       "    <tr>\n",
       "      <th>2</th>\n",
       "      <td>I’m sorry you’re dealing with those symptoms—i...</td>\n",
       "      <td>Signs of non-small cell lung cancer include a ...</td>\n",
       "      <td>d1bc99107d</td>\n",
       "    </tr>\n",
       "    <tr>\n",
       "      <th>3</th>\n",
       "      <td>**Non‑small cell lung cancer (NSCLC)** is usua...</td>\n",
       "      <td>Tests that examine the lungs are used to detec...</td>\n",
       "      <td>abdbe99dd2</td>\n",
       "    </tr>\n",
       "    <tr>\n",
       "      <th>4</th>\n",
       "      <td>### Key Factors Doctors Use to Gauge Prognosis...</td>\n",
       "      <td>Certain factors affect prognosis (chance of re...</td>\n",
       "      <td>597a81526a</td>\n",
       "    </tr>\n",
       "    <tr>\n",
       "      <th>...</th>\n",
       "      <td>...</td>\n",
       "      <td>...</td>\n",
       "      <td>...</td>\n",
       "    </tr>\n",
       "    <tr>\n",
       "      <th>51</th>\n",
       "      <td>**How doctors confirm a diagnosis of prostate ...</td>\n",
       "      <td>Tests that examine the brain and spinal cord a...</td>\n",
       "      <td>c00ee621ba</td>\n",
       "    </tr>\n",
       "    <tr>\n",
       "      <th>52</th>\n",
       "      <td>Below is a step‑by‑step outline of what a urol...</td>\n",
       "      <td>Certain factors affect prognosis (chance of re...</td>\n",
       "      <td>46f25325c4</td>\n",
       "    </tr>\n",
       "    <tr>\n",
       "      <th>53</th>\n",
       "      <td>Below is a step‑by‑step overview of what most ...</td>\n",
       "      <td>New types of treatment are being tested in cli...</td>\n",
       "      <td>6fe53e68cb</td>\n",
       "    </tr>\n",
       "    <tr>\n",
       "      <th>54</th>\n",
       "      <td>**How doctors work up a possible prostate canc...</td>\n",
       "      <td>Key Points The area where the tumor is found a...</td>\n",
       "      <td>16d4db3ed8</td>\n",
       "    </tr>\n",
       "    <tr>\n",
       "      <th>55</th>\n",
       "      <td>**How doctors work up a possible prostate canc...</td>\n",
       "      <td>Key Points Intraocular melanoma is a disease i...</td>\n",
       "      <td>2c627474a5</td>\n",
       "    </tr>\n",
       "  </tbody>\n",
       "</table>\n",
       "<p>125 rows × 3 columns</p>\n",
       "</div>"
      ]
     },
     "execution_count": 66,
     "metadata": {},
     "output_type": "execute_result"
    }
   ],
   "execution_count": 66
  },
  {
   "metadata": {
    "ExecuteTime": {
     "end_time": "2025-10-06T20:39:51.273784Z",
     "start_time": "2025-10-06T20:39:51.271602Z"
    }
   },
   "cell_type": "code",
   "source": [
    "from sentence_transformers import SentenceTransformer\n",
    "\n"
   ],
   "id": "73e9daf4aaa79dcc",
   "outputs": [],
   "execution_count": 56
  },
  {
   "metadata": {
    "ExecuteTime": {
     "end_time": "2025-10-06T20:40:08.860983Z",
     "start_time": "2025-10-06T20:39:54.147624Z"
    }
   },
   "cell_type": "code",
   "source": [
    "model_name = 'multi-qa-MiniLM-L6-cos-v1'\n",
    "model = SentenceTransformer(model_name)"
   ],
   "id": "f3ac353badd3c008",
   "outputs": [],
   "execution_count": 57
  },
  {
   "metadata": {
    "ExecuteTime": {
     "end_time": "2025-10-06T20:43:05.843002Z",
     "start_time": "2025-10-06T20:43:05.840125Z"
    }
   },
   "cell_type": "code",
   "source": [
    "def compute_similarity(record):\n",
    "    answer_orig = record['answer_orig']\n",
    "    answer_11m = record ['answer_llm']\n",
    "    v_11m = model.encode(answer_11m)\n",
    "    V_orig = model.encode(answer_orig)\n",
    "\n",
    "    return v_11m.dot(V_orig)"
   ],
   "id": "9e7be6a44f867a0f",
   "outputs": [],
   "execution_count": 64
  },
  {
   "metadata": {
    "ExecuteTime": {
     "end_time": "2025-10-06T20:43:33.140021Z",
     "start_time": "2025-10-06T20:43:26.979081Z"
    }
   },
   "cell_type": "code",
   "source": [
    "similarity = []\n",
    "for record in tqdm(df_merged):\n",
    "    sim = compute_similarity(record)\n",
    "    similarity.append(sim)"
   ],
   "id": "9b7cff9f981a8e15",
   "outputs": [
    {
     "name": "stderr",
     "output_type": "stream",
     "text": [
      "100%|██████████| 125/125 [00:06<00:00, 20.30it/s]\n"
     ]
    }
   ],
   "execution_count": 68
  },
  {
   "metadata": {
    "ExecuteTime": {
     "end_time": "2025-10-06T20:47:08.986909Z",
     "start_time": "2025-10-06T20:47:08.807541Z"
    }
   },
   "cell_type": "code",
   "source": [
    "import seaborn as sns\n",
    "import matplotlib.pyplot as plt\n",
    "import numpy as np\n",
    "\n",
    "# Convert to regular floats\n",
    "similarity_scores = [float(x) for x in similarity]\n",
    "\n",
    "# Create the plot\n",
    "plt.figure(figsize=(12, 6))\n",
    "\n",
    "# Histogram with KDE\n",
    "sns.histplot(similarity_scores, bins=20, kde=True, color='steelblue', alpha=0.7)\n",
    "\n",
    "plt.title('Distribution of Similarity Scores', fontsize=16, fontweight='bold')\n",
    "plt.xlabel('Similarity Score', fontsize=12)\n",
    "plt.ylabel('Frequency', fontsize=12)\n",
    "plt.grid(True, alpha=0.3, axis='y')\n",
    "\n",
    "# Add statistics as text\n",
    "mean_val = np.mean(similarity_scores)\n",
    "median_val = np.median(similarity_scores)\n",
    "plt.axvline(mean_val, color='red', linestyle='--', linewidth=2, label=f'Mean: {mean_val:.3f}')\n",
    "plt.axvline(median_val, color='green', linestyle='--', linewidth=2, label=f'Median: {median_val:.3f}')\n",
    "\n",
    "plt.legend()\n",
    "plt.tight_layout()\n",
    "plt.savefig('dist.png', dpi=300)\n",
    "plt.show()"
   ],
   "id": "432d07479589fb81",
   "outputs": [
    {
     "data": {
      "text/plain": [
       "<Figure size 1200x600 with 1 Axes>"
      ],
      "image/png": "[encoded data removed]"
     },
     "metadata": {},
     "output_type": "display_data"
    }
   ],
   "execution_count": 73
  }
 ],
 "metadata": {
  "kernelspec": {
   "display_name": "Python 3",
   "language": "python",
   "name": "python3"
  },
  "language_info": {
   "codemirror_mode": {
    "name": "ipython",
    "version": 2
   },
   "file_extension": ".py",
   "mimetype": "text/x-python",
   "name": "python",
   "nbconvert_exporter": "python",
   "pygments_lexer": "ipython2",
   "version": "2.7.6"
  }
 },
 "nbformat": 4,
 "nbformat_minor": 5
}
