{
 "cells": [
  {
   "cell_type": "code",
   "id": "initial_id",
   "metadata": {
    "collapsed": true,
    "ExecuteTime": {
     "end_time": "2025-09-25T20:21:52.800409Z",
     "start_time": "2025-09-25T20:21:52.797793Z"
    }
   },
   "source": [
    "import pandas as pd\n",
    "import seaborn as sns\n",
    "import matplotlib.pyplot as plt\n",
    "import re"
   ],
   "outputs": [],
   "execution_count": 61
  },
  {
   "metadata": {
    "ExecuteTime": {
     "end_time": "2025-09-25T19:07:48.429290Z",
     "start_time": "2025-09-25T19:07:48.427113Z"
    }
   },
   "cell_type": "code",
   "source": [
    "cancer_QA = '../Data_csvs/CancerQA.csv'\n",
    "diabetes_digestive = '../Data_csvs/Diabetes_and_Digestive_and_Kidney_DiseasesQA.csv'\n",
    "disease_control = '../Data_csvs/Disease_Control_and_PreventionQA.csv'\n",
    "generic_rare_disease = '../Data_csvs/Genetic_and_Rare_DiseasesQA.csv'\n",
    "hormones = '../Data_csvs/growth_hormone_receptorQA.csv'\n",
    "heart_lung = '../Data_csvs/Heart_Lung_and_BloodQA.csv'\n",
    "medicalQA = '../Data_csvs/MedicalQuestionAnswering.csv'\n",
    "neurological_disorders = '../Data_csvs/Neurological_Disorders_and_StrokeQA.csv'\n",
    "otherQA = '../Data_csvs/OtherQA.csv'\n",
    "seniorQA = '../Data_csvs/SeniorHealthQA.csv'\n",
    "\n"
   ],
   "id": "c4341f1d58f96474",
   "outputs": [],
   "execution_count": 11
  },
  {
   "metadata": {
    "ExecuteTime": {
     "end_time": "2025-09-25T19:09:03.860926Z",
     "start_time": "2025-09-25T19:09:03.641858Z"
    }
   },
   "cell_type": "code",
   "source": [
    "files = [\n",
    "    cancer_QA, diabetes_digestive, disease_control, generic_rare_disease,\n",
    "    hormones, heart_lung, medicalQA, neurological_disorders, otherQA, seniorQA\n",
    "]\n",
    "\n",
    "dfs = [pd.read_csv(file) for file in files]\n",
    "\n",
    "# Merge\n",
    "data_df = pd.concat(dfs, ignore_index=True)\n",
    "data_df.drop(columns='split',axis=1, inplace=True)\n",
    "\n",
    "print(data_df.shape)\n",
    "data_df.head()\n"
   ],
   "id": "c83b4d88122b0b96",
   "outputs": [
    {
     "name": "stdout",
     "output_type": "stream",
     "text": [
      "(32812, 3)\n"
     ]
    },
    {
     "data": {
      "text/plain": [
       "                                            Question  \\\n",
       "0         What is (are) Non-Small Cell Lung Cancer ?   \n",
       "1   Who is at risk for Non-Small Cell Lung Cancer? ?   \n",
       "2  What are the symptoms of Non-Small Cell Lung C...   \n",
       "3       How to diagnose Non-Small Cell Lung Cancer ?   \n",
       "4  What is the outlook for Non-Small Cell Lung Ca...   \n",
       "\n",
       "                                              Answer   topic  \n",
       "0  Key Points\\n                    - Non-small ce...  cancer  \n",
       "1  Smoking is the major risk factor for non-small...  cancer  \n",
       "2  Signs of non-small cell lung cancer include a ...  cancer  \n",
       "3  Tests that examine the lungs are used to detec...  cancer  \n",
       "4  Certain factors affect prognosis (chance of re...  cancer  "
      ],
      "text/html": [
       "<div>\n",
       "<style scoped>\n",
       "    .dataframe tbody tr th:only-of-type {\n",
       "        vertical-align: middle;\n",
       "    }\n",
       "\n",
       "    .dataframe tbody tr th {\n",
       "        vertical-align: top;\n",
       "    }\n",
       "\n",
       "    .dataframe thead th {\n",
       "        text-align: right;\n",
       "    }\n",
       "</style>\n",
       "<table border=\"1\" class=\"dataframe\">\n",
       "  <thead>\n",
       "    <tr style=\"text-align: right;\">\n",
       "      <th></th>\n",
       "      <th>Question</th>\n",
       "      <th>Answer</th>\n",
       "      <th>topic</th>\n",
       "    </tr>\n",
       "  </thead>\n",
       "  <tbody>\n",
       "    <tr>\n",
       "      <th>0</th>\n",
       "      <td>What is (are) Non-Small Cell Lung Cancer ?</td>\n",
       "      <td>Key Points\\n                    - Non-small ce...</td>\n",
       "      <td>cancer</td>\n",
       "    </tr>\n",
       "    <tr>\n",
       "      <th>1</th>\n",
       "      <td>Who is at risk for Non-Small Cell Lung Cancer? ?</td>\n",
       "      <td>Smoking is the major risk factor for non-small...</td>\n",
       "      <td>cancer</td>\n",
       "    </tr>\n",
       "    <tr>\n",
       "      <th>2</th>\n",
       "      <td>What are the symptoms of Non-Small Cell Lung C...</td>\n",
       "      <td>Signs of non-small cell lung cancer include a ...</td>\n",
       "      <td>cancer</td>\n",
       "    </tr>\n",
       "    <tr>\n",
       "      <th>3</th>\n",
       "      <td>How to diagnose Non-Small Cell Lung Cancer ?</td>\n",
       "      <td>Tests that examine the lungs are used to detec...</td>\n",
       "      <td>cancer</td>\n",
       "    </tr>\n",
       "    <tr>\n",
       "      <th>4</th>\n",
       "      <td>What is the outlook for Non-Small Cell Lung Ca...</td>\n",
       "      <td>Certain factors affect prognosis (chance of re...</td>\n",
       "      <td>cancer</td>\n",
       "    </tr>\n",
       "  </tbody>\n",
       "</table>\n",
       "</div>"
      ]
     },
     "execution_count": 16,
     "metadata": {},
     "output_type": "execute_result"
    }
   ],
   "execution_count": 16
  },
  {
   "metadata": {
    "ExecuteTime": {
     "end_time": "2025-09-25T19:09:26.130152Z",
     "start_time": "2025-09-25T19:09:26.126754Z"
    }
   },
   "cell_type": "code",
   "source": "data_df.columns",
   "id": "60c071774525beee",
   "outputs": [
    {
     "data": {
      "text/plain": [
       "Index(['Question', 'Answer', 'topic'], dtype='object')"
      ]
     },
     "execution_count": 17,
     "metadata": {},
     "output_type": "execute_result"
    }
   ],
   "execution_count": 17
  },
  {
   "metadata": {},
   "cell_type": "markdown",
   "source": "## Simple EDA",
   "id": "2bf03a72c8dfaeb7"
  },
  {
   "metadata": {
    "ExecuteTime": {
     "end_time": "2025-09-25T19:15:48.629534Z",
     "start_time": "2025-09-25T19:15:48.449794Z"
    }
   },
   "cell_type": "code",
   "source": [
    "plt.figure(figsize=(12,6))\n",
    "sns.countplot(data=data_df, x='topic', order=data_df['topic'].value_counts().index, palette=\"viridis\")\n",
    "plt.xticks(rotation=45, ha='right')\n",
    "plt.title('Distribution of Topics in Merged QA Dataset', fontsize=16)\n",
    "plt.xlabel('Topic', fontsize=12)\n",
    "plt.ylabel('Number of Questions', fontsize=12)\n",
    "plt.tight_layout()\n",
    "plt.savefig('Topicdistirbution.png', dpi=300)\n",
    "plt.show()"
   ],
   "id": "3dfc19fa227c9207",
   "outputs": [
    {
     "name": "stderr",
     "output_type": "stream",
     "text": [
      "/var/folders/95/00r3y4ys0cxgk7xbsyl1smv00000gn/T/ipykernel_13490/2694319319.py:2: FutureWarning: \n",
      "\n",
      "Passing `palette` without assigning `hue` is deprecated and will be removed in v0.14.0. Assign the `x` variable to `hue` and set `legend=False` for the same effect.\n",
      "\n",
      "  sns.countplot(data=data_df, x='topic', order=data_df['topic'].value_counts().index, palette=\"viridis\")\n"
     ]
    },
    {
     "data": {
      "text/plain": [
       "<Figure size 1200x600 with 1 Axes>"
      ],
      "image/png": "[encoded data removed]"
     },
     "metadata": {},
     "output_type": "display_data"
    }
   ],
   "execution_count": 22
  },
  {
   "metadata": {
    "ExecuteTime": {
     "end_time": "2025-09-25T19:27:33.430082Z",
     "start_time": "2025-09-25T19:27:33.409417Z"
    }
   },
   "cell_type": "code",
   "source": [
    "for topic in data_df['topic'].unique():\n",
    "    print(f\"{topic.upper()} EXAMPLES\")\n",
    "    print(\"=\" * 60)\n",
    "\n",
    "    topic_data = data_df[data_df['topic'] == topic].head(5)\n",
    "\n",
    "    for idx, row in topic_data.iterrows():\n",
    "        print(f\"Q: {row['Question']}\")\n",
    "        print(f\"A: {row['Answer'][:200]}...\")  # First 200 characters\n",
    "        print(\"-\" * 40)\n"
   ],
   "id": "94f7cc96e83fd5fa",
   "outputs": [
    {
     "name": "stdout",
     "output_type": "stream",
     "text": [
      "CANCER EXAMPLES\n",
      "============================================================\n",
      "Q: What is (are) Non-Small Cell Lung Cancer ?\n",
      "A: Key Points\n",
      "                    - Non-small cell lung cancer is a disease in which malignant (cancer) cells form in the tissues of the lung.     - There are several types of non-small cell lung cancer....\n",
      "----------------------------------------\n",
      "Q: Who is at risk for Non-Small Cell Lung Cancer? ?\n",
      "A: Smoking is the major risk factor for non-small cell lung cancer. Anything that increases your chance of getting a disease is called a risk factor. Having a risk factor does not mean that you will get ...\n",
      "----------------------------------------\n",
      "Q: What are the symptoms of Non-Small Cell Lung Cancer ?\n",
      "A: Signs of non-small cell lung cancer include a cough that doesn't go away and shortness of breath. Sometimes lung cancer does not cause any signs or symptoms. It may be found during a chest x-ray done ...\n",
      "----------------------------------------\n",
      "Q: How to diagnose Non-Small Cell Lung Cancer ?\n",
      "A: Tests that examine the lungs are used to detect (find), diagnose, and stage non-small cell lung cancer. Tests and procedures to detect, diagnose, and stage non-small cell lung cancer are often done at...\n",
      "----------------------------------------\n",
      "Q: What is the outlook for Non-Small Cell Lung Cancer ?\n",
      "A: Certain factors affect prognosis (chance of recovery) and treatment options. The prognosis (chance of recovery) and treatment options depend on the following:         - The stage of the cancer (the si...\n",
      "----------------------------------------\n",
      "DIABETES_DIGESTIVE_KIDNEY EXAMPLES\n",
      "============================================================\n",
      "Q: What is (are) Kidney Stones in Adults ?\n",
      "A: A kidney stone is a solid piece of material that forms in a kidney when substances that are normally found in the urine become highly concentrated. A stone may stay in the kidney or travel down the ur...\n",
      "----------------------------------------\n",
      "Q: What is (are) Kidney Stones in Adults ?\n",
      "A: The urinary tract is the bodys drainage system for removing wastes and extra water. The urinary tract includes two kidneys, two ureters, a bladder, and a urethra. The kidneys are two bean-shaped organ...\n",
      "----------------------------------------\n",
      "Q: Who is at risk for Kidney Stones in Adults? ?\n",
      "A: Anyone can get a kidney stone, but some people are more likely to get one. Men are affected more often than women, and kidney stones are more common in non-Hispanic white people than in non-Hispanic b...\n",
      "----------------------------------------\n",
      "Q: What causes Kidney Stones in Adults ?\n",
      "A: Kidney stones can form when substances in the urinesuch as calcium, oxalate, and phosphorusbecome highly concentrated. Certain foods may promote stone formation in people who are susceptible, but scie...\n",
      "----------------------------------------\n",
      "Q: What is (are) Kidney Stones in Adults ?\n",
      "A: Four major types of kidney stones can form:\n",
      "                \n",
      "- Calcium stones are the most common type of kidney stone and occur in two major forms: calcium oxalate and calcium phosphate. Calcium oxal...\n",
      "----------------------------------------\n",
      "DISEASE_CONTROL_PREVENTION EXAMPLES\n",
      "============================================================\n",
      "Q: What is (are) Acanthamoeba - Granulomatous Amebic Encephalitis (GAE); Keratitis ?\n",
      "A: Acanthamoeba is a microscopic, free-living ameba (single-celled living organism) commonly found in the environment that can cause rare, but severe, illness. Acanthamoeba causes three main types of ill...\n",
      "----------------------------------------\n",
      "Q: Who is at risk for Acanthamoeba - Granulomatous Amebic Encephalitis (GAE); Keratitis? ?\n",
      "A: Acanthamoeba keratitis\n",
      "  \n",
      "   \n",
      "Acanthamoeba keratitis is a rare disease that can affect anyone, but is most common in individuals who wear contact lenses. In the United States, an estimated 85% of case...\n",
      "----------------------------------------\n",
      "Q: How to diagnose Acanthamoeba - Granulomatous Amebic Encephalitis (GAE); Keratitis ?\n",
      "A: Early diagnosis is essential for effective treatment of Acanthamoeba keratitis. The infection is usually diagnosed by an eye specialist based on symptoms, growth of the ameba from a scraping of the ey...\n",
      "----------------------------------------\n",
      "Q: What are the treatments for Acanthamoeba - Granulomatous Amebic Encephalitis (GAE); Keratitis ?\n",
      "A: Early diagnosis is essential for effective treatment of Acanthamoeba keratitis. Several prescription eye medications are available for treatment. However, the infection can be difficult to treat. The ...\n",
      "----------------------------------------\n",
      "Q: How to prevent Acanthamoeba - Granulomatous Amebic Encephalitis (GAE); Keratitis ?\n",
      "A: Topics...\n",
      "----------------------------------------\n",
      "GENETIC_AND_RARE_DISEASES EXAMPLES\n",
      "============================================================\n",
      "Q: What is (are) Hypothalamic dysfunction ?\n",
      "A: Hypothalamic dysfunction refers to a condition in which the hypothalamus is not working properly. The hypothalamus produces hormones that control body temperature, hunger, moods, release of hormones f...\n",
      "----------------------------------------\n",
      "Q: What are the symptoms of Hypothalamic dysfunction ?\n",
      "A: What are the signs and symptoms of hypothalamic dysfunction? The signs and symptoms of hypothalamic dysfunction may vary from person to person depending on the specific hormones missing. You can read ...\n",
      "----------------------------------------\n",
      "Q: What causes Hypothalamic dysfunction ?\n",
      "A: What causes hypothalamic dysfunction? Hypothalamic dysfunction may be caused by any of the following : Birth defects of the brain or hypothalamus (e.g. holoprosencephaly, septo-optic dysplasia) Geneti...\n",
      "----------------------------------------\n",
      "Q: What are the treatments for Hypothalamic dysfunction ?\n",
      "A: How might hypothalamic dysfunction be treated? Treatment is based on the specific cause of the hypothalamic dysfunction. For instance, if the condition is caused by a tumor, radiation and/or surgery m...\n",
      "----------------------------------------\n",
      "Q: What are the symptoms of Mental retardation X-linked syndromic 11 ?\n",
      "A: What are the signs and symptoms of Mental retardation X-linked syndromic 11? The Human Phenotype Ontology provides the following list of signs and symptoms for Mental retardation X-linked syndromic 11...\n",
      "----------------------------------------\n",
      "GROWTH_HORMONE_RECEPTOR EXAMPLES\n",
      "============================================================\n",
      "Q: What is (are) keratoderma with woolly hair ?\n",
      "A: Keratoderma with woolly hair is a group of related conditions that affect the skin and hair and in many cases increase the risk of potentially life-threatening heart problems. People with these condit...\n",
      "----------------------------------------\n",
      "Q: How many people are affected by keratoderma with woolly hair ?\n",
      "A: Keratoderma with woolly hair is rare; its prevalence worldwide is unknown.  Type I (Naxos disease) was first described in families from the Greek island of Naxos. Since then, affected families have be...\n",
      "----------------------------------------\n",
      "Q: What are the genetic changes related to keratoderma with woolly hair ?\n",
      "A: Mutations in the JUP, DSP, DSC2, and KANK2 genes cause keratoderma with woolly hair types I through IV, respectively. The JUP, DSP, and DSC2 genes provide instructions for making components of special...\n",
      "----------------------------------------\n",
      "Q: Is keratoderma with woolly hair inherited ?\n",
      "A: Most cases of keratoderma with woolly hair have an autosomal recessive pattern of inheritance, which means both copies of the gene in each cell have mutations. The parents of an individual with an aut...\n",
      "----------------------------------------\n",
      "Q: What are the treatments for keratoderma with woolly hair ?\n",
      "A: These resources address the diagnosis or management of keratoderma with woolly hair:  - Gene Review: Gene Review: Arrhythmogenic Right Ventricular Dysplasia/Cardiomyopathy  - Gene Review: Gene Review:...\n",
      "----------------------------------------\n",
      "HEART_LUNG_BLOOD EXAMPLES\n",
      "============================================================\n",
      "Q: What is (are) Cardiomyopathy ?\n",
      "A: Cardiomyopathy refers to diseases of the heart muscle. These diseases have many causes, signs and symptoms, and treatments.\n",
      "                \n",
      "In cardiomyopathy, the heart muscle becomes enlarged, thick...\n",
      "----------------------------------------\n",
      "Q: What causes Cardiomyopathy ?\n",
      "A: Cardiomyopathy can be acquired or inherited. Acquired means you arent born with the disease, but you develop it due to another disease, condition, or factor.\n",
      "                \n",
      "Inherited means your pare...\n",
      "----------------------------------------\n",
      "Q: Who is at risk for Cardiomyopathy? ?\n",
      "A: People of all ages and races can have cardiomyopathy. However, certain types of the disease are more common in certain groups.\n",
      "                \n",
      "Dilated cardiomyopathy is more common in African America...\n",
      "----------------------------------------\n",
      "Q: What are the symptoms of Cardiomyopathy ?\n",
      "A: Some people who have cardiomyopathy never have signs or symptoms. Others don't have signs or symptoms in the early stages of the disease.\n",
      "                \n",
      "As cardiomyopathy worsens and the heart weake...\n",
      "----------------------------------------\n",
      "Q: How to diagnose Cardiomyopathy ?\n",
      "A: Your doctor will diagnose cardiomyopathy based on your medical and family histories, a physical exam, and the results from tests and procedures.\n",
      "                \n",
      "Specialists Involved\n",
      "                \n",
      "...\n",
      "----------------------------------------\n",
      "SENIORHEALTH EXAMPLES\n",
      "============================================================\n",
      "Q: What is (are) Gum (Periodontal) Disease ?\n",
      "A: An Infection of the Gums and Surrounding Tissues Gum (periodontal) disease is an infection of the gums and surrounding tissues that hold teeth in place. The two forms of gum disease are gingivitis, a ...\n",
      "----------------------------------------\n",
      "Q: How to prevent Gum (Periodontal) Disease ?\n",
      "A: Risk Factors There are a number of risk factors that can increase your chances of developing periodontal disease. - Smoking is one of the most significant risk factors associated with the development ...\n",
      "----------------------------------------\n",
      "Q: What are the symptoms of Gum (Periodontal) Disease ?\n",
      "A: Symptoms Symptoms of gum disease may include: - bad breath that won't go away   - red or swollen gums   - tender or bleeding gums  - painful chewing   - loose teeth   - sensitive teeth  - receding gum...\n",
      "----------------------------------------\n",
      "Q: What are the treatments for Gum (Periodontal) Disease ?\n",
      "A: Controlling the Infection The main goal of treatment is to control the infection. The number and types of treatment will vary, depending on how far the disease has advanced. Any type of treatment requ...\n",
      "----------------------------------------\n",
      "Q: What is (are) Gum (Periodontal) Disease ?\n",
      "A: Gum disease is an infection of the tissues that hold your teeth in place. In its early stages, it is usually painless, and many people are not aware that they have it. But in more advanced stages, gum...\n",
      "----------------------------------------\n",
      "NEUROLOGICAL_DISORDERS_STROKE EXAMPLES\n",
      "============================================================\n",
      "Q: What is (are) Multiple System Atrophy ?\n",
      "A: Multiple system atrophy (MSA) is a progressive neurodegenerative disorder characterized by symptoms of autonomic nervous system failure such as fainting spells and bladder control problems, combined w...\n",
      "----------------------------------------\n",
      "Q: What are the treatments for Multiple System Atrophy ?\n",
      "A: There is no cure for MSA. Currently, there are no treatments to delay the progress of neurodegeneration in the brain. But there are treatments available to help people cope with some of the more disab...\n",
      "----------------------------------------\n",
      "Q: What is the outlook for Multiple System Atrophy ?\n",
      "A: The disease tends to advance rapidly over the course of 5 to 10 years, with progressive loss of motor skills, eventual confinement to bed, and death. There is no remission from the disease. There is c...\n",
      "----------------------------------------\n",
      "Q: what research (or clinical trials) is being done for Multiple System Atrophy ?\n",
      "A: The NINDS supports research about MSA through grants to major medical institutions across the country. Researchers hope to learn why alpha-synuclein buildup occurs in MSA and Parkinsons disease, and h...\n",
      "----------------------------------------\n",
      "Q: What is (are) Neurotoxicity ?\n",
      "A: Neurotoxicity occurs when the exposure to natural or manmade toxic substances (neurotoxicants) alters the normal activity of the nervous system. This can eventually disrupt or even kill neurons, key c...\n",
      "----------------------------------------\n",
      "OTHER EXAMPLES\n",
      "============================================================\n",
      "Q: What is (are) Listeria Infections ?\n",
      "A: Listeriosis is a foodborne illness caused by Listeria monocytogenes, bacteria found in soil and water. It can be in a variety of raw foods as well as in processed foods and foods made from unpasteuriz...\n",
      "----------------------------------------\n",
      "Q: What is (are) Low Blood Pressure ?\n",
      "A: You've probably heard that high blood pressure is a problem. Sometimes blood pressure that is too low can also cause problems.    Blood pressure is the force of your blood pushing against the walls of...\n",
      "----------------------------------------\n",
      "Q: Do you have information about Circumcision\n",
      "A: Summary : Circumcision is the removal of the foreskin, which is the skin that covers the tip of the penis. In the United States, it is often done before a new baby leaves the hospital. There are medic...\n",
      "----------------------------------------\n",
      "Q: What is (are) Colonic Diseases ?\n",
      "A: Your colon, also known as the large intestine, is part of your digestive system. It's a long, hollow tube at the end of your digestive tract where your body makes and stores stool. Many disorders affe...\n",
      "----------------------------------------\n",
      "Q: What is (are) Lymphatic Diseases ?\n",
      "A: The lymphatic system is a network of tissues and organs. It is made up of       - Lymph - a fluid that contains white blood cells that defend against germs    - Lymph vessels - vessels that carry lymp...\n",
      "----------------------------------------\n"
     ]
    }
   ],
   "execution_count": 25
  },
  {
   "metadata": {
    "ExecuteTime": {
     "end_time": "2025-09-25T19:34:17.200912Z",
     "start_time": "2025-09-25T19:34:17.195037Z"
    }
   },
   "cell_type": "code",
   "source": [
    "## adding index for future retrieval\n",
    "data_df = data_df.reset_index(drop=True)\n",
    "data_df['id'] = data_df.index +1\n",
    "order = ['id', 'Question', 'Answer', 'topic']\n",
    "\n",
    "data_df = data_df[order]\n",
    "data_df\n"
   ],
   "id": "a5bf79d3a8a725f7",
   "outputs": [
    {
     "data": {
      "text/plain": [
       "          id                                           Question  \\\n",
       "0          1         What is (are) Non-Small Cell Lung Cancer ?   \n",
       "1          2   Who is at risk for Non-Small Cell Lung Cancer? ?   \n",
       "2          3  What are the symptoms of Non-Small Cell Lung C...   \n",
       "3          4       How to diagnose Non-Small Cell Lung Cancer ?   \n",
       "4          5  What is the outlook for Non-Small Cell Lung Ca...   \n",
       "...      ...                                                ...   \n",
       "32807  32808                          What is (are) Dry Mouth ?   \n",
       "32808  32809                          What is (are) Dry Mouth ?   \n",
       "32809  32810            What are the treatments for Dry Mouth ?   \n",
       "32810  32811                          What is (are) Dry Mouth ?   \n",
       "32811  32812                          What is (are) Dry Mouth ?   \n",
       "\n",
       "                                                  Answer         topic  \n",
       "0      Key Points\\n                    - Non-small ce...        cancer  \n",
       "1      Smoking is the major risk factor for non-small...        cancer  \n",
       "2      Signs of non-small cell lung cancer include a ...        cancer  \n",
       "3      Tests that examine the lungs are used to detec...        cancer  \n",
       "4      Certain factors affect prognosis (chance of re...        cancer  \n",
       "...                                                  ...           ...  \n",
       "32807  Sjgren's Syndrome Clinic  National Institute o...  SeniorHealth  \n",
       "32808  For information about the clinical trial on th...  SeniorHealth  \n",
       "32809  Dry mouth treatment will depend on what is cau...  SeniorHealth  \n",
       "32810  You should avoid sticky and sugary foods. If y...  SeniorHealth  \n",
       "32811  National Institute of Dental and Craniofacial ...  SeniorHealth  \n",
       "\n",
       "[32812 rows x 4 columns]"
      ],
      "text/html": [
       "<div>\n",
       "<style scoped>\n",
       "    .dataframe tbody tr th:only-of-type {\n",
       "        vertical-align: middle;\n",
       "    }\n",
       "\n",
       "    .dataframe tbody tr th {\n",
       "        vertical-align: top;\n",
       "    }\n",
       "\n",
       "    .dataframe thead th {\n",
       "        text-align: right;\n",
       "    }\n",
       "</style>\n",
       "<table border=\"1\" class=\"dataframe\">\n",
       "  <thead>\n",
       "    <tr style=\"text-align: right;\">\n",
       "      <th></th>\n",
       "      <th>id</th>\n",
       "      <th>Question</th>\n",
       "      <th>Answer</th>\n",
       "      <th>topic</th>\n",
       "    </tr>\n",
       "  </thead>\n",
       "  <tbody>\n",
       "    <tr>\n",
       "      <th>0</th>\n",
       "      <td>1</td>\n",
       "      <td>What is (are) Non-Small Cell Lung Cancer ?</td>\n",
       "      <td>Key Points\\n                    - Non-small ce...</td>\n",
       "      <td>cancer</td>\n",
       "    </tr>\n",
       "    <tr>\n",
       "      <th>1</th>\n",
       "      <td>2</td>\n",
       "      <td>Who is at risk for Non-Small Cell Lung Cancer? ?</td>\n",
       "      <td>Smoking is the major risk factor for non-small...</td>\n",
       "      <td>cancer</td>\n",
       "    </tr>\n",
       "    <tr>\n",
       "      <th>2</th>\n",
       "      <td>3</td>\n",
       "      <td>What are the symptoms of Non-Small Cell Lung C...</td>\n",
       "      <td>Signs of non-small cell lung cancer include a ...</td>\n",
       "      <td>cancer</td>\n",
       "    </tr>\n",
       "    <tr>\n",
       "      <th>3</th>\n",
       "      <td>4</td>\n",
       "      <td>How to diagnose Non-Small Cell Lung Cancer ?</td>\n",
       "      <td>Tests that examine the lungs are used to detec...</td>\n",
       "      <td>cancer</td>\n",
       "    </tr>\n",
       "    <tr>\n",
       "      <th>4</th>\n",
       "      <td>5</td>\n",
       "      <td>What is the outlook for Non-Small Cell Lung Ca...</td>\n",
       "      <td>Certain factors affect prognosis (chance of re...</td>\n",
       "      <td>cancer</td>\n",
       "    </tr>\n",
       "    <tr>\n",
       "      <th>...</th>\n",
       "      <td>...</td>\n",
       "      <td>...</td>\n",
       "      <td>...</td>\n",
       "      <td>...</td>\n",
       "    </tr>\n",
       "    <tr>\n",
       "      <th>32807</th>\n",
       "      <td>32808</td>\n",
       "      <td>What is (are) Dry Mouth ?</td>\n",
       "      <td>Sjgren's Syndrome Clinic  National Institute o...</td>\n",
       "      <td>SeniorHealth</td>\n",
       "    </tr>\n",
       "    <tr>\n",
       "      <th>32808</th>\n",
       "      <td>32809</td>\n",
       "      <td>What is (are) Dry Mouth ?</td>\n",
       "      <td>For information about the clinical trial on th...</td>\n",
       "      <td>SeniorHealth</td>\n",
       "    </tr>\n",
       "    <tr>\n",
       "      <th>32809</th>\n",
       "      <td>32810</td>\n",
       "      <td>What are the treatments for Dry Mouth ?</td>\n",
       "      <td>Dry mouth treatment will depend on what is cau...</td>\n",
       "      <td>SeniorHealth</td>\n",
       "    </tr>\n",
       "    <tr>\n",
       "      <th>32810</th>\n",
       "      <td>32811</td>\n",
       "      <td>What is (are) Dry Mouth ?</td>\n",
       "      <td>You should avoid sticky and sugary foods. If y...</td>\n",
       "      <td>SeniorHealth</td>\n",
       "    </tr>\n",
       "    <tr>\n",
       "      <th>32811</th>\n",
       "      <td>32812</td>\n",
       "      <td>What is (are) Dry Mouth ?</td>\n",
       "      <td>National Institute of Dental and Craniofacial ...</td>\n",
       "      <td>SeniorHealth</td>\n",
       "    </tr>\n",
       "  </tbody>\n",
       "</table>\n",
       "<p>32812 rows × 4 columns</p>\n",
       "</div>"
      ]
     },
     "execution_count": 28,
     "metadata": {},
     "output_type": "execute_result"
    }
   ],
   "execution_count": 28
  },
  {
   "metadata": {},
   "cell_type": "markdown",
   "source": "## Cleaning",
   "id": "fa3012bdb5b714c0"
  },
  {
   "metadata": {
    "ExecuteTime": {
     "end_time": "2025-09-25T20:35:28.249723Z",
     "start_time": "2025-09-25T20:35:28.246442Z"
    }
   },
   "cell_type": "code",
   "source": [
    "example = data_df['Answer'][711]\n",
    "example"
   ],
   "id": "8ad9354f13c56ae1",
   "outputs": [
    {
     "data": {
      "text/plain": [
       "\"Certain factors affect treatment options and prognosis (chance of recovery). Treatment options depend on: - The stage of the disease. - Red blood cell, white blood cell, and platelet blood counts. - Whether there are signs or symptoms, such as fever, chills, or weight loss. - Whether the liver, spleen, or lymph nodes are larger than normal. - The response to initial treatment. - Whether the CLL has recurred (come back). The prognosis (chance of recovery) depends on: - Whether there is a change in the DNA and the type of change, if there is one. - Whether lymphocytes are spread throughout the bone marrow. - The stage of the disease. - Whether the CLL gets better with treatment or has recurred (come back). - Whether the CLL progresses to lymphoma or prolymphocytic leukemia. - The patient's general health.\""
      ]
     },
     "execution_count": 82,
     "metadata": {},
     "output_type": "execute_result"
    }
   ],
   "execution_count": 82
  },
  {
   "metadata": {
    "ExecuteTime": {
     "end_time": "2025-09-25T20:35:49.370966Z",
     "start_time": "2025-09-25T20:35:49.367188Z"
    }
   },
   "cell_type": "code",
   "source": [
    "def clean_answer(text):\n",
    "    result = text.replace('- ', ' ')\n",
    "    # Remove citation numbers at the end of sentences\n",
    "    result = re.sub(r'\\d+(?=\\s|$|[.,;:])', '', result)\n",
    "    result = ' '.join(result.split())\n",
    "\n",
    "    return result\n",
    "\n",
    "\n",
    "clean_answer(example)\n"
   ],
   "id": "d5db2087bcd510a",
   "outputs": [
    {
     "data": {
      "text/plain": [
       "\"Certain factors affect treatment options and prognosis (chance of recovery). Treatment options depend on: The stage of the disease. Red blood cell, white blood cell, and platelet blood counts. Whether there are signs or symptoms, such as fever, chills, or weight loss. Whether the liver, spleen, or lymph nodes are larger than normal. The response to initial treatment. Whether the CLL has recurred (come back). The prognosis (chance of recovery) depends on: Whether there is a change in the DNA and the type of change, if there is one. Whether lymphocytes are spread throughout the bone marrow. The stage of the disease. Whether the CLL gets better with treatment or has recurred (come back). Whether the CLL progresses to lymphoma or prolymphocytic leukemia. The patient's general health.\""
      ]
     },
     "execution_count": 84,
     "metadata": {},
     "output_type": "execute_result"
    }
   ],
   "execution_count": 84
  },
  {
   "metadata": {
    "ExecuteTime": {
     "end_time": "2025-09-25T20:35:51.769590Z",
     "start_time": "2025-09-25T20:35:51.178637Z"
    }
   },
   "cell_type": "code",
   "source": [
    "data_df['Answer'] = data_df['Answer'].apply(clean_answer)\n",
    "data_df['Answer'][0]"
   ],
   "id": "122d0137aa212a58",
   "outputs": [
    {
     "data": {
      "text/plain": [
       "'Non-small cell lung cancer is a disease in which malignant (cancer) cells form in the tissues of the lung. The lungs are a pair of cone-shaped breathing organs in the chest. The lungs bring oxygen into the body as you breathe in. They release carbon dioxide, a waste product of the bodys cells, as you breathe out. Each lung has sections called lobes. The left lung has two lobes. The right lung is slightly larger and has three lobes. Two tubes called bronchi lead from the trachea (windpipe) to the right and left lungs. The bronchi are sometimes also involved in lung cancer. Tiny air sacs called alveoli and small tubes called bronchioles make up the inside of the lungs. A thin membrane called the pleura covers the outside of each lung and lines the inside wall of the chest cavity. This creates a sac called the pleural cavity. The pleural cavity normally contains a small amount of fluid that helps the lungs move smoothly in the chest when you breathe. There are two main types of lung cancer: non-small cell lung cancer and small cell lung cancer. See the following PDQ summaries for more information about lung cancer: Small Cell Lung Cancer Treatment Unusual Cancers of Childhood Treatment Lung Cancer Prevention Lung Cancer Screening There are several types of non-small cell lung cancer. Each type of non-small cell lung cancer has different kinds of cancer cells. The cancer cells of each type grow and spread in different ways. The types of non-small cell lung cancer are named for the kinds of cells found in the cancer and how the cells look under a microscope: Squamous cell carcinoma: Cancer that begins in squamous cells, which are thin, flat cells that look like fish scales. This is also called epidermoid carcinoma. Large cell carcinoma: Cancer that may begin in several types of large cells. Adenocarcinoma: Cancer that begins in the cells that line the alveoli and make substances such as mucus. Other less common types of non-small cell lung cancer are: pleomorphic, carcinoid tumor, salivary gland carcinoma, and unclassified carcinoma. For most patients with non-small cell lung cancer, current treatments do not cure the cancer. If lung cancer is found, taking part in one of the many clinical trials being done to improve treatment should be considered. Clinical trials are taking place in most parts of the country for patients with all stages of non-small cell lung cancer. Information about ongoing clinical trials is available from the NCI website.'"
      ]
     },
     "execution_count": 85,
     "metadata": {},
     "output_type": "execute_result"
    }
   ],
   "execution_count": 85
  },
  {
   "metadata": {},
   "cell_type": "markdown",
   "source": [
    "## Chunking larger text --> this will also mean we need to\n",
    "# i can use this chunk to generate the fround truth dataset, from each chunk we can genrated 5 different questions, evaluation retrieval, document hit rate and chunck hit rate"
   ],
   "id": "8d771a3c6f18ec75"
  },
  {
   "metadata": {
    "ExecuteTime": {
     "end_time": "2025-09-25T21:38:06.926812Z",
     "start_time": "2025-09-25T21:38:04.476753Z"
    }
   },
   "cell_type": "code",
   "source": [
    "from langchain.text_splitter import RecursiveCharacterTextSplitter\n",
    "splitter = RecursiveCharacterTextSplitter(\n",
    "    chunk_size=500,\n",
    "    chunk_overlap=50    #  context continuity\n",
    ")\n",
    "\n",
    "def chunk_texts(df):\n",
    "    rows = []\n",
    "    for _, row in df.iterrows():\n",
    "        answer = row['Answer']\n",
    "        chunks = splitter.split_text(answer)\n",
    "        for i, chunk in enumerate(chunks):\n",
    "            rows.append({\n",
    "                \"doc_id\": row['id'],                      # keep original id\n",
    "                \"chunk_index\": i,                     # chunk order\n",
    "                \"topic\": row['topic'],                # keep metadata\n",
    "                \"question\": row['Question'],          # original question\n",
    "                \"original_answers\": row[\"Answer\"],\n",
    "                \"chunk_text\": chunk                   # the actual chunk\n",
    "            })\n",
    "    return pd.DataFrame(rows)\n",
    "\n",
    "df = chunk_texts(data_df)"
   ],
   "id": "dfa2b2e9b5859e97",
   "outputs": [],
   "execution_count": 112
  },
  {
   "metadata": {
    "ExecuteTime": {
     "end_time": "2025-09-25T21:38:09.277502Z",
     "start_time": "2025-09-25T21:38:07.606873Z"
    }
   },
   "cell_type": "code",
   "source": "df.to_csv('../Data_csvs/data.csv', index=False)",
   "id": "f8907e8ae82eb81b",
   "outputs": [],
   "execution_count": 113
  },
  {
   "metadata": {},
   "cell_type": "markdown",
   "source": "## check for duplicates",
   "id": "7b3c5ec82ffdbea1"
  },
  {
   "metadata": {},
   "cell_type": "code",
   "outputs": [],
   "execution_count": null,
   "source": "",
   "id": "45c6bbe308a6fada"
  }
 ],
 "metadata": {
  "kernelspec": {
   "display_name": "Python 3",
   "language": "python",
   "name": "python3"
  },
  "language_info": {
   "codemirror_mode": {
    "name": "ipython",
    "version": 2
   },
   "file_extension": ".py",
   "mimetype": "text/x-python",
   "name": "python",
   "nbconvert_exporter": "python",
   "pygments_lexer": "ipython2",
   "version": "2.7.6"
  }
 },
 "nbformat": 4,
 "nbformat_minor": 5
}
