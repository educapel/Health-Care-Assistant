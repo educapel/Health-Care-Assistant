{
 "cells": [
  {
   "cell_type": "code",
   "id": "initial_id",
   "metadata": {
    "collapsed": true,
    "jupyter": {
     "outputs_hidden": true
    },
    "ExecuteTime": {
     "end_time": "2025-10-05T10:53:30.364903Z",
     "start_time": "2025-10-05T10:53:30.362382Z"
    }
   },
   "source": [
    "import hashlib\n",
    "import pandas as pd\n",
    "import json\n",
    "from openai import OpenAI\n",
    "import os\n",
    "from dotenv import load_dotenv\n",
    "from tqdm.auto import tqdm\n",
    "import pickle\n",
    "import requests\n",
    "from concurrent.futures import ThreadPoolExecutor, as_completed\n",
    "\n",
    "\n",
    "\n"
   ],
   "outputs": [],
   "execution_count": 6
  },
  {
   "cell_type": "code",
   "id": "76fc782c6c2ec6de",
   "metadata": {
    "ExecuteTime": {
     "end_time": "2025-10-05T10:53:31.256051Z",
     "start_time": "2025-10-05T10:53:31.145307Z"
    }
   },
   "source": [
    "path = '../Data_csvs/data_v1.csv'\n",
    "df = pd.read_csv(path)\n",
    "df"
   ],
   "outputs": [
    {
     "data": {
      "text/plain": [
       "          id   topic                                           Question  \\\n",
       "0          1  cancer         What is (are) Non-Small Cell Lung Cancer ?   \n",
       "1          2  cancer   Who is at risk for Non-Small Cell Lung Cancer? ?   \n",
       "2          3  cancer  What are the symptoms of Non-Small Cell Lung C...   \n",
       "3          4  cancer       How to diagnose Non-Small Cell Lung Cancer ?   \n",
       "4          5  cancer  What is the outlook for Non-Small Cell Lung Ca...   \n",
       "...      ...     ...                                                ...   \n",
       "15995  15996   Other                               What is (are) COPD ?   \n",
       "15996  15997   Other     What is (are) Complex Regional Pain Syndrome ?   \n",
       "15997  15998   Other                      What is (are) Kidney Stones ?   \n",
       "15998  15999   Other                  What is (are) Meniere's Disease ?   \n",
       "15999  16000   Other            Do you have information about Marijuana   \n",
       "\n",
       "                                                  Answer  \n",
       "0      Key Points Non-small cell lung cancer is a dis...  \n",
       "1      Smoking is the major risk factor for non-small...  \n",
       "2      Signs of non-small cell lung cancer include a ...  \n",
       "3      Tests that examine the lungs are used to detec...  \n",
       "4      Certain factors affect prognosis (chance of re...  \n",
       "...                                                  ...  \n",
       "15995  COPD (chronic obstructive pulmonary disease) m...  \n",
       "15996  Complex regional pain syndrome (CRPS) is a chr...  \n",
       "15997  A kidney stone is a solid piece of material th...  \n",
       "15998  Meniere's disease is a disorder of the inner e...  \n",
       "15999  Summary : Marijuana is a green, brown, or gray...  \n",
       "\n",
       "[16000 rows x 4 columns]"
      ],
      "text/html": [
       "<div>\n",
       "<style scoped>\n",
       "    .dataframe tbody tr th:only-of-type {\n",
       "        vertical-align: middle;\n",
       "    }\n",
       "\n",
       "    .dataframe tbody tr th {\n",
       "        vertical-align: top;\n",
       "    }\n",
       "\n",
       "    .dataframe thead th {\n",
       "        text-align: right;\n",
       "    }\n",
       "</style>\n",
       "<table border=\"1\" class=\"dataframe\">\n",
       "  <thead>\n",
       "    <tr style=\"text-align: right;\">\n",
       "      <th></th>\n",
       "      <th>id</th>\n",
       "      <th>topic</th>\n",
       "      <th>Question</th>\n",
       "      <th>Answer</th>\n",
       "    </tr>\n",
       "  </thead>\n",
       "  <tbody>\n",
       "    <tr>\n",
       "      <th>0</th>\n",
       "      <td>1</td>\n",
       "      <td>cancer</td>\n",
       "      <td>What is (are) Non-Small Cell Lung Cancer ?</td>\n",
       "      <td>Key Points Non-small cell lung cancer is a dis...</td>\n",
       "    </tr>\n",
       "    <tr>\n",
       "      <th>1</th>\n",
       "      <td>2</td>\n",
       "      <td>cancer</td>\n",
       "      <td>Who is at risk for Non-Small Cell Lung Cancer? ?</td>\n",
       "      <td>Smoking is the major risk factor for non-small...</td>\n",
       "    </tr>\n",
       "    <tr>\n",
       "      <th>2</th>\n",
       "      <td>3</td>\n",
       "      <td>cancer</td>\n",
       "      <td>What are the symptoms of Non-Small Cell Lung C...</td>\n",
       "      <td>Signs of non-small cell lung cancer include a ...</td>\n",
       "    </tr>\n",
       "    <tr>\n",
       "      <th>3</th>\n",
       "      <td>4</td>\n",
       "      <td>cancer</td>\n",
       "      <td>How to diagnose Non-Small Cell Lung Cancer ?</td>\n",
       "      <td>Tests that examine the lungs are used to detec...</td>\n",
       "    </tr>\n",
       "    <tr>\n",
       "      <th>4</th>\n",
       "      <td>5</td>\n",
       "      <td>cancer</td>\n",
       "      <td>What is the outlook for Non-Small Cell Lung Ca...</td>\n",
       "      <td>Certain factors affect prognosis (chance of re...</td>\n",
       "    </tr>\n",
       "    <tr>\n",
       "      <th>...</th>\n",
       "      <td>...</td>\n",
       "      <td>...</td>\n",
       "      <td>...</td>\n",
       "      <td>...</td>\n",
       "    </tr>\n",
       "    <tr>\n",
       "      <th>15995</th>\n",
       "      <td>15996</td>\n",
       "      <td>Other</td>\n",
       "      <td>What is (are) COPD ?</td>\n",
       "      <td>COPD (chronic obstructive pulmonary disease) m...</td>\n",
       "    </tr>\n",
       "    <tr>\n",
       "      <th>15996</th>\n",
       "      <td>15997</td>\n",
       "      <td>Other</td>\n",
       "      <td>What is (are) Complex Regional Pain Syndrome ?</td>\n",
       "      <td>Complex regional pain syndrome (CRPS) is a chr...</td>\n",
       "    </tr>\n",
       "    <tr>\n",
       "      <th>15997</th>\n",
       "      <td>15998</td>\n",
       "      <td>Other</td>\n",
       "      <td>What is (are) Kidney Stones ?</td>\n",
       "      <td>A kidney stone is a solid piece of material th...</td>\n",
       "    </tr>\n",
       "    <tr>\n",
       "      <th>15998</th>\n",
       "      <td>15999</td>\n",
       "      <td>Other</td>\n",
       "      <td>What is (are) Meniere's Disease ?</td>\n",
       "      <td>Meniere's disease is a disorder of the inner e...</td>\n",
       "    </tr>\n",
       "    <tr>\n",
       "      <th>15999</th>\n",
       "      <td>16000</td>\n",
       "      <td>Other</td>\n",
       "      <td>Do you have information about Marijuana</td>\n",
       "      <td>Summary : Marijuana is a green, brown, or gray...</td>\n",
       "    </tr>\n",
       "  </tbody>\n",
       "</table>\n",
       "<p>16000 rows × 4 columns</p>\n",
       "</div>"
      ]
     },
     "execution_count": 7,
     "metadata": {},
     "output_type": "execute_result"
    }
   ],
   "execution_count": 7
  },
  {
   "cell_type": "code",
   "id": "38c3072523d80492",
   "metadata": {
    "ExecuteTime": {
     "end_time": "2025-10-05T10:53:32.435504Z",
     "start_time": "2025-10-05T10:53:32.410392Z"
    }
   },
   "source": [
    "documents = df.to_dict(orient='records')"
   ],
   "outputs": [],
   "execution_count": 8
  },
  {
   "cell_type": "code",
   "execution_count": 80,
   "id": "576e5f45ea58f8bb",
   "metadata": {
    "ExecuteTime": {
     "end_time": "2025-10-02T21:52:16.770548Z",
     "start_time": "2025-10-02T21:52:16.766557Z"
    }
   },
   "outputs": [
    {
     "data": {
      "text/plain": [
       "Index(['id', 'topic', 'Question', 'Answer'], dtype='object')"
      ]
     },
     "execution_count": 80,
     "metadata": {},
     "output_type": "execute_result"
    }
   ],
   "source": [
    "df.columns"
   ]
  },
  {
   "cell_type": "markdown",
   "id": "b89781026eb237c3",
   "metadata": {},
   "source": [
    "## Genereting ids"
   ]
  },
  {
   "cell_type": "code",
   "id": "101fa5d8fde17767",
   "metadata": {
    "ExecuteTime": {
     "end_time": "2025-10-05T10:53:36.421075Z",
     "start_time": "2025-10-05T10:53:36.418276Z"
    }
   },
   "source": [
    "## we depend on the content not the order\n",
    "def generate_document_id(doc):\n",
    "    combined = f\"{doc['topic']}-{doc['Question']}-{doc['Answer'][:15]}\"\n",
    "\n",
    "    # Create MD5 hash object\n",
    "    hash_object = hashlib.md5(combined.encode())\n",
    "\n",
    "    # Get hexadecimal representation\n",
    "    hash_hex = hash_object.hexdigest()\n",
    "\n",
    "    # Return first 8 characters as document ID\n",
    "    document_id = hash_hex[:10]\n",
    "\n",
    "    return document_id"
   ],
   "outputs": [],
   "execution_count": 9
  },
  {
   "cell_type": "code",
   "id": "c2470d8485669b3f",
   "metadata": {
    "ExecuteTime": {
     "end_time": "2025-10-05T10:53:37.282773Z",
     "start_time": "2025-10-05T10:53:37.267961Z"
    }
   },
   "source": [
    "for doc in documents:\n",
    "    doc['id'] = generate_document_id(doc)"
   ],
   "outputs": [],
   "execution_count": 10
  },
  {
   "cell_type": "markdown",
   "id": "990ed7dcbd064034",
   "metadata": {},
   "source": [
    "## Cheching if the ids are completely unique, we had hash collition: (Spoiler they are duplicates)"
   ]
  },
  {
   "cell_type": "code",
   "id": "255b43dd60d2672",
   "metadata": {
    "ExecuteTime": {
     "end_time": "2025-10-05T10:53:38.148748Z",
     "start_time": "2025-10-05T10:53:38.102778Z"
    }
   },
   "source": [
    "from collections import defaultdict\n",
    "\n",
    "hashes = defaultdict(list)\n",
    "\n",
    "for doc in documents:\n",
    "    doc_id = doc['id']\n",
    "    hashes[doc_id].append(doc)"
   ],
   "outputs": [],
   "execution_count": 11
  },
  {
   "cell_type": "code",
   "execution_count": 13,
   "id": "bfcf333240983a38",
   "metadata": {
    "ExecuteTime": {
     "end_time": "2025-10-03T14:38:04.283920Z",
     "start_time": "2025-10-03T14:38:04.281294Z"
    }
   },
   "outputs": [
    {
     "data": {
      "text/plain": [
       "15953"
      ]
     },
     "execution_count": 13,
     "metadata": {},
     "output_type": "execute_result"
    }
   ],
   "source": [
    "len(hashes)"
   ]
  },
  {
   "cell_type": "code",
   "id": "9b4851e2cebe2f21",
   "metadata": {
    "ExecuteTime": {
     "end_time": "2025-10-05T10:53:41.472513Z",
     "start_time": "2025-10-05T10:53:41.470116Z"
    }
   },
   "source": [
    "for k, values in hashes.items ():\n",
    "    if len(values) > 1:\n",
    "        print(k, len(values) )"
   ],
   "outputs": [
    {
     "name": "stdout",
     "output_type": "stream",
     "text": [
      "ffa3a8b71c 3\n",
      "78cb73d0e8 2\n",
      "bac6b4c5cc 3\n",
      "402da42b54 2\n",
      "4d9599c0a6 3\n",
      "eb953c3a0a 2\n",
      "071cee1adf 2\n",
      "5024bacd64 2\n",
      "d84d8c0b69 4\n",
      "a8fc39ee4c 2\n",
      "d57185cf28 2\n",
      "98883b65de 2\n",
      "d24a30cd61 2\n",
      "754531c78f 2\n",
      "a9d9c856a6 2\n",
      "10fddff4bd 2\n",
      "cbd3fe713f 2\n",
      "f1c8b2d56f 2\n",
      "8c49fa0b9a 2\n",
      "ad5ef2f7f6 2\n",
      "b1853c8b5a 2\n",
      "8eddc22223 2\n",
      "00f9762457 2\n",
      "c0597e960a 2\n",
      "7fe24cc54a 2\n",
      "32aeb461e6 2\n",
      "d4e7108828 2\n",
      "710c85021c 2\n",
      "6594c432e2 2\n",
      "a7764efb5d 2\n",
      "1054780676 2\n",
      "a45c9fcfdd 2\n",
      "a33a04683b 2\n",
      "5b431f381b 2\n",
      "8e48e57ab8 2\n",
      "cba2706fdb 2\n",
      "94c686fbe3 2\n",
      "205a157d1c 2\n",
      "d4e4cea242 2\n",
      "368e4a94e5 2\n",
      "647b7e3c64 2\n",
      "246b0dfc78 2\n"
     ]
    }
   ],
   "execution_count": 12
  },
  {
   "cell_type": "code",
   "execution_count": 8,
   "id": "b8594332c39ba609",
   "metadata": {
    "ExecuteTime": {
     "end_time": "2025-10-03T12:21:03.908019Z",
     "start_time": "2025-10-03T12:21:03.904449Z"
    }
   },
   "outputs": [
    {
     "data": {
      "text/plain": [
       "[{'id': 'ffa3a8b71c',\n",
       "  'topic': 'cancer',\n",
       "  'Question': 'What is (are) Endometrial Cancer ?',\n",
       "  'Answer': 'Key Points Endometrial cancer is a disease in which malignant (cancer) cells form in the tissues of the endometrium. Endometrial cancer is the most common invasive cancer of the female reproductive system. Endometrial cancer is a disease in which malignant (cancer) cells form in the tissues of the endometrium. The endometrium is the lining of the uterus. The uterus is part of the female reproductive system. It is a hollow, pear-shaped, muscular organ in the pelvis, where a fetus grows. Cancer of the endometrium is different from cancer of the muscle of the uterus, which is called sarcoma of the uterus. See the PDQ summary on Uterine Sarcoma Treatment for more information. See the following PDQ summaries for more information about endometrial cancer: Endometrial Cancer Screening Endometrial Cancer Treatment Endometrial cancer is the most common invasive cancer of the female reproductive system. Endometrial cancer is diagnosed most often in postmenopausal women at an average age of years . From to , the number of new cases of endometrial cancer increased slightly in white and African American women. From to , the number of deaths from endometrial cancer also increased slightly in white and African American women. Compared with white women, rates of endometrial cancer are lower in Japanese Americans and in Latinas. The rates of endometrial cancer in white women are about the same as in African Americans or in native Hawaiians. The number of deaths from endometrial cancer is higher in African American women compared with women of other races.'},\n",
       " {'id': 'ffa3a8b71c',\n",
       "  'topic': 'cancer',\n",
       "  'Question': 'What is (are) Endometrial Cancer ?',\n",
       "  'Answer': \"Key Points Endometrial cancer is a disease in which malignant (cancer) cells form in the tissues of the endometrium. Obesity and having metabolic syndrome may increase the risk of endometrial cancer. Taking tamoxifen for breast cancer or taking estrogen alone (without progesterone) can increase the risk of endometrial cancer. Signs and symptoms of endometrial cancer include unusual vaginal bleeding or pain in the pelvis. Tests that examine the endometrium are used to detect (find) and diagnose endometrial cancer. Certain factors affect prognosis (chance of recovery) and treatment options. Endometrial cancer is a disease in which malignant (cancer) cells form in the tissues of the endometrium. The endometrium is the lining of the uterus, a hollow, muscular organ in a womans pelvis. The uterus is where a fetus grows. In most nonpregnant women, the uterus is about inches long. The lower, narrow end of the uterus is the cervix, which leads to the vagina. Cancer of the endometrium is different from cancer of the muscle of the uterus, which is called sarcoma of the uterus. See the PDQ summary on Uterine Sarcoma Treatment for more information about uterine sarcoma. Obesity and having metabolic syndrome may increase the risk of endometrial cancer. Anything that increases your risk of getting a disease is called a risk factor. Having a risk factor does not mean that you will get cancer; not having risk factors doesn't mean that you will not get cancer. Talk with your doctor if you think you may be at risk. Risk factors for endometrial cancer include the following: Having endometrial hyperplasia. Being obese. Having metabolic syndrome, a set of conditions that occur together, including extra fat around the abdomen, high blood sugar, high blood pressure, high levels of triglycerides and low levels of high-density lipoproteins in the blood. Never giving birth. Beginning menstruation at an early age. Reaching menopause at an older age. Having polycystic ovarian syndrome (PCOS). Having a mother, sister, or daughter with uterine cancer. Having a certain gene change that is linked to Lynch syndrome (hereditary non-polyposis colon cancer). Having hyperinsulinemia (high levels of insulin in the blood). Taking tamoxifen for breast cancer or taking estrogen alone (without progesterone) can increase the risk of endometrial cancer. Endometrial cancer may develop in breast cancer patients who have been treated with tamoxifen. A patient who takes this drug and has abnormal vaginal bleeding should have a follow-up exam and a biopsy of the endometrial lining if needed. Women taking estrogen (a hormone that can affect the growth of some cancers) alone also have an increased risk of endometrial cancer. Taking estrogen combined with progesterone (another hormone) does not increase a womans risk of endometrial cancer.\"},\n",
       " {'id': 'ffa3a8b71c',\n",
       "  'topic': 'cancer',\n",
       "  'Question': 'What is (are) Endometrial Cancer ?',\n",
       "  'Answer': \"Key Points Endometrial cancer is a disease in which malignant (cancer) cells form in the tissues of the endometrium. In the United States, endometrial cancer is the most common invasive cancer of the female reproductive system. Health history and certain medicines can affect the risk of developing endometrial cancer. Endometrial cancer is a disease in which malignant (cancer) cells form in the tissues of the endometrium. The endometrium is the innermost lining of the uterus. The uterus is a hollow, muscular organ in a woman's pelvis. The uterus is where a fetus grows. In most nonpregnant women, the uterus is about inches long. Cancer of the endometrium is different from cancer of the muscle of the uterus, which is called uterine sarcoma. See the PDQ summary on Uterine Sarcoma Treatment for more information. See the following PDQ summaries for more information about endometrial cancer: Endometrial Cancer Treatment Endometrial Cancer Prevention In the United States, endometrial cancer is the most common invasive cancer of the female reproductive system. Endometrial cancer is diagnosed most often in postmenopausal women at an average age of years. From to , the number of new cases of endometrial cancer increased slightly in white and black women. From to , the number of deaths from endometrial cancer increased slightly in white and black women. When endometrial cancer is diagnosed in black women, it is usually more advanced and less likely to be cured.\"}]"
      ]
     },
     "execution_count": 8,
     "metadata": {},
     "output_type": "execute_result"
    }
   ],
   "source": [
    "hashes['ffa3a8b71c']"
   ]
  },
  {
   "cell_type": "code",
   "execution_count": 88,
   "id": "1b23aabd58fe5dd9",
   "metadata": {
    "ExecuteTime": {
     "end_time": "2025-10-02T21:54:57.298887Z",
     "start_time": "2025-10-02T21:54:57.152971Z"
    }
   },
   "outputs": [],
   "source": [
    "with open('documents-json-hash.json', 'wt') as f_out:\n",
    "    json.dump(documents, f_out, indent=2)\n"
   ]
  },
  {
   "cell_type": "code",
   "execution_count": 89,
   "id": "d43109649ff4c2e9",
   "metadata": {
    "ExecuteTime": {
     "end_time": "2025-10-02T21:55:14.877961Z",
     "start_time": "2025-10-02T21:55:14.727822Z"
    }
   },
   "outputs": [
    {
     "name": "stdout",
     "output_type": "stream",
     "text": [
      "[\r\n",
      "  {\r\n",
      "    \"id\": \"5e34bcbaa8\",\r\n",
      "    \"topic\": \"cancer\",\r\n",
      "    \"Question\": \"What is (are) Non-Small Cell Lung Cancer ?\",\r\n",
      "    \"Answer\": \"Key Points Non-small cell lung cancer is a disease in which malignant (cancer) cells form in the tissues of the lung. There are several types of non-small cell lung cancer. Smoking is the major risk factor for non-small cell lung cancer. Signs of non-small cell lung cancer include a cough that doesn't go away and shortness of breath. Tests that examine the lungs are used to detect (find), diagnose, and stage non-small cell lung cancer. Certain factors affect prognosis (chance of recovery) and treatment options. For most patients with non-small cell lung cancer, current treatments do not cure the cancer. Non-small cell lung cancer is a disease in which malignant (cancer) cells form in the tissues of the lung. The lungs are a pair of cone-shaped breathing organs in the chest. The lungs bring oxygen into the body as you breathe in. They release carbon dioxide, a waste product of the bodys cells, as you breathe out. Each lung has sections called lobes. The left lung has two lobes. The right lung is slightly larger and has three lobes. Two tubes called bronchi lead from the trachea (windpipe) to the right and left lungs. The bronchi are sometimes also involved in lung cancer. Tiny air sacs called alveoli and small tubes called bronchioles make up the inside of the lungs. A thin membrane called the pleura covers the outside of each lung and lines the inside wall of the chest cavity. This creates a sac called the pleural cavity. The pleural cavity normally contains a small amount of fluid that helps the lungs move smoothly in the chest when you breathe. There are two main types of lung cancer: non-small cell lung cancer and small cell lung cancer. See the following PDQ summaries for more information about lung cancer: Small Cell Lung Cancer Treatment Unusual Cancers of Childhood Treatment Lung Cancer Prevention Lung Cancer Screening There are several types of non-small cell lung cancer. Each type of non-small cell lung cancer has different kinds of cancer cells. The cancer cells of each type grow and spread in different ways. The types of non-small cell lung cancer are named for the kinds of cells found in the cancer and how the cells look under a microscope: Squamous cell carcinoma: Cancer that begins in squamous cells, which are thin, flat cells that look like fish scales. This is also called epidermoid carcinoma. Large cell carcinoma: Cancer that may begin in several types of large cells. Adenocarcinoma: Cancer that begins in the cells that line the alveoli and make substances such as mucus. Other less common types of non-small cell lung cancer are: pleomorphic, carcinoid tumor, salivary gland carcinoma, and unclassified carcinoma. For most patients with non-small cell lung cancer, current treatments do not cure the cancer. If lung cancer is found, taking part in one of the many clinical trials being done to improve treatment should be considered. Clinical trials are taking place in most parts of the country for patients with all stages of non-small cell lung cancer. Information about ongoing clinical trials is available from the NCI website.\"\r\n",
      "  },\r\n",
      "  {\r\n",
      "    \"id\": \"c2845efbbc\",\r\n",
      "    \"topic\": \"cancer\",\r\n"
     ]
    }
   ],
   "source": [
    "!head documents-json-hash.json"
   ]
  },
  {
   "cell_type": "markdown",
   "id": "7e51710b6dea686",
   "metadata": {},
   "source": [
    "## Using a llm to create the questions to evaluate retrieval"
   ]
  },
  {
   "cell_type": "code",
   "id": "b67bcfdc3efea421",
   "metadata": {
    "ExecuteTime": {
     "end_time": "2025-10-05T10:53:45.372246Z",
     "start_time": "2025-10-05T10:53:45.369370Z"
    }
   },
   "source": [
    "prompt_template = \"\"\"\n",
    "You are helping create evaluation questions for a medical question-answering system based on authoritative NIH health information.\n",
    "\n",
    "Generate 5 diverse questions that patients, medical students, or healthcare seekers might realistically ask,\n",
    "where the provided medical record contains the answer.\n",
    "\n",
    "REQUIREMENTS:\n",
    "- Questions should be complete, natural, and varied in phrasing\n",
    "- Each question should be answerable using the information in the record\n",
    "- Use different perspectives (patient concerns, educational queries, practical questions)\n",
    "- Avoid copying exact phrases from the record - rephrase naturally\n",
    "- Questions should reflect real-world medical information seeking behavior\n",
    "\n",
    "The medical record:\n",
    "\n",
    "Topic: {topic}\n",
    "Question: {Question}\n",
    "Answer: {Answer}\n",
    "\n",
    "Provide the output in parsable JSON without using code blocks:\n",
    "\n",
    "[\"question1\", \"question2\", \"question3\", \"question4\", \"question5\"]\n",
    "\"\"\".strip()"
   ],
   "outputs": [],
   "execution_count": 13
  },
  {
   "cell_type": "code",
   "id": "81e3c9fca1b3c36",
   "metadata": {
    "ExecuteTime": {
     "end_time": "2025-10-05T10:53:46.179583Z",
     "start_time": "2025-10-05T10:53:46.177229Z"
    }
   },
   "source": [
    "doc = documents[5]\n",
    "prompt = prompt_template.format(**doc)\n",
    "print(prompt)"
   ],
   "outputs": [
    {
     "name": "stdout",
     "output_type": "stream",
     "text": [
      "You are helping create evaluation questions for a medical question-answering system based on authoritative NIH health information.\n",
      "\n",
      "Generate 5 diverse questions that patients, medical students, or healthcare seekers might realistically ask,\n",
      "where the provided medical record contains the answer.\n",
      "\n",
      "REQUIREMENTS:\n",
      "- Questions should be complete, natural, and varied in phrasing\n",
      "- Each question should be answerable using the information in the record\n",
      "- Use different perspectives (patient concerns, educational queries, practical questions)\n",
      "- Avoid copying exact phrases from the record - rephrase naturally\n",
      "- Questions should reflect real-world medical information seeking behavior\n",
      "\n",
      "The medical record:\n",
      "\n",
      "Topic: cancer\n",
      "Question: what research (or clinical trials) is being done for Non-Small Cell Lung Cancer ?\n",
      "Answer: New types of treatment are being tested in clinical trials. This summary section describes treatments that are being studied in clinical trials. It may not mention every new treatment being studied. Information about clinical trials is available from the NCI website. Chemoprevention Chemoprevention is the use of drugs, vitamins, or other substances to reduce the risk of cancer or to reduce the risk cancer will recur (come back). For lung cancer, chemoprevention is used to lessen the chance that a new tumor will form in the lung. Radiosensitizers Radiosensitizers are substances that make tumor cells easier to kill with radiation therapy. The combination of chemotherapy and radiation therapy given with a radiosensitizer is being studied in the treatment of non-small cell lung cancer. New combinations New combinations of treatments are being studied in clinical trials. Patients may want to think about taking part in a clinical trial. For some patients, taking part in a clinical trial may be the best treatment choice. Clinical trials are part of the cancer research process. Clinical trials are done to find out if new cancer treatments are safe and effective or better than the standard treatment. Many of today's standard treatments for cancer are based on earlier clinical trials. Patients who take part in a clinical trial may receive the standard treatment or be among the first to receive a new treatment. Patients who take part in clinical trials also help improve the way cancer will be treated in the future. Even when clinical trials do not lead to effective new treatments, they often answer important questions and help move research forward. Patients can enter clinical trials before, during, or after starting their cancer treatment. Some clinical trials only include patients who have not yet received treatment. Other trials test treatments for patients whose cancer has not gotten better. There are also clinical trials that test new ways to stop cancer from recurring (coming back) or reduce the side effects of cancer treatment. Clinical trials are taking place in many parts of the country. See the Treatment Options section that follows for links to current treatment clinical trials. These have been retrieved from NCI's listing of clinical trials.\n",
      "\n",
      "Provide the output in parsable JSON without using code blocks:\n",
      "\n",
      "[\"question1\", \"question2\", \"question3\", \"question4\", \"question5\"]\n"
     ]
    }
   ],
   "execution_count": 14
  },
  {
   "cell_type": "code",
   "id": "f727898f4d81a463",
   "metadata": {
    "ExecuteTime": {
     "end_time": "2025-10-05T11:05:12.275150Z",
     "start_time": "2025-10-05T11:05:12.271839Z"
    }
   },
   "source": [
    "load_dotenv(override=True)  # ← Force reload\n",
    "\n",
    "# Get the API key\n",
    "api_key = os.getenv('OPENAI_API_KEY')\n",
    "print(f\"API Key found: {api_key is not None}\")"
   ],
   "outputs": [
    {
     "name": "stdout",
     "output_type": "stream",
     "text": [
      "API Key found: True\n"
     ]
    }
   ],
   "execution_count": 23
  },
  {
   "cell_type": "markdown",
   "id": "8fcb083653bd95c2",
   "metadata": {},
   "source": [
    "## Running ollama through docker AI hub"
   ]
  },
  {
   "cell_type": "code",
   "id": "b82afb17ced1bb93",
   "metadata": {
    "ExecuteTime": {
     "end_time": "2025-10-05T11:05:10.221262Z",
     "start_time": "2025-10-05T11:05:09.941593Z"
    }
   },
   "source": [
    "import requests\n",
    "\n",
    "# Check model info\n",
    "response = requests.get('http://127.0.0.1:12434/v1/chat/completions')\n",
    "print(response.text)"
   ],
   "outputs": [
    {
     "ename": "ConnectionError",
     "evalue": "HTTPConnectionPool(host='127.0.0.1', port=12434): Max retries exceeded with url: /v1/chat/completions (Caused by NewConnectionError('<urllib3.connection.HTTPConnection object at 0x332c5ea50>: Failed to establish a new connection: [Errno 61] Connection refused'))",
     "output_type": "error",
     "traceback": [
      "\u001B[31m---------------------------------------------------------------------------\u001B[39m",
      "\u001B[31mConnectionRefusedError\u001B[39m                    Traceback (most recent call last)",
      "\u001B[36mFile \u001B[39m\u001B[32m~/PycharmProjects/Health-Care-Assistant/.venv/lib/python3.12/site-packages/urllib3/connection.py:198\u001B[39m, in \u001B[36mHTTPConnection._new_conn\u001B[39m\u001B[34m(self)\u001B[39m\n\u001B[32m    197\u001B[39m \u001B[38;5;28;01mtry\u001B[39;00m:\n\u001B[32m--> \u001B[39m\u001B[32m198\u001B[39m     sock = \u001B[43mconnection\u001B[49m\u001B[43m.\u001B[49m\u001B[43mcreate_connection\u001B[49m\u001B[43m(\u001B[49m\n\u001B[32m    199\u001B[39m \u001B[43m        \u001B[49m\u001B[43m(\u001B[49m\u001B[38;5;28;43mself\u001B[39;49m\u001B[43m.\u001B[49m\u001B[43m_dns_host\u001B[49m\u001B[43m,\u001B[49m\u001B[43m \u001B[49m\u001B[38;5;28;43mself\u001B[39;49m\u001B[43m.\u001B[49m\u001B[43mport\u001B[49m\u001B[43m)\u001B[49m\u001B[43m,\u001B[49m\n\u001B[32m    200\u001B[39m \u001B[43m        \u001B[49m\u001B[38;5;28;43mself\u001B[39;49m\u001B[43m.\u001B[49m\u001B[43mtimeout\u001B[49m\u001B[43m,\u001B[49m\n\u001B[32m    201\u001B[39m \u001B[43m        \u001B[49m\u001B[43msource_address\u001B[49m\u001B[43m=\u001B[49m\u001B[38;5;28;43mself\u001B[39;49m\u001B[43m.\u001B[49m\u001B[43msource_address\u001B[49m\u001B[43m,\u001B[49m\n\u001B[32m    202\u001B[39m \u001B[43m        \u001B[49m\u001B[43msocket_options\u001B[49m\u001B[43m=\u001B[49m\u001B[38;5;28;43mself\u001B[39;49m\u001B[43m.\u001B[49m\u001B[43msocket_options\u001B[49m\u001B[43m,\u001B[49m\n\u001B[32m    203\u001B[39m \u001B[43m    \u001B[49m\u001B[43m)\u001B[49m\n\u001B[32m    204\u001B[39m \u001B[38;5;28;01mexcept\u001B[39;00m socket.gaierror \u001B[38;5;28;01mas\u001B[39;00m e:\n",
      "\u001B[36mFile \u001B[39m\u001B[32m~/PycharmProjects/Health-Care-Assistant/.venv/lib/python3.12/site-packages/urllib3/util/connection.py:85\u001B[39m, in \u001B[36mcreate_connection\u001B[39m\u001B[34m(address, timeout, source_address, socket_options)\u001B[39m\n\u001B[32m     84\u001B[39m \u001B[38;5;28;01mtry\u001B[39;00m:\n\u001B[32m---> \u001B[39m\u001B[32m85\u001B[39m     \u001B[38;5;28;01mraise\u001B[39;00m err\n\u001B[32m     86\u001B[39m \u001B[38;5;28;01mfinally\u001B[39;00m:\n\u001B[32m     87\u001B[39m     \u001B[38;5;66;03m# Break explicitly a reference cycle\u001B[39;00m\n",
      "\u001B[36mFile \u001B[39m\u001B[32m~/PycharmProjects/Health-Care-Assistant/.venv/lib/python3.12/site-packages/urllib3/util/connection.py:73\u001B[39m, in \u001B[36mcreate_connection\u001B[39m\u001B[34m(address, timeout, source_address, socket_options)\u001B[39m\n\u001B[32m     72\u001B[39m     sock.bind(source_address)\n\u001B[32m---> \u001B[39m\u001B[32m73\u001B[39m \u001B[43msock\u001B[49m\u001B[43m.\u001B[49m\u001B[43mconnect\u001B[49m\u001B[43m(\u001B[49m\u001B[43msa\u001B[49m\u001B[43m)\u001B[49m\n\u001B[32m     74\u001B[39m \u001B[38;5;66;03m# Break explicitly a reference cycle\u001B[39;00m\n",
      "\u001B[31mConnectionRefusedError\u001B[39m: [Errno 61] Connection refused",
      "\nThe above exception was the direct cause of the following exception:\n",
      "\u001B[31mNewConnectionError\u001B[39m                        Traceback (most recent call last)",
      "\u001B[36mFile \u001B[39m\u001B[32m~/PycharmProjects/Health-Care-Assistant/.venv/lib/python3.12/site-packages/urllib3/connectionpool.py:787\u001B[39m, in \u001B[36mHTTPConnectionPool.urlopen\u001B[39m\u001B[34m(self, method, url, body, headers, retries, redirect, assert_same_host, timeout, pool_timeout, release_conn, chunked, body_pos, preload_content, decode_content, **response_kw)\u001B[39m\n\u001B[32m    786\u001B[39m \u001B[38;5;66;03m# Make the request on the HTTPConnection object\u001B[39;00m\n\u001B[32m--> \u001B[39m\u001B[32m787\u001B[39m response = \u001B[38;5;28;43mself\u001B[39;49m\u001B[43m.\u001B[49m\u001B[43m_make_request\u001B[49m\u001B[43m(\u001B[49m\n\u001B[32m    788\u001B[39m \u001B[43m    \u001B[49m\u001B[43mconn\u001B[49m\u001B[43m,\u001B[49m\n\u001B[32m    789\u001B[39m \u001B[43m    \u001B[49m\u001B[43mmethod\u001B[49m\u001B[43m,\u001B[49m\n\u001B[32m    790\u001B[39m \u001B[43m    \u001B[49m\u001B[43murl\u001B[49m\u001B[43m,\u001B[49m\n\u001B[32m    791\u001B[39m \u001B[43m    \u001B[49m\u001B[43mtimeout\u001B[49m\u001B[43m=\u001B[49m\u001B[43mtimeout_obj\u001B[49m\u001B[43m,\u001B[49m\n\u001B[32m    792\u001B[39m \u001B[43m    \u001B[49m\u001B[43mbody\u001B[49m\u001B[43m=\u001B[49m\u001B[43mbody\u001B[49m\u001B[43m,\u001B[49m\n\u001B[32m    793\u001B[39m \u001B[43m    \u001B[49m\u001B[43mheaders\u001B[49m\u001B[43m=\u001B[49m\u001B[43mheaders\u001B[49m\u001B[43m,\u001B[49m\n\u001B[32m    794\u001B[39m \u001B[43m    \u001B[49m\u001B[43mchunked\u001B[49m\u001B[43m=\u001B[49m\u001B[43mchunked\u001B[49m\u001B[43m,\u001B[49m\n\u001B[32m    795\u001B[39m \u001B[43m    \u001B[49m\u001B[43mretries\u001B[49m\u001B[43m=\u001B[49m\u001B[43mretries\u001B[49m\u001B[43m,\u001B[49m\n\u001B[32m    796\u001B[39m \u001B[43m    \u001B[49m\u001B[43mresponse_conn\u001B[49m\u001B[43m=\u001B[49m\u001B[43mresponse_conn\u001B[49m\u001B[43m,\u001B[49m\n\u001B[32m    797\u001B[39m \u001B[43m    \u001B[49m\u001B[43mpreload_content\u001B[49m\u001B[43m=\u001B[49m\u001B[43mpreload_content\u001B[49m\u001B[43m,\u001B[49m\n\u001B[32m    798\u001B[39m \u001B[43m    \u001B[49m\u001B[43mdecode_content\u001B[49m\u001B[43m=\u001B[49m\u001B[43mdecode_content\u001B[49m\u001B[43m,\u001B[49m\n\u001B[32m    799\u001B[39m \u001B[43m    \u001B[49m\u001B[43m*\u001B[49m\u001B[43m*\u001B[49m\u001B[43mresponse_kw\u001B[49m\u001B[43m,\u001B[49m\n\u001B[32m    800\u001B[39m \u001B[43m\u001B[49m\u001B[43m)\u001B[49m\n\u001B[32m    802\u001B[39m \u001B[38;5;66;03m# Everything went great!\u001B[39;00m\n",
      "\u001B[36mFile \u001B[39m\u001B[32m~/PycharmProjects/Health-Care-Assistant/.venv/lib/python3.12/site-packages/urllib3/connectionpool.py:493\u001B[39m, in \u001B[36mHTTPConnectionPool._make_request\u001B[39m\u001B[34m(self, conn, method, url, body, headers, retries, timeout, chunked, response_conn, preload_content, decode_content, enforce_content_length)\u001B[39m\n\u001B[32m    492\u001B[39m \u001B[38;5;28;01mtry\u001B[39;00m:\n\u001B[32m--> \u001B[39m\u001B[32m493\u001B[39m     \u001B[43mconn\u001B[49m\u001B[43m.\u001B[49m\u001B[43mrequest\u001B[49m\u001B[43m(\u001B[49m\n\u001B[32m    494\u001B[39m \u001B[43m        \u001B[49m\u001B[43mmethod\u001B[49m\u001B[43m,\u001B[49m\n\u001B[32m    495\u001B[39m \u001B[43m        \u001B[49m\u001B[43murl\u001B[49m\u001B[43m,\u001B[49m\n\u001B[32m    496\u001B[39m \u001B[43m        \u001B[49m\u001B[43mbody\u001B[49m\u001B[43m=\u001B[49m\u001B[43mbody\u001B[49m\u001B[43m,\u001B[49m\n\u001B[32m    497\u001B[39m \u001B[43m        \u001B[49m\u001B[43mheaders\u001B[49m\u001B[43m=\u001B[49m\u001B[43mheaders\u001B[49m\u001B[43m,\u001B[49m\n\u001B[32m    498\u001B[39m \u001B[43m        \u001B[49m\u001B[43mchunked\u001B[49m\u001B[43m=\u001B[49m\u001B[43mchunked\u001B[49m\u001B[43m,\u001B[49m\n\u001B[32m    499\u001B[39m \u001B[43m        \u001B[49m\u001B[43mpreload_content\u001B[49m\u001B[43m=\u001B[49m\u001B[43mpreload_content\u001B[49m\u001B[43m,\u001B[49m\n\u001B[32m    500\u001B[39m \u001B[43m        \u001B[49m\u001B[43mdecode_content\u001B[49m\u001B[43m=\u001B[49m\u001B[43mdecode_content\u001B[49m\u001B[43m,\u001B[49m\n\u001B[32m    501\u001B[39m \u001B[43m        \u001B[49m\u001B[43menforce_content_length\u001B[49m\u001B[43m=\u001B[49m\u001B[43menforce_content_length\u001B[49m\u001B[43m,\u001B[49m\n\u001B[32m    502\u001B[39m \u001B[43m    \u001B[49m\u001B[43m)\u001B[49m\n\u001B[32m    504\u001B[39m \u001B[38;5;66;03m# We are swallowing BrokenPipeError (errno.EPIPE) since the server is\u001B[39;00m\n\u001B[32m    505\u001B[39m \u001B[38;5;66;03m# legitimately able to close the connection after sending a valid response.\u001B[39;00m\n\u001B[32m    506\u001B[39m \u001B[38;5;66;03m# With this behaviour, the received response is still readable.\u001B[39;00m\n",
      "\u001B[36mFile \u001B[39m\u001B[32m~/PycharmProjects/Health-Care-Assistant/.venv/lib/python3.12/site-packages/urllib3/connection.py:494\u001B[39m, in \u001B[36mHTTPConnection.request\u001B[39m\u001B[34m(self, method, url, body, headers, chunked, preload_content, decode_content, enforce_content_length)\u001B[39m\n\u001B[32m    493\u001B[39m     \u001B[38;5;28mself\u001B[39m.putheader(header, value)\n\u001B[32m--> \u001B[39m\u001B[32m494\u001B[39m \u001B[38;5;28;43mself\u001B[39;49m\u001B[43m.\u001B[49m\u001B[43mendheaders\u001B[49m\u001B[43m(\u001B[49m\u001B[43m)\u001B[49m\n\u001B[32m    496\u001B[39m \u001B[38;5;66;03m# If we're given a body we start sending that in chunks.\u001B[39;00m\n",
      "\u001B[36mFile \u001B[39m\u001B[32m/Library/Frameworks/Python.framework/Versions/3.12/lib/python3.12/http/client.py:1331\u001B[39m, in \u001B[36mHTTPConnection.endheaders\u001B[39m\u001B[34m(self, message_body, encode_chunked)\u001B[39m\n\u001B[32m   1330\u001B[39m     \u001B[38;5;28;01mraise\u001B[39;00m CannotSendHeader()\n\u001B[32m-> \u001B[39m\u001B[32m1331\u001B[39m \u001B[38;5;28;43mself\u001B[39;49m\u001B[43m.\u001B[49m\u001B[43m_send_output\u001B[49m\u001B[43m(\u001B[49m\u001B[43mmessage_body\u001B[49m\u001B[43m,\u001B[49m\u001B[43m \u001B[49m\u001B[43mencode_chunked\u001B[49m\u001B[43m=\u001B[49m\u001B[43mencode_chunked\u001B[49m\u001B[43m)\u001B[49m\n",
      "\u001B[36mFile \u001B[39m\u001B[32m/Library/Frameworks/Python.framework/Versions/3.12/lib/python3.12/http/client.py:1091\u001B[39m, in \u001B[36mHTTPConnection._send_output\u001B[39m\u001B[34m(self, message_body, encode_chunked)\u001B[39m\n\u001B[32m   1090\u001B[39m \u001B[38;5;28;01mdel\u001B[39;00m \u001B[38;5;28mself\u001B[39m._buffer[:]\n\u001B[32m-> \u001B[39m\u001B[32m1091\u001B[39m \u001B[38;5;28;43mself\u001B[39;49m\u001B[43m.\u001B[49m\u001B[43msend\u001B[49m\u001B[43m(\u001B[49m\u001B[43mmsg\u001B[49m\u001B[43m)\u001B[49m\n\u001B[32m   1093\u001B[39m \u001B[38;5;28;01mif\u001B[39;00m message_body \u001B[38;5;129;01mis\u001B[39;00m \u001B[38;5;129;01mnot\u001B[39;00m \u001B[38;5;28;01mNone\u001B[39;00m:\n\u001B[32m   1094\u001B[39m \n\u001B[32m   1095\u001B[39m     \u001B[38;5;66;03m# create a consistent interface to message_body\u001B[39;00m\n",
      "\u001B[36mFile \u001B[39m\u001B[32m/Library/Frameworks/Python.framework/Versions/3.12/lib/python3.12/http/client.py:1035\u001B[39m, in \u001B[36mHTTPConnection.send\u001B[39m\u001B[34m(self, data)\u001B[39m\n\u001B[32m   1034\u001B[39m \u001B[38;5;28;01mif\u001B[39;00m \u001B[38;5;28mself\u001B[39m.auto_open:\n\u001B[32m-> \u001B[39m\u001B[32m1035\u001B[39m     \u001B[38;5;28;43mself\u001B[39;49m\u001B[43m.\u001B[49m\u001B[43mconnect\u001B[49m\u001B[43m(\u001B[49m\u001B[43m)\u001B[49m\n\u001B[32m   1036\u001B[39m \u001B[38;5;28;01melse\u001B[39;00m:\n",
      "\u001B[36mFile \u001B[39m\u001B[32m~/PycharmProjects/Health-Care-Assistant/.venv/lib/python3.12/site-packages/urllib3/connection.py:325\u001B[39m, in \u001B[36mHTTPConnection.connect\u001B[39m\u001B[34m(self)\u001B[39m\n\u001B[32m    324\u001B[39m \u001B[38;5;28;01mdef\u001B[39;00m\u001B[38;5;250m \u001B[39m\u001B[34mconnect\u001B[39m(\u001B[38;5;28mself\u001B[39m) -> \u001B[38;5;28;01mNone\u001B[39;00m:\n\u001B[32m--> \u001B[39m\u001B[32m325\u001B[39m     \u001B[38;5;28mself\u001B[39m.sock = \u001B[38;5;28;43mself\u001B[39;49m\u001B[43m.\u001B[49m\u001B[43m_new_conn\u001B[49m\u001B[43m(\u001B[49m\u001B[43m)\u001B[49m\n\u001B[32m    326\u001B[39m     \u001B[38;5;28;01mif\u001B[39;00m \u001B[38;5;28mself\u001B[39m._tunnel_host:\n\u001B[32m    327\u001B[39m         \u001B[38;5;66;03m# If we're tunneling it means we're connected to our proxy.\u001B[39;00m\n",
      "\u001B[36mFile \u001B[39m\u001B[32m~/PycharmProjects/Health-Care-Assistant/.venv/lib/python3.12/site-packages/urllib3/connection.py:213\u001B[39m, in \u001B[36mHTTPConnection._new_conn\u001B[39m\u001B[34m(self)\u001B[39m\n\u001B[32m    212\u001B[39m \u001B[38;5;28;01mexcept\u001B[39;00m \u001B[38;5;167;01mOSError\u001B[39;00m \u001B[38;5;28;01mas\u001B[39;00m e:\n\u001B[32m--> \u001B[39m\u001B[32m213\u001B[39m     \u001B[38;5;28;01mraise\u001B[39;00m NewConnectionError(\n\u001B[32m    214\u001B[39m         \u001B[38;5;28mself\u001B[39m, \u001B[33mf\u001B[39m\u001B[33m\"\u001B[39m\u001B[33mFailed to establish a new connection: \u001B[39m\u001B[38;5;132;01m{\u001B[39;00me\u001B[38;5;132;01m}\u001B[39;00m\u001B[33m\"\u001B[39m\n\u001B[32m    215\u001B[39m     ) \u001B[38;5;28;01mfrom\u001B[39;00m\u001B[38;5;250m \u001B[39m\u001B[34;01me\u001B[39;00m\n\u001B[32m    217\u001B[39m sys.audit(\u001B[33m\"\u001B[39m\u001B[33mhttp.client.connect\u001B[39m\u001B[33m\"\u001B[39m, \u001B[38;5;28mself\u001B[39m, \u001B[38;5;28mself\u001B[39m.host, \u001B[38;5;28mself\u001B[39m.port)\n",
      "\u001B[31mNewConnectionError\u001B[39m: <urllib3.connection.HTTPConnection object at 0x332c5ea50>: Failed to establish a new connection: [Errno 61] Connection refused",
      "\nThe above exception was the direct cause of the following exception:\n",
      "\u001B[31mMaxRetryError\u001B[39m                             Traceback (most recent call last)",
      "\u001B[36mFile \u001B[39m\u001B[32m~/PycharmProjects/Health-Care-Assistant/.venv/lib/python3.12/site-packages/requests/adapters.py:644\u001B[39m, in \u001B[36mHTTPAdapter.send\u001B[39m\u001B[34m(self, request, stream, timeout, verify, cert, proxies)\u001B[39m\n\u001B[32m    643\u001B[39m \u001B[38;5;28;01mtry\u001B[39;00m:\n\u001B[32m--> \u001B[39m\u001B[32m644\u001B[39m     resp = \u001B[43mconn\u001B[49m\u001B[43m.\u001B[49m\u001B[43murlopen\u001B[49m\u001B[43m(\u001B[49m\n\u001B[32m    645\u001B[39m \u001B[43m        \u001B[49m\u001B[43mmethod\u001B[49m\u001B[43m=\u001B[49m\u001B[43mrequest\u001B[49m\u001B[43m.\u001B[49m\u001B[43mmethod\u001B[49m\u001B[43m,\u001B[49m\n\u001B[32m    646\u001B[39m \u001B[43m        \u001B[49m\u001B[43murl\u001B[49m\u001B[43m=\u001B[49m\u001B[43murl\u001B[49m\u001B[43m,\u001B[49m\n\u001B[32m    647\u001B[39m \u001B[43m        \u001B[49m\u001B[43mbody\u001B[49m\u001B[43m=\u001B[49m\u001B[43mrequest\u001B[49m\u001B[43m.\u001B[49m\u001B[43mbody\u001B[49m\u001B[43m,\u001B[49m\n\u001B[32m    648\u001B[39m \u001B[43m        \u001B[49m\u001B[43mheaders\u001B[49m\u001B[43m=\u001B[49m\u001B[43mrequest\u001B[49m\u001B[43m.\u001B[49m\u001B[43mheaders\u001B[49m\u001B[43m,\u001B[49m\n\u001B[32m    649\u001B[39m \u001B[43m        \u001B[49m\u001B[43mredirect\u001B[49m\u001B[43m=\u001B[49m\u001B[38;5;28;43;01mFalse\u001B[39;49;00m\u001B[43m,\u001B[49m\n\u001B[32m    650\u001B[39m \u001B[43m        \u001B[49m\u001B[43massert_same_host\u001B[49m\u001B[43m=\u001B[49m\u001B[38;5;28;43;01mFalse\u001B[39;49;00m\u001B[43m,\u001B[49m\n\u001B[32m    651\u001B[39m \u001B[43m        \u001B[49m\u001B[43mpreload_content\u001B[49m\u001B[43m=\u001B[49m\u001B[38;5;28;43;01mFalse\u001B[39;49;00m\u001B[43m,\u001B[49m\n\u001B[32m    652\u001B[39m \u001B[43m        \u001B[49m\u001B[43mdecode_content\u001B[49m\u001B[43m=\u001B[49m\u001B[38;5;28;43;01mFalse\u001B[39;49;00m\u001B[43m,\u001B[49m\n\u001B[32m    653\u001B[39m \u001B[43m        \u001B[49m\u001B[43mretries\u001B[49m\u001B[43m=\u001B[49m\u001B[38;5;28;43mself\u001B[39;49m\u001B[43m.\u001B[49m\u001B[43mmax_retries\u001B[49m\u001B[43m,\u001B[49m\n\u001B[32m    654\u001B[39m \u001B[43m        \u001B[49m\u001B[43mtimeout\u001B[49m\u001B[43m=\u001B[49m\u001B[43mtimeout\u001B[49m\u001B[43m,\u001B[49m\n\u001B[32m    655\u001B[39m \u001B[43m        \u001B[49m\u001B[43mchunked\u001B[49m\u001B[43m=\u001B[49m\u001B[43mchunked\u001B[49m\u001B[43m,\u001B[49m\n\u001B[32m    656\u001B[39m \u001B[43m    \u001B[49m\u001B[43m)\u001B[49m\n\u001B[32m    658\u001B[39m \u001B[38;5;28;01mexcept\u001B[39;00m (ProtocolError, \u001B[38;5;167;01mOSError\u001B[39;00m) \u001B[38;5;28;01mas\u001B[39;00m err:\n",
      "\u001B[36mFile \u001B[39m\u001B[32m~/PycharmProjects/Health-Care-Assistant/.venv/lib/python3.12/site-packages/urllib3/connectionpool.py:841\u001B[39m, in \u001B[36mHTTPConnectionPool.urlopen\u001B[39m\u001B[34m(self, method, url, body, headers, retries, redirect, assert_same_host, timeout, pool_timeout, release_conn, chunked, body_pos, preload_content, decode_content, **response_kw)\u001B[39m\n\u001B[32m    839\u001B[39m     new_e = ProtocolError(\u001B[33m\"\u001B[39m\u001B[33mConnection aborted.\u001B[39m\u001B[33m\"\u001B[39m, new_e)\n\u001B[32m--> \u001B[39m\u001B[32m841\u001B[39m retries = \u001B[43mretries\u001B[49m\u001B[43m.\u001B[49m\u001B[43mincrement\u001B[49m\u001B[43m(\u001B[49m\n\u001B[32m    842\u001B[39m \u001B[43m    \u001B[49m\u001B[43mmethod\u001B[49m\u001B[43m,\u001B[49m\u001B[43m \u001B[49m\u001B[43murl\u001B[49m\u001B[43m,\u001B[49m\u001B[43m \u001B[49m\u001B[43merror\u001B[49m\u001B[43m=\u001B[49m\u001B[43mnew_e\u001B[49m\u001B[43m,\u001B[49m\u001B[43m \u001B[49m\u001B[43m_pool\u001B[49m\u001B[43m=\u001B[49m\u001B[38;5;28;43mself\u001B[39;49m\u001B[43m,\u001B[49m\u001B[43m \u001B[49m\u001B[43m_stacktrace\u001B[49m\u001B[43m=\u001B[49m\u001B[43msys\u001B[49m\u001B[43m.\u001B[49m\u001B[43mexc_info\u001B[49m\u001B[43m(\u001B[49m\u001B[43m)\u001B[49m\u001B[43m[\u001B[49m\u001B[32;43m2\u001B[39;49m\u001B[43m]\u001B[49m\n\u001B[32m    843\u001B[39m \u001B[43m\u001B[49m\u001B[43m)\u001B[49m\n\u001B[32m    844\u001B[39m retries.sleep()\n",
      "\u001B[36mFile \u001B[39m\u001B[32m~/PycharmProjects/Health-Care-Assistant/.venv/lib/python3.12/site-packages/urllib3/util/retry.py:519\u001B[39m, in \u001B[36mRetry.increment\u001B[39m\u001B[34m(self, method, url, response, error, _pool, _stacktrace)\u001B[39m\n\u001B[32m    518\u001B[39m     reason = error \u001B[38;5;129;01mor\u001B[39;00m ResponseError(cause)\n\u001B[32m--> \u001B[39m\u001B[32m519\u001B[39m     \u001B[38;5;28;01mraise\u001B[39;00m MaxRetryError(_pool, url, reason) \u001B[38;5;28;01mfrom\u001B[39;00m\u001B[38;5;250m \u001B[39m\u001B[34;01mreason\u001B[39;00m  \u001B[38;5;66;03m# type: ignore[arg-type]\u001B[39;00m\n\u001B[32m    521\u001B[39m log.debug(\u001B[33m\"\u001B[39m\u001B[33mIncremented Retry for (url=\u001B[39m\u001B[33m'\u001B[39m\u001B[38;5;132;01m%s\u001B[39;00m\u001B[33m'\u001B[39m\u001B[33m): \u001B[39m\u001B[38;5;132;01m%r\u001B[39;00m\u001B[33m\"\u001B[39m, url, new_retry)\n",
      "\u001B[31mMaxRetryError\u001B[39m: HTTPConnectionPool(host='127.0.0.1', port=12434): Max retries exceeded with url: /v1/chat/completions (Caused by NewConnectionError('<urllib3.connection.HTTPConnection object at 0x332c5ea50>: Failed to establish a new connection: [Errno 61] Connection refused'))",
      "\nDuring handling of the above exception, another exception occurred:\n",
      "\u001B[31mConnectionError\u001B[39m                           Traceback (most recent call last)",
      "\u001B[36mCell\u001B[39m\u001B[36m \u001B[39m\u001B[32mIn[22]\u001B[39m\u001B[32m, line 4\u001B[39m\n\u001B[32m      1\u001B[39m \u001B[38;5;28;01mimport\u001B[39;00m\u001B[38;5;250m \u001B[39m\u001B[34;01mrequests\u001B[39;00m\n\u001B[32m      3\u001B[39m \u001B[38;5;66;03m# Check model info\u001B[39;00m\n\u001B[32m----> \u001B[39m\u001B[32m4\u001B[39m response = \u001B[43mrequests\u001B[49m\u001B[43m.\u001B[49m\u001B[43mget\u001B[49m\u001B[43m(\u001B[49m\u001B[33;43m'\u001B[39;49m\u001B[33;43mhttp://127.0.0.1:12434/v1/chat/completions\u001B[39;49m\u001B[33;43m'\u001B[39;49m\u001B[43m)\u001B[49m\n\u001B[32m      5\u001B[39m \u001B[38;5;28mprint\u001B[39m(response.text)\n",
      "\u001B[36mFile \u001B[39m\u001B[32m~/PycharmProjects/Health-Care-Assistant/.venv/lib/python3.12/site-packages/requests/api.py:73\u001B[39m, in \u001B[36mget\u001B[39m\u001B[34m(url, params, **kwargs)\u001B[39m\n\u001B[32m     62\u001B[39m \u001B[38;5;28;01mdef\u001B[39;00m\u001B[38;5;250m \u001B[39m\u001B[34mget\u001B[39m(url, params=\u001B[38;5;28;01mNone\u001B[39;00m, **kwargs):\n\u001B[32m     63\u001B[39m \u001B[38;5;250m    \u001B[39m\u001B[33mr\u001B[39m\u001B[33;03m\"\"\"Sends a GET request.\u001B[39;00m\n\u001B[32m     64\u001B[39m \n\u001B[32m     65\u001B[39m \u001B[33;03m    :param url: URL for the new :class:`Request` object.\u001B[39;00m\n\u001B[32m   (...)\u001B[39m\u001B[32m     70\u001B[39m \u001B[33;03m    :rtype: requests.Response\u001B[39;00m\n\u001B[32m     71\u001B[39m \u001B[33;03m    \"\"\"\u001B[39;00m\n\u001B[32m---> \u001B[39m\u001B[32m73\u001B[39m     \u001B[38;5;28;01mreturn\u001B[39;00m \u001B[43mrequest\u001B[49m\u001B[43m(\u001B[49m\u001B[33;43m\"\u001B[39;49m\u001B[33;43mget\u001B[39;49m\u001B[33;43m\"\u001B[39;49m\u001B[43m,\u001B[49m\u001B[43m \u001B[49m\u001B[43murl\u001B[49m\u001B[43m,\u001B[49m\u001B[43m \u001B[49m\u001B[43mparams\u001B[49m\u001B[43m=\u001B[49m\u001B[43mparams\u001B[49m\u001B[43m,\u001B[49m\u001B[43m \u001B[49m\u001B[43m*\u001B[49m\u001B[43m*\u001B[49m\u001B[43mkwargs\u001B[49m\u001B[43m)\u001B[49m\n",
      "\u001B[36mFile \u001B[39m\u001B[32m~/PycharmProjects/Health-Care-Assistant/.venv/lib/python3.12/site-packages/requests/api.py:59\u001B[39m, in \u001B[36mrequest\u001B[39m\u001B[34m(method, url, **kwargs)\u001B[39m\n\u001B[32m     55\u001B[39m \u001B[38;5;66;03m# By using the 'with' statement we are sure the session is closed, thus we\u001B[39;00m\n\u001B[32m     56\u001B[39m \u001B[38;5;66;03m# avoid leaving sockets open which can trigger a ResourceWarning in some\u001B[39;00m\n\u001B[32m     57\u001B[39m \u001B[38;5;66;03m# cases, and look like a memory leak in others.\u001B[39;00m\n\u001B[32m     58\u001B[39m \u001B[38;5;28;01mwith\u001B[39;00m sessions.Session() \u001B[38;5;28;01mas\u001B[39;00m session:\n\u001B[32m---> \u001B[39m\u001B[32m59\u001B[39m     \u001B[38;5;28;01mreturn\u001B[39;00m \u001B[43msession\u001B[49m\u001B[43m.\u001B[49m\u001B[43mrequest\u001B[49m\u001B[43m(\u001B[49m\u001B[43mmethod\u001B[49m\u001B[43m=\u001B[49m\u001B[43mmethod\u001B[49m\u001B[43m,\u001B[49m\u001B[43m \u001B[49m\u001B[43murl\u001B[49m\u001B[43m=\u001B[49m\u001B[43murl\u001B[49m\u001B[43m,\u001B[49m\u001B[43m \u001B[49m\u001B[43m*\u001B[49m\u001B[43m*\u001B[49m\u001B[43mkwargs\u001B[49m\u001B[43m)\u001B[49m\n",
      "\u001B[36mFile \u001B[39m\u001B[32m~/PycharmProjects/Health-Care-Assistant/.venv/lib/python3.12/site-packages/requests/sessions.py:589\u001B[39m, in \u001B[36mSession.request\u001B[39m\u001B[34m(self, method, url, params, data, headers, cookies, files, auth, timeout, allow_redirects, proxies, hooks, stream, verify, cert, json)\u001B[39m\n\u001B[32m    584\u001B[39m send_kwargs = {\n\u001B[32m    585\u001B[39m     \u001B[33m\"\u001B[39m\u001B[33mtimeout\u001B[39m\u001B[33m\"\u001B[39m: timeout,\n\u001B[32m    586\u001B[39m     \u001B[33m\"\u001B[39m\u001B[33mallow_redirects\u001B[39m\u001B[33m\"\u001B[39m: allow_redirects,\n\u001B[32m    587\u001B[39m }\n\u001B[32m    588\u001B[39m send_kwargs.update(settings)\n\u001B[32m--> \u001B[39m\u001B[32m589\u001B[39m resp = \u001B[38;5;28;43mself\u001B[39;49m\u001B[43m.\u001B[49m\u001B[43msend\u001B[49m\u001B[43m(\u001B[49m\u001B[43mprep\u001B[49m\u001B[43m,\u001B[49m\u001B[43m \u001B[49m\u001B[43m*\u001B[49m\u001B[43m*\u001B[49m\u001B[43msend_kwargs\u001B[49m\u001B[43m)\u001B[49m\n\u001B[32m    591\u001B[39m \u001B[38;5;28;01mreturn\u001B[39;00m resp\n",
      "\u001B[36mFile \u001B[39m\u001B[32m~/PycharmProjects/Health-Care-Assistant/.venv/lib/python3.12/site-packages/requests/sessions.py:703\u001B[39m, in \u001B[36mSession.send\u001B[39m\u001B[34m(self, request, **kwargs)\u001B[39m\n\u001B[32m    700\u001B[39m start = preferred_clock()\n\u001B[32m    702\u001B[39m \u001B[38;5;66;03m# Send the request\u001B[39;00m\n\u001B[32m--> \u001B[39m\u001B[32m703\u001B[39m r = \u001B[43madapter\u001B[49m\u001B[43m.\u001B[49m\u001B[43msend\u001B[49m\u001B[43m(\u001B[49m\u001B[43mrequest\u001B[49m\u001B[43m,\u001B[49m\u001B[43m \u001B[49m\u001B[43m*\u001B[49m\u001B[43m*\u001B[49m\u001B[43mkwargs\u001B[49m\u001B[43m)\u001B[49m\n\u001B[32m    705\u001B[39m \u001B[38;5;66;03m# Total elapsed time of the request (approximately)\u001B[39;00m\n\u001B[32m    706\u001B[39m elapsed = preferred_clock() - start\n",
      "\u001B[36mFile \u001B[39m\u001B[32m~/PycharmProjects/Health-Care-Assistant/.venv/lib/python3.12/site-packages/requests/adapters.py:677\u001B[39m, in \u001B[36mHTTPAdapter.send\u001B[39m\u001B[34m(self, request, stream, timeout, verify, cert, proxies)\u001B[39m\n\u001B[32m    673\u001B[39m     \u001B[38;5;28;01mif\u001B[39;00m \u001B[38;5;28misinstance\u001B[39m(e.reason, _SSLError):\n\u001B[32m    674\u001B[39m         \u001B[38;5;66;03m# This branch is for urllib3 v1.22 and later.\u001B[39;00m\n\u001B[32m    675\u001B[39m         \u001B[38;5;28;01mraise\u001B[39;00m SSLError(e, request=request)\n\u001B[32m--> \u001B[39m\u001B[32m677\u001B[39m     \u001B[38;5;28;01mraise\u001B[39;00m \u001B[38;5;167;01mConnectionError\u001B[39;00m(e, request=request)\n\u001B[32m    679\u001B[39m \u001B[38;5;28;01mexcept\u001B[39;00m ClosedPoolError \u001B[38;5;28;01mas\u001B[39;00m e:\n\u001B[32m    680\u001B[39m     \u001B[38;5;28;01mraise\u001B[39;00m \u001B[38;5;167;01mConnectionError\u001B[39;00m(e, request=request)\n",
      "\u001B[31mConnectionError\u001B[39m: HTTPConnectionPool(host='127.0.0.1', port=12434): Max retries exceeded with url: /v1/chat/completions (Caused by NewConnectionError('<urllib3.connection.HTTPConnection object at 0x332c5ea50>: Failed to establish a new connection: [Errno 61] Connection refused'))"
     ]
    }
   ],
   "execution_count": 22
  },
  {
   "cell_type": "code",
   "execution_count": 33,
   "id": "e5331aa970b80db9",
   "metadata": {
    "ExecuteTime": {
     "end_time": "2025-10-04T09:41:07.650873Z",
     "start_time": "2025-10-04T09:41:07.648418Z"
    }
   },
   "outputs": [],
   "source": [
    "def generate_questions(doc):\n",
    "    prompt = prompt_template.format(**doc)\n",
    "\n",
    "    # Use 127.0.0.1 instead of localhost\n",
    "    url = \"http://127.0.0.1:12434/v1/chat/completions\"\n",
    "\n",
    "    data = {\n",
    "        \"model\": \"granite-4.0-h-tiny\",\n",
    "        \"messages\": [\n",
    "            {\n",
    "                \"role\": \"user\",\n",
    "                \"content\": prompt\n",
    "            }\n",
    "        ]\n",
    "    }\n",
    "\n",
    "    response = requests.post(url, json=data, timeout=120)\n",
    "    response.raise_for_status()\n",
    "\n",
    "    result = response.json()\n",
    "    json_response = result[\"choices\"][0][\"message\"][\"content\"]\n",
    "    return json_response"
   ]
  },
  {
   "cell_type": "code",
   "execution_count": 29,
   "id": "d99177a224d4f03f",
   "metadata": {
    "ExecuteTime": {
     "end_time": "2025-10-04T09:39:01.970032Z",
     "start_time": "2025-10-04T09:39:01.963746Z"
    }
   },
   "outputs": [
    {
     "name": "stdout",
     "output_type": "stream",
     "text": [
      "🔍 Testing Docker Model Runner...\n",
      "❌ Not running: HTTPConnectionPool(host='localhost', port=12434): Max retries exceeded with url: / (Caused by NameResolutionError(\"<urllib3.connection.HTTPConnection object at 0x33d771df0>: Failed to resolve 'localhost' ([Errno 8] nodename nor servname provided, or not known)\"))\n",
      "The history saving thread hit an unexpected error (OperationalError('unable to open database file')).History will not be written to the database.\n",
      "\n",
      "❌ Error: HTTPConnectionPool(host='localhost', port=12434): Max retries exceeded with url: /engines/llama.cpp/v1/chat/completions (Caused by NameResolutionError(\"<urllib3.connection.HTTPConnection object at 0x33d771010>: Failed to resolve 'localhost' ([Errno 8] nodename nor servname provided, or not known)\"))\n"
     ]
    }
   ],
   "source": [
    "import requests\n",
    "\n",
    "# Test if service is available\n",
    "print(\"🔍 Testing Docker Model Runner...\")\n",
    "try:\n",
    "    response = requests.get('http://localhost:12434/')\n",
    "    print(\"✅ Docker Model Runner is running!\")\n",
    "    print(response.text[:200])\n",
    "except Exception as e:\n",
    "    print(f\"❌ Not running: {e}\")\n",
    "\n",
    "# Use OpenAI-compatible endpoint\n",
    "url = \"http://localhost:12434/engines/llama.cpp/v1/chat/completions\"\n",
    "\n",
    "data = {\n",
    "    \"model\": \"ai/granite-4.0-h-tiny:latest\",\n",
    "    \"messages\": [\n",
    "        {\n",
    "            \"role\": \"user\",\n",
    "            \"content\": prompt\n",
    "        }\n",
    "    ]\n",
    "}\n",
    "\n",
    "try:\n",
    "    response = requests.post(url, json=data, timeout=60)\n",
    "    response.raise_for_status()\n",
    "\n",
    "    result = response.json()\n",
    "    print(\"\\n✅ Chat successful!\")\n",
    "    print(result[\"choices\"][0][\"message\"][\"content\"])\n",
    "\n",
    "except Exception as e:\n",
    "    print(f\"\\n❌ Error: {e}\")"
   ]
  },
  {
   "cell_type": "markdown",
   "id": "cdfe0876c48ecb2a",
   "metadata": {},
   "source": [
    "### To slow so we move to ollama"
   ]
  },
  {
   "cell_type": "code",
   "execution_count": 12,
   "id": "b1dd68ff9a43ba62",
   "metadata": {
    "ExecuteTime": {
     "end_time": "2025-10-03T15:32:15.434633Z",
     "start_time": "2025-10-03T15:32:15.429598Z"
    }
   },
   "outputs": [
    {
     "name": "stdout",
     "output_type": "stream",
     "text": [
      "\n",
      "❌ Error: HTTPConnectionPool(host='localhost', port=11434): Max retries exceeded with url: /api/generate (Caused by NewConnectionError('<urllib3.connection.HTTPConnection object at 0x11e7db4a0>: Failed to establish a new connection: [Errno 61] Connection refused'))\n"
     ]
    }
   ],
   "source": [
    "url = \"http://localhost:11434/api/generate\"\n",
    "\n",
    "data = {\n",
    "    \"model\": \"gpt-oss:20b\",\n",
    "    \"prompt\": prompt,\n",
    "    \"stream\": False\n",
    "}\n",
    "\n",
    "try:\n",
    "    response = requests.post(url, json=data, timeout=60)\n",
    "    response.raise_for_status()\n",
    "\n",
    "    result = response.json()\n",
    "    print(\"\\n✅ Ollama is working!\")\n",
    "    print(result[\"response\"])\n",
    "\n",
    "except Exception as e:\n",
    "    print(f\"\\n❌ Error: {e}\")"
   ]
  },
  {
   "cell_type": "code",
   "id": "bbf1d21133312e6",
   "metadata": {
    "ExecuteTime": {
     "end_time": "2025-10-05T11:05:14.875648Z",
     "start_time": "2025-10-05T11:05:14.853005Z"
    }
   },
   "source": [
    "api_key = os.getenv('OPENAI_API_KEY')\n",
    "\n",
    "client = OpenAI(\n",
    "  base_url=\"https://openrouter.ai/api/v1\",\n",
    "  api_key=api_key,\n",
    ")\n"
   ],
   "outputs": [],
   "execution_count": 24
  },
  {
   "cell_type": "code",
   "id": "39b9190e272bfce2",
   "metadata": {
    "ExecuteTime": {
     "end_time": "2025-10-05T11:06:21.396455Z",
     "start_time": "2025-10-05T11:06:21.393202Z"
    }
   },
   "source": [
    "def generate_questions(doc):\n",
    "    prompt = prompt_template.format(**doc)\n",
    "\n",
    "    response = client.chat.completions.create(\n",
    "        model='openai/gpt-oss-120b',\n",
    "        messages=[{\"role\": \"user\", \"content\": prompt}]\n",
    "    )\n",
    "\n",
    "    json_response = response.choices[0].message.content\n",
    "    return json_response\n",
    "\n",
    "\n",
    "# def generate_questions(doc):\n",
    "#     prompt = prompt_template.format(**doc)\n",
    "#\n",
    "#     # OpenAI-compatible endpoint\n",
    "#     url = \"http://localhost:12434/engines/llama.cpp/v1/chat/completions\"\n",
    "#\n",
    "#     data = {\n",
    "#         \"model\": \"ai/granite-4.0-h-tiny:latest\",\n",
    "#         \"messages\": [\n",
    "#             {\n",
    "#                 \"role\": \"user\",\n",
    "#                 \"content\": prompt\n",
    "#             }\n",
    "#         ]\n",
    "#     }\n",
    "#\n",
    "#     response = requests.post(url, json=data, timeout=120)\n",
    "#     response.raise_for_status()\n",
    "#\n",
    "#     result = response.json()\n",
    "#     json_response = result[\"choices\"][0][\"message\"][\"content\"]\n",
    "#     return json_response"
   ],
   "outputs": [],
   "execution_count": 27
  },
  {
   "cell_type": "code",
   "id": "80e19e073303a8ea",
   "metadata": {
    "ExecuteTime": {
     "end_time": "2025-10-05T11:06:29.041381Z",
     "start_time": "2025-10-05T11:06:26.053722Z"
    }
   },
   "source": [
    "generate_questions(documents[0])"
   ],
   "outputs": [
    {
     "data": {
      "text/plain": [
       "'[\"What exactly is non‑small cell lung cancer and how does it differ from other lung cancers?\",\"Which factors increase my risk of developing non‑small cell lung cancer, and what symptoms should I watch for?\",\"Can you explain the main subtypes of non‑small cell lung cancer and how they are identified under a microscope?\",\"How is non‑small cell lung cancer diagnosed and staged, and what tests are typically used?\",\"What are the current treatment goals for patients with non‑small cell lung cancer, and why is cure rarely achieved?\"]'"
      ]
     },
     "execution_count": 28,
     "metadata": {},
     "output_type": "execute_result"
    }
   ],
   "execution_count": 28
  },
  {
   "cell_type": "code",
   "id": "bdb0f5880a8526d",
   "metadata": {
    "jupyter": {
     "is_executing": true
    },
    "ExecuteTime": {
     "start_time": "2025-10-05T11:07:19.359992Z"
    }
   },
   "source": [
    "results= {}\n",
    "for doc in tqdm(documents):\n",
    "    doc_id = doc['id']\n",
    "    if doc_id in results:\n",
    "        continue\n",
    "\n",
    "    questions = generate_questions(doc)\n",
    "    results[doc_id] = questions\n",
    "\n",
    "# results = {}\n",
    "# max_workers = 4\n",
    "#\n",
    "# with ThreadPoolExecutor(max_workers=max_workers) as executor:\n",
    "#     future_to_doc = {\n",
    "#         executor.submit(generate_questions, doc): doc\n",
    "#         for doc in documents\n",
    "#         if doc['id'] not in results\n",
    "#     }\n",
    "#\n",
    "#     # Process completed tasks with progress bar\n",
    "#     for future in tqdm(as_completed(future_to_doc), total=len(future_to_doc)):\n",
    "#         doc_id, questions = future.result()\n",
    "#         results[doc_id] = questions\n",
    "#\n",
    "# print(f\"✅ Processed {len(results)} documents\")"
   ],
   "outputs": [
    {
     "name": "stderr",
     "output_type": "stream",
     "text": [
      "  0%|          | 4/16000 [00:10<11:47:50,  2.66s/it]"
     ]
    }
   ],
   "execution_count": null
  },
  {
   "cell_type": "code",
   "execution_count": 25,
   "id": "25201f7f18ec3ddd",
   "metadata": {
    "ExecuteTime": {
     "end_time": "2025-10-04T07:08:23.760755Z",
     "start_time": "2025-10-04T00:37:28.569630Z"
    }
   },
   "outputs": [
    {
     "name": "stderr",
     "output_type": "stream",
     "text": [
      "Generating questions:   6%|▌         | 961/16000 [02:00<501:19:10, 120.00s/it]"
     ]
    },
    {
     "name": "stdout",
     "output_type": "stream",
     "text": [
      "\n",
      "Failed on doc 5e34bcbaa8: HTTPConnectionPool(host='localhost', port=12434): Read timed out. (read timeout=120)\n"
     ]
    },
    {
     "name": "stderr",
     "output_type": "stream",
     "text": [
      "Generating questions:   6%|▌         | 962/16000 [04:00<501:17:59, 120.01s/it]"
     ]
    },
    {
     "name": "stdout",
     "output_type": "stream",
     "text": [
      "\n",
      "Failed on doc c2845efbbc: HTTPConnectionPool(host='localhost', port=12434): Read timed out. (read timeout=120)\n"
     ]
    },
    {
     "name": "stderr",
     "output_type": "stream",
     "text": [
      "Generating questions:   6%|▌         | 963/16000 [06:00<501:16:08, 120.01s/it]"
     ]
    },
    {
     "name": "stdout",
     "output_type": "stream",
     "text": [
      "\n",
      "Failed on doc d1bc99107d: HTTPConnectionPool(host='localhost', port=12434): Read timed out. (read timeout=120)\n"
     ]
    },
    {
     "name": "stderr",
     "output_type": "stream",
     "text": [
      "Generating questions:   6%|▌         | 964/16000 [08:00<501:13:59, 120.01s/it]"
     ]
    },
    {
     "name": "stdout",
     "output_type": "stream",
     "text": [
      "\n",
      "Failed on doc abdbe99dd2: HTTPConnectionPool(host='localhost', port=12434): Read timed out. (read timeout=120)\n"
     ]
    },
    {
     "name": "stderr",
     "output_type": "stream",
     "text": [
      "Generating questions:   6%|▌         | 965/16000 [10:00<501:12:05, 120.01s/it]"
     ]
    },
    {
     "name": "stdout",
     "output_type": "stream",
     "text": [
      "\n",
      "Failed on doc 597a81526a: HTTPConnectionPool(host='localhost', port=12434): Read timed out. (read timeout=120)\n"
     ]
    },
    {
     "name": "stderr",
     "output_type": "stream",
     "text": [
      "Generating questions:   6%|▌         | 966/16000 [12:00<501:10:07, 120.01s/it]"
     ]
    },
    {
     "name": "stdout",
     "output_type": "stream",
     "text": [
      "\n",
      "Failed on doc 4979172719: HTTPConnectionPool(host='localhost', port=12434): Read timed out. (read timeout=120)\n"
     ]
    },
    {
     "name": "stderr",
     "output_type": "stream",
     "text": [
      "Generating questions:   6%|▌         | 967/16000 [14:00<501:08:15, 120.01s/it]"
     ]
    },
    {
     "name": "stdout",
     "output_type": "stream",
     "text": [
      "\n",
      "Failed on doc d563c7d596: HTTPConnectionPool(host='localhost', port=12434): Read timed out. (read timeout=120)\n"
     ]
    },
    {
     "name": "stderr",
     "output_type": "stream",
     "text": [
      "Generating questions:   6%|▌         | 968/16000 [16:00<501:06:12, 120.01s/it]"
     ]
    },
    {
     "name": "stdout",
     "output_type": "stream",
     "text": [
      "\n",
      "Failed on doc 02577e3169: HTTPConnectionPool(host='localhost', port=12434): Read timed out. (read timeout=120)\n"
     ]
    },
    {
     "name": "stderr",
     "output_type": "stream",
     "text": [
      "Generating questions:   6%|▌         | 969/16000 [18:00<501:04:18, 120.01s/it]"
     ]
    },
    {
     "name": "stdout",
     "output_type": "stream",
     "text": [
      "\n",
      "Failed on doc d11834721f: HTTPConnectionPool(host='localhost', port=12434): Read timed out. (read timeout=120)\n"
     ]
    },
    {
     "name": "stderr",
     "output_type": "stream",
     "text": [
      "Generating questions:   6%|▌         | 970/16000 [20:00<501:02:05, 120.01s/it]"
     ]
    },
    {
     "name": "stdout",
     "output_type": "stream",
     "text": [
      "\n",
      "Failed on doc e109719c38: HTTPConnectionPool(host='localhost', port=12434): Read timed out. (read timeout=120)\n"
     ]
    },
    {
     "name": "stderr",
     "output_type": "stream",
     "text": [
      "Generating questions:   6%|▌         | 971/16000 [22:00<501:00:07, 120.01s/it]"
     ]
    },
    {
     "name": "stdout",
     "output_type": "stream",
     "text": [
      "\n",
      "Failed on doc 6becabff6a: HTTPConnectionPool(host='localhost', port=12434): Read timed out. (read timeout=120)\n"
     ]
    },
    {
     "name": "stderr",
     "output_type": "stream",
     "text": [
      "Generating questions:   6%|▌         | 972/16000 [24:00<500:58:01, 120.01s/it]"
     ]
    },
    {
     "name": "stdout",
     "output_type": "stream",
     "text": [
      "\n",
      "Failed on doc 252662340d: HTTPConnectionPool(host='localhost', port=12434): Read timed out. (read timeout=120)\n"
     ]
    },
    {
     "name": "stderr",
     "output_type": "stream",
     "text": [
      "Generating questions:   6%|▌         | 973/16000 [26:00<500:56:16, 120.01s/it]"
     ]
    },
    {
     "name": "stdout",
     "output_type": "stream",
     "text": [
      "\n",
      "Failed on doc 4faee827b1: HTTPConnectionPool(host='localhost', port=12434): Read timed out. (read timeout=120)\n"
     ]
    },
    {
     "name": "stderr",
     "output_type": "stream",
     "text": [
      "Generating questions:   6%|▌         | 974/16000 [28:00<500:57:11, 120.02s/it]"
     ]
    },
    {
     "name": "stdout",
     "output_type": "stream",
     "text": [
      "\n",
      "Failed on doc ee6941d3af: HTTPConnectionPool(host='localhost', port=12434): Read timed out. (read timeout=120)\n"
     ]
    },
    {
     "name": "stderr",
     "output_type": "stream",
     "text": [
      "Generating questions:   6%|▌         | 975/16000 [30:00<500:54:53, 120.02s/it]"
     ]
    },
    {
     "name": "stdout",
     "output_type": "stream",
     "text": [
      "\n",
      "Failed on doc 0867df07b6: HTTPConnectionPool(host='localhost', port=12434): Read timed out. (read timeout=120)\n"
     ]
    },
    {
     "name": "stderr",
     "output_type": "stream",
     "text": [
      "Generating questions:   6%|▌         | 976/16000 [32:00<500:52:15, 120.02s/it]"
     ]
    },
    {
     "name": "stdout",
     "output_type": "stream",
     "text": [
      "\n",
      "Failed on doc d84a78215e: HTTPConnectionPool(host='localhost', port=12434): Read timed out. (read timeout=120)\n"
     ]
    },
    {
     "name": "stderr",
     "output_type": "stream",
     "text": [
      "Generating questions:   6%|▌         | 977/16000 [34:00<500:49:54, 120.02s/it]"
     ]
    },
    {
     "name": "stdout",
     "output_type": "stream",
     "text": [
      "\n",
      "Failed on doc 7cdefbf7d7: HTTPConnectionPool(host='localhost', port=12434): Read timed out. (read timeout=120)\n"
     ]
    },
    {
     "name": "stderr",
     "output_type": "stream",
     "text": [
      "Generating questions:   6%|▌         | 978/16000 [36:00<500:47:28, 120.01s/it]"
     ]
    },
    {
     "name": "stdout",
     "output_type": "stream",
     "text": [
      "\n",
      "Failed on doc ef17a8af15: HTTPConnectionPool(host='localhost', port=12434): Read timed out. (read timeout=120)\n"
     ]
    },
    {
     "name": "stderr",
     "output_type": "stream",
     "text": [
      "Generating questions:   6%|▌         | 979/16000 [38:00<500:45:17, 120.01s/it]"
     ]
    },
    {
     "name": "stdout",
     "output_type": "stream",
     "text": [
      "\n",
      "Failed on doc 72dbfb80d6: HTTPConnectionPool(host='localhost', port=12434): Read timed out. (read timeout=120)\n"
     ]
    },
    {
     "name": "stderr",
     "output_type": "stream",
     "text": [
      "Generating questions:   6%|▌         | 980/16000 [40:00<500:43:04, 120.01s/it]"
     ]
    },
    {
     "name": "stdout",
     "output_type": "stream",
     "text": [
      "\n",
      "Failed on doc ffa3a8b71c: HTTPConnectionPool(host='localhost', port=12434): Read timed out. (read timeout=120)\n"
     ]
    },
    {
     "name": "stderr",
     "output_type": "stream",
     "text": [
      "Generating questions:   6%|▌         | 981/16000 [42:00<500:41:01, 120.01s/it]"
     ]
    },
    {
     "name": "stdout",
     "output_type": "stream",
     "text": [
      "\n",
      "Failed on doc 5571edf550: HTTPConnectionPool(host='localhost', port=12434): Read timed out. (read timeout=120)\n"
     ]
    },
    {
     "name": "stderr",
     "output_type": "stream",
     "text": [
      "Generating questions:   6%|▌         | 982/16000 [44:00<500:38:56, 120.01s/it]"
     ]
    },
    {
     "name": "stdout",
     "output_type": "stream",
     "text": [
      "\n",
      "Failed on doc ffa3a8b71c: HTTPConnectionPool(host='localhost', port=12434): Read timed out. (read timeout=120)\n"
     ]
    },
    {
     "name": "stderr",
     "output_type": "stream",
     "text": [
      "Generating questions:   6%|▌         | 983/16000 [46:00<500:37:06, 120.01s/it]"
     ]
    },
    {
     "name": "stdout",
     "output_type": "stream",
     "text": [
      "\n",
      "Failed on doc 088527fd30: HTTPConnectionPool(host='localhost', port=12434): Read timed out. (read timeout=120)\n"
     ]
    },
    {
     "name": "stderr",
     "output_type": "stream",
     "text": [
      "Generating questions:   6%|▌         | 984/16000 [48:00<500:35:09, 120.01s/it]"
     ]
    },
    {
     "name": "stdout",
     "output_type": "stream",
     "text": [
      "\n",
      "Failed on doc de8d113e10: HTTPConnectionPool(host='localhost', port=12434): Read timed out. (read timeout=120)\n"
     ]
    },
    {
     "name": "stderr",
     "output_type": "stream",
     "text": [
      "Generating questions:   6%|▌         | 985/16000 [50:00<500:33:03, 120.01s/it]"
     ]
    },
    {
     "name": "stdout",
     "output_type": "stream",
     "text": [
      "\n",
      "Failed on doc 6382ed5025: HTTPConnectionPool(host='localhost', port=12434): Read timed out. (read timeout=120)\n"
     ]
    },
    {
     "name": "stderr",
     "output_type": "stream",
     "text": [
      "Generating questions:   6%|▌         | 986/16000 [52:00<500:30:48, 120.01s/it]"
     ]
    },
    {
     "name": "stdout",
     "output_type": "stream",
     "text": [
      "\n",
      "Failed on doc 58a1402850: HTTPConnectionPool(host='localhost', port=12434): Read timed out. (read timeout=120)\n"
     ]
    },
    {
     "name": "stderr",
     "output_type": "stream",
     "text": [
      "Generating questions:   6%|▌         | 987/16000 [3:02:06<10116:34:52, 2425.88s/it]"
     ]
    },
    {
     "name": "stdout",
     "output_type": "stream",
     "text": [
      "\n",
      "Failed on doc 621ffb7c2b: HTTPConnectionPool(host='localhost', port=12434): Read timed out. (read timeout=120)\n"
     ]
    },
    {
     "name": "stderr",
     "output_type": "stream",
     "text": [
      "Generating questions:   6%|▌         | 988/16000 [5:21:07<17516:31:41, 4200.61s/it]"
     ]
    },
    {
     "name": "stdout",
     "output_type": "stream",
     "text": [
      "\n",
      "Failed on doc 8f023665d0: HTTPConnectionPool(host='localhost', port=12434): Read timed out. (read timeout=120)\n"
     ]
    },
    {
     "name": "stderr",
     "output_type": "stream",
     "text": [
      "Generating questions:   6%|▌         | 989/16000 [6:28:06<17288:06:13, 4146.10s/it]"
     ]
    },
    {
     "name": "stdout",
     "output_type": "stream",
     "text": [
      "\n",
      "Failed on doc 9cdbb2c4d0: HTTPConnectionPool(host='localhost', port=12434): Read timed out. (read timeout=120)\n"
     ]
    },
    {
     "ename": "KeyboardInterrupt",
     "evalue": "",
     "output_type": "error",
     "traceback": [
      "\u001B[31m---------------------------------------------------------------------------\u001B[39m",
      "\u001B[31mKeyboardInterrupt\u001B[39m                         Traceback (most recent call last)",
      "\u001B[36mCell\u001B[39m\u001B[36m \u001B[39m\u001B[32mIn[25]\u001B[39m\u001B[32m, line 20\u001B[39m\n\u001B[32m     17\u001B[39m     \u001B[38;5;28;01mcontinue\u001B[39;00m\n\u001B[32m     19\u001B[39m \u001B[38;5;28;01mtry\u001B[39;00m:\n\u001B[32m---> \u001B[39m\u001B[32m20\u001B[39m     questions = \u001B[43mgenerate_questions\u001B[49m\u001B[43m(\u001B[49m\u001B[43mdoc\u001B[49m\u001B[43m)\u001B[49m\n\u001B[32m     21\u001B[39m     results1[doc_id] = questions\n\u001B[32m     22\u001B[39m     pbar.update(\u001B[32m1\u001B[39m)\n",
      "\u001B[36mCell\u001B[39m\u001B[36m \u001B[39m\u001B[32mIn[21]\u001B[39m\u001B[32m, line 29\u001B[39m, in \u001B[36mgenerate_questions\u001B[39m\u001B[34m(doc)\u001B[39m\n\u001B[32m     17\u001B[39m url = \u001B[33m\"\u001B[39m\u001B[33mhttp://localhost:12434/engines/llama.cpp/v1/chat/completions\u001B[39m\u001B[33m\"\u001B[39m\n\u001B[32m     19\u001B[39m data = {\n\u001B[32m     20\u001B[39m     \u001B[33m\"\u001B[39m\u001B[33mmodel\u001B[39m\u001B[33m\"\u001B[39m: \u001B[33m\"\u001B[39m\u001B[33mai/granite-4.0-h-tiny:latest\u001B[39m\u001B[33m\"\u001B[39m,\n\u001B[32m     21\u001B[39m     \u001B[33m\"\u001B[39m\u001B[33mmessages\u001B[39m\u001B[33m\"\u001B[39m: [\n\u001B[32m   (...)\u001B[39m\u001B[32m     26\u001B[39m     ]\n\u001B[32m     27\u001B[39m }\n\u001B[32m---> \u001B[39m\u001B[32m29\u001B[39m response = \u001B[43mrequests\u001B[49m\u001B[43m.\u001B[49m\u001B[43mpost\u001B[49m\u001B[43m(\u001B[49m\u001B[43murl\u001B[49m\u001B[43m,\u001B[49m\u001B[43m \u001B[49m\u001B[43mjson\u001B[49m\u001B[43m=\u001B[49m\u001B[43mdata\u001B[49m\u001B[43m,\u001B[49m\u001B[43m \u001B[49m\u001B[43mtimeout\u001B[49m\u001B[43m=\u001B[49m\u001B[32;43m120\u001B[39;49m\u001B[43m)\u001B[49m\n\u001B[32m     30\u001B[39m response.raise_for_status()\n\u001B[32m     32\u001B[39m result = response.json()\n",
      "\u001B[36mFile \u001B[39m\u001B[32m~/PycharmProjects/Health-Care-Assistant/.venv/lib/python3.12/site-packages/requests/api.py:115\u001B[39m, in \u001B[36mpost\u001B[39m\u001B[34m(url, data, json, **kwargs)\u001B[39m\n\u001B[32m    103\u001B[39m \u001B[38;5;28;01mdef\u001B[39;00m\u001B[38;5;250m \u001B[39m\u001B[34mpost\u001B[39m(url, data=\u001B[38;5;28;01mNone\u001B[39;00m, json=\u001B[38;5;28;01mNone\u001B[39;00m, **kwargs):\n\u001B[32m    104\u001B[39m \u001B[38;5;250m    \u001B[39m\u001B[33mr\u001B[39m\u001B[33;03m\"\"\"Sends a POST request.\u001B[39;00m\n\u001B[32m    105\u001B[39m \n\u001B[32m    106\u001B[39m \u001B[33;03m    :param url: URL for the new :class:`Request` object.\u001B[39;00m\n\u001B[32m   (...)\u001B[39m\u001B[32m    112\u001B[39m \u001B[33;03m    :rtype: requests.Response\u001B[39;00m\n\u001B[32m    113\u001B[39m \u001B[33;03m    \"\"\"\u001B[39;00m\n\u001B[32m--> \u001B[39m\u001B[32m115\u001B[39m     \u001B[38;5;28;01mreturn\u001B[39;00m \u001B[43mrequest\u001B[49m\u001B[43m(\u001B[49m\u001B[33;43m\"\u001B[39;49m\u001B[33;43mpost\u001B[39;49m\u001B[33;43m\"\u001B[39;49m\u001B[43m,\u001B[49m\u001B[43m \u001B[49m\u001B[43murl\u001B[49m\u001B[43m,\u001B[49m\u001B[43m \u001B[49m\u001B[43mdata\u001B[49m\u001B[43m=\u001B[49m\u001B[43mdata\u001B[49m\u001B[43m,\u001B[49m\u001B[43m \u001B[49m\u001B[43mjson\u001B[49m\u001B[43m=\u001B[49m\u001B[43mjson\u001B[49m\u001B[43m,\u001B[49m\u001B[43m \u001B[49m\u001B[43m*\u001B[49m\u001B[43m*\u001B[49m\u001B[43mkwargs\u001B[49m\u001B[43m)\u001B[49m\n",
      "\u001B[36mFile \u001B[39m\u001B[32m~/PycharmProjects/Health-Care-Assistant/.venv/lib/python3.12/site-packages/requests/api.py:59\u001B[39m, in \u001B[36mrequest\u001B[39m\u001B[34m(method, url, **kwargs)\u001B[39m\n\u001B[32m     55\u001B[39m \u001B[38;5;66;03m# By using the 'with' statement we are sure the session is closed, thus we\u001B[39;00m\n\u001B[32m     56\u001B[39m \u001B[38;5;66;03m# avoid leaving sockets open which can trigger a ResourceWarning in some\u001B[39;00m\n\u001B[32m     57\u001B[39m \u001B[38;5;66;03m# cases, and look like a memory leak in others.\u001B[39;00m\n\u001B[32m     58\u001B[39m \u001B[38;5;28;01mwith\u001B[39;00m sessions.Session() \u001B[38;5;28;01mas\u001B[39;00m session:\n\u001B[32m---> \u001B[39m\u001B[32m59\u001B[39m     \u001B[38;5;28;01mreturn\u001B[39;00m \u001B[43msession\u001B[49m\u001B[43m.\u001B[49m\u001B[43mrequest\u001B[49m\u001B[43m(\u001B[49m\u001B[43mmethod\u001B[49m\u001B[43m=\u001B[49m\u001B[43mmethod\u001B[49m\u001B[43m,\u001B[49m\u001B[43m \u001B[49m\u001B[43murl\u001B[49m\u001B[43m=\u001B[49m\u001B[43murl\u001B[49m\u001B[43m,\u001B[49m\u001B[43m \u001B[49m\u001B[43m*\u001B[49m\u001B[43m*\u001B[49m\u001B[43mkwargs\u001B[49m\u001B[43m)\u001B[49m\n",
      "\u001B[36mFile \u001B[39m\u001B[32m~/PycharmProjects/Health-Care-Assistant/.venv/lib/python3.12/site-packages/requests/sessions.py:589\u001B[39m, in \u001B[36mSession.request\u001B[39m\u001B[34m(self, method, url, params, data, headers, cookies, files, auth, timeout, allow_redirects, proxies, hooks, stream, verify, cert, json)\u001B[39m\n\u001B[32m    584\u001B[39m send_kwargs = {\n\u001B[32m    585\u001B[39m     \u001B[33m\"\u001B[39m\u001B[33mtimeout\u001B[39m\u001B[33m\"\u001B[39m: timeout,\n\u001B[32m    586\u001B[39m     \u001B[33m\"\u001B[39m\u001B[33mallow_redirects\u001B[39m\u001B[33m\"\u001B[39m: allow_redirects,\n\u001B[32m    587\u001B[39m }\n\u001B[32m    588\u001B[39m send_kwargs.update(settings)\n\u001B[32m--> \u001B[39m\u001B[32m589\u001B[39m resp = \u001B[38;5;28;43mself\u001B[39;49m\u001B[43m.\u001B[49m\u001B[43msend\u001B[49m\u001B[43m(\u001B[49m\u001B[43mprep\u001B[49m\u001B[43m,\u001B[49m\u001B[43m \u001B[49m\u001B[43m*\u001B[49m\u001B[43m*\u001B[49m\u001B[43msend_kwargs\u001B[49m\u001B[43m)\u001B[49m\n\u001B[32m    591\u001B[39m \u001B[38;5;28;01mreturn\u001B[39;00m resp\n",
      "\u001B[36mFile \u001B[39m\u001B[32m~/PycharmProjects/Health-Care-Assistant/.venv/lib/python3.12/site-packages/requests/sessions.py:703\u001B[39m, in \u001B[36mSession.send\u001B[39m\u001B[34m(self, request, **kwargs)\u001B[39m\n\u001B[32m    700\u001B[39m start = preferred_clock()\n\u001B[32m    702\u001B[39m \u001B[38;5;66;03m# Send the request\u001B[39;00m\n\u001B[32m--> \u001B[39m\u001B[32m703\u001B[39m r = \u001B[43madapter\u001B[49m\u001B[43m.\u001B[49m\u001B[43msend\u001B[49m\u001B[43m(\u001B[49m\u001B[43mrequest\u001B[49m\u001B[43m,\u001B[49m\u001B[43m \u001B[49m\u001B[43m*\u001B[49m\u001B[43m*\u001B[49m\u001B[43mkwargs\u001B[49m\u001B[43m)\u001B[49m\n\u001B[32m    705\u001B[39m \u001B[38;5;66;03m# Total elapsed time of the request (approximately)\u001B[39;00m\n\u001B[32m    706\u001B[39m elapsed = preferred_clock() - start\n",
      "\u001B[36mFile \u001B[39m\u001B[32m~/PycharmProjects/Health-Care-Assistant/.venv/lib/python3.12/site-packages/requests/adapters.py:644\u001B[39m, in \u001B[36mHTTPAdapter.send\u001B[39m\u001B[34m(self, request, stream, timeout, verify, cert, proxies)\u001B[39m\n\u001B[32m    641\u001B[39m     timeout = TimeoutSauce(connect=timeout, read=timeout)\n\u001B[32m    643\u001B[39m \u001B[38;5;28;01mtry\u001B[39;00m:\n\u001B[32m--> \u001B[39m\u001B[32m644\u001B[39m     resp = \u001B[43mconn\u001B[49m\u001B[43m.\u001B[49m\u001B[43murlopen\u001B[49m\u001B[43m(\u001B[49m\n\u001B[32m    645\u001B[39m \u001B[43m        \u001B[49m\u001B[43mmethod\u001B[49m\u001B[43m=\u001B[49m\u001B[43mrequest\u001B[49m\u001B[43m.\u001B[49m\u001B[43mmethod\u001B[49m\u001B[43m,\u001B[49m\n\u001B[32m    646\u001B[39m \u001B[43m        \u001B[49m\u001B[43murl\u001B[49m\u001B[43m=\u001B[49m\u001B[43murl\u001B[49m\u001B[43m,\u001B[49m\n\u001B[32m    647\u001B[39m \u001B[43m        \u001B[49m\u001B[43mbody\u001B[49m\u001B[43m=\u001B[49m\u001B[43mrequest\u001B[49m\u001B[43m.\u001B[49m\u001B[43mbody\u001B[49m\u001B[43m,\u001B[49m\n\u001B[32m    648\u001B[39m \u001B[43m        \u001B[49m\u001B[43mheaders\u001B[49m\u001B[43m=\u001B[49m\u001B[43mrequest\u001B[49m\u001B[43m.\u001B[49m\u001B[43mheaders\u001B[49m\u001B[43m,\u001B[49m\n\u001B[32m    649\u001B[39m \u001B[43m        \u001B[49m\u001B[43mredirect\u001B[49m\u001B[43m=\u001B[49m\u001B[38;5;28;43;01mFalse\u001B[39;49;00m\u001B[43m,\u001B[49m\n\u001B[32m    650\u001B[39m \u001B[43m        \u001B[49m\u001B[43massert_same_host\u001B[49m\u001B[43m=\u001B[49m\u001B[38;5;28;43;01mFalse\u001B[39;49;00m\u001B[43m,\u001B[49m\n\u001B[32m    651\u001B[39m \u001B[43m        \u001B[49m\u001B[43mpreload_content\u001B[49m\u001B[43m=\u001B[49m\u001B[38;5;28;43;01mFalse\u001B[39;49;00m\u001B[43m,\u001B[49m\n\u001B[32m    652\u001B[39m \u001B[43m        \u001B[49m\u001B[43mdecode_content\u001B[49m\u001B[43m=\u001B[49m\u001B[38;5;28;43;01mFalse\u001B[39;49;00m\u001B[43m,\u001B[49m\n\u001B[32m    653\u001B[39m \u001B[43m        \u001B[49m\u001B[43mretries\u001B[49m\u001B[43m=\u001B[49m\u001B[38;5;28;43mself\u001B[39;49m\u001B[43m.\u001B[49m\u001B[43mmax_retries\u001B[49m\u001B[43m,\u001B[49m\n\u001B[32m    654\u001B[39m \u001B[43m        \u001B[49m\u001B[43mtimeout\u001B[49m\u001B[43m=\u001B[49m\u001B[43mtimeout\u001B[49m\u001B[43m,\u001B[49m\n\u001B[32m    655\u001B[39m \u001B[43m        \u001B[49m\u001B[43mchunked\u001B[49m\u001B[43m=\u001B[49m\u001B[43mchunked\u001B[49m\u001B[43m,\u001B[49m\n\u001B[32m    656\u001B[39m \u001B[43m    \u001B[49m\u001B[43m)\u001B[49m\n\u001B[32m    658\u001B[39m \u001B[38;5;28;01mexcept\u001B[39;00m (ProtocolError, \u001B[38;5;167;01mOSError\u001B[39;00m) \u001B[38;5;28;01mas\u001B[39;00m err:\n\u001B[32m    659\u001B[39m     \u001B[38;5;28;01mraise\u001B[39;00m \u001B[38;5;167;01mConnectionError\u001B[39;00m(err, request=request)\n",
      "\u001B[36mFile \u001B[39m\u001B[32m~/PycharmProjects/Health-Care-Assistant/.venv/lib/python3.12/site-packages/urllib3/connectionpool.py:787\u001B[39m, in \u001B[36mHTTPConnectionPool.urlopen\u001B[39m\u001B[34m(self, method, url, body, headers, retries, redirect, assert_same_host, timeout, pool_timeout, release_conn, chunked, body_pos, preload_content, decode_content, **response_kw)\u001B[39m\n\u001B[32m    784\u001B[39m response_conn = conn \u001B[38;5;28;01mif\u001B[39;00m \u001B[38;5;129;01mnot\u001B[39;00m release_conn \u001B[38;5;28;01melse\u001B[39;00m \u001B[38;5;28;01mNone\u001B[39;00m\n\u001B[32m    786\u001B[39m \u001B[38;5;66;03m# Make the request on the HTTPConnection object\u001B[39;00m\n\u001B[32m--> \u001B[39m\u001B[32m787\u001B[39m response = \u001B[38;5;28;43mself\u001B[39;49m\u001B[43m.\u001B[49m\u001B[43m_make_request\u001B[49m\u001B[43m(\u001B[49m\n\u001B[32m    788\u001B[39m \u001B[43m    \u001B[49m\u001B[43mconn\u001B[49m\u001B[43m,\u001B[49m\n\u001B[32m    789\u001B[39m \u001B[43m    \u001B[49m\u001B[43mmethod\u001B[49m\u001B[43m,\u001B[49m\n\u001B[32m    790\u001B[39m \u001B[43m    \u001B[49m\u001B[43murl\u001B[49m\u001B[43m,\u001B[49m\n\u001B[32m    791\u001B[39m \u001B[43m    \u001B[49m\u001B[43mtimeout\u001B[49m\u001B[43m=\u001B[49m\u001B[43mtimeout_obj\u001B[49m\u001B[43m,\u001B[49m\n\u001B[32m    792\u001B[39m \u001B[43m    \u001B[49m\u001B[43mbody\u001B[49m\u001B[43m=\u001B[49m\u001B[43mbody\u001B[49m\u001B[43m,\u001B[49m\n\u001B[32m    793\u001B[39m \u001B[43m    \u001B[49m\u001B[43mheaders\u001B[49m\u001B[43m=\u001B[49m\u001B[43mheaders\u001B[49m\u001B[43m,\u001B[49m\n\u001B[32m    794\u001B[39m \u001B[43m    \u001B[49m\u001B[43mchunked\u001B[49m\u001B[43m=\u001B[49m\u001B[43mchunked\u001B[49m\u001B[43m,\u001B[49m\n\u001B[32m    795\u001B[39m \u001B[43m    \u001B[49m\u001B[43mretries\u001B[49m\u001B[43m=\u001B[49m\u001B[43mretries\u001B[49m\u001B[43m,\u001B[49m\n\u001B[32m    796\u001B[39m \u001B[43m    \u001B[49m\u001B[43mresponse_conn\u001B[49m\u001B[43m=\u001B[49m\u001B[43mresponse_conn\u001B[49m\u001B[43m,\u001B[49m\n\u001B[32m    797\u001B[39m \u001B[43m    \u001B[49m\u001B[43mpreload_content\u001B[49m\u001B[43m=\u001B[49m\u001B[43mpreload_content\u001B[49m\u001B[43m,\u001B[49m\n\u001B[32m    798\u001B[39m \u001B[43m    \u001B[49m\u001B[43mdecode_content\u001B[49m\u001B[43m=\u001B[49m\u001B[43mdecode_content\u001B[49m\u001B[43m,\u001B[49m\n\u001B[32m    799\u001B[39m \u001B[43m    \u001B[49m\u001B[43m*\u001B[49m\u001B[43m*\u001B[49m\u001B[43mresponse_kw\u001B[49m\u001B[43m,\u001B[49m\n\u001B[32m    800\u001B[39m \u001B[43m\u001B[49m\u001B[43m)\u001B[49m\n\u001B[32m    802\u001B[39m \u001B[38;5;66;03m# Everything went great!\u001B[39;00m\n\u001B[32m    803\u001B[39m clean_exit = \u001B[38;5;28;01mTrue\u001B[39;00m\n",
      "\u001B[36mFile \u001B[39m\u001B[32m~/PycharmProjects/Health-Care-Assistant/.venv/lib/python3.12/site-packages/urllib3/connectionpool.py:534\u001B[39m, in \u001B[36mHTTPConnectionPool._make_request\u001B[39m\u001B[34m(self, conn, method, url, body, headers, retries, timeout, chunked, response_conn, preload_content, decode_content, enforce_content_length)\u001B[39m\n\u001B[32m    532\u001B[39m \u001B[38;5;66;03m# Receive the response from the server\u001B[39;00m\n\u001B[32m    533\u001B[39m \u001B[38;5;28;01mtry\u001B[39;00m:\n\u001B[32m--> \u001B[39m\u001B[32m534\u001B[39m     response = \u001B[43mconn\u001B[49m\u001B[43m.\u001B[49m\u001B[43mgetresponse\u001B[49m\u001B[43m(\u001B[49m\u001B[43m)\u001B[49m\n\u001B[32m    535\u001B[39m \u001B[38;5;28;01mexcept\u001B[39;00m (BaseSSLError, \u001B[38;5;167;01mOSError\u001B[39;00m) \u001B[38;5;28;01mas\u001B[39;00m e:\n\u001B[32m    536\u001B[39m     \u001B[38;5;28mself\u001B[39m._raise_timeout(err=e, url=url, timeout_value=read_timeout)\n",
      "\u001B[36mFile \u001B[39m\u001B[32m~/PycharmProjects/Health-Care-Assistant/.venv/lib/python3.12/site-packages/urllib3/connection.py:565\u001B[39m, in \u001B[36mHTTPConnection.getresponse\u001B[39m\u001B[34m(self)\u001B[39m\n\u001B[32m    562\u001B[39m _shutdown = \u001B[38;5;28mgetattr\u001B[39m(\u001B[38;5;28mself\u001B[39m.sock, \u001B[33m\"\u001B[39m\u001B[33mshutdown\u001B[39m\u001B[33m\"\u001B[39m, \u001B[38;5;28;01mNone\u001B[39;00m)\n\u001B[32m    564\u001B[39m \u001B[38;5;66;03m# Get the response from http.client.HTTPConnection\u001B[39;00m\n\u001B[32m--> \u001B[39m\u001B[32m565\u001B[39m httplib_response = \u001B[38;5;28;43msuper\u001B[39;49m\u001B[43m(\u001B[49m\u001B[43m)\u001B[49m\u001B[43m.\u001B[49m\u001B[43mgetresponse\u001B[49m\u001B[43m(\u001B[49m\u001B[43m)\u001B[49m\n\u001B[32m    567\u001B[39m \u001B[38;5;28;01mtry\u001B[39;00m:\n\u001B[32m    568\u001B[39m     assert_header_parsing(httplib_response.msg)\n",
      "\u001B[36mFile \u001B[39m\u001B[32m/Library/Frameworks/Python.framework/Versions/3.12/lib/python3.12/http/client.py:1428\u001B[39m, in \u001B[36mHTTPConnection.getresponse\u001B[39m\u001B[34m(self)\u001B[39m\n\u001B[32m   1426\u001B[39m \u001B[38;5;28;01mtry\u001B[39;00m:\n\u001B[32m   1427\u001B[39m     \u001B[38;5;28;01mtry\u001B[39;00m:\n\u001B[32m-> \u001B[39m\u001B[32m1428\u001B[39m         \u001B[43mresponse\u001B[49m\u001B[43m.\u001B[49m\u001B[43mbegin\u001B[49m\u001B[43m(\u001B[49m\u001B[43m)\u001B[49m\n\u001B[32m   1429\u001B[39m     \u001B[38;5;28;01mexcept\u001B[39;00m \u001B[38;5;167;01mConnectionError\u001B[39;00m:\n\u001B[32m   1430\u001B[39m         \u001B[38;5;28mself\u001B[39m.close()\n",
      "\u001B[36mFile \u001B[39m\u001B[32m/Library/Frameworks/Python.framework/Versions/3.12/lib/python3.12/http/client.py:331\u001B[39m, in \u001B[36mHTTPResponse.begin\u001B[39m\u001B[34m(self)\u001B[39m\n\u001B[32m    329\u001B[39m \u001B[38;5;66;03m# read until we get a non-100 response\u001B[39;00m\n\u001B[32m    330\u001B[39m \u001B[38;5;28;01mwhile\u001B[39;00m \u001B[38;5;28;01mTrue\u001B[39;00m:\n\u001B[32m--> \u001B[39m\u001B[32m331\u001B[39m     version, status, reason = \u001B[38;5;28;43mself\u001B[39;49m\u001B[43m.\u001B[49m\u001B[43m_read_status\u001B[49m\u001B[43m(\u001B[49m\u001B[43m)\u001B[49m\n\u001B[32m    332\u001B[39m     \u001B[38;5;28;01mif\u001B[39;00m status != CONTINUE:\n\u001B[32m    333\u001B[39m         \u001B[38;5;28;01mbreak\u001B[39;00m\n",
      "\u001B[36mFile \u001B[39m\u001B[32m/Library/Frameworks/Python.framework/Versions/3.12/lib/python3.12/http/client.py:292\u001B[39m, in \u001B[36mHTTPResponse._read_status\u001B[39m\u001B[34m(self)\u001B[39m\n\u001B[32m    291\u001B[39m \u001B[38;5;28;01mdef\u001B[39;00m\u001B[38;5;250m \u001B[39m\u001B[34m_read_status\u001B[39m(\u001B[38;5;28mself\u001B[39m):\n\u001B[32m--> \u001B[39m\u001B[32m292\u001B[39m     line = \u001B[38;5;28mstr\u001B[39m(\u001B[38;5;28;43mself\u001B[39;49m\u001B[43m.\u001B[49m\u001B[43mfp\u001B[49m\u001B[43m.\u001B[49m\u001B[43mreadline\u001B[49m\u001B[43m(\u001B[49m\u001B[43m_MAXLINE\u001B[49m\u001B[43m \u001B[49m\u001B[43m+\u001B[49m\u001B[43m \u001B[49m\u001B[32;43m1\u001B[39;49m\u001B[43m)\u001B[49m, \u001B[33m\"\u001B[39m\u001B[33miso-8859-1\u001B[39m\u001B[33m\"\u001B[39m)\n\u001B[32m    293\u001B[39m     \u001B[38;5;28;01mif\u001B[39;00m \u001B[38;5;28mlen\u001B[39m(line) > _MAXLINE:\n\u001B[32m    294\u001B[39m         \u001B[38;5;28;01mraise\u001B[39;00m LineTooLong(\u001B[33m\"\u001B[39m\u001B[33mstatus line\u001B[39m\u001B[33m\"\u001B[39m)\n",
      "\u001B[36mFile \u001B[39m\u001B[32m/Library/Frameworks/Python.framework/Versions/3.12/lib/python3.12/socket.py:720\u001B[39m, in \u001B[36mSocketIO.readinto\u001B[39m\u001B[34m(self, b)\u001B[39m\n\u001B[32m    718\u001B[39m \u001B[38;5;28;01mwhile\u001B[39;00m \u001B[38;5;28;01mTrue\u001B[39;00m:\n\u001B[32m    719\u001B[39m     \u001B[38;5;28;01mtry\u001B[39;00m:\n\u001B[32m--> \u001B[39m\u001B[32m720\u001B[39m         \u001B[38;5;28;01mreturn\u001B[39;00m \u001B[38;5;28;43mself\u001B[39;49m\u001B[43m.\u001B[49m\u001B[43m_sock\u001B[49m\u001B[43m.\u001B[49m\u001B[43mrecv_into\u001B[49m\u001B[43m(\u001B[49m\u001B[43mb\u001B[49m\u001B[43m)\u001B[49m\n\u001B[32m    721\u001B[39m     \u001B[38;5;28;01mexcept\u001B[39;00m timeout:\n\u001B[32m    722\u001B[39m         \u001B[38;5;28mself\u001B[39m._timeout_occurred = \u001B[38;5;28;01mTrue\u001B[39;00m\n",
      "\u001B[31mKeyboardInterrupt\u001B[39m: "
     ]
    }
   ],
   "source": [
    "results1 = {}\n",
    "failed = []\n",
    "\n",
    "# Calculate 6% of total documents\n",
    "total_docs = len(documents)\n",
    "start_index = int(total_docs * 0.06)\n",
    "\n",
    "# Create progress bar starting at 6%\n",
    "pbar = tqdm(total=total_docs, initial=start_index, desc=\"Generating questions\")\n",
    "\n",
    "for doc in documents:\n",
    "    doc_id = doc['id']\n",
    "\n",
    "    # Skip if already processed\n",
    "    if doc_id in results1:\n",
    "        pbar.update(1)\n",
    "        continue\n",
    "\n",
    "    try:\n",
    "        questions = generate_questions(doc)\n",
    "        results1[doc_id] = questions\n",
    "        pbar.update(1)\n",
    "\n",
    "    except Exception as e:\n",
    "        print(f\"\\nFailed on doc {doc_id}: {e}\")\n",
    "        failed.append({\"id\": doc_id, \"error\": str(e)})\n",
    "        pbar.update(1)\n",
    "        continue\n",
    "\n",
    "pbar.close()\n",
    "\n",
    "print(f\"\\nCompleted: {len(results1)}/{total_docs}\")\n",
    "print(f\"Failed: {len(failed)}\")"
   ]
  },
  {
   "cell_type": "code",
   "execution_count": 27,
   "id": "f73dcd241b6db0e6",
   "metadata": {
    "ExecuteTime": {
     "end_time": "2025-10-04T09:25:15.922681Z",
     "start_time": "2025-10-04T07:08:47.753896Z"
    }
   },
   "outputs": [
    {
     "name": "stderr",
     "output_type": "stream",
     "text": [
      "\n",
      "Generating questions:   6%|▌         | 989/16000 [6:31:19<3375:55:10, 809.63s/it]  \n",
      "\n",
      "Generating questions:  26%|██▌       | 4161/16000 [02:00<394:39:02, 120.01s/it]\u001B[A"
     ]
    },
    {
     "name": "stdout",
     "output_type": "stream",
     "text": [
      "\n",
      "Failed on doc 5e34bcbaa8: HTTPConnectionPool(host='localhost', port=12434): Read timed out. (read timeout=120)\n"
     ]
    },
    {
     "name": "stderr",
     "output_type": "stream",
     "text": [
      "\n",
      "Generating questions:  26%|██▌       | 4162/16000 [04:00<394:37:48, 120.01s/it]\u001B[A"
     ]
    },
    {
     "name": "stdout",
     "output_type": "stream",
     "text": [
      "\n",
      "Failed on doc c2845efbbc: HTTPConnectionPool(host='localhost', port=12434): Read timed out. (read timeout=120)\n"
     ]
    },
    {
     "name": "stderr",
     "output_type": "stream",
     "text": [
      "\n",
      "Generating questions:  26%|██▌       | 4163/16000 [06:00<394:36:26, 120.01s/it]\u001B[A"
     ]
    },
    {
     "name": "stdout",
     "output_type": "stream",
     "text": [
      "\n",
      "Failed on doc d1bc99107d: HTTPConnectionPool(host='localhost', port=12434): Read timed out. (read timeout=120)\n"
     ]
    },
    {
     "name": "stderr",
     "output_type": "stream",
     "text": [
      "\n",
      "Generating questions:  26%|██▌       | 4164/16000 [08:00<394:34:28, 120.01s/it]\u001B[A"
     ]
    },
    {
     "name": "stdout",
     "output_type": "stream",
     "text": [
      "\n",
      "Failed on doc abdbe99dd2: HTTPConnectionPool(host='localhost', port=12434): Read timed out. (read timeout=120)\n"
     ]
    },
    {
     "name": "stderr",
     "output_type": "stream",
     "text": [
      "\n",
      "Generating questions:  26%|██▌       | 4165/16000 [10:00<394:32:12, 120.01s/it]\u001B[A"
     ]
    },
    {
     "name": "stdout",
     "output_type": "stream",
     "text": [
      "\n",
      "Failed on doc 597a81526a: HTTPConnectionPool(host='localhost', port=12434): Read timed out. (read timeout=120)\n"
     ]
    },
    {
     "name": "stderr",
     "output_type": "stream",
     "text": [
      "\n",
      "Generating questions:  26%|██▌       | 4166/16000 [12:00<394:30:12, 120.01s/it]\u001B[A"
     ]
    },
    {
     "name": "stdout",
     "output_type": "stream",
     "text": [
      "\n",
      "Failed on doc 4979172719: HTTPConnectionPool(host='localhost', port=12434): Read timed out. (read timeout=120)\n"
     ]
    },
    {
     "name": "stderr",
     "output_type": "stream",
     "text": [
      "\n",
      "Generating questions:  26%|██▌       | 4167/16000 [14:00<394:28:19, 120.01s/it]\u001B[A"
     ]
    },
    {
     "name": "stdout",
     "output_type": "stream",
     "text": [
      "\n",
      "Failed on doc d563c7d596: HTTPConnectionPool(host='localhost', port=12434): Read timed out. (read timeout=120)\n"
     ]
    },
    {
     "name": "stderr",
     "output_type": "stream",
     "text": [
      "\n",
      "Generating questions:  26%|██▌       | 4168/16000 [16:00<394:26:09, 120.01s/it]\u001B[A"
     ]
    },
    {
     "name": "stdout",
     "output_type": "stream",
     "text": [
      "\n",
      "Failed on doc 02577e3169: HTTPConnectionPool(host='localhost', port=12434): Read timed out. (read timeout=120)\n"
     ]
    },
    {
     "name": "stderr",
     "output_type": "stream",
     "text": [
      "\n",
      "Generating questions:  26%|██▌       | 4169/16000 [18:00<394:24:17, 120.01s/it]\u001B[A"
     ]
    },
    {
     "name": "stdout",
     "output_type": "stream",
     "text": [
      "\n",
      "Failed on doc d11834721f: HTTPConnectionPool(host='localhost', port=12434): Read timed out. (read timeout=120)\n"
     ]
    },
    {
     "name": "stderr",
     "output_type": "stream",
     "text": [
      "\n",
      "Generating questions:  26%|██▌       | 4170/16000 [20:00<394:22:18, 120.01s/it]\u001B[A"
     ]
    },
    {
     "name": "stdout",
     "output_type": "stream",
     "text": [
      "\n",
      "Failed on doc e109719c38: HTTPConnectionPool(host='localhost', port=12434): Read timed out. (read timeout=120)\n"
     ]
    },
    {
     "name": "stderr",
     "output_type": "stream",
     "text": [
      "\n",
      "Generating questions:  26%|██▌       | 4171/16000 [22:00<394:20:19, 120.01s/it]\u001B[A"
     ]
    },
    {
     "name": "stdout",
     "output_type": "stream",
     "text": [
      "\n",
      "Failed on doc 6becabff6a: HTTPConnectionPool(host='localhost', port=12434): Read timed out. (read timeout=120)\n"
     ]
    },
    {
     "name": "stderr",
     "output_type": "stream",
     "text": [
      "\n",
      "Generating questions:  26%|██▌       | 4172/16000 [24:00<394:18:37, 120.01s/it]\u001B[A"
     ]
    },
    {
     "name": "stdout",
     "output_type": "stream",
     "text": [
      "\n",
      "Failed on doc 252662340d: HTTPConnectionPool(host='localhost', port=12434): Read timed out. (read timeout=120)\n"
     ]
    },
    {
     "name": "stderr",
     "output_type": "stream",
     "text": [
      "\n",
      "Generating questions:  26%|██▌       | 4173/16000 [26:00<394:16:34, 120.01s/it]\u001B[A"
     ]
    },
    {
     "name": "stdout",
     "output_type": "stream",
     "text": [
      "\n",
      "Failed on doc 4faee827b1: HTTPConnectionPool(host='localhost', port=12434): Read timed out. (read timeout=120)\n"
     ]
    },
    {
     "name": "stderr",
     "output_type": "stream",
     "text": [
      "\n",
      "Generating questions:  26%|██▌       | 4174/16000 [28:00<394:14:29, 120.01s/it]\u001B[A"
     ]
    },
    {
     "name": "stdout",
     "output_type": "stream",
     "text": [
      "\n",
      "Failed on doc ee6941d3af: HTTPConnectionPool(host='localhost', port=12434): Read timed out. (read timeout=120)\n"
     ]
    },
    {
     "name": "stderr",
     "output_type": "stream",
     "text": [
      "\n",
      "Generating questions:  26%|██▌       | 4175/16000 [30:00<394:12:37, 120.01s/it]\u001B[A"
     ]
    },
    {
     "name": "stdout",
     "output_type": "stream",
     "text": [
      "\n",
      "Failed on doc 0867df07b6: HTTPConnectionPool(host='localhost', port=12434): Read timed out. (read timeout=120)\n"
     ]
    },
    {
     "name": "stderr",
     "output_type": "stream",
     "text": [
      "\n",
      "Generating questions:  26%|██▌       | 4176/16000 [2:16:08<6571:30:39, 2000.80s/it]\u001B[A"
     ]
    },
    {
     "name": "stdout",
     "output_type": "stream",
     "text": [
      "\n",
      "Failed on doc d84a78215e: HTTPConnectionPool(host='localhost', port=12434): Read timed out. (read timeout=120)\n"
     ]
    },
    {
     "ename": "KeyboardInterrupt",
     "evalue": "",
     "output_type": "error",
     "traceback": [
      "\u001B[31m---------------------------------------------------------------------------\u001B[39m",
      "\u001B[31mKeyboardInterrupt\u001B[39m                         Traceback (most recent call last)",
      "\u001B[36mCell\u001B[39m\u001B[36m \u001B[39m\u001B[32mIn[27]\u001B[39m\u001B[32m, line 20\u001B[39m\n\u001B[32m     17\u001B[39m     \u001B[38;5;28;01mcontinue\u001B[39;00m\n\u001B[32m     19\u001B[39m \u001B[38;5;28;01mtry\u001B[39;00m:\n\u001B[32m---> \u001B[39m\u001B[32m20\u001B[39m     questions = \u001B[43mgenerate_questions\u001B[49m\u001B[43m(\u001B[49m\u001B[43mdoc\u001B[49m\u001B[43m)\u001B[49m\n\u001B[32m     21\u001B[39m     results1[doc_id] = questions\n\u001B[32m     22\u001B[39m     pbar.update(\u001B[32m1\u001B[39m)\n",
      "\u001B[36mCell\u001B[39m\u001B[36m \u001B[39m\u001B[32mIn[21]\u001B[39m\u001B[32m, line 29\u001B[39m, in \u001B[36mgenerate_questions\u001B[39m\u001B[34m(doc)\u001B[39m\n\u001B[32m     17\u001B[39m url = \u001B[33m\"\u001B[39m\u001B[33mhttp://localhost:12434/engines/llama.cpp/v1/chat/completions\u001B[39m\u001B[33m\"\u001B[39m\n\u001B[32m     19\u001B[39m data = {\n\u001B[32m     20\u001B[39m     \u001B[33m\"\u001B[39m\u001B[33mmodel\u001B[39m\u001B[33m\"\u001B[39m: \u001B[33m\"\u001B[39m\u001B[33mai/granite-4.0-h-tiny:latest\u001B[39m\u001B[33m\"\u001B[39m,\n\u001B[32m     21\u001B[39m     \u001B[33m\"\u001B[39m\u001B[33mmessages\u001B[39m\u001B[33m\"\u001B[39m: [\n\u001B[32m   (...)\u001B[39m\u001B[32m     26\u001B[39m     ]\n\u001B[32m     27\u001B[39m }\n\u001B[32m---> \u001B[39m\u001B[32m29\u001B[39m response = \u001B[43mrequests\u001B[49m\u001B[43m.\u001B[49m\u001B[43mpost\u001B[49m\u001B[43m(\u001B[49m\u001B[43murl\u001B[49m\u001B[43m,\u001B[49m\u001B[43m \u001B[49m\u001B[43mjson\u001B[49m\u001B[43m=\u001B[49m\u001B[43mdata\u001B[49m\u001B[43m,\u001B[49m\u001B[43m \u001B[49m\u001B[43mtimeout\u001B[49m\u001B[43m=\u001B[49m\u001B[32;43m120\u001B[39;49m\u001B[43m)\u001B[49m\n\u001B[32m     30\u001B[39m response.raise_for_status()\n\u001B[32m     32\u001B[39m result = response.json()\n",
      "\u001B[36mFile \u001B[39m\u001B[32m~/PycharmProjects/Health-Care-Assistant/.venv/lib/python3.12/site-packages/requests/api.py:115\u001B[39m, in \u001B[36mpost\u001B[39m\u001B[34m(url, data, json, **kwargs)\u001B[39m\n\u001B[32m    103\u001B[39m \u001B[38;5;28;01mdef\u001B[39;00m\u001B[38;5;250m \u001B[39m\u001B[34mpost\u001B[39m(url, data=\u001B[38;5;28;01mNone\u001B[39;00m, json=\u001B[38;5;28;01mNone\u001B[39;00m, **kwargs):\n\u001B[32m    104\u001B[39m \u001B[38;5;250m    \u001B[39m\u001B[33mr\u001B[39m\u001B[33;03m\"\"\"Sends a POST request.\u001B[39;00m\n\u001B[32m    105\u001B[39m \n\u001B[32m    106\u001B[39m \u001B[33;03m    :param url: URL for the new :class:`Request` object.\u001B[39;00m\n\u001B[32m   (...)\u001B[39m\u001B[32m    112\u001B[39m \u001B[33;03m    :rtype: requests.Response\u001B[39;00m\n\u001B[32m    113\u001B[39m \u001B[33;03m    \"\"\"\u001B[39;00m\n\u001B[32m--> \u001B[39m\u001B[32m115\u001B[39m     \u001B[38;5;28;01mreturn\u001B[39;00m \u001B[43mrequest\u001B[49m\u001B[43m(\u001B[49m\u001B[33;43m\"\u001B[39;49m\u001B[33;43mpost\u001B[39;49m\u001B[33;43m\"\u001B[39;49m\u001B[43m,\u001B[49m\u001B[43m \u001B[49m\u001B[43murl\u001B[49m\u001B[43m,\u001B[49m\u001B[43m \u001B[49m\u001B[43mdata\u001B[49m\u001B[43m=\u001B[49m\u001B[43mdata\u001B[49m\u001B[43m,\u001B[49m\u001B[43m \u001B[49m\u001B[43mjson\u001B[49m\u001B[43m=\u001B[49m\u001B[43mjson\u001B[49m\u001B[43m,\u001B[49m\u001B[43m \u001B[49m\u001B[43m*\u001B[49m\u001B[43m*\u001B[49m\u001B[43mkwargs\u001B[49m\u001B[43m)\u001B[49m\n",
      "\u001B[36mFile \u001B[39m\u001B[32m~/PycharmProjects/Health-Care-Assistant/.venv/lib/python3.12/site-packages/requests/api.py:59\u001B[39m, in \u001B[36mrequest\u001B[39m\u001B[34m(method, url, **kwargs)\u001B[39m\n\u001B[32m     55\u001B[39m \u001B[38;5;66;03m# By using the 'with' statement we are sure the session is closed, thus we\u001B[39;00m\n\u001B[32m     56\u001B[39m \u001B[38;5;66;03m# avoid leaving sockets open which can trigger a ResourceWarning in some\u001B[39;00m\n\u001B[32m     57\u001B[39m \u001B[38;5;66;03m# cases, and look like a memory leak in others.\u001B[39;00m\n\u001B[32m     58\u001B[39m \u001B[38;5;28;01mwith\u001B[39;00m sessions.Session() \u001B[38;5;28;01mas\u001B[39;00m session:\n\u001B[32m---> \u001B[39m\u001B[32m59\u001B[39m     \u001B[38;5;28;01mreturn\u001B[39;00m \u001B[43msession\u001B[49m\u001B[43m.\u001B[49m\u001B[43mrequest\u001B[49m\u001B[43m(\u001B[49m\u001B[43mmethod\u001B[49m\u001B[43m=\u001B[49m\u001B[43mmethod\u001B[49m\u001B[43m,\u001B[49m\u001B[43m \u001B[49m\u001B[43murl\u001B[49m\u001B[43m=\u001B[49m\u001B[43murl\u001B[49m\u001B[43m,\u001B[49m\u001B[43m \u001B[49m\u001B[43m*\u001B[49m\u001B[43m*\u001B[49m\u001B[43mkwargs\u001B[49m\u001B[43m)\u001B[49m\n",
      "\u001B[36mFile \u001B[39m\u001B[32m~/PycharmProjects/Health-Care-Assistant/.venv/lib/python3.12/site-packages/requests/sessions.py:589\u001B[39m, in \u001B[36mSession.request\u001B[39m\u001B[34m(self, method, url, params, data, headers, cookies, files, auth, timeout, allow_redirects, proxies, hooks, stream, verify, cert, json)\u001B[39m\n\u001B[32m    584\u001B[39m send_kwargs = {\n\u001B[32m    585\u001B[39m     \u001B[33m\"\u001B[39m\u001B[33mtimeout\u001B[39m\u001B[33m\"\u001B[39m: timeout,\n\u001B[32m    586\u001B[39m     \u001B[33m\"\u001B[39m\u001B[33mallow_redirects\u001B[39m\u001B[33m\"\u001B[39m: allow_redirects,\n\u001B[32m    587\u001B[39m }\n\u001B[32m    588\u001B[39m send_kwargs.update(settings)\n\u001B[32m--> \u001B[39m\u001B[32m589\u001B[39m resp = \u001B[38;5;28;43mself\u001B[39;49m\u001B[43m.\u001B[49m\u001B[43msend\u001B[49m\u001B[43m(\u001B[49m\u001B[43mprep\u001B[49m\u001B[43m,\u001B[49m\u001B[43m \u001B[49m\u001B[43m*\u001B[49m\u001B[43m*\u001B[49m\u001B[43msend_kwargs\u001B[49m\u001B[43m)\u001B[49m\n\u001B[32m    591\u001B[39m \u001B[38;5;28;01mreturn\u001B[39;00m resp\n",
      "\u001B[36mFile \u001B[39m\u001B[32m~/PycharmProjects/Health-Care-Assistant/.venv/lib/python3.12/site-packages/requests/sessions.py:703\u001B[39m, in \u001B[36mSession.send\u001B[39m\u001B[34m(self, request, **kwargs)\u001B[39m\n\u001B[32m    700\u001B[39m start = preferred_clock()\n\u001B[32m    702\u001B[39m \u001B[38;5;66;03m# Send the request\u001B[39;00m\n\u001B[32m--> \u001B[39m\u001B[32m703\u001B[39m r = \u001B[43madapter\u001B[49m\u001B[43m.\u001B[49m\u001B[43msend\u001B[49m\u001B[43m(\u001B[49m\u001B[43mrequest\u001B[49m\u001B[43m,\u001B[49m\u001B[43m \u001B[49m\u001B[43m*\u001B[49m\u001B[43m*\u001B[49m\u001B[43mkwargs\u001B[49m\u001B[43m)\u001B[49m\n\u001B[32m    705\u001B[39m \u001B[38;5;66;03m# Total elapsed time of the request (approximately)\u001B[39;00m\n\u001B[32m    706\u001B[39m elapsed = preferred_clock() - start\n",
      "\u001B[36mFile \u001B[39m\u001B[32m~/PycharmProjects/Health-Care-Assistant/.venv/lib/python3.12/site-packages/requests/adapters.py:644\u001B[39m, in \u001B[36mHTTPAdapter.send\u001B[39m\u001B[34m(self, request, stream, timeout, verify, cert, proxies)\u001B[39m\n\u001B[32m    641\u001B[39m     timeout = TimeoutSauce(connect=timeout, read=timeout)\n\u001B[32m    643\u001B[39m \u001B[38;5;28;01mtry\u001B[39;00m:\n\u001B[32m--> \u001B[39m\u001B[32m644\u001B[39m     resp = \u001B[43mconn\u001B[49m\u001B[43m.\u001B[49m\u001B[43murlopen\u001B[49m\u001B[43m(\u001B[49m\n\u001B[32m    645\u001B[39m \u001B[43m        \u001B[49m\u001B[43mmethod\u001B[49m\u001B[43m=\u001B[49m\u001B[43mrequest\u001B[49m\u001B[43m.\u001B[49m\u001B[43mmethod\u001B[49m\u001B[43m,\u001B[49m\n\u001B[32m    646\u001B[39m \u001B[43m        \u001B[49m\u001B[43murl\u001B[49m\u001B[43m=\u001B[49m\u001B[43murl\u001B[49m\u001B[43m,\u001B[49m\n\u001B[32m    647\u001B[39m \u001B[43m        \u001B[49m\u001B[43mbody\u001B[49m\u001B[43m=\u001B[49m\u001B[43mrequest\u001B[49m\u001B[43m.\u001B[49m\u001B[43mbody\u001B[49m\u001B[43m,\u001B[49m\n\u001B[32m    648\u001B[39m \u001B[43m        \u001B[49m\u001B[43mheaders\u001B[49m\u001B[43m=\u001B[49m\u001B[43mrequest\u001B[49m\u001B[43m.\u001B[49m\u001B[43mheaders\u001B[49m\u001B[43m,\u001B[49m\n\u001B[32m    649\u001B[39m \u001B[43m        \u001B[49m\u001B[43mredirect\u001B[49m\u001B[43m=\u001B[49m\u001B[38;5;28;43;01mFalse\u001B[39;49;00m\u001B[43m,\u001B[49m\n\u001B[32m    650\u001B[39m \u001B[43m        \u001B[49m\u001B[43massert_same_host\u001B[49m\u001B[43m=\u001B[49m\u001B[38;5;28;43;01mFalse\u001B[39;49;00m\u001B[43m,\u001B[49m\n\u001B[32m    651\u001B[39m \u001B[43m        \u001B[49m\u001B[43mpreload_content\u001B[49m\u001B[43m=\u001B[49m\u001B[38;5;28;43;01mFalse\u001B[39;49;00m\u001B[43m,\u001B[49m\n\u001B[32m    652\u001B[39m \u001B[43m        \u001B[49m\u001B[43mdecode_content\u001B[49m\u001B[43m=\u001B[49m\u001B[38;5;28;43;01mFalse\u001B[39;49;00m\u001B[43m,\u001B[49m\n\u001B[32m    653\u001B[39m \u001B[43m        \u001B[49m\u001B[43mretries\u001B[49m\u001B[43m=\u001B[49m\u001B[38;5;28;43mself\u001B[39;49m\u001B[43m.\u001B[49m\u001B[43mmax_retries\u001B[49m\u001B[43m,\u001B[49m\n\u001B[32m    654\u001B[39m \u001B[43m        \u001B[49m\u001B[43mtimeout\u001B[49m\u001B[43m=\u001B[49m\u001B[43mtimeout\u001B[49m\u001B[43m,\u001B[49m\n\u001B[32m    655\u001B[39m \u001B[43m        \u001B[49m\u001B[43mchunked\u001B[49m\u001B[43m=\u001B[49m\u001B[43mchunked\u001B[49m\u001B[43m,\u001B[49m\n\u001B[32m    656\u001B[39m \u001B[43m    \u001B[49m\u001B[43m)\u001B[49m\n\u001B[32m    658\u001B[39m \u001B[38;5;28;01mexcept\u001B[39;00m (ProtocolError, \u001B[38;5;167;01mOSError\u001B[39;00m) \u001B[38;5;28;01mas\u001B[39;00m err:\n\u001B[32m    659\u001B[39m     \u001B[38;5;28;01mraise\u001B[39;00m \u001B[38;5;167;01mConnectionError\u001B[39;00m(err, request=request)\n",
      "\u001B[36mFile \u001B[39m\u001B[32m~/PycharmProjects/Health-Care-Assistant/.venv/lib/python3.12/site-packages/urllib3/connectionpool.py:787\u001B[39m, in \u001B[36mHTTPConnectionPool.urlopen\u001B[39m\u001B[34m(self, method, url, body, headers, retries, redirect, assert_same_host, timeout, pool_timeout, release_conn, chunked, body_pos, preload_content, decode_content, **response_kw)\u001B[39m\n\u001B[32m    784\u001B[39m response_conn = conn \u001B[38;5;28;01mif\u001B[39;00m \u001B[38;5;129;01mnot\u001B[39;00m release_conn \u001B[38;5;28;01melse\u001B[39;00m \u001B[38;5;28;01mNone\u001B[39;00m\n\u001B[32m    786\u001B[39m \u001B[38;5;66;03m# Make the request on the HTTPConnection object\u001B[39;00m\n\u001B[32m--> \u001B[39m\u001B[32m787\u001B[39m response = \u001B[38;5;28;43mself\u001B[39;49m\u001B[43m.\u001B[49m\u001B[43m_make_request\u001B[49m\u001B[43m(\u001B[49m\n\u001B[32m    788\u001B[39m \u001B[43m    \u001B[49m\u001B[43mconn\u001B[49m\u001B[43m,\u001B[49m\n\u001B[32m    789\u001B[39m \u001B[43m    \u001B[49m\u001B[43mmethod\u001B[49m\u001B[43m,\u001B[49m\n\u001B[32m    790\u001B[39m \u001B[43m    \u001B[49m\u001B[43murl\u001B[49m\u001B[43m,\u001B[49m\n\u001B[32m    791\u001B[39m \u001B[43m    \u001B[49m\u001B[43mtimeout\u001B[49m\u001B[43m=\u001B[49m\u001B[43mtimeout_obj\u001B[49m\u001B[43m,\u001B[49m\n\u001B[32m    792\u001B[39m \u001B[43m    \u001B[49m\u001B[43mbody\u001B[49m\u001B[43m=\u001B[49m\u001B[43mbody\u001B[49m\u001B[43m,\u001B[49m\n\u001B[32m    793\u001B[39m \u001B[43m    \u001B[49m\u001B[43mheaders\u001B[49m\u001B[43m=\u001B[49m\u001B[43mheaders\u001B[49m\u001B[43m,\u001B[49m\n\u001B[32m    794\u001B[39m \u001B[43m    \u001B[49m\u001B[43mchunked\u001B[49m\u001B[43m=\u001B[49m\u001B[43mchunked\u001B[49m\u001B[43m,\u001B[49m\n\u001B[32m    795\u001B[39m \u001B[43m    \u001B[49m\u001B[43mretries\u001B[49m\u001B[43m=\u001B[49m\u001B[43mretries\u001B[49m\u001B[43m,\u001B[49m\n\u001B[32m    796\u001B[39m \u001B[43m    \u001B[49m\u001B[43mresponse_conn\u001B[49m\u001B[43m=\u001B[49m\u001B[43mresponse_conn\u001B[49m\u001B[43m,\u001B[49m\n\u001B[32m    797\u001B[39m \u001B[43m    \u001B[49m\u001B[43mpreload_content\u001B[49m\u001B[43m=\u001B[49m\u001B[43mpreload_content\u001B[49m\u001B[43m,\u001B[49m\n\u001B[32m    798\u001B[39m \u001B[43m    \u001B[49m\u001B[43mdecode_content\u001B[49m\u001B[43m=\u001B[49m\u001B[43mdecode_content\u001B[49m\u001B[43m,\u001B[49m\n\u001B[32m    799\u001B[39m \u001B[43m    \u001B[49m\u001B[43m*\u001B[49m\u001B[43m*\u001B[49m\u001B[43mresponse_kw\u001B[49m\u001B[43m,\u001B[49m\n\u001B[32m    800\u001B[39m \u001B[43m\u001B[49m\u001B[43m)\u001B[49m\n\u001B[32m    802\u001B[39m \u001B[38;5;66;03m# Everything went great!\u001B[39;00m\n\u001B[32m    803\u001B[39m clean_exit = \u001B[38;5;28;01mTrue\u001B[39;00m\n",
      "\u001B[36mFile \u001B[39m\u001B[32m~/PycharmProjects/Health-Care-Assistant/.venv/lib/python3.12/site-packages/urllib3/connectionpool.py:534\u001B[39m, in \u001B[36mHTTPConnectionPool._make_request\u001B[39m\u001B[34m(self, conn, method, url, body, headers, retries, timeout, chunked, response_conn, preload_content, decode_content, enforce_content_length)\u001B[39m\n\u001B[32m    532\u001B[39m \u001B[38;5;66;03m# Receive the response from the server\u001B[39;00m\n\u001B[32m    533\u001B[39m \u001B[38;5;28;01mtry\u001B[39;00m:\n\u001B[32m--> \u001B[39m\u001B[32m534\u001B[39m     response = \u001B[43mconn\u001B[49m\u001B[43m.\u001B[49m\u001B[43mgetresponse\u001B[49m\u001B[43m(\u001B[49m\u001B[43m)\u001B[49m\n\u001B[32m    535\u001B[39m \u001B[38;5;28;01mexcept\u001B[39;00m (BaseSSLError, \u001B[38;5;167;01mOSError\u001B[39;00m) \u001B[38;5;28;01mas\u001B[39;00m e:\n\u001B[32m    536\u001B[39m     \u001B[38;5;28mself\u001B[39m._raise_timeout(err=e, url=url, timeout_value=read_timeout)\n",
      "\u001B[36mFile \u001B[39m\u001B[32m~/PycharmProjects/Health-Care-Assistant/.venv/lib/python3.12/site-packages/urllib3/connection.py:565\u001B[39m, in \u001B[36mHTTPConnection.getresponse\u001B[39m\u001B[34m(self)\u001B[39m\n\u001B[32m    562\u001B[39m _shutdown = \u001B[38;5;28mgetattr\u001B[39m(\u001B[38;5;28mself\u001B[39m.sock, \u001B[33m\"\u001B[39m\u001B[33mshutdown\u001B[39m\u001B[33m\"\u001B[39m, \u001B[38;5;28;01mNone\u001B[39;00m)\n\u001B[32m    564\u001B[39m \u001B[38;5;66;03m# Get the response from http.client.HTTPConnection\u001B[39;00m\n\u001B[32m--> \u001B[39m\u001B[32m565\u001B[39m httplib_response = \u001B[38;5;28;43msuper\u001B[39;49m\u001B[43m(\u001B[49m\u001B[43m)\u001B[49m\u001B[43m.\u001B[49m\u001B[43mgetresponse\u001B[49m\u001B[43m(\u001B[49m\u001B[43m)\u001B[49m\n\u001B[32m    567\u001B[39m \u001B[38;5;28;01mtry\u001B[39;00m:\n\u001B[32m    568\u001B[39m     assert_header_parsing(httplib_response.msg)\n",
      "\u001B[36mFile \u001B[39m\u001B[32m/Library/Frameworks/Python.framework/Versions/3.12/lib/python3.12/http/client.py:1428\u001B[39m, in \u001B[36mHTTPConnection.getresponse\u001B[39m\u001B[34m(self)\u001B[39m\n\u001B[32m   1426\u001B[39m \u001B[38;5;28;01mtry\u001B[39;00m:\n\u001B[32m   1427\u001B[39m     \u001B[38;5;28;01mtry\u001B[39;00m:\n\u001B[32m-> \u001B[39m\u001B[32m1428\u001B[39m         \u001B[43mresponse\u001B[49m\u001B[43m.\u001B[49m\u001B[43mbegin\u001B[49m\u001B[43m(\u001B[49m\u001B[43m)\u001B[49m\n\u001B[32m   1429\u001B[39m     \u001B[38;5;28;01mexcept\u001B[39;00m \u001B[38;5;167;01mConnectionError\u001B[39;00m:\n\u001B[32m   1430\u001B[39m         \u001B[38;5;28mself\u001B[39m.close()\n",
      "\u001B[36mFile \u001B[39m\u001B[32m/Library/Frameworks/Python.framework/Versions/3.12/lib/python3.12/http/client.py:331\u001B[39m, in \u001B[36mHTTPResponse.begin\u001B[39m\u001B[34m(self)\u001B[39m\n\u001B[32m    329\u001B[39m \u001B[38;5;66;03m# read until we get a non-100 response\u001B[39;00m\n\u001B[32m    330\u001B[39m \u001B[38;5;28;01mwhile\u001B[39;00m \u001B[38;5;28;01mTrue\u001B[39;00m:\n\u001B[32m--> \u001B[39m\u001B[32m331\u001B[39m     version, status, reason = \u001B[38;5;28;43mself\u001B[39;49m\u001B[43m.\u001B[49m\u001B[43m_read_status\u001B[49m\u001B[43m(\u001B[49m\u001B[43m)\u001B[49m\n\u001B[32m    332\u001B[39m     \u001B[38;5;28;01mif\u001B[39;00m status != CONTINUE:\n\u001B[32m    333\u001B[39m         \u001B[38;5;28;01mbreak\u001B[39;00m\n",
      "\u001B[36mFile \u001B[39m\u001B[32m/Library/Frameworks/Python.framework/Versions/3.12/lib/python3.12/http/client.py:292\u001B[39m, in \u001B[36mHTTPResponse._read_status\u001B[39m\u001B[34m(self)\u001B[39m\n\u001B[32m    291\u001B[39m \u001B[38;5;28;01mdef\u001B[39;00m\u001B[38;5;250m \u001B[39m\u001B[34m_read_status\u001B[39m(\u001B[38;5;28mself\u001B[39m):\n\u001B[32m--> \u001B[39m\u001B[32m292\u001B[39m     line = \u001B[38;5;28mstr\u001B[39m(\u001B[38;5;28;43mself\u001B[39;49m\u001B[43m.\u001B[49m\u001B[43mfp\u001B[49m\u001B[43m.\u001B[49m\u001B[43mreadline\u001B[49m\u001B[43m(\u001B[49m\u001B[43m_MAXLINE\u001B[49m\u001B[43m \u001B[49m\u001B[43m+\u001B[49m\u001B[43m \u001B[49m\u001B[32;43m1\u001B[39;49m\u001B[43m)\u001B[49m, \u001B[33m\"\u001B[39m\u001B[33miso-8859-1\u001B[39m\u001B[33m\"\u001B[39m)\n\u001B[32m    293\u001B[39m     \u001B[38;5;28;01mif\u001B[39;00m \u001B[38;5;28mlen\u001B[39m(line) > _MAXLINE:\n\u001B[32m    294\u001B[39m         \u001B[38;5;28;01mraise\u001B[39;00m LineTooLong(\u001B[33m\"\u001B[39m\u001B[33mstatus line\u001B[39m\u001B[33m\"\u001B[39m)\n",
      "\u001B[36mFile \u001B[39m\u001B[32m/Library/Frameworks/Python.framework/Versions/3.12/lib/python3.12/socket.py:720\u001B[39m, in \u001B[36mSocketIO.readinto\u001B[39m\u001B[34m(self, b)\u001B[39m\n\u001B[32m    718\u001B[39m \u001B[38;5;28;01mwhile\u001B[39;00m \u001B[38;5;28;01mTrue\u001B[39;00m:\n\u001B[32m    719\u001B[39m     \u001B[38;5;28;01mtry\u001B[39;00m:\n\u001B[32m--> \u001B[39m\u001B[32m720\u001B[39m         \u001B[38;5;28;01mreturn\u001B[39;00m \u001B[38;5;28;43mself\u001B[39;49m\u001B[43m.\u001B[49m\u001B[43m_sock\u001B[49m\u001B[43m.\u001B[49m\u001B[43mrecv_into\u001B[49m\u001B[43m(\u001B[49m\u001B[43mb\u001B[49m\u001B[43m)\u001B[49m\n\u001B[32m    721\u001B[39m     \u001B[38;5;28;01mexcept\u001B[39;00m timeout:\n\u001B[32m    722\u001B[39m         \u001B[38;5;28mself\u001B[39m._timeout_occurred = \u001B[38;5;28;01mTrue\u001B[39;00m\n",
      "\u001B[31mKeyboardInterrupt\u001B[39m: "
     ]
    }
   ],
   "source": [
    "results3 = {}\n",
    "failed = []\n",
    "\n",
    "# Calculate 6% of total documents\n",
    "total_docs = len(documents)\n",
    "start_index = int(total_docs * 0.26)\n",
    "\n",
    "# Create progress bar starting at 6%\n",
    "pbar = tqdm(total=total_docs, initial=start_index, desc=\"Generating questions\")\n",
    "\n",
    "for doc in documents:\n",
    "    doc_id = doc['id']\n",
    "\n",
    "    # Skip if already processed\n",
    "    if doc_id in results1:\n",
    "        pbar.update(1)\n",
    "        continue\n",
    "\n",
    "    try:\n",
    "        questions = generate_questions(doc)\n",
    "        results1[doc_id] = questions\n",
    "        pbar.update(1)\n",
    "\n",
    "    except Exception as e:\n",
    "        print(f\"\\nFailed on doc {doc_id}: {e}\")\n",
    "        failed.append({\"id\": doc_id, \"error\": str(e)})\n",
    "        pbar.update(1)\n",
    "        continue\n",
    "\n",
    "pbar.close()\n",
    "\n",
    "print(f\"\\nCompleted: {len(results1)}/{total_docs}\")\n",
    "print(f\"Failed: {len(failed)}\")"
   ]
  },
  {
   "cell_type": "code",
   "execution_count": null,
   "id": "8ee7709b82fef139",
   "metadata": {},
   "outputs": [],
   "source": [
    "print(f\"Failed: {len(failed)}\")\n",
    "results3 = {}\n",
    "failed = []\n",
    "\n",
    "# Calculate 6% of total documents\n",
    "total_docs = len(documents)\n",
    "start_index = int(total_docs * 0.36)\n",
    "\n",
    "# Create progress bar starting at 6%\n",
    "pbar = tqdm(total=total_docs, initial=start_index, desc=\"Generating questions\")\n",
    "\n",
    "for doc in documents:\n",
    "    doc_id = doc['id']\n",
    "\n",
    "    # Skip if already processed\n",
    "    if doc_id in results1:\n",
    "        pbar.update(1)\n",
    "        continue\n",
    "\n",
    "    try:\n",
    "        questions = generate_questions(doc)\n",
    "        results1[doc_id] = questions\n",
    "        pbar.update(1)\n",
    "\n",
    "    except Exception as e:\n",
    "        print(f\"\\nFailed on doc {doc_id}: {e}\")\n",
    "        failed.append({\"id\": doc_id, \"error\": str(e)})\n",
    "        pbar.update(1)\n",
    "        continue\n",
    "\n",
    "pbar.close()\n",
    "\n",
    "print(f\"\\nCompleted: {len(results1)}/{total_docs}\")\n",
    "print(f\"Failed: {len(failed)}\")"
   ]
  },
  {
   "cell_type": "code",
   "execution_count": null,
   "id": "2ef886969432d504",
   "metadata": {},
   "outputs": [],
   "source": [
    "results3"
   ]
  },
  {
   "cell_type": "code",
   "execution_count": null,
   "id": "ad8ad6b90e82a438",
   "metadata": {},
   "outputs": [],
   "source": [
    "import json\n",
    "with open('results3_emergency_save.json', 'w') as f:\n",
    "    json.dump(results3, f, indent=2)"
   ]
  },
  {
   "cell_type": "code",
   "execution_count": null,
   "id": "a798aa6d294bb75d",
   "metadata": {},
   "outputs": [],
   "source": [
    "results3 = {}\n",
    "failed = []\n",
    "\n",
    "# Calculate 6% of total documents\n",
    "total_docs = len(documents)\n",
    "start_index = int(total_docs * 0.66)\n",
    "\n",
    "# Create progress bar starting at 6%\n",
    "pbar = tqdm(total=total_docs, initial=start_index, desc=\"Generating questions\")\n",
    "\n",
    "for doc in documents:\n",
    "    doc_id = doc['id']\n",
    "\n",
    "    # Skip if already processed\n",
    "    if doc_id in results1:\n",
    "        pbar.update(1)\n",
    "        continue\n",
    "\n",
    "    try:\n",
    "        questions = generate_questions(doc)\n",
    "        results1[doc_id] = questions\n",
    "        pbar.update(1)\n",
    "\n",
    "    except Exception as e:\n",
    "        print(f\"\\nFailed on doc {doc_id}: {e}\")\n",
    "        failed.append({\"id\": doc_id, \"error\": str(e)})\n",
    "        pbar.update(1)\n",
    "        continue\n",
    "\n",
    "pbar.close()\n",
    "\n",
    "print(f\"\\nCompleted: {len(results1)}/{total_docs}\")\n",
    "print(f\"Failed: {len(failed)}\")"
   ]
  },
  {
   "cell_type": "code",
   "execution_count": 20,
   "id": "7387d1da751869",
   "metadata": {
    "ExecuteTime": {
     "end_time": "2025-10-03T12:36:33.307671Z",
     "start_time": "2025-10-03T12:36:33.304709Z"
    }
   },
   "outputs": [
    {
     "name": "stdout",
     "output_type": "stream",
     "text": [
      "{'5e34bcbaa8': '[\"What is non‑small cell lung cancer and how is it different from small‑cell lung cancer?\", \"Which risk factor is most strongly associated with developing non‑small cell lung cancer?\", \"What typical signs might indicate someone has non‑small cell lung cancer?\", \"How do doctors detect, confirm, and stage non‑small cell lung cancer?\", \"Is a cure usually possible for patients diagnosed with non‑small cell lung cancer?\"]', 'c2845efbbc': '[\"What lifestyle habits increase my chances of developing non‑small cell lung cancer?\", \"Can secondhand smoke or workplace exposures like asbestos raise the risk of getting this type of lung cancer?\", \"How does age affect the likelihood of being diagnosed with non‑small cell lung cancer?\", \"If I have a family history of lung cancer, does that make me more vulnerable to non‑small cell lung cancer?\", \"Are there any medical procedures or treatments, such as chest radiation or frequent CT scans, that could contribute to a higher risk of non‑small cell lung cancer?\"]', 'd1bc99107d': '[\"What warning signs should make me think I might have non‑small cell lung cancer?\", \"Which breathing‑related problems are common in patients with non‑small cell lung carcinoma?\", \"Can you list the typical changes in appetite or weight that could indicate non‑small cell lung cancer?\", \"What ear‑to‑neck symptoms, like hoarseness or facial swelling, might be associated with non‑small cell lung cancer?\", \"If someone has a persistent cough and blood‑streaked sputum, could that be a sign of non‑small cell lung cancer and what other symptoms should they watch for?\"]'}\n"
     ]
    }
   ],
   "source": [
    "print(results)"
   ]
  },
  {
   "cell_type": "code",
   "execution_count": 147,
   "id": "78ff0930e1e36c2d",
   "metadata": {
    "ExecuteTime": {
     "end_time": "2025-10-02T22:41:59.997310Z",
     "start_time": "2025-10-02T22:41:59.993039Z"
    }
   },
   "outputs": [
    {
     "data": {
      "text/plain": [
       "['What are the early signs that might indicate the presence of non-small cell lung cancer?',\n",
       " 'How does the type of cell affect the progression and treatment of non-small cell lung cancer?',\n",
       " 'Why is smoking considered a major risk factor for developing non-small cell lung cancer?',\n",
       " 'How do clinical trials contribute to the advancement of treatment for different stages of non-small cell lung cancer?',\n",
       " 'Can you explain the differences between non-small cell lung cancer and small cell lung cancer?']"
      ]
     },
     "execution_count": 147,
     "metadata": {},
     "output_type": "execute_result"
    }
   ],
   "source": [
    "json.loads(results['5e34bcbaa8'])"
   ]
  },
  {
   "cell_type": "code",
   "execution_count": null,
   "id": "57909850f99713cb",
   "metadata": {},
   "outputs": [],
   "source": [
    "with open('results.bin', 'rb') as f_in:\n",
    "    results = pickle.load(f_in)"
   ]
  },
  {
   "cell_type": "code",
   "execution_count": null,
   "id": "764e5a373c55931",
   "metadata": {},
   "outputs": [],
   "source": [
    "results['1f6520ca']\n"
   ]
  },
  {
   "cell_type": "code",
   "execution_count": null,
   "id": "c4a07be7e5db618e",
   "metadata": {},
   "outputs": [],
   "source": [
    "parsed_resulst = {}\n",
    "\n",
    "for doc_id, json_questions in results.items():\n",
    "    parsed_resulst[doc_id] = json.loads(json_questions)"
   ]
  },
  {
   "cell_type": "code",
   "execution_count": null,
   "id": "9d8aa98c66defece",
   "metadata": {},
   "outputs": [],
   "source": [
    "doc_index = {d['id']: d for d in documents}\n"
   ]
  },
  {
   "cell_type": "code",
   "execution_count": null,
   "id": "7556fa05ffdb5557",
   "metadata": {},
   "outputs": [],
   "source": [
    "final_results = []\n",
    "\n",
    "for doc_id, questions in parsed_resulst.items():\n",
    "    course = doc_index[doc_id]['course']\n",
    "    for q in questions:\n",
    "        final_results.append((q, course, doc_id))"
   ]
  },
  {
   "cell_type": "code",
   "execution_count": null,
   "id": "54d74c31a5ca8510",
   "metadata": {},
   "outputs": [],
   "source": [
    "df = pd.DataFrame(final_results, columns=['question', 'course', 'document'])\n"
   ]
  },
  {
   "cell_type": "code",
   "execution_count": null,
   "id": "15ac5b7117ad6d7",
   "metadata": {},
   "outputs": [],
   "source": [
    "df.to_csv('ground-truth-data.csv', index=False)\n"
   ]
  },
  {
   "cell_type": "code",
   "execution_count": null,
   "id": "a62ac11cd03b9063",
   "metadata": {},
   "outputs": [],
   "source": [
    "!head ground-truth-data.csv\n"
   ]
  }
 ],
 "metadata": {
  "kernelspec": {
   "display_name": "Python 3 (ipykernel)",
   "language": "python",
   "name": "python3"
  },
  "language_info": {
   "codemirror_mode": {
    "name": "ipython",
    "version": 2
   },
   "file_extension": ".py",
   "mimetype": "text/x-python",
   "name": "python",
   "nbconvert_exporter": "python",
   "pygments_lexer": "ipython2",
   "version": "2.7.6"
  }
 },
 "nbformat": 4,
 "nbformat_minor": 5
}
